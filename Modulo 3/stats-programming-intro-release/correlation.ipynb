{
 "cells": [
  {
   "cell_type": "code",
   "execution_count": 10,
   "metadata": {},
   "outputs": [],
   "source": [
    "import matplotlib.pyplot as plt\n",
    "import numpy as np\n",
    "import pandas as pd\n",
    "import seaborn as sns\n"
   ]
  },
  {
   "cell_type": "code",
   "execution_count": 11,
   "metadata": {},
   "outputs": [
    {
     "data": {
      "text/html": [
       "<div>\n",
       "<style scoped>\n",
       "    .dataframe tbody tr th:only-of-type {\n",
       "        vertical-align: middle;\n",
       "    }\n",
       "\n",
       "    .dataframe tbody tr th {\n",
       "        vertical-align: top;\n",
       "    }\n",
       "\n",
       "    .dataframe thead th {\n",
       "        text-align: right;\n",
       "    }\n",
       "</style>\n",
       "<table border=\"1\" class=\"dataframe\">\n",
       "  <thead>\n",
       "    <tr style=\"text-align: right;\">\n",
       "      <th></th>\n",
       "      <th>x</th>\n",
       "      <th>perfectaCorrPos</th>\n",
       "      <th>altaCorrPos</th>\n",
       "      <th>bajaCorrPos</th>\n",
       "      <th>sinCorr</th>\n",
       "      <th>bajaCorrNeg</th>\n",
       "      <th>altaCorrNeg</th>\n",
       "      <th>corrNegPerfecta</th>\n",
       "    </tr>\n",
       "  </thead>\n",
       "  <tbody>\n",
       "    <tr>\n",
       "      <th>0</th>\n",
       "      <td>0.000000</td>\n",
       "      <td>0.000000</td>\n",
       "      <td>0.259982</td>\n",
       "      <td>4.872887</td>\n",
       "      <td>18</td>\n",
       "      <td>15.969930</td>\n",
       "      <td>41.863829</td>\n",
       "      <td>19.000000</td>\n",
       "    </tr>\n",
       "    <tr>\n",
       "      <th>1</th>\n",
       "      <td>0.204082</td>\n",
       "      <td>0.204082</td>\n",
       "      <td>0.554786</td>\n",
       "      <td>4.538728</td>\n",
       "      <td>8</td>\n",
       "      <td>15.154407</td>\n",
       "      <td>40.188273</td>\n",
       "      <td>18.795918</td>\n",
       "    </tr>\n",
       "    <tr>\n",
       "      <th>2</th>\n",
       "      <td>0.408163</td>\n",
       "      <td>0.408163</td>\n",
       "      <td>-0.223196</td>\n",
       "      <td>5.102695</td>\n",
       "      <td>1</td>\n",
       "      <td>14.892163</td>\n",
       "      <td>38.340900</td>\n",
       "      <td>18.591837</td>\n",
       "    </tr>\n",
       "    <tr>\n",
       "      <th>3</th>\n",
       "      <td>0.612245</td>\n",
       "      <td>0.612245</td>\n",
       "      <td>3.398785</td>\n",
       "      <td>6.159696</td>\n",
       "      <td>1</td>\n",
       "      <td>13.786375</td>\n",
       "      <td>38.343540</td>\n",
       "      <td>18.387755</td>\n",
       "    </tr>\n",
       "    <tr>\n",
       "      <th>4</th>\n",
       "      <td>0.816327</td>\n",
       "      <td>0.816327</td>\n",
       "      <td>1.681711</td>\n",
       "      <td>5.247055</td>\n",
       "      <td>12</td>\n",
       "      <td>16.657521</td>\n",
       "      <td>40.325199</td>\n",
       "      <td>18.183673</td>\n",
       "    </tr>\n",
       "  </tbody>\n",
       "</table>\n",
       "</div>"
      ],
      "text/plain": [
       "          x  perfectaCorrPos  altaCorrPos  bajaCorrPos  sinCorr  bajaCorrNeg  \\\n",
       "0  0.000000         0.000000     0.259982     4.872887       18    15.969930   \n",
       "1  0.204082         0.204082     0.554786     4.538728        8    15.154407   \n",
       "2  0.408163         0.408163    -0.223196     5.102695        1    14.892163   \n",
       "3  0.612245         0.612245     3.398785     6.159696        1    13.786375   \n",
       "4  0.816327         0.816327     1.681711     5.247055       12    16.657521   \n",
       "\n",
       "   altaCorrNeg  corrNegPerfecta  \n",
       "0    41.863829        19.000000  \n",
       "1    40.188273        18.795918  \n",
       "2    38.340900        18.591837  \n",
       "3    38.343540        18.387755  \n",
       "4    40.325199        18.183673  "
      ]
     },
     "execution_count": 11,
     "metadata": {},
     "output_type": "execute_result"
    }
   ],
   "source": [
    "# Generar los valores de x utilizando np.linspace()\n",
    "x = np.linspace(0, 10, 50)\n",
    "\n",
    "# Perfecta correlación positiva\n",
    "y_perfecta_corr_pos = x\n",
    "\n",
    "# Alta correlación positiva con ruido aleatorio\n",
    "y_alta_corr_pos = 2 * x + 1 + np.random.normal(0, 1, 50)\n",
    "\n",
    "# Baja correlación positiva con ruido aleatorio\n",
    "y_baja_corr_pos = 0.5 * x + 5 + np.random.normal(0, 1, 50)\n",
    "\n",
    "# Sin correlación\n",
    "y_sin_corr = np.random.randint(20, size=50)\n",
    "\n",
    "# Baja correlación negativa con ruido aleatorio\n",
    "y_baja_corr_neg = -0.5 * x + 15 + np.random.normal(0, 1, 50)\n",
    "\n",
    "# Alta correlación negativa con ruido aleatorio\n",
    "y_alta_corr_neg = -2 * x + 40 + np.random.normal(0, 1, 50)\n",
    "\n",
    "# Perfecta correlación negativa\n",
    "y_corr_neg_perfecta = 19 - x\n",
    "\n",
    "# Crear un DataFrame de pandas a partir de los arrays numpy\n",
    "data = {'x': x,\n",
    "        'perfectaCorrPos': y_perfecta_corr_pos, \n",
    "        'altaCorrPos': y_alta_corr_pos,\n",
    "        'bajaCorrPos': y_baja_corr_pos,\n",
    "        'sinCorr': y_sin_corr,\n",
    "        'bajaCorrNeg': y_baja_corr_neg,\n",
    "        'altaCorrNeg': y_alta_corr_neg,\n",
    "        'corrNegPerfecta': y_corr_neg_perfecta\n",
    "}\n",
    "\n",
    "df = pd.DataFrame(data)\n",
    "\n",
    "# Mostrar el DataFrame\n",
    "df.head()\n"
   ]
  },
  {
   "cell_type": "code",
   "execution_count": 20,
   "metadata": {},
   "outputs": [
    {
     "data": {
      "image/png": "[encoded data removed]",
      "text/plain": [
       "<Figure size 1152x288 with 3 Axes>"
      ]
     },
     "metadata": {
      "needs_background": "light"
     },
     "output_type": "display_data"
    }
   ],
   "source": [
    "# Graficar los datos utilizando los métodos de trazado de pandas\n",
    "fig, axs = plt.subplots(1, 3, figsize=(16, 4))\n",
    "\n",
    "df.plot.scatter(x='x', y='perfectaCorrPos', ax=axs[0], title='Perfecta correlación positiva')\n",
    "\n",
    "df.plot.scatter(x='x', y='altaCorrPos', ax=axs[1], title='Alta correlación positiva')\n",
    "\n",
    "df.plot.scatter(x='x', y='bajaCorrPos', ax=axs[2], title='Baja correlación positiva')\n",
    "\n",
    "tata = 2 * x + 1\n",
    "df['tata'] = tata\n",
    "\n",
    "df.plot(x='x', y='tata', ax=axs[1], c='black')\n",
    "plt.show()\n"
   ]
  },
  {
   "cell_type": "code",
   "execution_count": 16,
   "metadata": {},
   "outputs": [
    {
     "data": {
      "image/png": "[encoded data removed]",
      "text/plain": [
       "<Figure size 432x216 with 1 Axes>"
      ]
     },
     "metadata": {
      "needs_background": "light"
     },
     "output_type": "display_data"
    }
   ],
   "source": [
    "# Graficar los datos utilizando los métodos de trazado de pandas\n",
    "fig, axs = plt.subplots(figsize=(6, 3))\n",
    "\n",
    "df.plot.scatter(x='x', y='sinCorr', ax=axs, title='Sin correlación')\n",
    "\n",
    "plt.show()\n"
   ]
  },
  {
   "cell_type": "code",
   "execution_count": 22,
   "metadata": {},
   "outputs": [
    {
     "data": {
      "image/png": "[encoded data removed]",
      "text/plain": [
       "<Figure size 1152x216 with 3 Axes>"
      ]
     },
     "metadata": {
      "needs_background": "light"
     },
     "output_type": "display_data"
    }
   ],
   "source": [
    "# Graficar los datos utilizando los métodos de trazado de pandas\n",
    "fig, axs = plt.subplots(1, 3, figsize=(16, 3))\n",
    "\n",
    "df.plot.scatter(x='x', y='corrNegPerfecta', ax=axs[0], title='Perfecta correlación negativa')\n",
    "df.plot.scatter(x='x', y='altaCorrNeg', ax=axs[1], title='Alta correlación negativa')\n",
    "df.plot.scatter(x='x', y='bajaCorrNeg', ax=axs[2], title='Baja correlación negativa')\n",
    "\n",
    "plt.show()\n"
   ]
  },
  {
   "cell_type": "code",
   "execution_count": 23,
   "metadata": {},
   "outputs": [
    {
     "data": {
      "text/html": [
       "<div>\n",
       "<style scoped>\n",
       "    .dataframe tbody tr th:only-of-type {\n",
       "        vertical-align: middle;\n",
       "    }\n",
       "\n",
       "    .dataframe tbody tr th {\n",
       "        vertical-align: top;\n",
       "    }\n",
       "\n",
       "    .dataframe thead th {\n",
       "        text-align: right;\n",
       "    }\n",
       "</style>\n",
       "<table border=\"1\" class=\"dataframe\">\n",
       "  <thead>\n",
       "    <tr style=\"text-align: right;\">\n",
       "      <th></th>\n",
       "      <th>altura</th>\n",
       "      <th>peso</th>\n",
       "      <th>edad</th>\n",
       "    </tr>\n",
       "  </thead>\n",
       "  <tbody>\n",
       "    <tr>\n",
       "      <th>0</th>\n",
       "      <td>159.143694</td>\n",
       "      <td>124.466718</td>\n",
       "      <td>28.318715</td>\n",
       "    </tr>\n",
       "    <tr>\n",
       "      <th>1</th>\n",
       "      <td>179.973454</td>\n",
       "      <td>117.181725</td>\n",
       "      <td>30.017905</td>\n",
       "    </tr>\n",
       "    <tr>\n",
       "      <th>2</th>\n",
       "      <td>172.829785</td>\n",
       "      <td>135.777366</td>\n",
       "      <td>41.185758</td>\n",
       "    </tr>\n",
       "    <tr>\n",
       "      <th>3</th>\n",
       "      <td>154.937053</td>\n",
       "      <td>136.331467</td>\n",
       "      <td>40.686922</td>\n",
       "    </tr>\n",
       "    <tr>\n",
       "      <th>4</th>\n",
       "      <td>164.213997</td>\n",
       "      <td>122.958302</td>\n",
       "      <td>48.505095</td>\n",
       "    </tr>\n",
       "    <tr>\n",
       "      <th>...</th>\n",
       "      <td>...</td>\n",
       "      <td>...</td>\n",
       "      <td>...</td>\n",
       "    </tr>\n",
       "    <tr>\n",
       "      <th>95</th>\n",
       "      <td>180.311145</td>\n",
       "      <td>106.103597</td>\n",
       "      <td>41.261997</td>\n",
       "    </tr>\n",
       "    <tr>\n",
       "      <th>96</th>\n",
       "      <td>159.154321</td>\n",
       "      <td>117.222780</td>\n",
       "      <td>35.831492</td>\n",
       "    </tr>\n",
       "    <tr>\n",
       "      <th>97</th>\n",
       "      <td>156.365285</td>\n",
       "      <td>116.407303</td>\n",
       "      <td>58.226400</td>\n",
       "    </tr>\n",
       "    <tr>\n",
       "      <th>98</th>\n",
       "      <td>173.794006</td>\n",
       "      <td>127.380043</td>\n",
       "      <td>57.846717</td>\n",
       "    </tr>\n",
       "    <tr>\n",
       "      <th>99</th>\n",
       "      <td>166.208236</td>\n",
       "      <td>122.844954</td>\n",
       "      <td>38.968451</td>\n",
       "    </tr>\n",
       "  </tbody>\n",
       "</table>\n",
       "<p>100 rows × 3 columns</p>\n",
       "</div>"
      ],
      "text/plain": [
       "        altura        peso       edad\n",
       "0   159.143694  124.466718  28.318715\n",
       "1   179.973454  117.181725  30.017905\n",
       "2   172.829785  135.777366  41.185758\n",
       "3   154.937053  136.331467  40.686922\n",
       "4   164.213997  122.958302  48.505095\n",
       "..         ...         ...        ...\n",
       "95  180.311145  106.103597  41.261997\n",
       "96  159.154321  117.222780  35.831492\n",
       "97  156.365285  116.407303  58.226400\n",
       "98  173.794006  127.380043  57.846717\n",
       "99  166.208236  122.844954  38.968451\n",
       "\n",
       "[100 rows x 3 columns]"
      ]
     },
     "execution_count": 23,
     "metadata": {},
     "output_type": "execute_result"
    }
   ],
   "source": [
    "# Generar datos sintéticos de altura y peso de una muestra de personas\n",
    "np.random.seed(123)\n",
    "\n",
    "alturas = np.random.normal(loc=170, scale=10, size=100)\n",
    "pesos = alturas * np.random.normal(loc=0.75, scale=0.05, size=100)\n",
    "\n",
    "# Crear un DataFrame de pandas para almacenar los datos\n",
    "datos_personas = pd.DataFrame({'altura': alturas, 'peso': pesos})\n",
    "\n",
    "# Generar datos adicionales de edad\n",
    "np.random.seed(456)\n",
    "\n",
    "edades = np.random.normal(loc=35, scale=10, size=100)\n",
    "\n",
    "# Agregar columna al DataFrame existente\n",
    "datos_personas['edad'] = edades\n",
    "datos_personas"
   ]
  },
  {
   "cell_type": "code",
   "execution_count": 25,
   "metadata": {},
   "outputs": [
    {
     "name": "stdout",
     "output_type": "stream",
     "text": [
      "Coeficiente de correlación altura-peso: 0.7060602358658454\n",
      "Coeficiente de correlación altura-edad: 0.00447193101421511\n"
     ]
    }
   ],
   "source": [
    "# Calcular el coeficiente de correlación de Pearson entre dos columnas\n",
    "corr_coef = datos_personas['altura'].corr(datos_personas['peso'])\n",
    "corr_coef_ae = datos_personas['altura'].corr(datos_personas['edad'])\n",
    "# Imprimir el coeficiente de correlación\n",
    "print(\"Coeficiente de correlación altura-peso:\", corr_coef)\n",
    "print(\"Coeficiente de correlación altura-edad:\", corr_coef_ae)\n"
   ]
  },
  {
   "cell_type": "code",
   "execution_count": 26,
   "metadata": {},
   "outputs": [],
   "source": [
    "from library import random_student"
   ]
  },
  {
   "cell_type": "code",
   "execution_count": 27,
   "metadata": {},
   "outputs": [
    {
     "data": {
      "text/plain": [
       "'Javier Pizarro'"
      ]
     },
     "execution_count": 27,
     "metadata": {},
     "output_type": "execute_result"
    }
   ],
   "source": [
    "random_student()"
   ]
  },
  {
   "cell_type": "code",
   "execution_count": 28,
   "metadata": {},
   "outputs": [
    {
     "name": "stdout",
     "output_type": "stream",
     "text": [
      "          altura      peso      edad\n",
      "altura  1.000000  0.706060  0.004472\n",
      "peso    0.706060  1.000000  0.042198\n",
      "edad    0.004472  0.042198  1.000000\n"
     ]
    }
   ],
   "source": [
    "# Calcular la matriz de correlación de Pearson\n",
    "corr_matrix = datos_personas.corr(method='pearson')\n",
    "\n",
    "# Mostrar la matriz de correlación\n",
    "print(corr_matrix)\n"
   ]
  },
  {
   "cell_type": "code",
   "execution_count": 29,
   "metadata": {},
   "outputs": [
    {
     "data": {
      "image/png": "[encoded data removed]",
      "text/plain": [
       "<Figure size 432x288 with 2 Axes>"
      ]
     },
     "metadata": {
      "needs_background": "light"
     },
     "output_type": "display_data"
    }
   ],
   "source": [
    "# Crear un mapa de calor de la matriz de correlación\n",
    "sns.heatmap(corr_matrix, annot=True, cmap='coolwarm')\n",
    "\n",
    "# Mostrar el mapa de calor\n",
    "plt.show()\n"
   ]
  },
  {
   "cell_type": "code",
   "execution_count": null,
   "metadata": {},
   "outputs": [],
   "source": []
  }
 ],
 "metadata": {
  "kernelspec": {
   "display_name": "Python 3",
   "language": "python",
   "name": "python3"
  },
  "language_info": {
   "codemirror_mode": {
    "name": "ipython",
    "version": 3
   },
   "file_extension": ".py",
   "mimetype": "text/x-python",
   "name": "python",
   "nbconvert_exporter": "python",
   "pygments_lexer": "ipython3",
   "version": "3.10.6"
  },
  "orig_nbformat": 4
 },
 "nbformat": 4,
 "nbformat_minor": 2
}
