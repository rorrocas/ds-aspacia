{
 "cells": [
  {
   "attachments": {},
   "cell_type": "markdown",
   "metadata": {},
   "source": [
    "#### Clase 3"
   ]
  },
  {
   "cell_type": "code",
   "execution_count": 1,
   "metadata": {},
   "outputs": [],
   "source": [
    "import findspark\n",
    "findspark.init()\n",
    "\n",
    "import pyspark"
   ]
  },
  {
   "cell_type": "code",
   "execution_count": 2,
   "metadata": {},
   "outputs": [],
   "source": [
    "import seaborn as sns\n",
    "from pyspark.sql import SparkSession\n",
    "\n",
    "# Start Spark Session\n",
    "spark = SparkSession.builder.appName('iris').getOrCreate()\n",
    "\n",
    "# Load iris dataset from seaborn\n",
    "iris = sns.load_dataset('iris')\n",
    "\n",
    "# Convert the iris dataset to a Spark DataFrame\n",
    "iris_df = spark.createDataFrame(iris)"
   ]
  },
  {
   "cell_type": "code",
   "execution_count": 3,
   "metadata": {},
   "outputs": [
    {
     "name": "stdout",
     "output_type": "stream",
     "text": [
      "+------------+-----------+------------+-----------+-------+\n",
      "|sepal_length|sepal_width|petal_length|petal_width|species|\n",
      "+------------+-----------+------------+-----------+-------+\n",
      "|         5.1|        3.5|         1.4|        0.2| setosa|\n",
      "|         4.9|        3.0|         1.4|        0.2| setosa|\n",
      "|         4.7|        3.2|         1.3|        0.2| setosa|\n",
      "|         4.6|        3.1|         1.5|        0.2| setosa|\n",
      "|         5.0|        3.6|         1.4|        0.2| setosa|\n",
      "+------------+-----------+------------+-----------+-------+\n",
      "only showing top 5 rows\n",
      "\n"
     ]
    }
   ],
   "source": [
    "iris_df.show(5)"
   ]
  },
  {
   "cell_type": "code",
   "execution_count": 4,
   "metadata": {},
   "outputs": [
    {
     "name": "stdout",
     "output_type": "stream",
     "text": [
      "+------------+-----------+------------+-----------+-------+-----+\n",
      "|sepal_length|sepal_width|petal_length|petal_width|species|label|\n",
      "+------------+-----------+------------+-----------+-------+-----+\n",
      "|         5.1|        3.5|         1.4|        0.2| setosa|  0.0|\n",
      "|         4.9|        3.0|         1.4|        0.2| setosa|  0.0|\n",
      "|         4.7|        3.2|         1.3|        0.2| setosa|  0.0|\n",
      "|         4.6|        3.1|         1.5|        0.2| setosa|  0.0|\n",
      "|         5.0|        3.6|         1.4|        0.2| setosa|  0.0|\n",
      "+------------+-----------+------------+-----------+-------+-----+\n",
      "only showing top 5 rows\n",
      "\n"
     ]
    }
   ],
   "source": [
    "from pyspark.ml.feature import StringIndexer\n",
    "\n",
    "# Convert target variable into numerical form\n",
    "indexer = StringIndexer(inputCol=\"species\", outputCol=\"label\")\n",
    "iris_df = indexer.fit(iris_df).transform(iris_df)\n",
    "iris_df.show(5)"
   ]
  },
  {
   "cell_type": "code",
   "execution_count": 5,
   "metadata": {},
   "outputs": [],
   "source": [
    "from pyspark.ml.feature import VectorAssembler\n",
    "\n",
    "# Specify the input and output columns of the vector assembler\n",
    "assembler = VectorAssembler(\n",
    "    inputCols=[\n",
    "        'sepal_length', 'sepal_width', 'petal_length', 'petal_width'\n",
    "    ],\n",
    "    outputCol='features'\n",
    ")\n",
    "\n",
    "# Transform the data\n",
    "iris_df = assembler.transform(iris_df)"
   ]
  },
  {
   "cell_type": "code",
   "execution_count": 6,
   "metadata": {},
   "outputs": [
    {
     "name": "stdout",
     "output_type": "stream",
     "text": [
      "+------------+-----------+------------+-----------+-------+-----+-----------------+\n",
      "|sepal_length|sepal_width|petal_length|petal_width|species|label|         features|\n",
      "+------------+-----------+------------+-----------+-------+-----+-----------------+\n",
      "|         5.1|        3.5|         1.4|        0.2| setosa|  0.0|[5.1,3.5,1.4,0.2]|\n",
      "|         4.9|        3.0|         1.4|        0.2| setosa|  0.0|[4.9,3.0,1.4,0.2]|\n",
      "|         4.7|        3.2|         1.3|        0.2| setosa|  0.0|[4.7,3.2,1.3,0.2]|\n",
      "|         4.6|        3.1|         1.5|        0.2| setosa|  0.0|[4.6,3.1,1.5,0.2]|\n",
      "|         5.0|        3.6|         1.4|        0.2| setosa|  0.0|[5.0,3.6,1.4,0.2]|\n",
      "+------------+-----------+------------+-----------+-------+-----+-----------------+\n",
      "only showing top 5 rows\n",
      "\n"
     ]
    }
   ],
   "source": [
    "iris_df.show(5)"
   ]
  },
  {
   "cell_type": "code",
   "execution_count": 7,
   "metadata": {},
   "outputs": [],
   "source": [
    "# Split the data into training and test sets\n",
    "train_data, test_data = iris_df.randomSplit([0.8, 0.2])"
   ]
  },
  {
   "cell_type": "code",
   "execution_count": 8,
   "metadata": {},
   "outputs": [
    {
     "name": "stdout",
     "output_type": "stream",
     "text": [
      "+------------+-----------+------------+-----------+-------+-----+-----------------+\n",
      "|sepal_length|sepal_width|petal_length|petal_width|species|label|         features|\n",
      "+------------+-----------+------------+-----------+-------+-----+-----------------+\n",
      "|         4.4|        2.9|         1.4|        0.2| setosa|  0.0|[4.4,2.9,1.4,0.2]|\n",
      "|         4.6|        3.1|         1.5|        0.2| setosa|  0.0|[4.6,3.1,1.5,0.2]|\n",
      "|         4.6|        3.4|         1.4|        0.3| setosa|  0.0|[4.6,3.4,1.4,0.3]|\n",
      "|         4.8|        3.4|         1.6|        0.2| setosa|  0.0|[4.8,3.4,1.6,0.2]|\n",
      "|         4.9|        3.0|         1.4|        0.2| setosa|  0.0|[4.9,3.0,1.4,0.2]|\n",
      "+------------+-----------+------------+-----------+-------+-----+-----------------+\n",
      "only showing top 5 rows\n",
      "\n"
     ]
    }
   ],
   "source": [
    "train_data.show(5)"
   ]
  },
  {
   "cell_type": "code",
   "execution_count": 9,
   "metadata": {},
   "outputs": [],
   "source": [
    "from pyspark.ml.classification import RandomForestClassifier\n",
    "\n",
    "# Random Forest Classifier\n",
    "rf = RandomForestClassifier(\n",
    "    featuresCol='features', labelCol='label',\n",
    "    numTrees=100\n",
    ")\n",
    "\n",
    "rf_model = rf.fit(train_data)"
   ]
  },
  {
   "cell_type": "code",
   "execution_count": 10,
   "metadata": {},
   "outputs": [
    {
     "name": "stdout",
     "output_type": "stream",
     "text": [
      "+------------+-----------+------------+-----------+-------+-----+-----------------+---------------+----------------+----------+\n",
      "|sepal_length|sepal_width|petal_length|petal_width|species|label|         features|  rawPrediction|     probability|prediction|\n",
      "+------------+-----------+------------+-----------+-------+-----+-----------------+---------------+----------------+----------+\n",
      "|         4.7|        3.2|         1.3|        0.2| setosa|  0.0|[4.7,3.2,1.3,0.2]|[100.0,0.0,0.0]|   [1.0,0.0,0.0]|       0.0|\n",
      "|         4.9|        3.1|         1.5|        0.1| setosa|  0.0|[4.9,3.1,1.5,0.1]|[100.0,0.0,0.0]|   [1.0,0.0,0.0]|       0.0|\n",
      "|         5.1|        3.5|         1.4|        0.2| setosa|  0.0|[5.1,3.5,1.4,0.2]|[100.0,0.0,0.0]|   [1.0,0.0,0.0]|       0.0|\n",
      "|         5.4|        3.9|         1.7|        0.4| setosa|  0.0|[5.4,3.9,1.7,0.4]|[100.0,0.0,0.0]|   [1.0,0.0,0.0]|       0.0|\n",
      "|         5.8|        4.0|         1.2|        0.2| setosa|  0.0|[5.8,4.0,1.2,0.2]| [94.0,5.0,1.0]|[0.94,0.05,0.01]|       0.0|\n",
      "+------------+-----------+------------+-----------+-------+-----+-----------------+---------------+----------------+----------+\n",
      "only showing top 5 rows\n",
      "\n"
     ]
    }
   ],
   "source": [
    "# Make predictions on the test data\n",
    "predictions = rf_model.transform(test_data)\n",
    "predictions.show(5)\n",
    "\n",
    "# from pyspark.ml.classification import LogisticRegression\n",
    "\n",
    "# # Create a Logistic Regression model and fit it to the training data\n",
    "# lr = LogisticRegression(featuresCol='features', labelCol='label')\n",
    "# lr_model = lr.fit(train_data)\n",
    "\n",
    "# # Make predictions on the test data\n",
    "# predictions = lr_model.transform(test_data)"
   ]
  },
  {
   "cell_type": "code",
   "execution_count": 11,
   "metadata": {},
   "outputs": [
    {
     "name": "stderr",
     "output_type": "stream",
     "text": [
      "C:\\Spark\\python\\pyspark\\sql\\context.py:157: FutureWarning: Deprecated in 3.0.0. Use SparkSession.builder.getOrCreate() instead.\n",
      "  warnings.warn(\n"
     ]
    },
    {
     "name": "stdout",
     "output_type": "stream",
     "text": [
      "Confusion Matrix:\n",
      " [[11.  0.  0.]\n",
      " [ 0. 11.  0.]\n",
      " [ 0.  1.  7.]]\n",
      "Accuracy = 0.966667\n"
     ]
    }
   ],
   "source": [
    "from pyspark.ml.evaluation import MulticlassClassificationEvaluator\n",
    "from pyspark.mllib.evaluation import MulticlassMetrics\n",
    "\n",
    "# Convert prediction column to double type\n",
    "predictions = predictions.withColumn(\n",
    "    \"prediction\", predictions[\"prediction\"].cast(\"double\")\n",
    ")\n",
    "\n",
    "evaluator = MulticlassClassificationEvaluator(\n",
    "    labelCol=\"label\", predictionCol=\"prediction\",\n",
    "    metricName=\"accuracy\"\n",
    ")\n",
    "\n",
    "accuracy = evaluator.evaluate(predictions)\n",
    "\n",
    "# Compute confusion matrix\n",
    "predictionAndLabels = predictions.select(\n",
    "    \"prediction\", \"label\"\n",
    ").rdd\n",
    "\n",
    "metrics = MulticlassMetrics(predictionAndLabels)\n",
    "\n",
    "# Get the confusion matrix\n",
    "confusion_matrix = metrics.confusionMatrix().toArray()\n",
    "\n",
    "print(\"Confusion Matrix:\\n\", confusion_matrix)\n",
    "print(\"Accuracy = %g\" % accuracy)"
   ]
  },
  {
   "cell_type": "code",
   "execution_count": 12,
   "metadata": {},
   "outputs": [],
   "source": [
    "spark.stop()"
   ]
  }
 ],
 "metadata": {
  "kernelspec": {
   "display_name": "Python 3",
   "language": "python",
   "name": "python3"
  },
  "language_info": {
   "codemirror_mode": {
    "name": "ipython",
    "version": 3
   },
   "file_extension": ".py",
   "mimetype": "text/x-python",
   "name": "python",
   "nbconvert_exporter": "python",
   "pygments_lexer": "ipython3",
   "version": "3.11.1"
  },
  "orig_nbformat": 4
 },
 "nbformat": 4,
 "nbformat_minor": 2
}
