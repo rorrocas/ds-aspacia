{
 "cells": [
  {
   "attachments": {},
   "cell_type": "markdown",
   "metadata": {},
   "source": [
    "### Actividad Final modulo 5"
   ]
  },
  {
   "attachments": {},
   "cell_type": "markdown",
   "metadata": {},
   "source": [
    "#### 1.- Enliste todas las librerias que utilizará "
   ]
  },
  {
   "cell_type": "code",
   "execution_count": 2,
   "metadata": {},
   "outputs": [],
   "source": [
    "import numpy as np\n",
    "from sklearn.svm import SVC\n",
    "from sklearn.model_selection import train_test_split\n",
    "from sklearn.metrics import confusion_matrix\n",
    "import pandas as pd\n",
    "import matplotlib.pyplot as plt\n",
    "import seaborn as sns"
   ]
  },
  {
   "attachments": {},
   "cell_type": "markdown",
   "metadata": {},
   "source": [
    "#### 2.- Importación y revisión de los datos Importe  ambos  sets.  Dado  que  la  fuente  de  datos  proviene  de  la  misma  base, tienen las mismas columnas. Consolide ambos sets y reporte una exploración básica de  los  datos  (numero  de  filas/columnas,  tipos  de  datos, estadísticas básicas, casos perdidos)"
   ]
  },
  {
   "cell_type": "code",
   "execution_count": 78,
   "metadata": {},
   "outputs": [],
   "source": [
    "df_2009 = pd.read_csv('2009_1perc.csv')\n",
    "df_2010 = pd.read_csv('2010_1perc.csv')"
   ]
  },
  {
   "cell_type": "code",
   "execution_count": 9,
   "metadata": {},
   "outputs": [
    {
     "data": {
      "text/plain": [
       "(5812, 112)"
      ]
     },
     "execution_count": 9,
     "metadata": {},
     "output_type": "execute_result"
    }
   ],
   "source": [
    "df_2009.shape"
   ]
  },
  {
   "cell_type": "code",
   "execution_count": 10,
   "metadata": {},
   "outputs": [
    {
     "data": {
      "text/plain": [
       "(6013, 112)"
      ]
     },
     "execution_count": 10,
     "metadata": {},
     "output_type": "execute_result"
    }
   ],
   "source": [
    "df_2010.shape"
   ]
  },
  {
   "cell_type": "code",
   "execution_count": 79,
   "metadata": {},
   "outputs": [
    {
     "data": {
      "text/plain": [
       "['perobs', 'addrpct', 'linecm', 'detailcm']"
      ]
     },
     "execution_count": 79,
     "metadata": {},
     "output_type": "execute_result"
    }
   ],
   "source": [
    "# Columnas diferentes\n",
    "columnas_aux = []\n",
    "for i in df_2010.columns:\n",
    "    if df_2009[i].dtype != df_2010[i].dtype:\n",
    "        columnas_aux.append(i)\n",
    "columnas_aux"
   ]
  },
  {
   "cell_type": "code",
   "execution_count": 80,
   "metadata": {},
   "outputs": [
    {
     "name": "stdout",
     "output_type": "stream",
     "text": [
      "perobs: float64 ----> perobs: int64\n",
      "addrpct: int64 ----> addrpct: object\n",
      "linecm: int64 ----> linecm: object\n",
      "detailcm: int64 ----> detailcm: object\n"
     ]
    }
   ],
   "source": [
    "# Comparacion de variables\n",
    "for i in columnas_aux:\n",
    "    print(f'{i}: {df_2009[i].dtype} ----> {i}: {df_2010[i].dtype}')"
   ]
  },
  {
   "cell_type": "code",
   "execution_count": 81,
   "metadata": {},
   "outputs": [],
   "source": [
    "# Transformar tipo de columnas\n",
    "for i in columnas_aux:\n",
    "    df_2009[i] = df_2009[i].astype(object)\n",
    "    df_2010[i] = df_2010[i].astype(object)\n",
    "    \n",
    "    df_2009[i] = pd.to_numeric(df_2009[i], errors='coerce')\n",
    "    df_2010[i] = pd.to_numeric(df_2010[i], errors='coerce')\n",
    "\n",
    "    df_2009[i] = df_2009[i].astype(float)\n",
    "    df_2010[i] = df_2010[i].astype(float)"
   ]
  },
  {
   "cell_type": "code",
   "execution_count": null,
   "metadata": {},
   "outputs": [],
   "source": []
  }
 ],
 "metadata": {
  "kernelspec": {
   "display_name": "Python 3",
   "language": "python",
   "name": "python3"
  },
  "language_info": {
   "codemirror_mode": {
    "name": "ipython",
    "version": 3
   },
   "file_extension": ".py",
   "mimetype": "text/x-python",
   "name": "python",
   "nbconvert_exporter": "python",
   "pygments_lexer": "ipython3",
   "version": "3.11.1"
  },
  "orig_nbformat": 4
 },
 "nbformat": 4,
 "nbformat_minor": 2
}
