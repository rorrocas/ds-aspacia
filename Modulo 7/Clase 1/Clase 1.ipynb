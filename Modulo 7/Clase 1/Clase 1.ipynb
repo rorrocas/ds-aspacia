{
 "cells": [
  {
   "attachments": {},
   "cell_type": "markdown",
   "metadata": {},
   "source": [
    "#### Clase 1"
   ]
  },
  {
   "cell_type": "code",
   "execution_count": 1,
   "metadata": {},
   "outputs": [],
   "source": [
    "import warnings\n",
    "warnings.filterwarnings('ignore')\n",
    "\n",
    "from sklearn.datasets import load_digits\n",
    "import tensorflow as tf\n",
    "from tensorflow.keras.models import Model\n",
    "from tensorflow.keras.layers import Input, Dense, Conv2D, MaxPooling2D, Flatten\n",
    "from tensorflow.keras.utils import to_categorical\n",
    "from sklearn.model_selection import train_test_split\n",
    "from sklearn.preprocessing import MinMaxScaler\n",
    "import numpy as np\n",
    "import matplotlib.pyplot as plt"
   ]
  },
  {
   "cell_type": "code",
   "execution_count": 2,
   "metadata": {},
   "outputs": [],
   "source": [
    "digits = load_digits()\n",
    "X, y = digits.images, digits.target"
   ]
  },
  {
   "cell_type": "code",
   "execution_count": 3,
   "metadata": {},
   "outputs": [],
   "source": [
    "# Add a channel dimension, and scale features to be in [0, 1]\n",
    "X = np.expand_dims(X, axis=-1) / 16.0\n",
    "\n",
    "# Convert labels to one-hot vectors\n",
    "y = to_categorical(y)"
   ]
  },
  {
   "cell_type": "code",
   "execution_count": 4,
   "metadata": {},
   "outputs": [],
   "source": [
    "X_train, X_test, y_train, y_test = train_test_split(X, y, test_size=0.2, random_state=42)"
   ]
  },
  {
   "cell_type": "code",
   "execution_count": 5,
   "metadata": {},
   "outputs": [],
   "source": [
    "input_layer = Input(shape=X_train.shape[1:])\n",
    "\n",
    "# Convolutional layers\n",
    "conv1 = Conv2D(16, kernel_size=3, activation='relu')(input_layer)\n",
    "pool1 = MaxPooling2D(pool_size=(2, 2))(conv1)\n",
    "conv2 = Conv2D(32, kernel_size=3, activation='relu')(pool1)\n",
    "flat = Flatten()(conv2)\n",
    "\n",
    "# Fully connected layers\n",
    "dense1 = Dense(128, activation='relu')(flat)\n",
    "dense2 = Dense(64, activation='relu')(dense1)\n",
    "output_layer = Dense(10, activation='softmax')(dense2)\n",
    "\n",
    "model = Model(input_layer, output_layer)"
   ]
  },
  {
   "cell_type": "code",
   "execution_count": 6,
   "metadata": {},
   "outputs": [],
   "source": [
    "model.compile(optimizer='adam', loss='categorical_crossentropy', metrics=['accuracy'])"
   ]
  },
  {
   "cell_type": "code",
   "execution_count": 7,
   "metadata": {},
   "outputs": [
    {
     "name": "stdout",
     "output_type": "stream",
     "text": [
      "Model: \"model\"\n",
      "_________________________________________________________________\n",
      " Layer (type)                Output Shape              Param #   \n",
      "=================================================================\n",
      " input_1 (InputLayer)        [(None, 8, 8, 1)]         0         \n",
      "                                                                 \n",
      " conv2d (Conv2D)             (None, 6, 6, 16)          160       \n",
      "                                                                 \n",
      " max_pooling2d (MaxPooling2D  (None, 3, 3, 16)         0         \n",
      " )                                                               \n",
      "                                                                 \n",
      " conv2d_1 (Conv2D)           (None, 1, 1, 32)          4640      \n",
      "                                                                 \n",
      " flatten (Flatten)           (None, 32)                0         \n",
      "                                                                 \n",
      " dense (Dense)               (None, 128)               4224      \n",
      "                                                                 \n",
      " dense_1 (Dense)             (None, 64)                8256      \n",
      "                                                                 \n",
      " dense_2 (Dense)             (None, 10)                650       \n",
      "                                                                 \n",
      "=================================================================\n",
      "Total params: 17,930\n",
      "Trainable params: 17,930\n",
      "Non-trainable params: 0\n",
      "_________________________________________________________________\n"
     ]
    }
   ],
   "source": [
    "model.summary()"
   ]
  },
  {
   "cell_type": "code",
   "execution_count": 8,
   "metadata": {},
   "outputs": [
    {
     "name": "stdout",
     "output_type": "stream",
     "text": [
      "Epoch 1/20\n",
      "45/45 [==============================] - 2s 11ms/step - loss: 2.1707 - accuracy: 0.4134 - val_loss: 1.8689 - val_accuracy: 0.6750\n",
      "Epoch 2/20\n",
      "45/45 [==============================] - 0s 5ms/step - loss: 1.2923 - accuracy: 0.7091 - val_loss: 0.7707 - val_accuracy: 0.8083\n",
      "Epoch 3/20\n",
      "45/45 [==============================] - 0s 4ms/step - loss: 0.6072 - accuracy: 0.8212 - val_loss: 0.4607 - val_accuracy: 0.8944\n",
      "Epoch 4/20\n",
      "45/45 [==============================] - 0s 4ms/step - loss: 0.4191 - accuracy: 0.8775 - val_loss: 0.3780 - val_accuracy: 0.8944\n",
      "Epoch 5/20\n",
      "45/45 [==============================] - 0s 4ms/step - loss: 0.3703 - accuracy: 0.8900 - val_loss: 0.3045 - val_accuracy: 0.9194\n",
      "Epoch 6/20\n",
      "45/45 [==============================] - 0s 4ms/step - loss: 0.2669 - accuracy: 0.9214 - val_loss: 0.2589 - val_accuracy: 0.9250\n",
      "Epoch 7/20\n",
      "45/45 [==============================] - 0s 5ms/step - loss: 0.2311 - accuracy: 0.9255 - val_loss: 0.2024 - val_accuracy: 0.9500\n",
      "Epoch 8/20\n",
      "45/45 [==============================] - 0s 8ms/step - loss: 0.1879 - accuracy: 0.9471 - val_loss: 0.1802 - val_accuracy: 0.9528\n",
      "Epoch 9/20\n",
      "45/45 [==============================] - 0s 6ms/step - loss: 0.1697 - accuracy: 0.9492 - val_loss: 0.1862 - val_accuracy: 0.9528\n",
      "Epoch 10/20\n",
      "45/45 [==============================] - 0s 4ms/step - loss: 0.1549 - accuracy: 0.9541 - val_loss: 0.1546 - val_accuracy: 0.9500\n",
      "Epoch 11/20\n",
      "45/45 [==============================] - 0s 4ms/step - loss: 0.1339 - accuracy: 0.9589 - val_loss: 0.2234 - val_accuracy: 0.9194\n",
      "Epoch 12/20\n",
      "45/45 [==============================] - 0s 5ms/step - loss: 0.1336 - accuracy: 0.9603 - val_loss: 0.1446 - val_accuracy: 0.9556\n",
      "Epoch 13/20\n",
      "45/45 [==============================] - 0s 4ms/step - loss: 0.1180 - accuracy: 0.9610 - val_loss: 0.1537 - val_accuracy: 0.9444\n",
      "Epoch 14/20\n",
      "45/45 [==============================] - 0s 7ms/step - loss: 0.1011 - accuracy: 0.9687 - val_loss: 0.1404 - val_accuracy: 0.9639\n",
      "Epoch 15/20\n",
      "45/45 [==============================] - 0s 5ms/step - loss: 0.0972 - accuracy: 0.9722 - val_loss: 0.1286 - val_accuracy: 0.9639\n",
      "Epoch 16/20\n",
      "45/45 [==============================] - 0s 5ms/step - loss: 0.0874 - accuracy: 0.9743 - val_loss: 0.1221 - val_accuracy: 0.9667\n",
      "Epoch 17/20\n",
      "45/45 [==============================] - 0s 5ms/step - loss: 0.0963 - accuracy: 0.9708 - val_loss: 0.1221 - val_accuracy: 0.9583\n",
      "Epoch 18/20\n",
      "45/45 [==============================] - 0s 4ms/step - loss: 0.0761 - accuracy: 0.9763 - val_loss: 0.1216 - val_accuracy: 0.9639\n",
      "Epoch 19/20\n",
      "45/45 [==============================] - 0s 6ms/step - loss: 0.0734 - accuracy: 0.9819 - val_loss: 0.1203 - val_accuracy: 0.9639\n",
      "Epoch 20/20\n",
      "45/45 [==============================] - 0s 7ms/step - loss: 0.0674 - accuracy: 0.9770 - val_loss: 0.1164 - val_accuracy: 0.9583\n"
     ]
    }
   ],
   "source": [
    "history = model.fit(X_train, y_train, epochs=20, validation_data=(X_test, y_test))"
   ]
  },
  {
   "cell_type": "code",
   "execution_count": 9,
   "metadata": {},
   "outputs": [
    {
     "data": {
      "image/png": "[encoded data removed]",
      "text/plain": [
       "<Figure size 432x288 with 1 Axes>"
      ]
     },
     "metadata": {
      "needs_background": "light"
     },
     "output_type": "display_data"
    }
   ],
   "source": [
    "fig, ax = plt.subplots()\n",
    "ax.plot(history.history['loss'], label='Train')\n",
    "ax.plot(history.history['val_loss'], label='Test')\n",
    "ax.set_title('Model loss')\n",
    "ax.set_xlabel('Epoch')\n",
    "ax.set_ylabel('Loss')\n",
    "ax.legend()\n",
    "plt.show()"
   ]
  },
  {
   "cell_type": "code",
   "execution_count": 10,
   "metadata": {},
   "outputs": [
    {
     "data": {
      "image/png": "[encoded data removed]",
      "text/plain": [
       "<Figure size 432x288 with 1 Axes>"
      ]
     },
     "metadata": {
      "needs_background": "light"
     },
     "output_type": "display_data"
    }
   ],
   "source": [
    "fig, ax = plt.subplots()\n",
    "ax.plot(history.history['accuracy'], label='Train')\n",
    "ax.plot(history.history['val_accuracy'], label='Test')\n",
    "ax.set_title('Model accuracy')\n",
    "ax.set_xlabel('Epoch')\n",
    "ax.set_ylabel('Accuracy')\n",
    "ax.legend()\n",
    "plt.show()\n"
   ]
  },
  {
   "cell_type": "code",
   "execution_count": 11,
   "metadata": {},
   "outputs": [],
   "source": [
    "\n",
    "model.save('data/my_model.h5')"
   ]
  },
  {
   "cell_type": "code",
   "execution_count": 13,
   "metadata": {},
   "outputs": [],
   "source": [
    "from tensorflow.keras.models import load_model"
   ]
  },
  {
   "cell_type": "code",
   "execution_count": 19,
   "metadata": {},
   "outputs": [
    {
     "name": "stdout",
     "output_type": "stream",
     "text": [
      "Model: \"model\"\n",
      "_________________________________________________________________\n",
      " Layer (type)                Output Shape              Param #   \n",
      "=================================================================\n",
      " input_1 (InputLayer)        [(None, 8, 8, 1)]         0         \n",
      "                                                                 \n",
      " conv2d (Conv2D)             (None, 6, 6, 16)          160       \n",
      "                                                                 \n",
      " max_pooling2d (MaxPooling2D  (None, 3, 3, 16)         0         \n",
      " )                                                               \n",
      "                                                                 \n",
      " conv2d_1 (Conv2D)           (None, 1, 1, 32)          4640      \n",
      "                                                                 \n",
      " flatten (Flatten)           (None, 32)                0         \n",
      "                                                                 \n",
      " dense (Dense)               (None, 128)               4224      \n",
      "                                                                 \n",
      " dense_1 (Dense)             (None, 64)                8256      \n",
      "                                                                 \n",
      " dense_2 (Dense)             (None, 10)                650       \n",
      "                                                                 \n",
      "=================================================================\n",
      "Total params: 17,930\n",
      "Trainable params: 17,930\n",
      "Non-trainable params: 0\n",
      "_________________________________________________________________\n"
     ]
    }
   ],
   "source": [
    "# Returns a compiled model identical to the previous one\n",
    "model_loaded = load_model('data/my_model.h5')\n",
    "model_loaded.summary()"
   ]
  },
  {
   "cell_type": "code",
   "execution_count": 20,
   "metadata": {},
   "outputs": [
    {
     "name": "stderr",
     "output_type": "stream",
     "text": [
      "WARNING:absl:Found untraced functions such as _jit_compiled_convolution_op, _jit_compiled_convolution_op, _update_step_xla while saving (showing 3 of 3). These functions will not be directly callable after loading.\n"
     ]
    },
    {
     "name": "stdout",
     "output_type": "stream",
     "text": [
      "INFO:tensorflow:Assets written to: data/my_model\\assets\n"
     ]
    },
    {
     "name": "stderr",
     "output_type": "stream",
     "text": [
      "INFO:tensorflow:Assets written to: data/my_model\\assets\n"
     ]
    },
    {
     "name": "stdout",
     "output_type": "stream",
     "text": [
      "Model: \"model\"\n",
      "_________________________________________________________________\n",
      " Layer (type)                Output Shape              Param #   \n",
      "=================================================================\n",
      " input_1 (InputLayer)        [(None, 8, 8, 1)]         0         \n",
      "                                                                 \n",
      " conv2d (Conv2D)             (None, 6, 6, 16)          160       \n",
      "                                                                 \n",
      " max_pooling2d (MaxPooling2D  (None, 3, 3, 16)         0         \n",
      " )                                                               \n",
      "                                                                 \n",
      " conv2d_1 (Conv2D)           (None, 1, 1, 32)          4640      \n",
      "                                                                 \n",
      " flatten (Flatten)           (None, 32)                0         \n",
      "                                                                 \n",
      " dense (Dense)               (None, 128)               4224      \n",
      "                                                                 \n",
      " dense_1 (Dense)             (None, 64)                8256      \n",
      "                                                                 \n",
      " dense_2 (Dense)             (None, 10)                650       \n",
      "                                                                 \n",
      "=================================================================\n",
      "Total params: 17,930\n",
      "Trainable params: 17,930\n",
      "Non-trainable params: 0\n",
      "_________________________________________________________________\n"
     ]
    }
   ],
   "source": [
    "# To save the model in SavedModel format\n",
    "model.save('data/my_model')\n",
    "\n",
    "# To load the model from SavedModel format\n",
    "model_loaded_2 = tf.keras.models.load_model('data/my_model')\n",
    "model_loaded_2.summary()"
   ]
  }
 ],
 "metadata": {
  "kernelspec": {
   "display_name": "Python 3",
   "language": "python",
   "name": "python3"
  },
  "language_info": {
   "codemirror_mode": {
    "name": "ipython",
    "version": 3
   },
   "file_extension": ".py",
   "mimetype": "text/x-python",
   "name": "python",
   "nbconvert_exporter": "python",
   "pygments_lexer": "ipython3",
   "version": "3.9.7"
  },
  "orig_nbformat": 4
 },
 "nbformat": 4,
 "nbformat_minor": 2
}
