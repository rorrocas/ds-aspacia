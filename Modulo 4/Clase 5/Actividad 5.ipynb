{
 "cells": [
  {
   "attachments": {},
   "cell_type": "markdown",
   "metadata": {},
   "source": [
    "### Actividad 5"
   ]
  },
  {
   "attachments": {},
   "cell_type": "markdown",
   "metadata": {
    "vscode": {
     "languageId": "python"
    }
   },
   "source": [
    "#### Caso 1 \n",
    "**Se sabe que la media del consumo de energía eléctrica en cierta provincia es de 721 kwh. Una empresa tecnológica de la región cree que sus empleados consumen más que  el  promedio provincial. Recoge  información  sobre  los  consumos  de  20 empleados escogidos al azar, y obtiene los siguientes datos:**\n",
    "\n",
    "  **Si la distribución del consumo mensual de energía eléctrica es normal:**\n",
    "    \n"
   ]
  },
  {
   "cell_type": "code",
   "execution_count": 3,
   "metadata": {},
   "outputs": [],
   "source": [
    "import numpy as np\n",
    "from scipy import stats"
   ]
  },
  {
   "cell_type": "code",
   "execution_count": 4,
   "metadata": {},
   "outputs": [],
   "source": [
    "sample = np.array(\n",
    "    [710,774,814,768,823,\n",
    "     732,675,755,770,660,\n",
    "     654,757,736,677,797,\n",
    "     760,718,774,747,796]\n",
    "    )"
   ]
  },
  {
   "attachments": {},
   "cell_type": "markdown",
   "metadata": {},
   "source": [
    "- a)  ¿Hay  evidencias  para  afirmar que  el  promedio del consumo de  energía eléctrica hogareño de los empleados de la empresa es superior a la media del consumo a nivel provincial? Usar un nivel de significación del 10%."
   ]
  },
  {
   "attachments": {},
   "cell_type": "markdown",
   "metadata": {},
   "source": [
    "**X**: Consumo mensual de energia electrica de un empleado.\n",
    "Sabemos que la distribucion es normal pero desconocemos la media muestral ($\\mu$) y desviacion ($\\sigma$)."
   ]
  },
  {
   "attachments": {},
   "cell_type": "markdown",
   "metadata": {},
   "source": [
    "Planteamos la hipotesis cero:\n",
    "\n",
    "$H_0 : \\mu = 721$\n",
    "\n",
    "eh hipotesis alternativa:\n",
    "\n",
    "$H_1 : \\mu > 721$"
   ]
  },
  {
   "attachments": {},
   "cell_type": "markdown",
   "metadata": {},
   "source": [
    "Como no se conoce la desviacion estandar poblacional se debe estimar con la desviacion estandar muestral $S$.\n",
    "\n",
    "$\\frac{\\overline{X}-\\mu}{S/\\sqrt{n}} \\sim t_{n-1} $"
   ]
  },
  {
   "attachments": {},
   "cell_type": "markdown",
   "metadata": {},
   "source": [
    "El nivel de significancia es del 10%\n",
    "\n",
    "Como la prueba es unilateral a la derecha, se rechazara la hipotesis nula si el estadistico es muy grande.\n",
    "\n",
    "$t_{19;0,9} = 1.3277$\n",
    "\n",
    "Rechazaremos $H_0$ si el estadistico de prueba es mayor o igual a 1.3277\n",
    "No rechazaremos $H_0$ si el estadistico de prueba es menor que 1.377 "
   ]
  },
  {
   "cell_type": "code",
   "execution_count": 18,
   "metadata": {},
   "outputs": [
    {
     "name": "stdout",
     "output_type": "stream",
     "text": [
      "media: 745\n",
      "desviacion estandar muestral: 49.57\n"
     ]
    }
   ],
   "source": [
    "data_mean = sample.mean()\n",
    "data_n = sample.shape[0]\n",
    "data_std = sample.std(ddof=1)\n",
    "\n",
    "print(f\"media: {data_mean:.0f}\\ndesviacion estandar muestral: {data_std:.2f}\")"
   ]
  },
  {
   "attachments": {},
   "cell_type": "markdown",
   "metadata": {},
   "source": [
    "- b)  ¿Cuál es el valor p de la decisión?"
   ]
  },
  {
   "cell_type": "code",
   "execution_count": 35,
   "metadata": {},
   "outputs": [],
   "source": [
    "from scipy.stats import norm"
   ]
  },
  {
   "cell_type": "code",
   "execution_count": 45,
   "metadata": {},
   "outputs": [
    {
     "data": {
      "text/plain": [
       "1.5715441752677695"
      ]
     },
     "execution_count": 45,
     "metadata": {},
     "output_type": "execute_result"
    }
   ],
   "source": [
    "p_value = 1-norm.cdf((data_mean-721)/(data_std/np.sqrt(data_n)))\n",
    "p_value*100"
   ]
  },
  {
   "attachments": {},
   "cell_type": "markdown",
   "metadata": {},
   "source": [
    "Se rechaza la hipotesis nula y este valor de p-value quiere decir que existe un 1.6% de que este nivel de consumo haya sido al azar por tanto es probable que este sea el consumo real de los empleados en esa provincia."
   ]
  }
 ],
 "metadata": {
  "kernelspec": {
   "display_name": "Python 3",
   "language": "python",
   "name": "python3"
  },
  "language_info": {
   "codemirror_mode": {
    "name": "ipython",
    "version": 3
   },
   "file_extension": ".py",
   "mimetype": "text/x-python",
   "name": "python",
   "nbconvert_exporter": "python",
   "pygments_lexer": "ipython3",
   "version": "3.9.7"
  },
  "orig_nbformat": 4
 },
 "nbformat": 4,
 "nbformat_minor": 2
}
