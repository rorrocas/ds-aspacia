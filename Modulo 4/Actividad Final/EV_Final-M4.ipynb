{
 "cells": [
  {
   "cell_type": "code",
   "execution_count": 1,
   "id": "db1e2cc7",
   "metadata": {},
   "outputs": [],
   "source": [
    "import numpy as np\n",
    "import pandas as pd\n",
    "from scipy import stats"
   ]
  },
  {
   "cell_type": "markdown",
   "source": [
    "# 1. Cierta compañía aérea ha requerido de sus servicios profesionales para llevar a cabo un estudio relacionado con la cantidad de pasajeros que llegan al país en vuelos internacionales, dicho estudio tiene relación con la enfermedad de COVID-19. De acuerdo a la información que maneja la compañía, la cantidad de pasajeros que llegan en vuelos internacionales se comporta aproximadamente normal con una media de 120 pasajeros y una varianza de 25.\n",
    "\n",
    "# a. Asumiendo que cada día llegan a Santiago 16 vuelos internacionales, determine la probabilidad de que durante el año (52 semanas) la cantidad total de pasajeros sea de al menos de 699500.\n",
    "\n"
   ],
   "metadata": {
    "collapsed": false
   }
  },
  {
   "cell_type": "code",
   "execution_count": 2,
   "id": "4352bf31",
   "metadata": {},
   "outputs": [
    {
     "data": {
      "text/plain": [
       "5824"
      ]
     },
     "execution_count": 2,
     "metadata": {},
     "output_type": "execute_result"
    }
   ],
   "source": [
    "#calcular la cantidad de vuelos\n",
    "semanas = 52\n",
    "dias = 7\n",
    "vuelos_diarios = 16\n",
    "n = semanas*dias*vuelos_diarios \n",
    "n"
   ]
  },
  {
   "cell_type": "code",
   "execution_count": 3,
   "id": "7eaa1dc5",
   "metadata": {},
   "outputs": [
    {
     "data": {
      "text/plain": [
       "120.10645604395604"
      ]
     },
     "execution_count": 3,
     "metadata": {},
     "output_type": "execute_result"
    }
   ],
   "source": [
    "#calcular el valor diario de pasajeros\n",
    "pasajeros_anuales = 699500\n",
    "valor_comparativo = pasajeros_anuales/n\n",
    "valor_comparativo"
   ]
  },
  {
   "cell_type": "code",
   "execution_count": 4,
   "id": "8f0bd0f4",
   "metadata": {},
   "outputs": [
    {
     "name": "stdout",
     "output_type": "stream",
     "text": [
      "Existe una probabilidad de 0.3726 que la cantidad total de pasajeros sea al menos de 699.500\n"
     ]
    }
   ],
   "source": [
    "x = valor_comparativo\n",
    "n = n\n",
    "media = 120\n",
    "desv_est = 25\n",
    "sd = desv_est / np.power(n, 0.5)# obtención sd muestral\n",
    "\n",
    "p = round(1 - stats.norm.cdf(x, loc = media, scale = sd),5)\n",
    "print(f\"Existe una probabilidad de {p} que la cantidad total de pasajeros sea al menos de 699.500\")\n",
    "\n",
    "#Es importante señalar que al considerar como n de vuelos la cantidad de vuelos diarios por 365, la prob cambia considerable%"
   ]
  },
  {
   "cell_type": "markdown",
   "id": "ac2d1e64",
   "metadata": {},
   "source": [
    "b. De acuerdo con registros históricos se sabe que aproximadamente un 7% de los pasajeros son niños. Considerando un potencial de 400 pasajeros que llegarían en los próximos días, determine la probabilidad que menos de un 5% sean niños."
   ]
  },
  {
   "cell_type": "code",
   "execution_count": 5,
   "id": "d86beab8",
   "metadata": {},
   "outputs": [
    {
     "name": "stdout",
     "output_type": "stream",
     "text": [
      "La probabilidad de que menos de un 5% sean niños es de: 0.04221\n"
     ]
    }
   ],
   "source": [
    "p = 0.07\n",
    "n = 400\n",
    "k = n*0.05 - 1 #Se resta 1 porque el cdf es la prob acumulada hasta k y se requiere que sea menos que el 5%\n",
    "\n",
    "P = round(stats.binom.cdf(k, n, p),5)\n",
    "print(f\"La probabilidad de que menos de un 5% sean niños es de: {P}\")"
   ]
  },
  {
   "attachments": {
    "image.png": {
     "image/png": "[encoded data removed]"
    }
   },
   "cell_type": "markdown",
   "id": "f5ff45fb",
   "metadata": {},
   "source": [
    "2. Una empresa que se dedica a hacer en cuestas se queja de que un agente realiza en promedio 53 encuestas por semana. Se ha introducido una forma más moderna de realizar las encuestas y la empresa quiere evaluar su efectividad. Los números de encuestas realizadas en una semana por una muestra aleatoria de agentes son:\n",
    "\n",
    "![image.png](attachment:image.png)\n",
    "\n",
    "En el nivel de significancia 0,05, puede concluirse que la cantidad media de entrevistas realizadas por los agentes es superior a 53 por semana? Evalúe el valor p."
   ]
  },
  {
   "cell_type": "code",
   "execution_count": 6,
   "id": "edcbce75",
   "metadata": {},
   "outputs": [],
   "source": [
    "#Gen lista con n de encuestas\n",
    "encuestas = [53,57,50,55,58,54,60,52,59,62,60,60,51,59]"
   ]
  },
  {
   "cell_type": "code",
   "execution_count": 7,
   "id": "0c34ec95",
   "metadata": {},
   "outputs": [
    {
     "name": "stdout",
     "output_type": "stream",
     "text": [
      "Rechaza hipótesis nula.\n",
      "Por lo tanto, hay evidencias que permite afirmar que la media de entrevistas es superior a 53 semanales\n",
      "p-value: 0.00283\n"
     ]
    }
   ],
   "source": [
    "#definición valores\n",
    "null_value = 53\n",
    "alpha = 0.05\n",
    "\n",
    "#obtención p-value\n",
    "p_value = stats.ttest_1samp(\n",
    "    encuestas, null_value, alternative='greater')[1]\n",
    "\n",
    "\n",
    "# p-value v/s significancia\n",
    "if p_value < alpha:\n",
    "    print(\"Rechaza hipótesis nula.\\n\" +\n",
    "          \"Por lo tanto, hay evidencias que permite afirmar que la media de entrevistas es superior a 53 semanales\")\n",
    "else:\n",
    "    print(\"No hay envidencias suficientes que permitan rechazar la hipótesis nula y afirmar que los agentes hacen más de 53 entrevistas\")\n",
    "\n",
    "# Imprimir p-value\n",
    "print(\"p-value:\", round(p_value,5))\n",
    "\n"
   ]
  }
 ],
 "metadata": {
  "kernelspec": {
   "display_name": "Python 3 (ipykernel)",
   "language": "python",
   "name": "python3"
  },
  "language_info": {
   "codemirror_mode": {
    "name": "ipython",
    "version": 3
   },
   "file_extension": ".py",
   "mimetype": "text/x-python",
   "name": "python",
   "nbconvert_exporter": "python",
   "pygments_lexer": "ipython3",
   "version": "3.9.12"
  }
 },
 "nbformat": 4,
 "nbformat_minor": 5
}
