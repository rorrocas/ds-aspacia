{
 "cells": [
  {
   "attachments": {},
   "cell_type": "markdown",
   "metadata": {},
   "source": [
    "## Actividad 1"
   ]
  },
  {
   "attachments": {},
   "cell_type": "markdown",
   "metadata": {},
   "source": [
    "#### Pregunta  1:  Investigue  respecto  a  los  siguientes  conceptos.  Usted  debe explicar esto de forma sencilla en no más de 5 líneas de texto. "
   ]
  },
  {
   "attachments": {},
   "cell_type": "markdown",
   "metadata": {},
   "source": [
    "- Aprendizaje supervisado:\n",
    "\n",
    "**R:**\n",
    "- Aprendizaje sin supervisión:\n",
    "\n",
    "**R:**\n",
    "- Aprendizaje por refuerzo:\n",
    "\n",
    "**R:**\n",
    "- Algoritmos de regresión:\n",
    "\n",
    "**R:**\n",
    "- Algoritmos de agrupación:\n",
    "\n",
    "**R:**\n",
    "- Algoritmos de Aprendizaje Profundo:a\n",
    "\n",
    "**R:**"
   ]
  },
  {
   "attachments": {},
   "cell_type": "markdown",
   "metadata": {},
   "source": [
    "#### Pregunta 2: Busque una imagen que una los conceptos anteriores o cree usted un  diagrama  que  los  relacione  (Puede  agregar  otros  conceptos  si  lo  cree necesario). "
   ]
  }
 ],
 "metadata": {
  "language_info": {
   "name": "python"
  },
  "orig_nbformat": 4
 },
 "nbformat": 4,
 "nbformat_minor": 2
}
