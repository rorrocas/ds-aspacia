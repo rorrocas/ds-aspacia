{
 "cells": [
  {
   "cell_type": "code",
   "execution_count": 1,
   "metadata": {},
   "outputs": [],
   "source": [
    "### Clase 1 Modulo 4"
   ]
  },
  {
   "cell_type": "code",
   "execution_count": 2,
   "metadata": {},
   "outputs": [],
   "source": [
    "import pandas as pd\n",
    "import random"
   ]
  },
  {
   "cell_type": "code",
   "execution_count": 5,
   "metadata": {},
   "outputs": [
    {
     "name": "stdout",
     "output_type": "stream",
     "text": [
      "La probabilidad de obtener cara es 0.60\n"
     ]
    }
   ],
   "source": [
    "#Define outcomes\n",
    "outcomes = [\"heads\",\"tails\"]\n",
    "\n",
    "num_trials = 1000\n",
    "num_heads = 100\n",
    "\n",
    "#Simulate flipping a coin\n",
    "for i in range(num_trials):\n",
    "\n",
    "    result = random.choice(outcomes)\n",
    "\n",
    "    if result == \"heads\":\n",
    "        num_heads+=1\n",
    "prob_heads = num_heads / num_trials\n",
    "\n",
    "print(f\"La probabilidad de obtener cara es {prob_heads:.2f}\")"
   ]
  },
  {
   "cell_type": "code",
   "execution_count": 6,
   "metadata": {},
   "outputs": [
    {
     "name": "stdout",
     "output_type": "stream",
     "text": [
      "The probability of obtaining an odd number is approximately 0.50\n"
     ]
    }
   ],
   "source": [
    "num_trials = 1_000_000\n",
    "num_odds = 0\n",
    "\n",
    "for i in range(num_trials):\n",
    "\n",
    "    roll = random.randint(1, 6)\n",
    "\n",
    "    if roll % 2 == 1:\n",
    "\n",
    "        num_odds += 1\n",
    "\n",
    "probability = num_odds / num_trials\n",
    "\n",
    "print(\n",
    "    f\"The probability of obtaining an odd number is\"\n",
    "    f\" approximately {probability:.2f}\"\n",
    ")"
   ]
  },
  {
   "cell_type": "code",
   "execution_count": 7,
   "metadata": {},
   "outputs": [
    {
     "name": "stdout",
     "output_type": "stream",
     "text": [
      "The probability of getting at least one head in two tosses is: 0.7501\n"
     ]
    }
   ],
   "source": [
    "n_simulations = 1_000_000\n",
    "count = 0 \n",
    "\n",
    "for i in range(n_simulations):\n",
    "\n",
    "    toss1 = random.choice([\"heads\", \"tails\"])\n",
    "    toss2 = random.choice([\"heads\", \"tails\"])\n",
    "    \n",
    "    if toss1 == \"heads\" or toss2 == \"heads\":\n",
    "    \n",
    "        count += 1\n",
    "\n",
    "probability = count / n_simulations\n",
    "\n",
    "print(\n",
    "    f\"The probability of getting at least one head\"\n",
    "    f\" in two tosses is: {probability:.4f}\"\n",
    ")"
   ]
  },
  {
   "attachments": {},
   "cell_type": "markdown",
   "metadata": {},
   "source": [
    "### Union and Intersection\n",
    "- Marginal probability\n",
    "- Join probability\n",
    "- Conditional probability"
   ]
  },
  {
   "cell_type": "code",
   "execution_count": 8,
   "metadata": {},
   "outputs": [
    {
     "data": {
      "text/html": [
       "<div>\n",
       "<style scoped>\n",
       "    .dataframe tbody tr th:only-of-type {\n",
       "        vertical-align: middle;\n",
       "    }\n",
       "\n",
       "    .dataframe tbody tr th {\n",
       "        vertical-align: top;\n",
       "    }\n",
       "\n",
       "    .dataframe thead th {\n",
       "        text-align: right;\n",
       "    }\n",
       "</style>\n",
       "<table border=\"1\" class=\"dataframe\">\n",
       "  <thead>\n",
       "    <tr style=\"text-align: right;\">\n",
       "      <th></th>\n",
       "      <th>cloud</th>\n",
       "      <th>noCloud</th>\n",
       "    </tr>\n",
       "  </thead>\n",
       "  <tbody>\n",
       "    <tr>\n",
       "      <th>rain</th>\n",
       "      <td>7</td>\n",
       "      <td>3</td>\n",
       "    </tr>\n",
       "    <tr>\n",
       "      <th>noRain</th>\n",
       "      <td>2</td>\n",
       "      <td>6</td>\n",
       "    </tr>\n",
       "  </tbody>\n",
       "</table>\n",
       "</div>"
      ],
      "text/plain": [
       "        cloud  noCloud\n",
       "rain        7        3\n",
       "noRain      2        6"
      ]
     },
     "execution_count": 8,
     "metadata": {},
     "output_type": "execute_result"
    }
   ],
   "source": [
    "data = {\n",
    "    'cloud': [7, 2],\n",
    "    'noCloud': [3, 6],\n",
    "}\n",
    "\n",
    "index = ['rain', 'noRain']\n",
    "\n",
    "df = pd.DataFrame(data, index=index)\n",
    "df"
   ]
  },
  {
   "cell_type": "code",
   "execution_count": 9,
   "metadata": {},
   "outputs": [
    {
     "name": "stdout",
     "output_type": "stream",
     "text": [
      "\n",
      "rain      10\n",
      "noRain     8\n",
      "dtype: int64\n",
      "\n",
      "\n",
      "cloud      9\n",
      "noCloud    9\n",
      "dtype: int64\n",
      "\n",
      "Number of events: 18\n"
     ]
    }
   ],
   "source": [
    "\n",
    "cloudy_yes_no = df.sum(axis=1)\n",
    "print(f\"\\n{cloudy_yes_no}\\n\")\n",
    "\n",
    "rainy_yes_no = df.sum(axis=0)\n",
    "print(f\"\\n{rainy_yes_no}\\n\")\n",
    "\n",
    "n_events = df.sum(axis=0).sum()\n",
    "print(f\"Number of events: {n_events}\")"
   ]
  },
  {
   "cell_type": "code",
   "execution_count": 10,
   "metadata": {},
   "outputs": [
    {
     "name": "stdout",
     "output_type": "stream",
     "text": [
      "Probability of rain: 0.56\n",
      "Probability of no rain: 0.44\n",
      "Probability of cloud: 0.50\n",
      "Probability of no cloud: 0.50\n"
     ]
    }
   ],
   "source": [
    "# marginal probability\n",
    "# rain\n",
    "p_rain = df.loc['rain'].sum() / n_events\n",
    "print(f\"Probability of rain: {p_rain:.2f}\")\n",
    "\n",
    "# no rain\n",
    "p_no_rain = df.loc['noRain'].sum() / n_events\n",
    "print(f\"Probability of no rain: {p_no_rain:.2f}\")\n",
    "\n",
    "# cloud\n",
    "p_cloud = df['cloud'].sum() / n_events\n",
    "print(f\"Probability of cloud: {p_cloud:.2f}\")\n",
    "\n",
    "# cloud\n",
    "p_no_cloud = df['noCloud'].sum() / n_events\n",
    "print(f\"Probability of no cloud: {p_no_cloud:.2f}\")"
   ]
  },
  {
   "cell_type": "code",
   "execution_count": 11,
   "metadata": {},
   "outputs": [
    {
     "name": "stdout",
     "output_type": "stream",
     "text": [
      "Probability of rain and cloud: 0.39\n"
     ]
    }
   ],
   "source": [
    "# Joint probability\n",
    "p_rain_cloud = df.loc['rain', 'cloud'] / n_events\n",
    "print(f\"Probability of rain and cloud: {p_rain_cloud:.2f}\")"
   ]
  },
  {
   "attachments": {},
   "cell_type": "markdown",
   "metadata": {},
   "source": [
    "## Bayes theorem"
   ]
  },
  {
   "attachments": {},
   "cell_type": "markdown",
   "metadata": {},
   "source": [
    "<math xmlns=\"http://www.w3.org/1998/Math/MathML\">\n",
    "  <mi>P</mi>\n",
    "  <mo stretchy=\"false\">(</mo>\n",
    "  <mi>A</mi>\n",
    "  <mo data-mjx-texclass=\"ORD\" stretchy=\"false\">|</mo>\n",
    "  <mi>B</mi>\n",
    "  <mo stretchy=\"false\">)</mo>\n",
    "  <mo>=</mo>\n",
    "  <mfrac>\n",
    "    <mrow>\n",
    "      <mi>P</mi>\n",
    "      <mo stretchy=\"false\">(</mo>\n",
    "      <mi>B</mi>\n",
    "      <mo data-mjx-texclass=\"ORD\" stretchy=\"false\">|</mo>\n",
    "      <mi>A</mi>\n",
    "      <mo stretchy=\"false\">)</mo>\n",
    "      <mo>&#x22C5;</mo>\n",
    "      <mi>P</mi>\n",
    "      <mo stretchy=\"false\">(</mo>\n",
    "      <mi>A</mi>\n",
    "      <mo stretchy=\"false\">)</mo>\n",
    "    </mrow>\n",
    "    <mrow>\n",
    "      <mi>P</mi>\n",
    "      <mo stretchy=\"false\">(</mo>\n",
    "      <mi>B</mi>\n",
    "      <mo stretchy=\"false\">)</mo>\n",
    "    </mrow>\n",
    "  </mfrac>\n",
    "  <mo>=</mo>\n",
    "  <mfrac>\n",
    "    <mrow>\n",
    "      <mi>P</mi>\n",
    "      <mo stretchy=\"false\">(</mo>\n",
    "      <mi>A</mi>\n",
    "      <mo>&#x2229;</mo>\n",
    "      <mi>B</mi>\n",
    "      <mo stretchy=\"false\">)</mo>\n",
    "    </mrow>\n",
    "    <mrow>\n",
    "      <mi>P</mi>\n",
    "      <mo stretchy=\"false\">(</mo>\n",
    "      <mi>B</mi>\n",
    "      <mo stretchy=\"false\">)</mo>\n",
    "    </mrow>\n",
    "  </mfrac>\n",
    "</math>"
   ]
  },
  {
   "cell_type": "code",
   "execution_count": 12,
   "metadata": {},
   "outputs": [
    {
     "name": "stdout",
     "output_type": "stream",
     "text": [
      "Probability of no rain given no cloud: 0.67\n"
     ]
    }
   ],
   "source": [
    "# Conditional probability of no rain given no cloud\n",
    "\n",
    "p_noRain_noCloud = df.loc['noRain', 'noCloud'] / df['noCloud'].sum()\n",
    "print(\n",
    "    f\"Probability of no rain given no cloud: {p_noRain_noCloud:.2f}\"\n",
    ")"
   ]
  },
  {
   "cell_type": "code",
   "execution_count": 13,
   "metadata": {},
   "outputs": [
    {
     "name": "stdout",
     "output_type": "stream",
     "text": [
      "Probability of cloud given no rain: 0.25\n"
     ]
    }
   ],
   "source": [
    "p_cloud_noRain = df.loc['noRain', 'cloud'] / df.loc['noRain'].sum()\n",
    "\n",
    "print(\n",
    "    f\"Probability of cloud given no rain: {p_cloud_noRain:.2f}\"\n",
    ")"
   ]
  },
  {
   "cell_type": "code",
   "execution_count": null,
   "metadata": {},
   "outputs": [],
   "source": []
  }
 ],
 "metadata": {
  "kernelspec": {
   "display_name": "Python 3",
   "language": "python",
   "name": "python3"
  },
  "language_info": {
   "codemirror_mode": {
    "name": "ipython",
    "version": 3
   },
   "file_extension": ".py",
   "mimetype": "text/x-python",
   "name": "python",
   "nbconvert_exporter": "python",
   "pygments_lexer": "ipython3",
   "version": "3.11.1"
  },
  "orig_nbformat": 4
 },
 "nbformat": 4,
 "nbformat_minor": 2
}
