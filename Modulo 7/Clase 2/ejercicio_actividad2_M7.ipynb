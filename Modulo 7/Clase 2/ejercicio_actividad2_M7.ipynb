{
 "cells": [
  {
   "cell_type": "code",
   "execution_count": 120,
   "metadata": {},
   "outputs": [],
   "source": [
    "from sklearn.datasets import load_digits \n",
    "import numpy as np\n",
    "import tensorflow as tf\n",
    "from tensorflow import keras\n",
    "from keras.utils import to_categorical\n",
    "from keras.models import Sequential\n",
    "from keras.layers import Dense\n",
    "import warnings\n",
    "import matplotlib.pyplot as plt\n",
    "from keras.models import Model\n",
    "from keras.layers import Input, Dense\n",
    "warnings.filterwarnings('ignore')"
   ]
  },
  {
   "cell_type": "code",
   "execution_count": 121,
   "metadata": {},
   "outputs": [],
   "source": [
    "fashion_mnist = keras.datasets.fashion_mnist\n",
    "(train_images, train_labels), (test_images, test_labels) = fashion_mnist.load_data()"
   ]
  },
  {
   "cell_type": "code",
   "execution_count": 122,
   "metadata": {},
   "outputs": [],
   "source": [
    "class_names = ['Camiseta', 'Pantalón', 'Suéter', 'Vestido', 'Abrigo',\n",
    "'Sandalia', 'Camisa', 'Zapatilla deportiva', 'Bolso', 'Botines']"
   ]
  },
  {
   "cell_type": "code",
   "execution_count": 123,
   "metadata": {},
   "outputs": [
    {
     "data": {
      "image/png": "[encoded data removed]",
      "text/plain": [
       "<Figure size 640x480 with 1 Axes>"
      ]
     },
     "metadata": {},
     "output_type": "display_data"
    }
   ],
   "source": [
    "plt.figure()\n",
    "plt.imshow(train_images[200], cmap = 'gray_r') \n",
    "plt.title(train_labels[200])\n",
    "#plt.colorbar()\n",
    "plt.grid(False)\n",
    "plt.show()"
   ]
  },
  {
   "cell_type": "code",
   "execution_count": 124,
   "metadata": {},
   "outputs": [],
   "source": [
    "train_images = train_images.reshape(-1, 784)\n",
    "train_images = train_images/train_images.max()"
   ]
  },
  {
   "cell_type": "code",
   "execution_count": 131,
   "metadata": {},
   "outputs": [],
   "source": [
    "#test_images = test_images.reshape(-1, 784)\n",
    "#test_images = test_images/test_images.max()"
   ]
  },
  {
   "cell_type": "code",
   "execution_count": 125,
   "metadata": {},
   "outputs": [],
   "source": [
    "train_labels = to_categorical(train_labels)\n"
   ]
  },
  {
   "cell_type": "code",
   "execution_count": 132,
   "metadata": {},
   "outputs": [],
   "source": [
    "test_labels = to_categorical(test_labels)"
   ]
  },
  {
   "cell_type": "code",
   "execution_count": 126,
   "metadata": {},
   "outputs": [
    {
     "data": {
      "text/plain": [
       "(60000, 10)"
      ]
     },
     "execution_count": 126,
     "metadata": {},
     "output_type": "execute_result"
    }
   ],
   "source": [
    "train_images.shape\n",
    "train_labels.shape"
   ]
  },
  {
   "cell_type": "code",
   "execution_count": 133,
   "metadata": {},
   "outputs": [
    {
     "data": {
      "text/plain": [
       "(10000, 10)"
      ]
     },
     "execution_count": 133,
     "metadata": {},
     "output_type": "execute_result"
    }
   ],
   "source": [
    "test_images.shape\n",
    "test_labels.shape"
   ]
  },
  {
   "cell_type": "code",
   "execution_count": 127,
   "metadata": {},
   "outputs": [],
   "source": [
    "model = Sequential()\n",
    "\n",
    "model.add(Dense(256, activation='relu', input_shape=(784,)))\n",
    "model.add(Dense(128, activation='relu'))\n",
    "# There are 10 classes in the digits data set\n",
    "model.add(Dense(10, activation='softmax'))"
   ]
  },
  {
   "cell_type": "code",
   "execution_count": 128,
   "metadata": {},
   "outputs": [],
   "source": [
    "model.compile(\n",
    "    optimizer='adam',\n",
    "    loss='categorical_crossentropy',\n",
    "    metrics=['accuracy']\n",
    ")"
   ]
  },
  {
   "cell_type": "code",
   "execution_count": 129,
   "metadata": {},
   "outputs": [
    {
     "name": "stdout",
     "output_type": "stream",
     "text": [
      "Model: \"sequential_10\"\n",
      "_________________________________________________________________\n",
      " Layer (type)                Output Shape              Param #   \n",
      "=================================================================\n",
      " dense_30 (Dense)            (None, 256)               200960    \n",
      "                                                                 \n",
      " dense_31 (Dense)            (None, 128)               32896     \n",
      "                                                                 \n",
      " dense_32 (Dense)            (None, 10)                1290      \n",
      "                                                                 \n",
      "=================================================================\n",
      "Total params: 235,146\n",
      "Trainable params: 235,146\n",
      "Non-trainable params: 0\n",
      "_________________________________________________________________\n"
     ]
    }
   ],
   "source": [
    "model.summary()"
   ]
  },
  {
   "cell_type": "code",
   "execution_count": 130,
   "metadata": {},
   "outputs": [
    {
     "name": "stdout",
     "output_type": "stream",
     "text": [
      "Epoch 1/50\n",
      "8/8 [==============================] - 1s 76ms/step - loss: 1.7546 - accuracy: 0.4553 - val_loss: 1.1052 - val_accuracy: 0.6417\n",
      "Epoch 2/50\n",
      "8/8 [==============================] - 0s 55ms/step - loss: 0.9082 - accuracy: 0.6951 - val_loss: 0.7349 - val_accuracy: 0.7409\n",
      "Epoch 3/50\n",
      "8/8 [==============================] - 0s 64ms/step - loss: 0.6871 - accuracy: 0.7605 - val_loss: 0.6205 - val_accuracy: 0.7850\n",
      "Epoch 4/50\n",
      "8/8 [==============================] - 1s 60ms/step - loss: 0.5917 - accuracy: 0.7999 - val_loss: 0.5551 - val_accuracy: 0.8048\n",
      "Epoch 5/50\n",
      "8/8 [==============================] - 0s 54ms/step - loss: 0.5334 - accuracy: 0.8185 - val_loss: 0.5127 - val_accuracy: 0.8207\n",
      "Epoch 6/50\n",
      "8/8 [==============================] - 0s 57ms/step - loss: 0.4955 - accuracy: 0.8298 - val_loss: 0.4874 - val_accuracy: 0.8282\n",
      "Epoch 7/50\n",
      "8/8 [==============================] - 0s 54ms/step - loss: 0.4692 - accuracy: 0.8378 - val_loss: 0.4711 - val_accuracy: 0.8315\n",
      "Epoch 8/50\n",
      "8/8 [==============================] - 0s 55ms/step - loss: 0.4505 - accuracy: 0.8434 - val_loss: 0.4488 - val_accuracy: 0.8423\n",
      "Epoch 9/50\n",
      "8/8 [==============================] - 0s 53ms/step - loss: 0.4357 - accuracy: 0.8481 - val_loss: 0.4377 - val_accuracy: 0.8471\n",
      "Epoch 10/50\n",
      "8/8 [==============================] - 0s 53ms/step - loss: 0.4193 - accuracy: 0.8544 - val_loss: 0.4261 - val_accuracy: 0.8508\n",
      "Epoch 11/50\n",
      "8/8 [==============================] - 0s 52ms/step - loss: 0.4080 - accuracy: 0.8579 - val_loss: 0.4150 - val_accuracy: 0.8553\n",
      "Epoch 12/50\n",
      "8/8 [==============================] - 0s 52ms/step - loss: 0.3995 - accuracy: 0.8606 - val_loss: 0.4150 - val_accuracy: 0.8544\n",
      "Epoch 13/50\n",
      "8/8 [==============================] - 0s 52ms/step - loss: 0.3961 - accuracy: 0.8614 - val_loss: 0.4093 - val_accuracy: 0.8547\n",
      "Epoch 14/50\n",
      "8/8 [==============================] - 0s 55ms/step - loss: 0.3871 - accuracy: 0.8640 - val_loss: 0.3937 - val_accuracy: 0.8607\n",
      "Epoch 15/50\n",
      "8/8 [==============================] - 0s 62ms/step - loss: 0.3748 - accuracy: 0.8687 - val_loss: 0.3907 - val_accuracy: 0.8628\n",
      "Epoch 16/50\n",
      "8/8 [==============================] - 0s 54ms/step - loss: 0.3687 - accuracy: 0.8714 - val_loss: 0.3851 - val_accuracy: 0.8660\n",
      "Epoch 17/50\n",
      "8/8 [==============================] - 0s 51ms/step - loss: 0.3623 - accuracy: 0.8746 - val_loss: 0.3792 - val_accuracy: 0.8679\n",
      "Epoch 18/50\n",
      "8/8 [==============================] - 0s 51ms/step - loss: 0.3551 - accuracy: 0.8759 - val_loss: 0.3762 - val_accuracy: 0.8687\n",
      "Epoch 19/50\n",
      "8/8 [==============================] - 0s 52ms/step - loss: 0.3486 - accuracy: 0.8778 - val_loss: 0.3783 - val_accuracy: 0.8693\n",
      "Epoch 20/50\n",
      "8/8 [==============================] - 0s 53ms/step - loss: 0.3460 - accuracy: 0.8784 - val_loss: 0.3710 - val_accuracy: 0.8709\n",
      "Epoch 21/50\n",
      "8/8 [==============================] - 0s 52ms/step - loss: 0.3415 - accuracy: 0.8800 - val_loss: 0.3645 - val_accuracy: 0.8722\n",
      "Epoch 22/50\n",
      "8/8 [==============================] - 0s 51ms/step - loss: 0.3367 - accuracy: 0.8812 - val_loss: 0.3639 - val_accuracy: 0.8708\n",
      "Epoch 23/50\n",
      "8/8 [==============================] - 0s 50ms/step - loss: 0.3337 - accuracy: 0.8827 - val_loss: 0.3604 - val_accuracy: 0.8735\n",
      "Epoch 24/50\n",
      "8/8 [==============================] - 0s 52ms/step - loss: 0.3296 - accuracy: 0.8840 - val_loss: 0.3583 - val_accuracy: 0.8728\n",
      "Epoch 25/50\n",
      "8/8 [==============================] - 0s 54ms/step - loss: 0.3189 - accuracy: 0.8872 - val_loss: 0.3561 - val_accuracy: 0.8747\n",
      "Epoch 26/50\n",
      "8/8 [==============================] - 0s 54ms/step - loss: 0.3139 - accuracy: 0.8890 - val_loss: 0.3502 - val_accuracy: 0.8739\n",
      "Epoch 27/50\n",
      "8/8 [==============================] - 0s 63ms/step - loss: 0.3107 - accuracy: 0.8900 - val_loss: 0.3456 - val_accuracy: 0.8793\n",
      "Epoch 28/50\n",
      "8/8 [==============================] - 0s 55ms/step - loss: 0.3069 - accuracy: 0.8920 - val_loss: 0.3456 - val_accuracy: 0.8769\n",
      "Epoch 29/50\n",
      "8/8 [==============================] - 0s 51ms/step - loss: 0.3016 - accuracy: 0.8936 - val_loss: 0.3402 - val_accuracy: 0.8788\n",
      "Epoch 30/50\n",
      "8/8 [==============================] - 0s 50ms/step - loss: 0.2966 - accuracy: 0.8943 - val_loss: 0.3406 - val_accuracy: 0.8799\n",
      "Epoch 31/50\n",
      "8/8 [==============================] - 0s 52ms/step - loss: 0.2934 - accuracy: 0.8954 - val_loss: 0.3390 - val_accuracy: 0.8783\n",
      "Epoch 32/50\n",
      "8/8 [==============================] - 0s 51ms/step - loss: 0.2897 - accuracy: 0.8979 - val_loss: 0.3385 - val_accuracy: 0.8804\n",
      "Epoch 33/50\n",
      "8/8 [==============================] - 0s 51ms/step - loss: 0.2887 - accuracy: 0.8978 - val_loss: 0.3384 - val_accuracy: 0.8782\n",
      "Epoch 34/50\n",
      "8/8 [==============================] - 0s 51ms/step - loss: 0.2842 - accuracy: 0.8994 - val_loss: 0.3317 - val_accuracy: 0.8838\n",
      "Epoch 35/50\n",
      "8/8 [==============================] - 0s 51ms/step - loss: 0.2800 - accuracy: 0.8998 - val_loss: 0.3284 - val_accuracy: 0.8836\n",
      "Epoch 36/50\n",
      "8/8 [==============================] - 0s 50ms/step - loss: 0.2771 - accuracy: 0.9015 - val_loss: 0.3337 - val_accuracy: 0.8802\n",
      "Epoch 37/50\n",
      "8/8 [==============================] - 0s 52ms/step - loss: 0.2757 - accuracy: 0.9014 - val_loss: 0.3354 - val_accuracy: 0.8794\n",
      "Epoch 38/50\n",
      "8/8 [==============================] - 0s 52ms/step - loss: 0.2746 - accuracy: 0.9028 - val_loss: 0.3284 - val_accuracy: 0.8829\n",
      "Epoch 39/50\n",
      "8/8 [==============================] - 0s 60ms/step - loss: 0.2672 - accuracy: 0.9045 - val_loss: 0.3245 - val_accuracy: 0.8833\n",
      "Epoch 40/50\n",
      "8/8 [==============================] - 0s 52ms/step - loss: 0.2656 - accuracy: 0.9058 - val_loss: 0.3241 - val_accuracy: 0.8834\n",
      "Epoch 41/50\n",
      "8/8 [==============================] - 0s 51ms/step - loss: 0.2640 - accuracy: 0.9047 - val_loss: 0.3309 - val_accuracy: 0.8831\n",
      "Epoch 42/50\n",
      "8/8 [==============================] - 0s 51ms/step - loss: 0.2635 - accuracy: 0.9058 - val_loss: 0.3239 - val_accuracy: 0.8828\n",
      "Epoch 43/50\n",
      "8/8 [==============================] - 0s 50ms/step - loss: 0.2578 - accuracy: 0.9073 - val_loss: 0.3252 - val_accuracy: 0.8852\n",
      "Epoch 44/50\n",
      "8/8 [==============================] - 0s 55ms/step - loss: 0.2541 - accuracy: 0.9093 - val_loss: 0.3234 - val_accuracy: 0.8857\n",
      "Epoch 45/50\n",
      "8/8 [==============================] - 0s 50ms/step - loss: 0.2517 - accuracy: 0.9094 - val_loss: 0.3252 - val_accuracy: 0.8849\n",
      "Epoch 46/50\n",
      "8/8 [==============================] - 0s 51ms/step - loss: 0.2486 - accuracy: 0.9102 - val_loss: 0.3202 - val_accuracy: 0.8857\n",
      "Epoch 47/50\n",
      "8/8 [==============================] - 0s 50ms/step - loss: 0.2478 - accuracy: 0.9111 - val_loss: 0.3205 - val_accuracy: 0.8868\n",
      "Epoch 48/50\n",
      "8/8 [==============================] - 0s 54ms/step - loss: 0.2416 - accuracy: 0.9145 - val_loss: 0.3160 - val_accuracy: 0.8872\n",
      "Epoch 49/50\n",
      "8/8 [==============================] - 0s 53ms/step - loss: 0.2415 - accuracy: 0.9134 - val_loss: 0.3221 - val_accuracy: 0.8838\n",
      "Epoch 50/50\n",
      "8/8 [==============================] - 0s 49ms/step - loss: 0.2439 - accuracy: 0.9116 - val_loss: 0.3254 - val_accuracy: 0.8831\n"
     ]
    }
   ],
   "source": [
    "history = model.fit(train_images, train_labels, validation_split=0.2, epochs=50, batch_size=6000)"
   ]
  },
  {
   "cell_type": "code",
   "execution_count": 151,
   "metadata": {},
   "outputs": [
    {
     "name": "stdout",
     "output_type": "stream",
     "text": [
      "313/313 [==============================] - 1s 2ms/step\n"
     ]
    }
   ],
   "source": [
    "resul_test = model.predict(test_images)"
   ]
  },
  {
   "cell_type": "code",
   "execution_count": 152,
   "metadata": {},
   "outputs": [
    {
     "data": {
      "text/plain": [
       "array([[5.81633321e-06, 1.07922595e-07, 1.66583834e-06, ...,\n",
       "        1.15436539e-02, 1.19506447e-04, 9.84360754e-01],\n",
       "       [3.60739068e-05, 2.41269955e-08, 9.88896132e-01, ...,\n",
       "        3.31734884e-13, 8.89691080e-07, 2.31239724e-12],\n",
       "       [6.68359498e-05, 9.99929786e-01, 4.34658091e-07, ...,\n",
       "        1.55666827e-10, 5.20708774e-08, 2.36208058e-12],\n",
       "       ...,\n",
       "       [1.28618220e-03, 8.19568959e-06, 1.06944004e-04, ...,\n",
       "        8.90244792e-06, 9.97506797e-01, 2.48545295e-10],\n",
       "       [3.55078237e-06, 9.99676943e-01, 1.86766874e-06, ...,\n",
       "        3.96297146e-08, 4.25372605e-07, 8.11145640e-09],\n",
       "       [1.66444806e-04, 2.96688104e-05, 1.21206132e-04, ...,\n",
       "        1.55353490e-02, 1.09891361e-03, 1.03552644e-04]], dtype=float32)"
      ]
     },
     "execution_count": 152,
     "metadata": {},
     "output_type": "execute_result"
    }
   ],
   "source": [
    "resul_test"
   ]
  },
  {
   "cell_type": "code",
   "execution_count": 153,
   "metadata": {},
   "outputs": [
    {
     "name": "stdout",
     "output_type": "stream",
     "text": [
      "[7.1123052e-11 2.8888550e-10 1.2935664e-10 1.4896845e-09 8.4968207e-08\n",
      " 9.5679836e-12 1.6571073e-11 1.2178041e-09 9.9999988e-01 6.4502630e-14]\n"
     ]
    }
   ],
   "source": [
    "\n",
    "\n",
    "img_predict =resul_test[30]\n",
    "print(img_predict)"
   ]
  },
  {
   "cell_type": "code",
   "execution_count": 154,
   "metadata": {},
   "outputs": [
    {
     "name": "stdout",
     "output_type": "stream",
     "text": [
      "8\n"
     ]
    }
   ],
   "source": [
    "print(np.argmax(img_predict))"
   ]
  },
  {
   "cell_type": "code",
   "execution_count": 155,
   "metadata": {},
   "outputs": [
    {
     "data": {
      "image/png": "[encoded data removed]",
      "text/plain": [
       "<Figure size 640x480 with 1 Axes>"
      ]
     },
     "metadata": {},
     "output_type": "display_data"
    }
   ],
   "source": [
    "index = np.arange(len(class_names))\n",
    "plt.bar(index, img_predict)\n",
    "plt.ylabel('Confiabilidad', fontsize=15)\n",
    "plt.xticks(index, class_names, fontsize=15, rotation=90)\n",
    "plt.title('Predicciones')\n",
    "plt.show()"
   ]
  },
  {
   "cell_type": "code",
   "execution_count": 156,
   "metadata": {},
   "outputs": [
    {
     "ename": "TypeError",
     "evalue": "Invalid shape (784,) for image data",
     "output_type": "error",
     "traceback": [
      "\u001b[1;31m---------------------------------------------------------------------------\u001b[0m",
      "\u001b[1;31mTypeError\u001b[0m                                 Traceback (most recent call last)",
      "Cell \u001b[1;32mIn[156], line 2\u001b[0m\n\u001b[0;32m      1\u001b[0m plt\u001b[39m.\u001b[39mfigure()\n\u001b[1;32m----> 2\u001b[0m plt\u001b[39m.\u001b[39;49mimshow(test_images[\u001b[39m30\u001b[39;49m])\n\u001b[0;32m      3\u001b[0m plt\u001b[39m.\u001b[39mcolorbar()\n\u001b[0;32m      4\u001b[0m plt\u001b[39m.\u001b[39mgrid(\u001b[39mFalse\u001b[39;00m)\n",
      "File \u001b[1;32mc:\\Users\\calva\\AppData\\Local\\Programs\\Python\\Python310\\lib\\site-packages\\matplotlib\\_api\\deprecation.py:454\u001b[0m, in \u001b[0;36mmake_keyword_only.<locals>.wrapper\u001b[1;34m(*args, **kwargs)\u001b[0m\n\u001b[0;32m    448\u001b[0m \u001b[39mif\u001b[39;00m \u001b[39mlen\u001b[39m(args) \u001b[39m>\u001b[39m name_idx:\n\u001b[0;32m    449\u001b[0m     warn_deprecated(\n\u001b[0;32m    450\u001b[0m         since, message\u001b[39m=\u001b[39m\u001b[39m\"\u001b[39m\u001b[39mPassing the \u001b[39m\u001b[39m%(name)s\u001b[39;00m\u001b[39m \u001b[39m\u001b[39m%(obj_type)s\u001b[39;00m\u001b[39m \u001b[39m\u001b[39m\"\u001b[39m\n\u001b[0;32m    451\u001b[0m         \u001b[39m\"\u001b[39m\u001b[39mpositionally is deprecated since Matplotlib \u001b[39m\u001b[39m%(since)s\u001b[39;00m\u001b[39m; the \u001b[39m\u001b[39m\"\u001b[39m\n\u001b[0;32m    452\u001b[0m         \u001b[39m\"\u001b[39m\u001b[39mparameter will become keyword-only \u001b[39m\u001b[39m%(removal)s\u001b[39;00m\u001b[39m.\u001b[39m\u001b[39m\"\u001b[39m,\n\u001b[0;32m    453\u001b[0m         name\u001b[39m=\u001b[39mname, obj_type\u001b[39m=\u001b[39m\u001b[39mf\u001b[39m\u001b[39m\"\u001b[39m\u001b[39mparameter of \u001b[39m\u001b[39m{\u001b[39;00mfunc\u001b[39m.\u001b[39m\u001b[39m__name__\u001b[39m\u001b[39m}\u001b[39;00m\u001b[39m()\u001b[39m\u001b[39m\"\u001b[39m)\n\u001b[1;32m--> 454\u001b[0m \u001b[39mreturn\u001b[39;00m func(\u001b[39m*\u001b[39margs, \u001b[39m*\u001b[39m\u001b[39m*\u001b[39mkwargs)\n",
      "File \u001b[1;32mc:\\Users\\calva\\AppData\\Local\\Programs\\Python\\Python310\\lib\\site-packages\\matplotlib\\pyplot.py:2623\u001b[0m, in \u001b[0;36mimshow\u001b[1;34m(X, cmap, norm, aspect, interpolation, alpha, vmin, vmax, origin, extent, interpolation_stage, filternorm, filterrad, resample, url, data, **kwargs)\u001b[0m\n\u001b[0;32m   2617\u001b[0m \u001b[39m@_copy_docstring_and_deprecators\u001b[39m(Axes\u001b[39m.\u001b[39mimshow)\n\u001b[0;32m   2618\u001b[0m \u001b[39mdef\u001b[39;00m \u001b[39mimshow\u001b[39m(\n\u001b[0;32m   2619\u001b[0m         X, cmap\u001b[39m=\u001b[39m\u001b[39mNone\u001b[39;00m, norm\u001b[39m=\u001b[39m\u001b[39mNone\u001b[39;00m, aspect\u001b[39m=\u001b[39m\u001b[39mNone\u001b[39;00m, interpolation\u001b[39m=\u001b[39m\u001b[39mNone\u001b[39;00m,\n\u001b[0;32m   2620\u001b[0m         alpha\u001b[39m=\u001b[39m\u001b[39mNone\u001b[39;00m, vmin\u001b[39m=\u001b[39m\u001b[39mNone\u001b[39;00m, vmax\u001b[39m=\u001b[39m\u001b[39mNone\u001b[39;00m, origin\u001b[39m=\u001b[39m\u001b[39mNone\u001b[39;00m, extent\u001b[39m=\u001b[39m\u001b[39mNone\u001b[39;00m, \u001b[39m*\u001b[39m,\n\u001b[0;32m   2621\u001b[0m         interpolation_stage\u001b[39m=\u001b[39m\u001b[39mNone\u001b[39;00m, filternorm\u001b[39m=\u001b[39m\u001b[39mTrue\u001b[39;00m, filterrad\u001b[39m=\u001b[39m\u001b[39m4.0\u001b[39m,\n\u001b[0;32m   2622\u001b[0m         resample\u001b[39m=\u001b[39m\u001b[39mNone\u001b[39;00m, url\u001b[39m=\u001b[39m\u001b[39mNone\u001b[39;00m, data\u001b[39m=\u001b[39m\u001b[39mNone\u001b[39;00m, \u001b[39m*\u001b[39m\u001b[39m*\u001b[39mkwargs):\n\u001b[1;32m-> 2623\u001b[0m     __ret \u001b[39m=\u001b[39m gca()\u001b[39m.\u001b[39mimshow(\n\u001b[0;32m   2624\u001b[0m         X, cmap\u001b[39m=\u001b[39mcmap, norm\u001b[39m=\u001b[39mnorm, aspect\u001b[39m=\u001b[39maspect,\n\u001b[0;32m   2625\u001b[0m         interpolation\u001b[39m=\u001b[39minterpolation, alpha\u001b[39m=\u001b[39malpha, vmin\u001b[39m=\u001b[39mvmin,\n\u001b[0;32m   2626\u001b[0m         vmax\u001b[39m=\u001b[39mvmax, origin\u001b[39m=\u001b[39morigin, extent\u001b[39m=\u001b[39mextent,\n\u001b[0;32m   2627\u001b[0m         interpolation_stage\u001b[39m=\u001b[39minterpolation_stage,\n\u001b[0;32m   2628\u001b[0m         filternorm\u001b[39m=\u001b[39mfilternorm, filterrad\u001b[39m=\u001b[39mfilterrad, resample\u001b[39m=\u001b[39mresample,\n\u001b[0;32m   2629\u001b[0m         url\u001b[39m=\u001b[39murl, \u001b[39m*\u001b[39m\u001b[39m*\u001b[39m({\u001b[39m\"\u001b[39m\u001b[39mdata\u001b[39m\u001b[39m\"\u001b[39m: data} \u001b[39mif\u001b[39;00m data \u001b[39mis\u001b[39;00m \u001b[39mnot\u001b[39;00m \u001b[39mNone\u001b[39;00m \u001b[39melse\u001b[39;00m {}),\n\u001b[0;32m   2630\u001b[0m         \u001b[39m*\u001b[39m\u001b[39m*\u001b[39mkwargs)\n\u001b[0;32m   2631\u001b[0m     sci(__ret)\n\u001b[0;32m   2632\u001b[0m     \u001b[39mreturn\u001b[39;00m __ret\n",
      "File \u001b[1;32mc:\\Users\\calva\\AppData\\Local\\Programs\\Python\\Python310\\lib\\site-packages\\matplotlib\\_api\\deprecation.py:454\u001b[0m, in \u001b[0;36mmake_keyword_only.<locals>.wrapper\u001b[1;34m(*args, **kwargs)\u001b[0m\n\u001b[0;32m    448\u001b[0m \u001b[39mif\u001b[39;00m \u001b[39mlen\u001b[39m(args) \u001b[39m>\u001b[39m name_idx:\n\u001b[0;32m    449\u001b[0m     warn_deprecated(\n\u001b[0;32m    450\u001b[0m         since, message\u001b[39m=\u001b[39m\u001b[39m\"\u001b[39m\u001b[39mPassing the \u001b[39m\u001b[39m%(name)s\u001b[39;00m\u001b[39m \u001b[39m\u001b[39m%(obj_type)s\u001b[39;00m\u001b[39m \u001b[39m\u001b[39m\"\u001b[39m\n\u001b[0;32m    451\u001b[0m         \u001b[39m\"\u001b[39m\u001b[39mpositionally is deprecated since Matplotlib \u001b[39m\u001b[39m%(since)s\u001b[39;00m\u001b[39m; the \u001b[39m\u001b[39m\"\u001b[39m\n\u001b[0;32m    452\u001b[0m         \u001b[39m\"\u001b[39m\u001b[39mparameter will become keyword-only \u001b[39m\u001b[39m%(removal)s\u001b[39;00m\u001b[39m.\u001b[39m\u001b[39m\"\u001b[39m,\n\u001b[0;32m    453\u001b[0m         name\u001b[39m=\u001b[39mname, obj_type\u001b[39m=\u001b[39m\u001b[39mf\u001b[39m\u001b[39m\"\u001b[39m\u001b[39mparameter of \u001b[39m\u001b[39m{\u001b[39;00mfunc\u001b[39m.\u001b[39m\u001b[39m__name__\u001b[39m\u001b[39m}\u001b[39;00m\u001b[39m()\u001b[39m\u001b[39m\"\u001b[39m)\n\u001b[1;32m--> 454\u001b[0m \u001b[39mreturn\u001b[39;00m func(\u001b[39m*\u001b[39margs, \u001b[39m*\u001b[39m\u001b[39m*\u001b[39mkwargs)\n",
      "File \u001b[1;32mc:\\Users\\calva\\AppData\\Local\\Programs\\Python\\Python310\\lib\\site-packages\\matplotlib\\__init__.py:1423\u001b[0m, in \u001b[0;36m_preprocess_data.<locals>.inner\u001b[1;34m(ax, data, *args, **kwargs)\u001b[0m\n\u001b[0;32m   1420\u001b[0m \u001b[39m@functools\u001b[39m\u001b[39m.\u001b[39mwraps(func)\n\u001b[0;32m   1421\u001b[0m \u001b[39mdef\u001b[39;00m \u001b[39minner\u001b[39m(ax, \u001b[39m*\u001b[39margs, data\u001b[39m=\u001b[39m\u001b[39mNone\u001b[39;00m, \u001b[39m*\u001b[39m\u001b[39m*\u001b[39mkwargs):\n\u001b[0;32m   1422\u001b[0m     \u001b[39mif\u001b[39;00m data \u001b[39mis\u001b[39;00m \u001b[39mNone\u001b[39;00m:\n\u001b[1;32m-> 1423\u001b[0m         \u001b[39mreturn\u001b[39;00m func(ax, \u001b[39m*\u001b[39m\u001b[39mmap\u001b[39m(sanitize_sequence, args), \u001b[39m*\u001b[39m\u001b[39m*\u001b[39mkwargs)\n\u001b[0;32m   1425\u001b[0m     bound \u001b[39m=\u001b[39m new_sig\u001b[39m.\u001b[39mbind(ax, \u001b[39m*\u001b[39margs, \u001b[39m*\u001b[39m\u001b[39m*\u001b[39mkwargs)\n\u001b[0;32m   1426\u001b[0m     auto_label \u001b[39m=\u001b[39m (bound\u001b[39m.\u001b[39marguments\u001b[39m.\u001b[39mget(label_namer)\n\u001b[0;32m   1427\u001b[0m                   \u001b[39mor\u001b[39;00m bound\u001b[39m.\u001b[39mkwargs\u001b[39m.\u001b[39mget(label_namer))\n",
      "File \u001b[1;32mc:\\Users\\calva\\AppData\\Local\\Programs\\Python\\Python310\\lib\\site-packages\\matplotlib\\axes\\_axes.py:5604\u001b[0m, in \u001b[0;36mAxes.imshow\u001b[1;34m(self, X, cmap, norm, aspect, interpolation, alpha, vmin, vmax, origin, extent, interpolation_stage, filternorm, filterrad, resample, url, **kwargs)\u001b[0m\n\u001b[0;32m   5596\u001b[0m \u001b[39mself\u001b[39m\u001b[39m.\u001b[39mset_aspect(aspect)\n\u001b[0;32m   5597\u001b[0m im \u001b[39m=\u001b[39m mimage\u001b[39m.\u001b[39mAxesImage(\u001b[39mself\u001b[39m, cmap\u001b[39m=\u001b[39mcmap, norm\u001b[39m=\u001b[39mnorm,\n\u001b[0;32m   5598\u001b[0m                       interpolation\u001b[39m=\u001b[39minterpolation, origin\u001b[39m=\u001b[39morigin,\n\u001b[0;32m   5599\u001b[0m                       extent\u001b[39m=\u001b[39mextent, filternorm\u001b[39m=\u001b[39mfilternorm,\n\u001b[0;32m   5600\u001b[0m                       filterrad\u001b[39m=\u001b[39mfilterrad, resample\u001b[39m=\u001b[39mresample,\n\u001b[0;32m   5601\u001b[0m                       interpolation_stage\u001b[39m=\u001b[39minterpolation_stage,\n\u001b[0;32m   5602\u001b[0m                       \u001b[39m*\u001b[39m\u001b[39m*\u001b[39mkwargs)\n\u001b[1;32m-> 5604\u001b[0m im\u001b[39m.\u001b[39;49mset_data(X)\n\u001b[0;32m   5605\u001b[0m im\u001b[39m.\u001b[39mset_alpha(alpha)\n\u001b[0;32m   5606\u001b[0m \u001b[39mif\u001b[39;00m im\u001b[39m.\u001b[39mget_clip_path() \u001b[39mis\u001b[39;00m \u001b[39mNone\u001b[39;00m:\n\u001b[0;32m   5607\u001b[0m     \u001b[39m# image does not already have clipping set, clip to axes patch\u001b[39;00m\n",
      "File \u001b[1;32mc:\\Users\\calva\\AppData\\Local\\Programs\\Python\\Python310\\lib\\site-packages\\matplotlib\\image.py:710\u001b[0m, in \u001b[0;36m_ImageBase.set_data\u001b[1;34m(self, A)\u001b[0m\n\u001b[0;32m    706\u001b[0m     \u001b[39mself\u001b[39m\u001b[39m.\u001b[39m_A \u001b[39m=\u001b[39m \u001b[39mself\u001b[39m\u001b[39m.\u001b[39m_A[:, :, \u001b[39m0\u001b[39m]\n\u001b[0;32m    708\u001b[0m \u001b[39mif\u001b[39;00m \u001b[39mnot\u001b[39;00m (\u001b[39mself\u001b[39m\u001b[39m.\u001b[39m_A\u001b[39m.\u001b[39mndim \u001b[39m==\u001b[39m \u001b[39m2\u001b[39m\n\u001b[0;32m    709\u001b[0m         \u001b[39mor\u001b[39;00m \u001b[39mself\u001b[39m\u001b[39m.\u001b[39m_A\u001b[39m.\u001b[39mndim \u001b[39m==\u001b[39m \u001b[39m3\u001b[39m \u001b[39mand\u001b[39;00m \u001b[39mself\u001b[39m\u001b[39m.\u001b[39m_A\u001b[39m.\u001b[39mshape[\u001b[39m-\u001b[39m\u001b[39m1\u001b[39m] \u001b[39min\u001b[39;00m [\u001b[39m3\u001b[39m, \u001b[39m4\u001b[39m]):\n\u001b[1;32m--> 710\u001b[0m     \u001b[39mraise\u001b[39;00m \u001b[39mTypeError\u001b[39;00m(\u001b[39m\"\u001b[39m\u001b[39mInvalid shape \u001b[39m\u001b[39m{}\u001b[39;00m\u001b[39m for image data\u001b[39m\u001b[39m\"\u001b[39m\n\u001b[0;32m    711\u001b[0m                     \u001b[39m.\u001b[39mformat(\u001b[39mself\u001b[39m\u001b[39m.\u001b[39m_A\u001b[39m.\u001b[39mshape))\n\u001b[0;32m    713\u001b[0m \u001b[39mif\u001b[39;00m \u001b[39mself\u001b[39m\u001b[39m.\u001b[39m_A\u001b[39m.\u001b[39mndim \u001b[39m==\u001b[39m \u001b[39m3\u001b[39m:\n\u001b[0;32m    714\u001b[0m     \u001b[39m# If the input data has values outside the valid range (after\u001b[39;00m\n\u001b[0;32m    715\u001b[0m     \u001b[39m# normalisation), we issue a warning and then clip X to the bounds\u001b[39;00m\n\u001b[0;32m    716\u001b[0m     \u001b[39m# - otherwise casting wraps extreme values, hiding outliers and\u001b[39;00m\n\u001b[0;32m    717\u001b[0m     \u001b[39m# making reliable interpretation impossible.\u001b[39;00m\n\u001b[0;32m    718\u001b[0m     high \u001b[39m=\u001b[39m \u001b[39m255\u001b[39m \u001b[39mif\u001b[39;00m np\u001b[39m.\u001b[39missubdtype(\u001b[39mself\u001b[39m\u001b[39m.\u001b[39m_A\u001b[39m.\u001b[39mdtype, np\u001b[39m.\u001b[39minteger) \u001b[39melse\u001b[39;00m \u001b[39m1\u001b[39m\n",
      "\u001b[1;31mTypeError\u001b[0m: Invalid shape (784,) for image data"
     ]
    },
    {
     "data": {
      "image/png": "[encoded data removed]",
      "text/plain": [
       "<Figure size 640x480 with 1 Axes>"
      ]
     },
     "metadata": {},
     "output_type": "display_data"
    }
   ],
   "source": [
    "plt.figure()\n",
    "plt.imshow(test_images[30])\n",
    "plt.colorbar()\n",
    "plt.grid(False)\n",
    "plt.show()"
   ]
  }
 ],
 "metadata": {
  "kernelspec": {
   "display_name": "Python 3",
   "language": "python",
   "name": "python3"
  },
  "language_info": {
   "codemirror_mode": {
    "name": "ipython",
    "version": 3
   },
   "file_extension": ".py",
   "mimetype": "text/x-python",
   "name": "python",
   "nbconvert_exporter": "python",
   "pygments_lexer": "ipython3",
   "version": "3.10.8"
  },
  "orig_nbformat": 4
 },
 "nbformat": 4,
 "nbformat_minor": 2
}
