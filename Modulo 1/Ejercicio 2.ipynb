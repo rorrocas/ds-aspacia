{
 "cells": [
  {
   "cell_type": "markdown",
   "id": "31d9a42d",
   "metadata": {},
   "source": [
    "#### 1. Escribir un programa que almacene la cadena ¡Hola Mundo! en una variable y luego muestre por pantalla el contenido de la variable."
   ]
  },
  {
   "cell_type": "code",
   "execution_count": 2,
   "id": "ce4e987e",
   "metadata": {},
   "outputs": [],
   "source": [
    "def HolaMundo():\n",
    "    var = \"¡Hola Mundo!\"\n",
    "    print(var)"
   ]
  },
  {
   "cell_type": "code",
   "execution_count": 3,
   "id": "924fb836",
   "metadata": {},
   "outputs": [
    {
     "name": "stdout",
     "output_type": "stream",
     "text": [
      "¡Hola Mundo!\n"
     ]
    }
   ],
   "source": [
    "HolaMundo()"
   ]
  },
  {
   "cell_type": "markdown",
   "id": "0093efe7",
   "metadata": {},
   "source": [
    "#### 2. Escribir un programa que pregunte al usuario por el número de horas trabajadas y el pago por hora. Después debe mostrar por pantalla el pago que le corresponde."
   ]
  },
  {
   "cell_type": "code",
   "execution_count": 6,
   "id": "1fc9e1af",
   "metadata": {},
   "outputs": [],
   "source": [
    "def HorasTrabajadas():\n",
    "    horas = int(input(\"Numero de horas trabajadas:\"))\n",
    "    pago = int(input(\"Pago de la hora trabajada:\"))\n",
    "    print(\"Su sueldo es: \",horas*pago)"
   ]
  },
  {
   "cell_type": "code",
   "execution_count": 8,
   "id": "d1abbe1e",
   "metadata": {},
   "outputs": [
    {
     "name": "stdout",
     "output_type": "stream",
     "text": [
      "Numero de horas trabajadas:45\n",
      "Pago de la hora trabajada:15000\n",
      "Su sueldo es:  675000\n"
     ]
    }
   ],
   "source": [
    "HorasTrabajadas()"
   ]
  },
  {
   "cell_type": "markdown",
   "id": "dbd0c557",
   "metadata": {},
   "source": [
    "#### 3. Una panadería vende el pan a $1200 cada Kg. El pan que no es el día tiene un descuento del 60%. Escribe un programa que comience leyendo el número de Kilos vendidos que no son del día. Después tu programa debe mostrar el precio habitual del kilo de pan, el descuento que se le hace por no ser fresco y el costo final total."
   ]
  },
  {
   "cell_type": "code",
   "execution_count": 14,
   "id": "5efcb9f9",
   "metadata": {},
   "outputs": [],
   "source": [
    "def PanFresco():\n",
    "    precio_del_pan = 1200\n",
    "    descuento = 0.6\n",
    "    pan_con_descuento = int(input(f\"Ingrese la cantidad de kilos de pan del dia anterior vendidos hoy: \"))\n",
    "    precio_habitual = pan_con_descuento*precio_del_pan\n",
    "    descuento = precio_habitual*descuento\n",
    "    print(f\" Precio normal: {precio_habitual} \\n Descuento: {descuento} \\n Total: {precio_habitual - descuento}\")"
   ]
  },
  {
   "cell_type": "code",
   "execution_count": 15,
   "id": "03bdf83f",
   "metadata": {},
   "outputs": [
    {
     "name": "stdout",
     "output_type": "stream",
     "text": [
      "Ingrese la cantidad de kilos de pan del dia anterior vendidos hoy: 10\n",
      " Precio normal: 12000 \n",
      " Descuento: 7200.0 \n",
      " Total: 4800.0\n"
     ]
    }
   ],
   "source": [
    "PanFresco()"
   ]
  },
  {
   "cell_type": "markdown",
   "id": "3584f46f",
   "metadata": {},
   "source": [
    "#### 4. Dado el sueldo de un trabajador, aplique un aumento del 15% si su sueldo es inferior a $200.000. Imprima el resultado."
   ]
  },
  {
   "cell_type": "code",
   "execution_count": 24,
   "id": "669d9765",
   "metadata": {},
   "outputs": [],
   "source": [
    "def Aumento_de_sueldo():\n",
    "    sueldo = float(input(f\"Ingrese monto de su sueldo: \"))\n",
    "    aumento = 1.15\n",
    "    if sueldo < 200000:\n",
    "        print(f\"Su sueldo aumento a {sueldo*aumento:.2f}\")\n",
    "    else:\n",
    "        print(f\"Su sueldo se mantuvo en {sueldo}.\")"
   ]
  },
  {
   "cell_type": "code",
   "execution_count": 25,
   "id": "735d897f",
   "metadata": {},
   "outputs": [
    {
     "name": "stdout",
     "output_type": "stream",
     "text": [
      "Ingrese monto de su sueldo: 100000\n",
      "Su sueldo aumento a 115000.00\n"
     ]
    }
   ],
   "source": [
    "Aumento_de_sueldo()"
   ]
  },
  {
   "cell_type": "markdown",
   "id": "f210ba5d",
   "metadata": {},
   "source": [
    "#### 5. Se coloca un capital C, a un interés I (que oscila entre 0 y 100), durante M años y se desea saber en cuánto se habrá convertido ese capital en “M” años, sabiendo que es acumulativo."
   ]
  },
  {
   "cell_type": "code",
   "execution_count": 40,
   "id": "c77ae61b",
   "metadata": {},
   "outputs": [],
   "source": [
    "def Inversion():\n",
    "    C = float(input(f\"Ingrese cantidad de capital: \"))\n",
    "    I = -1\n",
    "    I = float(input(f\"Ingrese taza de interes: \"))\n",
    "    while I > 100 or I < 0:\n",
    "        I = float(input(\"Ingrese valor valido para la taza de interes (valor entre 0 y 100): \"))\n",
    "    M = int(input(f\"Ingrese cantidad de años de inversion: \"))\n",
    "    for i in range(M):\n",
    "        C = C + C*I/100\n",
    "    print(f\"Su capital despues de {M} años es: {C}\")\n",
    "    "
   ]
  },
  {
   "cell_type": "code",
   "execution_count": 41,
   "id": "ebfbd24e",
   "metadata": {},
   "outputs": [
    {
     "name": "stdout",
     "output_type": "stream",
     "text": [
      "Ingrese cantidad de capital: 100\n",
      "Ingrese taza de interes: -1\n",
      "Ingrese valor valido para la taza de interes (valor entre 0 y 100): 102\n",
      "Ingrese valor valido para la taza de interes (valor entre 0 y 100): 50\n",
      "Ingrese cantidad de años de inversion: 2\n",
      "Su capital despues de 2 años es: 225.0\n"
     ]
    }
   ],
   "source": [
    "Inversion()"
   ]
  },
  {
   "cell_type": "markdown",
   "id": "07853f26",
   "metadata": {},
   "source": [
    "#### 6. Escriba una función que muestre por pantalla el resultado de multiplicar un número por 10."
   ]
  },
  {
   "cell_type": "code",
   "execution_count": 42,
   "id": "d72d7da2",
   "metadata": {},
   "outputs": [],
   "source": [
    "def EnePorCien(n):\n",
    "    print(n*100)"
   ]
  },
  {
   "cell_type": "code",
   "execution_count": 43,
   "id": "91cc0157",
   "metadata": {},
   "outputs": [
    {
     "name": "stdout",
     "output_type": "stream",
     "text": [
      "9900\n"
     ]
    }
   ],
   "source": [
    "EnePorCien(99)"
   ]
  },
  {
   "cell_type": "markdown",
   "id": "880024a7",
   "metadata": {},
   "source": [
    "#### 7. Desarrolle un programa que pida la anchura y altura de un rectángulo y lo dibuje con caracteres producto (*)"
   ]
  },
  {
   "cell_type": "code",
   "execution_count": 44,
   "id": "dc5df019",
   "metadata": {},
   "outputs": [],
   "source": [
    "def DibujoRectangulo():\n",
    "    anchura = int(input(\"Ingrese anchura: \"))\n",
    "    altura = int(input(\"Ingrese altura: \"))\n",
    "    for i in range(altura):\n",
    "        print(\"*\"*anchura)"
   ]
  },
  {
   "cell_type": "code",
   "execution_count": 46,
   "id": "6d424188",
   "metadata": {},
   "outputs": [
    {
     "name": "stdout",
     "output_type": "stream",
     "text": [
      "Ingrese anchura: 10\n",
      "Ingrese altura: 3\n",
      "**********\n",
      "**********\n",
      "**********\n"
     ]
    }
   ],
   "source": [
    "DibujoRectangulo()"
   ]
  },
  {
   "cell_type": "markdown",
   "id": "3e92d683",
   "metadata": {},
   "source": [
    "#### 8. Escribir una función sum() y una función multip() que sumen y multipliquen respectivamente todos los números de una lista. Por ejemplo: sum([1,2,3,4]) debería devolver 10 y multip([1,2,3,4]) debería devolver 24."
   ]
  },
  {
   "cell_type": "code",
   "execution_count": 54,
   "id": "f1201356",
   "metadata": {},
   "outputs": [],
   "source": [
    "def sum(lista):\n",
    "    suma = 0\n",
    "    for i in lista:\n",
    "        suma += int(i)\n",
    "    return suma\n",
    "\n",
    "def multip(lista):\n",
    "    multip = 1\n",
    "    for i in lista:\n",
    "        multip *= int(i)\n",
    "    return multip"
   ]
  },
  {
   "cell_type": "code",
   "execution_count": 55,
   "id": "9111081d",
   "metadata": {},
   "outputs": [
    {
     "data": {
      "text/plain": [
       "10"
      ]
     },
     "execution_count": 55,
     "metadata": {},
     "output_type": "execute_result"
    }
   ],
   "source": [
    "sum([1,2,3,4])"
   ]
  },
  {
   "cell_type": "code",
   "execution_count": 56,
   "id": "bc6ec602",
   "metadata": {},
   "outputs": [
    {
     "data": {
      "text/plain": [
       "24"
      ]
     },
     "execution_count": 56,
     "metadata": {},
     "output_type": "execute_result"
    }
   ],
   "source": [
    "multip([1,2,3,4])"
   ]
  },
  {
   "cell_type": "markdown",
   "id": "dd24700e",
   "metadata": {},
   "source": [
    "#### 9. Crear una función que tome una lista de dígitos y devuelva al número al que corresponden. Por ejemplo [1,2,3] corresponde a el número ciento veintitrés (123) . (Puede utilizar la función reduce())"
   ]
  },
  {
   "cell_type": "code",
   "execution_count": 60,
   "id": "f5274780",
   "metadata": {},
   "outputs": [],
   "source": [
    "def SumaLiteral(lista):\n",
    "    string_aux = \"\"\n",
    "    for i in lista:\n",
    "        string_aux += str(i)\n",
    "    return int(string_aux)"
   ]
  },
  {
   "cell_type": "code",
   "execution_count": 61,
   "id": "8d74a7cd",
   "metadata": {},
   "outputs": [
    {
     "data": {
      "text/plain": [
       "123"
      ]
     },
     "execution_count": 61,
     "metadata": {},
     "output_type": "execute_result"
    }
   ],
   "source": [
    "SumaLiteral([1,2,3])"
   ]
  },
  {
   "cell_type": "code",
   "execution_count": 62,
   "id": "c656e284",
   "metadata": {},
   "outputs": [
    {
     "data": {
      "text/plain": [
       "693"
      ]
     },
     "execution_count": 62,
     "metadata": {},
     "output_type": "execute_result"
    }
   ],
   "source": [
    "SumaLiteral([6,9,3])"
   ]
  },
  {
   "cell_type": "markdown",
   "id": "c4881ad8",
   "metadata": {},
   "source": [
    "## Preguntas de desarrollo:"
   ]
  },
  {
   "cell_type": "markdown",
   "id": "d8c84551",
   "metadata": {},
   "source": [
    "- ¿Qué son las variables?\n",
    "\n",
    "    **R: Es una etiqueta que se le asigna a un valor para ser operado segun corresponda su tipo estos pueden ser: string, float, int o bool.**\n",
    "    \n",
    "\n",
    "- ¿Tipos de datos en Python?\n",
    "    \n",
    "    **R: string, float, int, list, set, dict o bool**\n",
    "    \n",
    "\n",
    "- ¿Que es Control de flujos?\n",
    "    \n",
    "    **R: Es el orden en que se ejecutan las instrucciones en un archivo de python, teniendo concideracion como si el codigo esta dentro una funcion, o dentro de una funcion \"Main\".**\n",
    "    "
   ]
  }
 ],
 "metadata": {
  "kernelspec": {
   "display_name": "Python 3 (ipykernel)",
   "language": "python",
   "name": "python3"
  },
  "language_info": {
   "codemirror_mode": {
    "name": "ipython",
    "version": 3
   },
   "file_extension": ".py",
   "mimetype": "text/x-python",
   "name": "python",
   "nbconvert_exporter": "python",
   "pygments_lexer": "ipython3",
   "version": "3.9.7"
  }
 },
 "nbformat": 4,
 "nbformat_minor": 5
}
