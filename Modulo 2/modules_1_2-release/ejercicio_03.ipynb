{
 "cells": [
  {
   "attachments": {},
   "cell_type": "markdown",
   "metadata": {},
   "source": [
    "# Lectura de archivos csv"
   ]
  },
  {
   "cell_type": "code",
   "execution_count": 20,
   "metadata": {},
   "outputs": [],
   "source": [
    "import pandas as pd"
   ]
  },
  {
   "cell_type": "code",
   "execution_count": 21,
   "metadata": {},
   "outputs": [
    {
     "data": {
      "text/html": [
       "<div>\n",
       "<style scoped>\n",
       "    .dataframe tbody tr th:only-of-type {\n",
       "        vertical-align: middle;\n",
       "    }\n",
       "\n",
       "    .dataframe tbody tr th {\n",
       "        vertical-align: top;\n",
       "    }\n",
       "\n",
       "    .dataframe thead th {\n",
       "        text-align: right;\n",
       "    }\n",
       "</style>\n",
       "<table border=\"1\" class=\"dataframe\">\n",
       "  <thead>\n",
       "    <tr style=\"text-align: right;\">\n",
       "      <th></th>\n",
       "      <th>LatD</th>\n",
       "      <th>\"LatM\"</th>\n",
       "      <th>\"LatS\"</th>\n",
       "      <th>\"NS\"</th>\n",
       "      <th>\"LonD\"</th>\n",
       "      <th>\"LonM\"</th>\n",
       "      <th>\"LonS\"</th>\n",
       "      <th>\"EW\"</th>\n",
       "      <th>\"City\"</th>\n",
       "      <th>\"State\"</th>\n",
       "    </tr>\n",
       "  </thead>\n",
       "  <tbody>\n",
       "    <tr>\n",
       "      <th>0</th>\n",
       "      <td>41</td>\n",
       "      <td>5</td>\n",
       "      <td>59</td>\n",
       "      <td>\"N\"</td>\n",
       "      <td>80</td>\n",
       "      <td>39</td>\n",
       "      <td>0</td>\n",
       "      <td>\"W\"</td>\n",
       "      <td>\"Youngstown\"</td>\n",
       "      <td>OH</td>\n",
       "    </tr>\n",
       "    <tr>\n",
       "      <th>1</th>\n",
       "      <td>42</td>\n",
       "      <td>52</td>\n",
       "      <td>48</td>\n",
       "      <td>\"N\"</td>\n",
       "      <td>97</td>\n",
       "      <td>23</td>\n",
       "      <td>23</td>\n",
       "      <td>\"W\"</td>\n",
       "      <td>\"Yankton\"</td>\n",
       "      <td>SD</td>\n",
       "    </tr>\n",
       "    <tr>\n",
       "      <th>2</th>\n",
       "      <td>46</td>\n",
       "      <td>35</td>\n",
       "      <td>59</td>\n",
       "      <td>\"N\"</td>\n",
       "      <td>120</td>\n",
       "      <td>30</td>\n",
       "      <td>36</td>\n",
       "      <td>\"W\"</td>\n",
       "      <td>\"Yakima\"</td>\n",
       "      <td>WA</td>\n",
       "    </tr>\n",
       "    <tr>\n",
       "      <th>3</th>\n",
       "      <td>42</td>\n",
       "      <td>16</td>\n",
       "      <td>12</td>\n",
       "      <td>\"N\"</td>\n",
       "      <td>71</td>\n",
       "      <td>48</td>\n",
       "      <td>0</td>\n",
       "      <td>\"W\"</td>\n",
       "      <td>\"Worcester\"</td>\n",
       "      <td>MA</td>\n",
       "    </tr>\n",
       "    <tr>\n",
       "      <th>4</th>\n",
       "      <td>43</td>\n",
       "      <td>37</td>\n",
       "      <td>48</td>\n",
       "      <td>\"N\"</td>\n",
       "      <td>89</td>\n",
       "      <td>46</td>\n",
       "      <td>11</td>\n",
       "      <td>\"W\"</td>\n",
       "      <td>\"Wisconsin Dells\"</td>\n",
       "      <td>WI</td>\n",
       "    </tr>\n",
       "  </tbody>\n",
       "</table>\n",
       "</div>"
      ],
      "text/plain": [
       "   LatD   \"LatM\"   \"LatS\"  \"NS\"   \"LonD\"   \"LonM\"   \"LonS\"  \"EW\"  \\\n",
       "0    41        5       59   \"N\"       80       39        0   \"W\"   \n",
       "1    42       52       48   \"N\"       97       23       23   \"W\"   \n",
       "2    46       35       59   \"N\"      120       30       36   \"W\"   \n",
       "3    42       16       12   \"N\"       71       48        0   \"W\"   \n",
       "4    43       37       48   \"N\"       89       46       11   \"W\"   \n",
       "\n",
       "               \"City\"  \"State\"  \n",
       "0        \"Youngstown\"       OH  \n",
       "1           \"Yankton\"       SD  \n",
       "2            \"Yakima\"       WA  \n",
       "3         \"Worcester\"       MA  \n",
       "4   \"Wisconsin Dells\"       WI  "
      ]
     },
     "execution_count": 21,
     "metadata": {},
     "output_type": "execute_result"
    }
   ],
   "source": [
    "ciudades_df = pd.read_csv('cities.csv')\n",
    "ciudades_df.head(5)"
   ]
  },
  {
   "cell_type": "code",
   "execution_count": 22,
   "metadata": {},
   "outputs": [
    {
     "data": {
      "text/plain": [
       "(128, 10)"
      ]
     },
     "execution_count": 22,
     "metadata": {},
     "output_type": "execute_result"
    }
   ],
   "source": [
    "ciudades_df.shape"
   ]
  },
  {
   "cell_type": "code",
   "execution_count": 23,
   "metadata": {},
   "outputs": [
    {
     "data": {
      "text/html": [
       "<div>\n",
       "<style scoped>\n",
       "    .dataframe tbody tr th:only-of-type {\n",
       "        vertical-align: middle;\n",
       "    }\n",
       "\n",
       "    .dataframe tbody tr th {\n",
       "        vertical-align: top;\n",
       "    }\n",
       "\n",
       "    .dataframe thead th {\n",
       "        text-align: right;\n",
       "    }\n",
       "</style>\n",
       "<table border=\"1\" class=\"dataframe\">\n",
       "  <thead>\n",
       "    <tr style=\"text-align: right;\">\n",
       "      <th></th>\n",
       "      <th>date[UT]</th>\n",
       "      <th>RA[hh:mm:ss]</th>\n",
       "      <th>DEC[dd:mm:ss]</th>\n",
       "    </tr>\n",
       "    <tr>\n",
       "      <th>satellite</th>\n",
       "      <th></th>\n",
       "      <th></th>\n",
       "      <th></th>\n",
       "    </tr>\n",
       "  </thead>\n",
       "  <tbody>\n",
       "    <tr>\n",
       "      <th>ONEWEB-0500-ID-0429</th>\n",
       "      <td>2022-09-12 09:13:00</td>\n",
       "      <td>00:00:03.39</td>\n",
       "      <td>-18:58:42.16</td>\n",
       "    </tr>\n",
       "    <tr>\n",
       "      <th>ONEWEB-0519-ID-0448</th>\n",
       "      <td>2022-09-12 09:15:00</td>\n",
       "      <td>23:09:05.64</td>\n",
       "      <td>-39:27:02.86</td>\n",
       "    </tr>\n",
       "    <tr>\n",
       "      <th>ONEWEB-0148-ID-0126</th>\n",
       "      <td>2022-09-12 09:17:00</td>\n",
       "      <td>01:40:09.69</td>\n",
       "      <td>-36:29:47.50</td>\n",
       "    </tr>\n",
       "    <tr>\n",
       "      <th>ONEWEB-0163-ID-0128</th>\n",
       "      <td>2022-09-12 09:17:00</td>\n",
       "      <td>01:01:08.84</td>\n",
       "      <td>-59:07:21.23</td>\n",
       "    </tr>\n",
       "    <tr>\n",
       "      <th>ONEWEB-0167-ID-0131</th>\n",
       "      <td>2022-09-12 09:17:00</td>\n",
       "      <td>02:16:35.43</td>\n",
       "      <td>+25:17:21.60</td>\n",
       "    </tr>\n",
       "  </tbody>\n",
       "</table>\n",
       "</div>"
      ],
      "text/plain": [
       "                                date[UT] RA[hh:mm:ss] DEC[dd:mm:ss]\n",
       "satellite                                                          \n",
       "ONEWEB-0500-ID-0429  2022-09-12 09:13:00  00:00:03.39  -18:58:42.16\n",
       "ONEWEB-0519-ID-0448  2022-09-12 09:15:00  23:09:05.64  -39:27:02.86\n",
       "ONEWEB-0148-ID-0126  2022-09-12 09:17:00  01:40:09.69  -36:29:47.50\n",
       "ONEWEB-0163-ID-0128  2022-09-12 09:17:00  01:01:08.84  -59:07:21.23\n",
       "ONEWEB-0167-ID-0131  2022-09-12 09:17:00  02:16:35.43  +25:17:21.60"
      ]
     },
     "execution_count": 23,
     "metadata": {},
     "output_type": "execute_result"
    }
   ],
   "source": [
    "satelites_df = pd.read_csv(\n",
    "    'observing-details.txt',\n",
    "    sep='\\t',\n",
    "    index_col='satellite',\n",
    ")\n",
    "satelites_df.head(5)"
   ]
  },
  {
   "cell_type": "code",
   "execution_count": 24,
   "metadata": {},
   "outputs": [
    {
     "data": {
      "text/plain": [
       "Index(['LatD', ' \"LatM\"', ' \"LatS\"', ' \"NS\"', ' \"LonD\"', ' \"LonM\"', ' \"LonS\"',\n",
       "       ' \"EW\"', ' \"City\"', ' \"State\"'],\n",
       "      dtype='object')"
      ]
     },
     "execution_count": 24,
     "metadata": {},
     "output_type": "execute_result"
    }
   ],
   "source": [
    "ciudades_df.columns"
   ]
  },
  {
   "cell_type": "code",
   "execution_count": 25,
   "metadata": {},
   "outputs": [],
   "source": [
    "# actualizar el nombre de las columnas a camelCase y borrar espacios y comillas dobles\n",
    "\n",
    "ciudades_df.columns = [nombre.replace(' ', '').replace('\"', '') for nombre in ciudades_df.columns]\n",
    "ciudades_df.columns = [nombre.lower() for nombre in ciudades_df.columns]"
   ]
  },
  {
   "cell_type": "code",
   "execution_count": 26,
   "metadata": {},
   "outputs": [
    {
     "data": {
      "text/plain": [
       "Index(['latd', 'latm', 'lats', 'ns', 'lond', 'lonm', 'lons', 'ew', 'city',\n",
       "       'state'],\n",
       "      dtype='object')"
      ]
     },
     "execution_count": 26,
     "metadata": {},
     "output_type": "execute_result"
    }
   ],
   "source": [
    "ciudades_df.columns"
   ]
  },
  {
   "cell_type": "code",
   "execution_count": 27,
   "metadata": {},
   "outputs": [
    {
     "data": {
      "text/plain": [
       "0            \"Youngstown\"\n",
       "1               \"Yankton\"\n",
       "2                \"Yakima\"\n",
       "3             \"Worcester\"\n",
       "4       \"Wisconsin Dells\"\n",
       "              ...        \n",
       "123                \"Reno\"\n",
       "124              \"Regina\"\n",
       "125           \"Red Bluff\"\n",
       "126             \"Reading\"\n",
       "127             \"Ravenna\"\n",
       "Name: city, Length: 128, dtype: object"
      ]
     },
     "execution_count": 27,
     "metadata": {},
     "output_type": "execute_result"
    }
   ],
   "source": [
    "ciudades_df['city']"
   ]
  },
  {
   "cell_type": "code",
   "execution_count": 28,
   "metadata": {},
   "outputs": [
    {
     "data": {
      "text/plain": [
       "0            \"Youngstown\"\n",
       "1               \"Yankton\"\n",
       "2                \"Yakima\"\n",
       "3             \"Worcester\"\n",
       "4       \"Wisconsin Dells\"\n",
       "              ...        \n",
       "123                \"Reno\"\n",
       "124              \"Regina\"\n",
       "125           \"Red Bluff\"\n",
       "126             \"Reading\"\n",
       "127             \"Ravenna\"\n",
       "Name: city, Length: 128, dtype: object"
      ]
     },
     "execution_count": 28,
     "metadata": {},
     "output_type": "execute_result"
    }
   ],
   "source": [
    "ciudades_df.city"
   ]
  },
  {
   "cell_type": "code",
   "execution_count": 29,
   "metadata": {},
   "outputs": [],
   "source": [
    "ciudades_df.to_csv('formateados_ciudades.csv', index=False)"
   ]
  },
  {
   "cell_type": "code",
   "execution_count": 30,
   "metadata": {},
   "outputs": [
    {
     "data": {
      "text/html": [
       "<div>\n",
       "<style scoped>\n",
       "    .dataframe tbody tr th:only-of-type {\n",
       "        vertical-align: middle;\n",
       "    }\n",
       "\n",
       "    .dataframe tbody tr th {\n",
       "        vertical-align: top;\n",
       "    }\n",
       "\n",
       "    .dataframe thead th {\n",
       "        text-align: right;\n",
       "    }\n",
       "</style>\n",
       "<table border=\"1\" class=\"dataframe\">\n",
       "  <thead>\n",
       "    <tr style=\"text-align: right;\">\n",
       "      <th></th>\n",
       "      <th>latd</th>\n",
       "      <th>latm</th>\n",
       "      <th>lats</th>\n",
       "      <th>ns</th>\n",
       "      <th>lond</th>\n",
       "      <th>lonm</th>\n",
       "      <th>lons</th>\n",
       "      <th>ew</th>\n",
       "      <th>city</th>\n",
       "      <th>state</th>\n",
       "    </tr>\n",
       "  </thead>\n",
       "  <tbody>\n",
       "    <tr>\n",
       "      <th>0</th>\n",
       "      <td>41</td>\n",
       "      <td>5</td>\n",
       "      <td>59</td>\n",
       "      <td>\"N\"</td>\n",
       "      <td>80</td>\n",
       "      <td>39</td>\n",
       "      <td>0</td>\n",
       "      <td>\"W\"</td>\n",
       "      <td>\"Youngstown\"</td>\n",
       "      <td>OH</td>\n",
       "    </tr>\n",
       "    <tr>\n",
       "      <th>1</th>\n",
       "      <td>42</td>\n",
       "      <td>52</td>\n",
       "      <td>48</td>\n",
       "      <td>\"N\"</td>\n",
       "      <td>97</td>\n",
       "      <td>23</td>\n",
       "      <td>23</td>\n",
       "      <td>\"W\"</td>\n",
       "      <td>\"Yankton\"</td>\n",
       "      <td>SD</td>\n",
       "    </tr>\n",
       "    <tr>\n",
       "      <th>2</th>\n",
       "      <td>46</td>\n",
       "      <td>35</td>\n",
       "      <td>59</td>\n",
       "      <td>\"N\"</td>\n",
       "      <td>120</td>\n",
       "      <td>30</td>\n",
       "      <td>36</td>\n",
       "      <td>\"W\"</td>\n",
       "      <td>\"Yakima\"</td>\n",
       "      <td>WA</td>\n",
       "    </tr>\n",
       "    <tr>\n",
       "      <th>3</th>\n",
       "      <td>42</td>\n",
       "      <td>16</td>\n",
       "      <td>12</td>\n",
       "      <td>\"N\"</td>\n",
       "      <td>71</td>\n",
       "      <td>48</td>\n",
       "      <td>0</td>\n",
       "      <td>\"W\"</td>\n",
       "      <td>\"Worcester\"</td>\n",
       "      <td>MA</td>\n",
       "    </tr>\n",
       "    <tr>\n",
       "      <th>4</th>\n",
       "      <td>43</td>\n",
       "      <td>37</td>\n",
       "      <td>48</td>\n",
       "      <td>\"N\"</td>\n",
       "      <td>89</td>\n",
       "      <td>46</td>\n",
       "      <td>11</td>\n",
       "      <td>\"W\"</td>\n",
       "      <td>\"Wisconsin Dells\"</td>\n",
       "      <td>WI</td>\n",
       "    </tr>\n",
       "    <tr>\n",
       "      <th>...</th>\n",
       "      <td>...</td>\n",
       "      <td>...</td>\n",
       "      <td>...</td>\n",
       "      <td>...</td>\n",
       "      <td>...</td>\n",
       "      <td>...</td>\n",
       "      <td>...</td>\n",
       "      <td>...</td>\n",
       "      <td>...</td>\n",
       "      <td>...</td>\n",
       "    </tr>\n",
       "    <tr>\n",
       "      <th>123</th>\n",
       "      <td>39</td>\n",
       "      <td>31</td>\n",
       "      <td>12</td>\n",
       "      <td>\"N\"</td>\n",
       "      <td>119</td>\n",
       "      <td>48</td>\n",
       "      <td>35</td>\n",
       "      <td>\"W\"</td>\n",
       "      <td>\"Reno\"</td>\n",
       "      <td>NV</td>\n",
       "    </tr>\n",
       "    <tr>\n",
       "      <th>124</th>\n",
       "      <td>50</td>\n",
       "      <td>25</td>\n",
       "      <td>11</td>\n",
       "      <td>\"N\"</td>\n",
       "      <td>104</td>\n",
       "      <td>39</td>\n",
       "      <td>0</td>\n",
       "      <td>\"W\"</td>\n",
       "      <td>\"Regina\"</td>\n",
       "      <td>SA</td>\n",
       "    </tr>\n",
       "    <tr>\n",
       "      <th>125</th>\n",
       "      <td>40</td>\n",
       "      <td>10</td>\n",
       "      <td>48</td>\n",
       "      <td>\"N\"</td>\n",
       "      <td>122</td>\n",
       "      <td>14</td>\n",
       "      <td>23</td>\n",
       "      <td>\"W\"</td>\n",
       "      <td>\"Red Bluff\"</td>\n",
       "      <td>CA</td>\n",
       "    </tr>\n",
       "    <tr>\n",
       "      <th>126</th>\n",
       "      <td>40</td>\n",
       "      <td>19</td>\n",
       "      <td>48</td>\n",
       "      <td>\"N\"</td>\n",
       "      <td>75</td>\n",
       "      <td>55</td>\n",
       "      <td>48</td>\n",
       "      <td>\"W\"</td>\n",
       "      <td>\"Reading\"</td>\n",
       "      <td>PA</td>\n",
       "    </tr>\n",
       "    <tr>\n",
       "      <th>127</th>\n",
       "      <td>41</td>\n",
       "      <td>9</td>\n",
       "      <td>35</td>\n",
       "      <td>\"N\"</td>\n",
       "      <td>81</td>\n",
       "      <td>14</td>\n",
       "      <td>23</td>\n",
       "      <td>\"W\"</td>\n",
       "      <td>\"Ravenna\"</td>\n",
       "      <td>OH</td>\n",
       "    </tr>\n",
       "  </tbody>\n",
       "</table>\n",
       "<p>128 rows × 10 columns</p>\n",
       "</div>"
      ],
      "text/plain": [
       "     latd  latm  lats    ns  lond  lonm  lons    ew                city state\n",
       "0      41     5    59   \"N\"    80    39     0   \"W\"        \"Youngstown\"    OH\n",
       "1      42    52    48   \"N\"    97    23    23   \"W\"           \"Yankton\"    SD\n",
       "2      46    35    59   \"N\"   120    30    36   \"W\"            \"Yakima\"    WA\n",
       "3      42    16    12   \"N\"    71    48     0   \"W\"         \"Worcester\"    MA\n",
       "4      43    37    48   \"N\"    89    46    11   \"W\"   \"Wisconsin Dells\"    WI\n",
       "..    ...   ...   ...   ...   ...   ...   ...   ...                 ...   ...\n",
       "123    39    31    12   \"N\"   119    48    35   \"W\"              \"Reno\"    NV\n",
       "124    50    25    11   \"N\"   104    39     0   \"W\"            \"Regina\"    SA\n",
       "125    40    10    48   \"N\"   122    14    23   \"W\"         \"Red Bluff\"    CA\n",
       "126    40    19    48   \"N\"    75    55    48   \"W\"           \"Reading\"    PA\n",
       "127    41     9    35   \"N\"    81    14    23   \"W\"           \"Ravenna\"   OH \n",
       "\n",
       "[128 rows x 10 columns]"
      ]
     },
     "execution_count": 30,
     "metadata": {},
     "output_type": "execute_result"
    }
   ],
   "source": [
    "ciudades_df"
   ]
  },
  {
   "cell_type": "code",
   "execution_count": 31,
   "metadata": {},
   "outputs": [
    {
     "data": {
      "text/plain": [
       "0       80\n",
       "1       97\n",
       "2      120\n",
       "3       71\n",
       "4       89\n",
       "      ... \n",
       "123    119\n",
       "124    104\n",
       "125    122\n",
       "126     75\n",
       "127     81\n",
       "Name: lond, Length: 128, dtype: int64"
      ]
     },
     "execution_count": 31,
     "metadata": {},
     "output_type": "execute_result"
    }
   ],
   "source": [
    "ciudades_df.lond"
   ]
  },
  {
   "cell_type": "code",
   "execution_count": 32,
   "metadata": {},
   "outputs": [
    {
     "name": "stderr",
     "output_type": "stream",
     "text": [
      "/tmp/ipykernel_25656/678453371.py:1: RuntimeWarning: divide by zero encountered in true_divide\n",
      "  ciudades_df['smilling'] = (ciudades_df.lond.to_numpy() + ciudades_df.latd.to_numpy())/ciudades_df.lonm.to_numpy()\n"
     ]
    }
   ],
   "source": [
    "ciudades_df['smilling'] = (ciudades_df.lond.to_numpy() + ciudades_df.latd.to_numpy())/ciudades_df.lonm.to_numpy()"
   ]
  },
  {
   "cell_type": "code",
   "execution_count": 33,
   "metadata": {},
   "outputs": [
    {
     "data": {
      "text/plain": [
       "count    128.000000\n",
       "mean            inf\n",
       "std             NaN\n",
       "min        1.982759\n",
       "25%        3.240572\n",
       "50%        5.144231\n",
       "75%        9.131222\n",
       "max             inf\n",
       "Name: smilling, dtype: float64"
      ]
     },
     "execution_count": 33,
     "metadata": {},
     "output_type": "execute_result"
    }
   ],
   "source": [
    "ciudades_df['smilling'].describe()"
   ]
  },
  {
   "cell_type": "code",
   "execution_count": 34,
   "metadata": {},
   "outputs": [
    {
     "data": {
      "text/plain": [
       "<AxesSubplot:xlabel='latd', ylabel='lond'>"
      ]
     },
     "execution_count": 34,
     "metadata": {},
     "output_type": "execute_result"
    },
    {
     "data": {
      "image/png": "[encoded data removed]",
      "text/plain": [
       "<Figure size 432x288 with 1 Axes>"
      ]
     },
     "metadata": {
      "needs_background": "light"
     },
     "output_type": "display_data"
    }
   ],
   "source": [
    "# scatter plot de latitud vs longitud con metodo de pandas\n",
    "\n",
    "ciudades_df.plot.scatter(x='latd', y='lond')"
   ]
  },
  {
   "cell_type": "code",
   "execution_count": 35,
   "metadata": {},
   "outputs": [
    {
     "data": {
      "text/plain": [
       "10    103\n",
       "11     77\n",
       "12     82\n",
       "13     98\n",
       "14     97\n",
       "15     80\n",
       "16     80\n",
       "17    120\n",
       "18    122\n",
       "19     82\n",
       "Name: lond, dtype: int64"
      ]
     },
     "execution_count": 35,
     "metadata": {},
     "output_type": "execute_result"
    }
   ],
   "source": [
    "ciudades_df.lond.iloc[10:20]"
   ]
  },
  {
   "cell_type": "code",
   "execution_count": 36,
   "metadata": {},
   "outputs": [
    {
     "data": {
      "text/plain": [
       "count    128.000000\n",
       "mean      27.742188\n",
       "std       16.927937\n",
       "min        0.000000\n",
       "25%       14.000000\n",
       "50%       26.500000\n",
       "75%       40.250000\n",
       "max       58.000000\n",
       "Name: lonm, dtype: float64"
      ]
     },
     "execution_count": 36,
     "metadata": {},
     "output_type": "execute_result"
    }
   ],
   "source": [
    "ciudades_df.lonm.describe()"
   ]
  },
  {
   "cell_type": "code",
   "execution_count": 37,
   "metadata": {},
   "outputs": [
    {
     "data": {
      "text/html": [
       "<div>\n",
       "<style scoped>\n",
       "    .dataframe tbody tr th:only-of-type {\n",
       "        vertical-align: middle;\n",
       "    }\n",
       "\n",
       "    .dataframe tbody tr th {\n",
       "        vertical-align: top;\n",
       "    }\n",
       "\n",
       "    .dataframe thead th {\n",
       "        text-align: right;\n",
       "    }\n",
       "</style>\n",
       "<table border=\"1\" class=\"dataframe\">\n",
       "  <thead>\n",
       "    <tr style=\"text-align: right;\">\n",
       "      <th></th>\n",
       "      <th>city</th>\n",
       "      <th>lonm</th>\n",
       "    </tr>\n",
       "  </thead>\n",
       "  <tbody>\n",
       "    <tr>\n",
       "      <th>5</th>\n",
       "      <td>\"Winston-Salem\"</td>\n",
       "      <td>15</td>\n",
       "    </tr>\n",
       "    <tr>\n",
       "      <th>6</th>\n",
       "      <td>\"Winnipeg\"</td>\n",
       "      <td>9</td>\n",
       "    </tr>\n",
       "    <tr>\n",
       "      <th>7</th>\n",
       "      <td>\"Winchester\"</td>\n",
       "      <td>9</td>\n",
       "    </tr>\n",
       "    <tr>\n",
       "      <th>11</th>\n",
       "      <td>\"Williamsport\"</td>\n",
       "      <td>0</td>\n",
       "    </tr>\n",
       "    <tr>\n",
       "      <th>12</th>\n",
       "      <td>\"Williamson\"</td>\n",
       "      <td>16</td>\n",
       "    </tr>\n",
       "  </tbody>\n",
       "</table>\n",
       "</div>"
      ],
      "text/plain": [
       "                city  lonm\n",
       "5    \"Winston-Salem\"    15\n",
       "6         \"Winnipeg\"     9\n",
       "7       \"Winchester\"     9\n",
       "11    \"Williamsport\"     0\n",
       "12      \"Williamson\"    16"
      ]
     },
     "execution_count": 37,
     "metadata": {},
     "output_type": "execute_result"
    }
   ],
   "source": [
    "mascara_longitud = ciudades_df.lonm < 20\n",
    "ciudades_df.loc[mascara_longitud, ['city', 'lonm']].head(5)"
   ]
  },
  {
   "cell_type": "code",
   "execution_count": 38,
   "metadata": {},
   "outputs": [
    {
     "data": {
      "text/plain": [
       "array([39, 23, 30, 48, 46])"
      ]
     },
     "execution_count": 38,
     "metadata": {},
     "output_type": "execute_result"
    }
   ],
   "source": [
    "lista = ciudades_df.lonm.to_numpy()\n",
    "lista[:5]"
   ]
  },
  {
   "cell_type": "code",
   "execution_count": 39,
   "metadata": {},
   "outputs": [
    {
     "data": {
      "text/html": [
       "<div>\n",
       "<style scoped>\n",
       "    .dataframe tbody tr th:only-of-type {\n",
       "        vertical-align: middle;\n",
       "    }\n",
       "\n",
       "    .dataframe tbody tr th {\n",
       "        vertical-align: top;\n",
       "    }\n",
       "\n",
       "    .dataframe thead th {\n",
       "        text-align: right;\n",
       "    }\n",
       "</style>\n",
       "<table border=\"1\" class=\"dataframe\">\n",
       "  <thead>\n",
       "    <tr style=\"text-align: right;\">\n",
       "      <th></th>\n",
       "      <th>Nombre,year,Consola,Calificacion,Tags(separados por</th>\n",
       "      <th>)</th>\n",
       "      <th>Unnamed: 2</th>\n",
       "      <th>Unnamed: 3</th>\n",
       "      <th>Unnamed: 4</th>\n",
       "    </tr>\n",
       "  </thead>\n",
       "  <tbody>\n",
       "    <tr>\n",
       "      <th>0</th>\n",
       "      <td>The Legend of Zelda,86,Famicom,Disk System,3.5...</td>\n",
       "      <td>Link</td>\n",
       "      <td>Zelda</td>\n",
       "      <td>Hyrule</td>\n",
       "      <td>Triforce</td>\n",
       "    </tr>\n",
       "    <tr>\n",
       "      <th>1</th>\n",
       "      <td>Double Dragon,87,Arcade,3.7,Beat-'em up</td>\n",
       "      <td>Billy</td>\n",
       "      <td>Jimmy</td>\n",
       "      <td>PuÃ±ete</td>\n",
       "      <td>NaN</td>\n",
       "    </tr>\n",
       "    <tr>\n",
       "      <th>2</th>\n",
       "      <td>The Legend of Zelda,88,NES,4.3,RPG</td>\n",
       "      <td>Link</td>\n",
       "      <td>Zelda</td>\n",
       "      <td>Hyrule</td>\n",
       "      <td>Triforce</td>\n",
       "    </tr>\n",
       "    <tr>\n",
       "      <th>3</th>\n",
       "      <td>Halo 5: Guardians,15,Xbox One,4,FPS</td>\n",
       "      <td>Master Chief</td>\n",
       "      <td>Cortana</td>\n",
       "      <td>Covenant</td>\n",
       "      <td>NaN</td>\n",
       "    </tr>\n",
       "    <tr>\n",
       "      <th>4</th>\n",
       "      <td>Curse of Ra,82,Commodore PET,3,RPG</td>\n",
       "      <td>adventure</td>\n",
       "      <td>Temple</td>\n",
       "      <td>Apshai</td>\n",
       "      <td>NaN</td>\n",
       "    </tr>\n",
       "  </tbody>\n",
       "</table>\n",
       "</div>"
      ],
      "text/plain": [
       "  Nombre,year,Consola,Calificacion,Tags(separados por              )  \\\n",
       "0  The Legend of Zelda,86,Famicom,Disk System,3.5...            Link   \n",
       "1            Double Dragon,87,Arcade,3.7,Beat-'em up           Billy   \n",
       "2                 The Legend of Zelda,88,NES,4.3,RPG            Link   \n",
       "3                Halo 5: Guardians,15,Xbox One,4,FPS    Master Chief   \n",
       "4                 Curse of Ra,82,Commodore PET,3,RPG       adventure   \n",
       "\n",
       "  Unnamed: 2 Unnamed: 3 Unnamed: 4  \n",
       "0      Zelda     Hyrule   Triforce  \n",
       "1      Jimmy    PuÃ±ete        NaN  \n",
       "2      Zelda     Hyrule   Triforce  \n",
       "3    Cortana   Covenant        NaN  \n",
       "4     Temple     Apshai        NaN  "
      ]
     },
     "execution_count": 39,
     "metadata": {},
     "output_type": "execute_result"
    }
   ],
   "source": [
    "juegos2_df = pd.read_csv('videojuegos2.csv')\n",
    "juegos2_df.head(5)"
   ]
  },
  {
   "cell_type": "code",
   "execution_count": 40,
   "metadata": {},
   "outputs": [],
   "source": [
    "with open('videojuegos2.csv', 'r') as archivo:\n",
    "\n",
    "    lineas = archivo.readlines()"
   ]
  },
  {
   "cell_type": "code",
   "execution_count": 41,
   "metadata": {},
   "outputs": [
    {
     "data": {
      "text/plain": [
       "['\"Nombre,year,Consola,Calificacion,Tags(separados por \",),,,\\n',\n",
       " '\"The Legend of Zelda,86,Famicom,Disk System,3.5,RPG\",Link,Zelda,Hyrule,Triforce\\n',\n",
       " '\"Double Dragon,87,Arcade,3.7,Beat-\\'em up\",Billy,Jimmy,PuÃ±ete,\\n',\n",
       " '\"The Legend of Zelda,88,NES,4.3,RPG\",Link,Zelda,Hyrule,Triforce\\n',\n",
       " '\"Halo 5: Guardians,15,Xbox One,4,FPS\",Master Chief,Cortana,Covenant,\\n']"
      ]
     },
     "execution_count": 41,
     "metadata": {},
     "output_type": "execute_result"
    }
   ],
   "source": [
    "lineas[:5]"
   ]
  },
  {
   "cell_type": "code",
   "execution_count": 42,
   "metadata": {},
   "outputs": [],
   "source": [
    "from utils import random_student"
   ]
  },
  {
   "cell_type": "code",
   "execution_count": 43,
   "metadata": {},
   "outputs": [
    {
     "data": {
      "text/plain": [
       "'Alexis Bacian'"
      ]
     },
     "execution_count": 43,
     "metadata": {},
     "output_type": "execute_result"
    }
   ],
   "source": [
    "random_student()"
   ]
  },
  {
   "cell_type": "code",
   "execution_count": 44,
   "metadata": {},
   "outputs": [
    {
     "name": "stdout",
     "output_type": "stream",
     "text": [
      "\"Nombre,year,Consola,Calificacion,Tags(separados por \",),,,\n",
      "\n",
      "['', 'Nombre,year,Consola,Calificacion,Tags(separados por ', ',),,,\\n']\n",
      "\"The Legend of Zelda,86,Famicom,Disk System,3.5,RPG\",Link,Zelda,Hyrule,Triforce\n",
      "\n",
      "['', 'The Legend of Zelda,86,Famicom,Disk System,3.5,RPG', ',Link,Zelda,Hyrule,Triforce\\n']\n",
      "\"Double Dragon,87,Arcade,3.7,Beat-'em up\",Billy,Jimmy,PuÃ±ete,\n",
      "\n",
      "['', \"Double Dragon,87,Arcade,3.7,Beat-'em up\", ',Billy,Jimmy,PuÃ±ete,\\n']\n",
      "\"The Legend of Zelda,88,NES,4.3,RPG\",Link,Zelda,Hyrule,Triforce\n",
      "\n",
      "['', 'The Legend of Zelda,88,NES,4.3,RPG', ',Link,Zelda,Hyrule,Triforce\\n']\n",
      "\"Halo 5: Guardians,15,Xbox One,4,FPS\",Master Chief,Cortana,Covenant,\n",
      "\n",
      "['', 'Halo 5: Guardians,15,Xbox One,4,FPS', ',Master Chief,Cortana,Covenant,\\n']\n",
      "\"Curse of Ra,82,Commodore PET,3,RPG\",adventure,Temple,Apshai,\n",
      "\n",
      "['', 'Curse of Ra,82,Commodore PET,3,RPG', ',adventure,Temple,Apshai,\\n']\n",
      "\"Battlefield 1,16,Xbox One,4.8,FPS\",WWI,,,\n",
      "\n",
      "['', 'Battlefield 1,16,Xbox One,4.8,FPS', ',WWI,,,\\n']\n"
     ]
    }
   ],
   "source": [
    "for linea in lineas:\n",
    "\n",
    "    print(linea)\n",
    "\n",
    "    print(linea.split('\"'))"
   ]
  },
  {
   "cell_type": "code",
   "execution_count": 45,
   "metadata": {},
   "outputs": [
    {
     "data": {
      "text/plain": [
       "[',),,,\\n',\n",
       " ',Link,Zelda,Hyrule,Triforce\\n',\n",
       " ',Billy,Jimmy,PuÃ±ete,\\n',\n",
       " ',Link,Zelda,Hyrule,Triforce\\n',\n",
       " ',Master Chief,Cortana,Covenant,\\n',\n",
       " ',adventure,Temple,Apshai,\\n',\n",
       " ',WWI,,,\\n']"
      ]
     },
     "execution_count": 45,
     "metadata": {},
     "output_type": "execute_result"
    }
   ],
   "source": [
    "tags = []\n",
    "\n",
    "for linea in lineas:\n",
    "    \n",
    "    tags.append(linea.split('\"')[-1])\n",
    "\n",
    "tags"
   ]
  },
  {
   "cell_type": "code",
   "execution_count": 46,
   "metadata": {},
   "outputs": [],
   "source": [
    "tags = [tag.strip(',') for tag in tags]\n",
    "tags = [tag.strip('\\n') for tag in tags]\n",
    "tags[0] = 'Tag'"
   ]
  },
  {
   "cell_type": "code",
   "execution_count": 47,
   "metadata": {},
   "outputs": [
    {
     "data": {
      "text/plain": [
       "['Tag',\n",
       " 'Link,Zelda,Hyrule,Triforce',\n",
       " 'Billy,Jimmy,PuÃ±ete,',\n",
       " 'Link,Zelda,Hyrule,Triforce',\n",
       " 'Master Chief,Cortana,Covenant,',\n",
       " 'adventure,Temple,Apshai,',\n",
       " 'WWI,,,']"
      ]
     },
     "execution_count": 47,
     "metadata": {},
     "output_type": "execute_result"
    }
   ],
   "source": [
    "tags"
   ]
  },
  {
   "cell_type": "code",
   "execution_count": 48,
   "metadata": {},
   "outputs": [
    {
     "data": {
      "text/plain": [
       "[['Nombre', 'year', 'Consola', 'Calificacion', 'Tags(separados por '],\n",
       " ['The Legend of Zelda', '86', 'Famicom', 'Disk System', '3.5', 'RPG'],\n",
       " ['Double Dragon', '87', 'Arcade', '3.7', \"Beat-'em up\"],\n",
       " ['The Legend of Zelda', '88', 'NES', '4.3', 'RPG'],\n",
       " ['Halo 5: Guardians', '15', 'Xbox One', '4', 'FPS'],\n",
       " ['Curse of Ra', '82', 'Commodore PET', '3', 'RPG'],\n",
       " ['Battlefield 1', '16', 'Xbox One', '4.8', 'FPS']]"
      ]
     },
     "execution_count": 48,
     "metadata": {},
     "output_type": "execute_result"
    }
   ],
   "source": [
    "columnas = []\n",
    "for linea in lineas:\n",
    "\n",
    "    columna = linea.split('\"')[1]\n",
    "\n",
    "    columnas.append(columna.split(','))\n",
    "\n",
    "columnas"
   ]
  },
  {
   "cell_type": "code",
   "execution_count": 49,
   "metadata": {},
   "outputs": [
    {
     "data": {
      "text/plain": [
       "['Tag',\n",
       " 'Link,Zelda,Hyrule,Triforce, RPG',\n",
       " \"Billy,Jimmy,PuÃ±ete,, Beat-'em up\",\n",
       " 'Link,Zelda,Hyrule,Triforce, RPG',\n",
       " 'Master Chief,Cortana,Covenant,, FPS',\n",
       " 'adventure,Temple,Apshai,, RPG',\n",
       " 'WWI,,,, FPS']"
      ]
     },
     "execution_count": 49,
     "metadata": {},
     "output_type": "execute_result"
    }
   ],
   "source": [
    "for idx, columna in enumerate(columnas):\n",
    "\n",
    "    if idx == 0:\n",
    "        continue\n",
    "\n",
    "    tag = columna[-1]\n",
    "    tags[idx] = f\"{tags[idx]}, {tag}\"\n",
    "\n",
    "tags"
   ]
  },
  {
   "cell_type": "code",
   "execution_count": 50,
   "metadata": {},
   "outputs": [],
   "source": [
    "nombre = []\n",
    "year = []\n",
    "consola = []\n",
    "calificacion = []\n",
    "\n",
    "for columna in columnas:\n",
    "\n",
    "    nombre.append(columna[0])\n",
    "    year.append(columna[1])\n",
    "    consola.append(columna[2])\n",
    "    calificacion.append(columna[3])\n"
   ]
  },
  {
   "cell_type": "code",
   "execution_count": 51,
   "metadata": {},
   "outputs": [],
   "source": [
    "datos = {\n",
    "    'nombre': nombre[1:],\n",
    "    'year': year[1:],\n",
    "    'consola': consola[1:],\n",
    "    'calificacion': calificacion[1:],\n",
    "    'tags': tags[1:],\n",
    "}\n",
    "\n",
    "df = pd.DataFrame(datos)"
   ]
  },
  {
   "cell_type": "code",
   "execution_count": 52,
   "metadata": {},
   "outputs": [
    {
     "data": {
      "text/html": [
       "<div>\n",
       "<style scoped>\n",
       "    .dataframe tbody tr th:only-of-type {\n",
       "        vertical-align: middle;\n",
       "    }\n",
       "\n",
       "    .dataframe tbody tr th {\n",
       "        vertical-align: top;\n",
       "    }\n",
       "\n",
       "    .dataframe thead th {\n",
       "        text-align: right;\n",
       "    }\n",
       "</style>\n",
       "<table border=\"1\" class=\"dataframe\">\n",
       "  <thead>\n",
       "    <tr style=\"text-align: right;\">\n",
       "      <th></th>\n",
       "      <th>nombre</th>\n",
       "      <th>year</th>\n",
       "      <th>consola</th>\n",
       "      <th>calificacion</th>\n",
       "      <th>tags</th>\n",
       "    </tr>\n",
       "  </thead>\n",
       "  <tbody>\n",
       "    <tr>\n",
       "      <th>0</th>\n",
       "      <td>The Legend of Zelda</td>\n",
       "      <td>86</td>\n",
       "      <td>Famicom</td>\n",
       "      <td>Disk System</td>\n",
       "      <td>Link,Zelda,Hyrule,Triforce, RPG</td>\n",
       "    </tr>\n",
       "    <tr>\n",
       "      <th>1</th>\n",
       "      <td>Double Dragon</td>\n",
       "      <td>87</td>\n",
       "      <td>Arcade</td>\n",
       "      <td>3.7</td>\n",
       "      <td>Billy,Jimmy,PuÃ±ete,, Beat-'em up</td>\n",
       "    </tr>\n",
       "    <tr>\n",
       "      <th>2</th>\n",
       "      <td>The Legend of Zelda</td>\n",
       "      <td>88</td>\n",
       "      <td>NES</td>\n",
       "      <td>4.3</td>\n",
       "      <td>Link,Zelda,Hyrule,Triforce, RPG</td>\n",
       "    </tr>\n",
       "    <tr>\n",
       "      <th>3</th>\n",
       "      <td>Halo 5: Guardians</td>\n",
       "      <td>15</td>\n",
       "      <td>Xbox One</td>\n",
       "      <td>4</td>\n",
       "      <td>Master Chief,Cortana,Covenant,, FPS</td>\n",
       "    </tr>\n",
       "    <tr>\n",
       "      <th>4</th>\n",
       "      <td>Curse of Ra</td>\n",
       "      <td>82</td>\n",
       "      <td>Commodore PET</td>\n",
       "      <td>3</td>\n",
       "      <td>adventure,Temple,Apshai,, RPG</td>\n",
       "    </tr>\n",
       "    <tr>\n",
       "      <th>5</th>\n",
       "      <td>Battlefield 1</td>\n",
       "      <td>16</td>\n",
       "      <td>Xbox One</td>\n",
       "      <td>4.8</td>\n",
       "      <td>WWI,,,, FPS</td>\n",
       "    </tr>\n",
       "  </tbody>\n",
       "</table>\n",
       "</div>"
      ],
      "text/plain": [
       "                nombre year        consola calificacion  \\\n",
       "0  The Legend of Zelda   86        Famicom  Disk System   \n",
       "1        Double Dragon   87         Arcade          3.7   \n",
       "2  The Legend of Zelda   88            NES          4.3   \n",
       "3    Halo 5: Guardians   15       Xbox One            4   \n",
       "4          Curse of Ra   82  Commodore PET            3   \n",
       "5        Battlefield 1   16       Xbox One          4.8   \n",
       "\n",
       "                                  tags  \n",
       "0      Link,Zelda,Hyrule,Triforce, RPG  \n",
       "1    Billy,Jimmy,PuÃ±ete,, Beat-'em up  \n",
       "2      Link,Zelda,Hyrule,Triforce, RPG  \n",
       "3  Master Chief,Cortana,Covenant,, FPS  \n",
       "4        adventure,Temple,Apshai,, RPG  \n",
       "5                          WWI,,,, FPS  "
      ]
     },
     "execution_count": 52,
     "metadata": {},
     "output_type": "execute_result"
    }
   ],
   "source": [
    "df"
   ]
  },
  {
   "cell_type": "code",
   "execution_count": 53,
   "metadata": {},
   "outputs": [],
   "source": [
    "df.calificacion.iloc[0] = 3.5"
   ]
  },
  {
   "cell_type": "code",
   "execution_count": 57,
   "metadata": {},
   "outputs": [],
   "source": [
    "df.to_csv('mucha_pega.csv', sep='\\t', index=False)"
   ]
  },
  {
   "cell_type": "code",
   "execution_count": null,
   "metadata": {},
   "outputs": [],
   "source": []
  }
 ],
 "metadata": {
  "kernelspec": {
   "display_name": "Python 3",
   "language": "python",
   "name": "python3"
  },
  "language_info": {
   "codemirror_mode": {
    "name": "ipython",
    "version": 3
   },
   "file_extension": ".py",
   "mimetype": "text/x-python",
   "name": "python",
   "nbconvert_exporter": "python",
   "pygments_lexer": "ipython3",
   "version": "3.10.6"
  },
  "orig_nbformat": 4
 },
 "nbformat": 4,
 "nbformat_minor": 2
}
