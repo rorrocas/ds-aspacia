{
 "cells": [
  {
   "attachments": {},
   "cell_type": "markdown",
   "metadata": {},
   "source": [
    "## Actividad Final Modulo 1"
   ]
  },
  {
   "cell_type": "code",
   "execution_count": 13,
   "metadata": {},
   "outputs": [],
   "source": [
    "# Funcion que recive el string de una cancion en notacion americana y la convierte en la posicion de la nota en un piano como un arreglo.\n",
    "def teclanum(cancion):\n",
    "    #Se ocupa un diccionario para realizar la conversion\n",
    "    teclado = {\n",
    "        \"C\":\"1\",\n",
    "        \"C#\":\"2\",\n",
    "        \"D\":\"3\",\n",
    "        \"D#\":\"4\",\n",
    "        \"E\":\"5\",\n",
    "        \"F\":\"6\",\n",
    "        \"F#\":\"7\",\n",
    "        \"G\":\"8\",\n",
    "        \"G#\":\"9\",\n",
    "        \"A\":\"10\",\n",
    "        \"A#\":\"11\",\n",
    "        \"B\":\"12\"\n",
    "    }\n",
    "    cancion_trans = []\n",
    "    #Se lee cada elemento en el string par aingresar la transformacion a un array\n",
    "    for i in cancion:\n",
    "        #En caso de ser '#' se saca el ultimo elemento ingresado al array y se vuelve a ingresar sumando +1 a la posicion\n",
    "        if i == \"#\":\n",
    "            ultimo_registro = cancion_trans.pop()\n",
    "            cancion_trans.append(ultimo_registro+1)\n",
    "        else:\n",
    "            cancion_trans.append(int(teclado[i]))\n",
    "    return cancion_trans\n"
   ]
  },
  {
   "cell_type": "code",
   "execution_count": 14,
   "metadata": {},
   "outputs": [
    {
     "data": {
      "text/plain": [
       "[5, 6, 8, 8, 10, 12, 1, 3, 2, 10]"
      ]
     },
     "execution_count": 14,
     "metadata": {},
     "output_type": "execute_result"
    }
   ],
   "source": [
    "cancion = \"EFGGABCDC#A\"\n",
    "teclanum(cancion)"
   ]
  },
  {
   "attachments": {},
   "cell_type": "markdown",
   "metadata": {},
   "source": [
    "## Preguntas de la actividad"
   ]
  },
  {
   "attachments": {},
   "cell_type": "markdown",
   "metadata": {},
   "source": [
    "- ¿Conocemos los fundamentos de Python?\n",
    "    \n",
    "    **R:Los fundamento basicos de python son las variables y el tipo de variable para este caso se ocuparon int, str, list y dic.**\n",
    "\n",
    "    **Los operadores aritmeticos en este caso se usa la suma pero tambien se puede usar resta, multiplicacion o division.**\n",
    "\n",
    "    **Las estructuras de datos como for o if.**\n",
    "\n",
    "    **Las funciones y sus respectivas entradas y salidas**\n",
    "    \n",
    "- ¿Sabemos trabajar con funciones?\n",
    "\n",
    "    **R:Si, las funciones son segmentos de codigo comunmente reutilizables que puedes o no recivir parametros para trabajarlos segun sean programados y retornar o mostrar ciertos valores segun la necesidad del programador.**\n",
    "- ¿Sabemos trabajar con arreglos y/o vectores?\n",
    "\n",
    "    **R:Si, para estre trabajo hay que tener en consideracion las funciones pop() y append() de los arreglos en este caso pop() es usado para extraer el ultimo elemento del arreglo y append para agregar un elementos a la ultima posicion del arreglo**"
   ]
  }
 ],
 "metadata": {
  "kernelspec": {
   "display_name": "Python 3",
   "language": "python",
   "name": "python3"
  },
  "language_info": {
   "codemirror_mode": {
    "name": "ipython",
    "version": 3
   },
   "file_extension": ".py",
   "mimetype": "text/x-python",
   "name": "python",
   "nbconvert_exporter": "python",
   "pygments_lexer": "ipython3",
   "version": "3.11.1"
  },
  "orig_nbformat": 4
 },
 "nbformat": 4,
 "nbformat_minor": 2
}
