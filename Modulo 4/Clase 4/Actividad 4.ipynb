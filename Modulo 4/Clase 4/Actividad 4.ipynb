{
 "cells": [
  {
   "attachments": {},
   "cell_type": "markdown",
   "metadata": {},
   "source": [
    "### Actividad 4"
   ]
  },
  {
   "attachments": {},
   "cell_type": "markdown",
   "metadata": {},
   "source": [
    "### Caso 1\n",
    "**Para estimar la proporción de habitantes de una ciudad que poseen ordenador  personal se toma una muestra de tamaño n. Calcula el valor mínimo de n para  garantizar, con un nivel de confianza del 95 %, que el error de estimación no  supera el 2 %. (Como se desconoce la proporción, se hará a partir del caso más  desfavorable, que será 0,5)**"
   ]
  },
  {
   "cell_type": "code",
   "execution_count": 1,
   "metadata": {},
   "outputs": [
    {
     "data": {
      "text/plain": [
       "2400.9999999999995"
      ]
     },
     "execution_count": 1,
     "metadata": {},
     "output_type": "execute_result"
    }
   ],
   "source": [
    "# n = ((Z^(2))*p*q) / (E^(2))\n",
    "#Z = 95% = 1.96\n",
    "\n",
    "Z= 1.96\n",
    "p = 0.5\n",
    "q = 0.5\n",
    "E = 0.02\n",
    "\n",
    "n = ((1.96**2)*0.5*0.5)/(0.02**(2))\n",
    "n"
   ]
  },
  {
   "attachments": {},
   "cell_type": "markdown",
   "metadata": {},
   "source": [
    "**R: Debe tomarse una muestra de 2401 para asegurar un error de estimacion no mayor a 2% con un 95% de nivel de confianza**"
   ]
  },
  {
   "attachments": {},
   "cell_type": "markdown",
   "metadata": {},
   "source": [
    "### Caso 2\n",
    "**Un fabricante de electrodomésticos sabe que la vida media de estos sigue una  distribución  normal  con  media   100   meses  y  desviación  típica   12   meses. Determina  el  mínimo  tamaño  muestral  que  garantiza,  con  una  probabilidad de   0,98,   que  la  vida  media  de  los  electrodomésticos  en  dicha  muestra  se encuentre entre  90  y  100  meses.**"
   ]
  },
  {
   "attachments": {},
   "cell_type": "markdown",
   "metadata": {},
   "source": [
    "media = 100\n",
    "\n",
    "desviacion = 12\n",
    "\n",
    "probabilidad = 0.98 => Z_a = 2.33\n",
    "\n",
    "intervalo = [90 < x < 100]"
   ]
  },
  {
   "cell_type": "code",
   "execution_count": 15,
   "metadata": {},
   "outputs": [
    {
     "data": {
      "text/plain": [
       "7.817616000000002"
      ]
     },
     "execution_count": 15,
     "metadata": {},
     "output_type": "execute_result"
    }
   ],
   "source": [
    "# 2.33*(12/sqrt(n)) < 10\n",
    "\n",
    "# 2.33*12 < 10*sqrt(n)\n",
    "\n",
    "n = ((2.33*12)/10)**2\n",
    "n"
   ]
  },
  {
   "attachments": {},
   "cell_type": "markdown",
   "metadata": {},
   "source": [
    "### Caso 3 \n",
    "**Se desea obtener la media  de una variable aleatoria que se distribuye normalmente con una desviación típica de 3,2. Para ello se toma una muestra \n",
    "de 64 individuos obteniéndose una media de 32,5.**\n",
    "\n",
    "- a)  ¿Con  qué  nivel  de  confianza  se  puede  afirmar  que  la  media  de  la  \n",
    "población está entre 31,5 y 33,5? "
   ]
  },
  {
   "cell_type": "code",
   "execution_count": 2,
   "metadata": {},
   "outputs": [
    {
     "ename": "AttributeError",
     "evalue": "module 'math' has no attribute 'erfinv'",
     "output_type": "error",
     "traceback": [
      "\u001b[1;31m---------------------------------------------------------------------------\u001b[0m",
      "\u001b[1;31mAttributeError\u001b[0m                            Traceback (most recent call last)",
      "\u001b[1;32md:\\Repositorios\\ds-aspacia\\Modulo 4\\Clase 4\\Actividad 4.ipynb Celda 9\u001b[0m in \u001b[0;36m<cell line: 16>\u001b[1;34m()\u001b[0m\n\u001b[0;32m     <a href='vscode-notebook-cell:/d%3A/Repositorios/ds-aspacia/Modulo%204/Clase%204/Actividad%204.ipynb#X10sZmlsZQ%3D%3D?line=12'>13</a>\u001b[0m conf_level \u001b[39m=\u001b[39m \u001b[39m0.95\u001b[39m\n\u001b[0;32m     <a href='vscode-notebook-cell:/d%3A/Repositorios/ds-aspacia/Modulo%204/Clase%204/Actividad%204.ipynb#X10sZmlsZQ%3D%3D?line=14'>15</a>\u001b[0m \u001b[39m#### Valor crítico de la distribución normal\u001b[39;00m\n\u001b[1;32m---> <a href='vscode-notebook-cell:/d%3A/Repositorios/ds-aspacia/Modulo%204/Clase%204/Actividad%204.ipynb#X10sZmlsZQ%3D%3D?line=15'>16</a>\u001b[0m z_alpha \u001b[39m=\u001b[39m \u001b[39mabs\u001b[39m(math\u001b[39m.\u001b[39;49merfinv(conf_level)) \n\u001b[0;32m     <a href='vscode-notebook-cell:/d%3A/Repositorios/ds-aspacia/Modulo%204/Clase%204/Actividad%204.ipynb#X10sZmlsZQ%3D%3D?line=17'>18</a>\u001b[0m \u001b[39m#### Cálculo del error estándar de la media muestral\u001b[39;00m\n\u001b[0;32m     <a href='vscode-notebook-cell:/d%3A/Repositorios/ds-aspacia/Modulo%204/Clase%204/Actividad%204.ipynb#X10sZmlsZQ%3D%3D?line=18'>19</a>\u001b[0m error_est \u001b[39m=\u001b[39m sigma \u001b[39m/\u001b[39m math\u001b[39m.\u001b[39msqrt(n)\n",
      "\u001b[1;31mAttributeError\u001b[0m: module 'math' has no attribute 'erfinv'"
     ]
    }
   ],
   "source": [
    "import math\n",
    "\n",
    "#### Tamaño de la muestra\n",
    "n = 64\n",
    "\n",
    "#### Media muestral\n",
    "x_bar = 32.5\n",
    "\n",
    "#### Desviación típica poblacional\n",
    "sigma = 3.2\n",
    "\n",
    "#### Nivel de confianza (95%)\n",
    "conf_level = 0.95\n",
    "\n",
    "#### Valor crítico de la distribución normal\n",
    "z_alpha = abs(math.erfinv(conf_level)) \n",
    "\n",
    "#### Cálculo del error estándar de la media muestral\n",
    "error_est = sigma / math.sqrt(n)\n",
    "\n",
    "#### Cálculo del intervalo de confianza\n",
    "intervalo = (x_bar - z_alpha * error_est, x_bar + z_alpha * error_est)\n",
    "\n",
    "print(f\"El intervalo de confianza al {conf_level*100:.0f}% de la media poblacional es {intervalo}\")"
   ]
  },
  {
   "attachments": {},
   "cell_type": "markdown",
   "metadata": {},
   "source": [
    "- b)  Si  la  desviación  típica  de  la  población  fuera  3,  ¿qué  tamaño  mínimo debería tener la muestra con la cual estimamos la media poblacional si queremos que el nivel de confianza sea del 99 %, y el error admisible no supere el valor de 0,75? "
   ]
  },
  {
   "attachments": {},
   "cell_type": "markdown",
   "metadata": {},
   "source": []
  }
 ],
 "metadata": {
  "kernelspec": {
   "display_name": "Python 3",
   "language": "python",
   "name": "python3"
  },
  "language_info": {
   "codemirror_mode": {
    "name": "ipython",
    "version": 3
   },
   "file_extension": ".py",
   "mimetype": "text/x-python",
   "name": "python",
   "nbconvert_exporter": "python",
   "pygments_lexer": "ipython3",
   "version": "3.9.7"
  },
  "orig_nbformat": 4
 },
 "nbformat": 4,
 "nbformat_minor": 2
}
