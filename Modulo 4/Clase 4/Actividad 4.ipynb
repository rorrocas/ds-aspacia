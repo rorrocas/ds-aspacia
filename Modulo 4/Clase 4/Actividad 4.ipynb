{
 "cells": [
  {
   "attachments": {},
   "cell_type": "markdown",
   "metadata": {},
   "source": [
    "### Actividad 4"
   ]
  },
  {
   "attachments": {},
   "cell_type": "markdown",
   "metadata": {},
   "source": [
    "### Caso 1\n",
    "**Para estimar la proporción de habitantes de una ciudad que poseen ordenador  personal se toma una muestra de tamaño n. Calcula el valor mínimo de n para  garantizar, con un nivel de confianza del 95 %, que el error de estimación no  supera el 2 %. (Como se desconoce la proporción, se hará a partir del caso más  desfavorable, que será 0,5)**"
   ]
  },
  {
   "cell_type": "code",
   "execution_count": 1,
   "metadata": {},
   "outputs": [
    {
     "data": {
      "text/plain": [
       "2400.9999999999995"
      ]
     },
     "execution_count": 1,
     "metadata": {},
     "output_type": "execute_result"
    }
   ],
   "source": [
    "# n = ((Z^(2))*p*q) / (E^(2))\n",
    "#Z = 95% = 1.96\n",
    "\n",
    "Z= 1.96\n",
    "p = 0.5\n",
    "q = 0.5\n",
    "E = 0.02\n",
    "\n",
    "n = ((1.96**2)*0.5*0.5)/(0.02**(2))\n",
    "n"
   ]
  },
  {
   "attachments": {},
   "cell_type": "markdown",
   "metadata": {},
   "source": [
    "**R: Debe tomarse una muestra de 2401 para asegurar un error de estimacion no mayor a 2% con un 95% de nivel de confianza**"
   ]
  },
  {
   "attachments": {},
   "cell_type": "markdown",
   "metadata": {},
   "source": [
    "### Caso 2\n",
    "**Un fabricante de electrodomésticos sabe que la vida media de estos sigue una  distribución  normal  con  media   100   meses  y  desviación  típica   12   meses. Determina  el  mínimo  tamaño  muestral  que  garantiza,  con  una  probabilidad de   0,98,   que  la  vida  media  de  los  electrodomésticos  en  dicha  muestra  se encuentre entre  90  y  100  meses.**"
   ]
  },
  {
   "attachments": {},
   "cell_type": "markdown",
   "metadata": {},
   "source": [
    "media = 100\n",
    "\n",
    "desviacion = 12\n",
    "\n",
    "probabilidad = 0.98 => Z_a = 2.33\n",
    "\n",
    "intervalo = [90 < x < 100]"
   ]
  },
  {
   "cell_type": "code",
   "execution_count": 1,
   "metadata": {},
   "outputs": [],
   "source": [
    "from scipy.stats import norm"
   ]
  },
  {
   "cell_type": "code",
   "execution_count": 16,
   "metadata": {},
   "outputs": [
    {
     "name": "stdout",
     "output_type": "stream",
     "text": [
      "Z = 2.33\n"
     ]
    }
   ],
   "source": [
    "alpha = 0.01\n",
    "probability = 1-alpha\n",
    "Z = norm.ppf(probability)\n",
    "print(f\"Z = {Z:.2f}\")"
   ]
  },
  {
   "cell_type": "code",
   "execution_count": 19,
   "metadata": {},
   "outputs": [
    {
     "data": {
      "text/plain": [
       "31.270464000000008"
      ]
     },
     "execution_count": 19,
     "metadata": {},
     "output_type": "execute_result"
    }
   ],
   "source": [
    "# 2.33*(12/sqrt(n)) < 10\n",
    "\n",
    "# 2.33*12 < 10*sqrt(n)\n",
    "\n",
    "n = ((2.33*12)/5)**2\n",
    "n"
   ]
  },
  {
   "attachments": {},
   "cell_type": "markdown",
   "metadata": {},
   "source": [
    "El tamaño de la muestra debe ser mayor a 31 electrodomesticos"
   ]
  },
  {
   "attachments": {},
   "cell_type": "markdown",
   "metadata": {},
   "source": [
    "### Caso 3 \n",
    "**Se desea obtener la media  de una variable aleatoria que se distribuye normalmente con una desviación típica de 3,2. Para ello se toma una muestra \n",
    "de 64 individuos obteniéndose una media de 32,5.**\n",
    "\n",
    "- a)  ¿Con  qué  nivel  de  confianza  se  puede  afirmar  que  la  media  de  la  \n",
    "población está entre 31,5 y 33,5? "
   ]
  },
  {
   "cell_type": "code",
   "execution_count": 24,
   "metadata": {},
   "outputs": [
    {
     "name": "stdout",
     "output_type": "stream",
     "text": [
      "El intervalo de confianza al 95% de la media poblacional es (31.84205854921941, 33.15794145078059)\n"
     ]
    }
   ],
   "source": [
    "import math\n",
    "\n",
    "#### Tamaño de la muestra\n",
    "n = 64\n",
    "\n",
    "#### Media muestral\n",
    "x_bar = 32.5\n",
    "\n",
    "#### Desviación típica poblacional\n",
    "sigma = 3.2\n",
    "\n",
    "#### Nivel de confianza (95%)\n",
    "conf_level = 0.95\n",
    "\n",
    "#### Valor crítico de la distribución normal\n",
    "z_alpha = abs(norm.ppf(conf_level)) \n",
    "\n",
    "#### Cálculo del error estándar de la media muestral\n",
    "error_est = sigma / math.sqrt(n)\n",
    "\n",
    "#### Cálculo del intervalo de confianza\n",
    "intervalo = (x_bar - z_alpha * error_est, x_bar + z_alpha * error_est)\n",
    "\n",
    "print(f\"El intervalo de confianza al {conf_level*100:.0f}% de la media poblacional es {intervalo}\")"
   ]
  },
  {
   "cell_type": "code",
   "execution_count": 28,
   "metadata": {},
   "outputs": [
    {
     "data": {
      "text/plain": [
       "2.5"
      ]
     },
     "execution_count": 28,
     "metadata": {},
     "output_type": "execute_result"
    }
   ],
   "source": [
    "# Media - Z_alpha * error_est = 31.5\n",
    "# 32.5 - Z_alpha * 0.4 = 31.5\n",
    "z_alpha = (32.5 - 31.5)/0.4\n",
    "z_alpha"
   ]
  },
  {
   "cell_type": "code",
   "execution_count": 31,
   "metadata": {},
   "outputs": [
    {
     "data": {
      "text/plain": [
       "0.9824716995064314"
      ]
     },
     "execution_count": 31,
     "metadata": {},
     "output_type": "execute_result"
    }
   ],
   "source": [
    "conf_level = 1-norm.pdf(z_alpha)\n",
    "conf_level"
   ]
  },
  {
   "cell_type": "code",
   "execution_count": 32,
   "metadata": {},
   "outputs": [
    {
     "name": "stdout",
     "output_type": "stream",
     "text": [
      "Con un nivel de confianza del 0.98 se puede afirmar que la media esta entre los valores 31.5 y 33.5\n"
     ]
    }
   ],
   "source": [
    "print(f\"Con un nivel de confianza del {conf_level:.2f} se puede afirmar que la media esta entre los valores 31.5 y 33.5\")"
   ]
  },
  {
   "attachments": {},
   "cell_type": "markdown",
   "metadata": {},
   "source": [
    "- b)  Si  la  desviación  típica  de  la  población  fuera  3,  ¿qué  tamaño  mínimo debería tener la muestra con la cual estimamos la media poblacional si queremos que el nivel de confianza sea del 99 %, y el error admisible no supere el valor de 0,75? "
   ]
  },
  {
   "cell_type": "code",
   "execution_count": 40,
   "metadata": {},
   "outputs": [
    {
     "name": "stdout",
     "output_type": "stream",
     "text": [
      "El tamaño muestral debe ser mayor a 99\n"
     ]
    }
   ],
   "source": [
    "# Desviación típica poblacional\n",
    "sigma = 3.2\n",
    "\n",
    "# Nivel de confianza\n",
    "conf_level = 0.99\n",
    "\n",
    "# Error admisible\n",
    "error_est = 0.75\n",
    "\n",
    "# Z*sigma/sqrt(n) < 5\n",
    "\n",
    "Z = norm.ppf(conf_level)\n",
    "\n",
    "n = (Z*sigma/0.75)**2\n",
    "\n",
    "print(f\"El tamaño muestral debe ser mayor a {n:.0f}\")"
   ]
  }
 ],
 "metadata": {
  "kernelspec": {
   "display_name": "Python 3",
   "language": "python",
   "name": "python3"
  },
  "language_info": {
   "codemirror_mode": {
    "name": "ipython",
    "version": 3
   },
   "file_extension": ".py",
   "mimetype": "text/x-python",
   "name": "python",
   "nbconvert_exporter": "python",
   "pygments_lexer": "ipython3",
   "version": "3.9.7"
  },
  "orig_nbformat": 4
 },
 "nbformat": 4,
 "nbformat_minor": 2
}
