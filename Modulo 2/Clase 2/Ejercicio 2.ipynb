{
 "cells": [
  {
   "attachments": {},
   "cell_type": "markdown",
   "metadata": {},
   "source": [
    "### Ejercicio 2 Modulo 2"
   ]
  },
  {
   "cell_type": "code",
   "execution_count": 7,
   "metadata": {},
   "outputs": [],
   "source": [
    "import numpy as np\n",
    "import pandas as pd"
   ]
  },
  {
   "attachments": {},
   "cell_type": "markdown",
   "metadata": {},
   "source": [
    "***1. Escribir un programa que pregunte al usuario por las ventas de un rango de años y muestre por pantalla una serie con los datos de las ventas indexada por los años, antes y después de aplicarles un descuento del 10%.***"
   ]
  },
  {
   "cell_type": "code",
   "execution_count": 1,
   "metadata": {},
   "outputs": [
    {
     "data": {
      "text/plain": [
       "{2010: 80.0, 2011: 100.0, 2012: 120.0, 2013: 150.0, 2014: 130.0}"
      ]
     },
     "execution_count": 1,
     "metadata": {},
     "output_type": "execute_result"
    }
   ],
   "source": [
    "rango_años =[]\n",
    "rango_años.append(int(input(\"Ingrese el primer año de ventas:\")))\n",
    "rango_años.append(int(input(\"Ingrese el ultimo año de ventas:\")))\n",
    "ventas_x_año = {}\n",
    "for i in range (0,rango_años[1]-rango_años[0]):\n",
    "    venta = float(input(f\"Ingrese ventas del año {rango_años[0]+i}\"))\n",
    "    ventas_x_año[rango_años[0]+i] = venta\n",
    "ventas_x_año"
   ]
  },
  {
   "cell_type": "code",
   "execution_count": 9,
   "metadata": {},
   "outputs": [
    {
     "name": "stdout",
     "output_type": "stream",
     "text": [
      "Antes de aplicado el 10%:\n",
      " 2010     80.0\n",
      "2011    100.0\n",
      "2012    120.0\n",
      "2013    150.0\n",
      "2014    130.0\n",
      "dtype: float64\n",
      "\n",
      "\n",
      "Despues de aplicado el 10%:\n",
      " 2010     88.0\n",
      "2011    110.0\n",
      "2012    132.0\n",
      "2013    165.0\n",
      "2014    143.0\n",
      "dtype: float64\n"
     ]
    }
   ],
   "source": [
    "#Falta pedir al usuario\n",
    "serie_ventas = pd.Series(ventas_x_año)\n",
    "serie_ventas_pos10 = serie_ventas.apply(lambda x: x*1.1)\n",
    "\n",
    "print(\"Antes de aplicado el 10%:\\n\",serie_ventas)\n",
    "print(\"\\n\")\n",
    "print(\"Despues de aplicado el 10%:\\n\",serie_ventas_pos10)"
   ]
  },
  {
   "attachments": {},
   "cell_type": "markdown",
   "metadata": {},
   "source": [
    "**2. Escribir una función que reciba un diccionario con las notas de los\n",
    "alumnos en curso en un examen y devuelva una serie con la nota\n",
    "mínima, la máxima, media y la desviación típica.**"
   ]
  },
  {
   "cell_type": "code",
   "execution_count": 21,
   "metadata": {},
   "outputs": [
    {
     "data": {
      "text/plain": [
       "nota_minima            1.100000\n",
       "nota_maxima            6.900000\n",
       "desviacion_estandar    2.036023\n",
       "dtype: float64"
      ]
     },
     "execution_count": 21,
     "metadata": {},
     "output_type": "execute_result"
    }
   ],
   "source": [
    "def descripcion_notas(notas):\n",
    "    nota_minima = notas[\"Curso\"].min()\n",
    "    nota_maxima = notas[\"Curso\"].max()\n",
    "    desviacion_estandar = np.std(notas[\"Curso\"])\n",
    "    serie_notas = pd.Series((nota_minima, nota_maxima, desviacion_estandar), index=[\"nota_minima\",\"nota_maxima\",\"desviacion_estandar\"])\n",
    "    return serie_notas\n",
    "\n",
    "diccionario_notas = {\n",
    "    \"Curso\":np.random.uniform(low=1,high=7,size=30).round(1)\n",
    "}\n",
    "descripcion_notas(diccionario_notas)\n",
    "#serie_notas = pd.Series(diccionario_notas[\"Notas\"])\n",
    "#serie_notas"
   ]
  },
  {
   "attachments": {},
   "cell_type": "markdown",
   "metadata": {},
   "source": [
    "**3. Escribir una función que reciba una diccionario con las notas de los\n",
    "alumnos en curso en un examen y devuelva una serie con las notas de\n",
    "los alumnos aprobados ordenadas de mayor a menor.**"
   ]
  },
  {
   "cell_type": "code",
   "execution_count": 35,
   "metadata": {},
   "outputs": [
    {
     "data": {
      "text/plain": [
       "7     6.9\n",
       "4     6.8\n",
       "0     6.7\n",
       "16    6.7\n",
       "19    6.6\n",
       "21    6.6\n",
       "28    6.2\n",
       "1     5.9\n",
       "12    5.8\n",
       "26    5.6\n",
       "17    5.2\n",
       "27    4.9\n",
       "dtype: float64"
      ]
     },
     "execution_count": 35,
     "metadata": {},
     "output_type": "execute_result"
    }
   ],
   "source": [
    "#Hacerlo con una mascara\n",
    "def nota_aprovados(notas):\n",
    "    serie_notas = pd.Series(notas[\"Curso\"])\n",
    "    serie_aprobados = serie_notas[serie_notas>4].sort_values(ascending=False)\n",
    "    return serie_aprobados\n",
    "nota_aprovados(diccionario_notas)"
   ]
  },
  {
   "attachments": {
    "image.png": {
     "image/png": "[encoded data removed]"
    }
   },
   "cell_type": "markdown",
   "metadata": {},
   "source": [
    "**4. Escribir programa que genere y muestre por pantalla un DataFrame con\n",
    "los datos de la tabla siguiente:**\n",
    "\n",
    "![image.png](attachment:image.png)"
   ]
  },
  {
   "cell_type": "code",
   "execution_count": 2,
   "metadata": {},
   "outputs": [],
   "source": [
    "ventas_por_mes = {\n",
    "    \"Mes\":[\"Enero\",\"Febrero\",\"Marzo\",\"Abril\"],\n",
    "    \"Ventas\":[30500,35600,28300,33900],\n",
    "    \"Gastos\":[22000,23400,18100,20700]\n",
    "}"
   ]
  },
  {
   "cell_type": "code",
   "execution_count": 5,
   "metadata": {},
   "outputs": [
    {
     "data": {
      "text/html": [
       "<div>\n",
       "<style scoped>\n",
       "    .dataframe tbody tr th:only-of-type {\n",
       "        vertical-align: middle;\n",
       "    }\n",
       "\n",
       "    .dataframe tbody tr th {\n",
       "        vertical-align: top;\n",
       "    }\n",
       "\n",
       "    .dataframe thead th {\n",
       "        text-align: right;\n",
       "    }\n",
       "</style>\n",
       "<table border=\"1\" class=\"dataframe\">\n",
       "  <thead>\n",
       "    <tr style=\"text-align: right;\">\n",
       "      <th></th>\n",
       "      <th>Mes</th>\n",
       "      <th>Ventas</th>\n",
       "      <th>Gastos</th>\n",
       "    </tr>\n",
       "  </thead>\n",
       "  <tbody>\n",
       "    <tr>\n",
       "      <th>0</th>\n",
       "      <td>Enero</td>\n",
       "      <td>30500</td>\n",
       "      <td>22000</td>\n",
       "    </tr>\n",
       "    <tr>\n",
       "      <th>1</th>\n",
       "      <td>Febrero</td>\n",
       "      <td>35600</td>\n",
       "      <td>23400</td>\n",
       "    </tr>\n",
       "    <tr>\n",
       "      <th>2</th>\n",
       "      <td>Marzo</td>\n",
       "      <td>28300</td>\n",
       "      <td>18100</td>\n",
       "    </tr>\n",
       "    <tr>\n",
       "      <th>3</th>\n",
       "      <td>Abril</td>\n",
       "      <td>33900</td>\n",
       "      <td>20700</td>\n",
       "    </tr>\n",
       "  </tbody>\n",
       "</table>\n",
       "</div>"
      ],
      "text/plain": [
       "       Mes  Ventas  Gastos\n",
       "0    Enero   30500   22000\n",
       "1  Febrero   35600   23400\n",
       "2    Marzo   28300   18100\n",
       "3    Abril   33900   20700"
      ]
     },
     "execution_count": 5,
     "metadata": {},
     "output_type": "execute_result"
    }
   ],
   "source": [
    "df_ventas_por_mes = pd.DataFrame(ventas_por_mes)\n",
    "df_ventas_por_mes"
   ]
  },
  {
   "attachments": {},
   "cell_type": "markdown",
   "metadata": {},
   "source": [
    "- ¿Qué es la librería Pandas?\n",
    "\n",
    "**R: En una biblioteca de python utilzada para la creacion de estrucutras de datos que faciliten la manipulacion de estos, es comunmente usada en ciencia de datos.**\n",
    "\n",
    "- ¿Qué son los DataFrame?\n",
    "\n",
    "**R: Son una estrucutra de datos similar a una hoja de excel que permite guardar datos comunes a una variable por columnas y a un individuo u objeto por filas, en esta se vuelve mas facil la filtracion , manipulacion y graficamiento de los datos.**"
   ]
  }
 ],
 "metadata": {
  "kernelspec": {
   "display_name": "Python 3",
   "language": "python",
   "name": "python3"
  },
  "language_info": {
   "codemirror_mode": {
    "name": "ipython",
    "version": 3
   },
   "file_extension": ".py",
   "mimetype": "text/x-python",
   "name": "python",
   "nbconvert_exporter": "python",
   "pygments_lexer": "ipython3",
   "version": "3.9.7"
  },
  "orig_nbformat": 4
 },
 "nbformat": 4,
 "nbformat_minor": 2
}
