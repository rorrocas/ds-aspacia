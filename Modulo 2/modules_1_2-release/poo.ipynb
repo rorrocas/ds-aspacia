{
 "cells": [
  {
   "cell_type": "code",
   "execution_count": 1,
   "metadata": {},
   "outputs": [],
   "source": [
    "data_science_students = [\n",
    "    \"Claudio Bahamonde\",\n",
    "    \"Felipe Abarzúa\",\n",
    "    \"Diego Rodriguez\",\n",
    "    \"Javier Pizarro\",\n",
    "    \"Smilling Battaglini\",\n",
    "    \"Pamela Labbé\",\n",
    "    \"Marilina Fuentes\",\n",
    "    \"Jaime Castillo\",\n",
    "    \"Rodrigo Castillo\",\n",
    "    \"Ignacia Arenas\",\n",
    "    \"Luis reyes\",\n",
    "    \"Felipe Cabello\",\n",
    "    \"Polette Pino\",\n",
    "    \"Karen Lobos\",\n",
    "    \"Diego Ávila\",\n",
    "    \"Constanza Guzman\",\n",
    "    \"Nicole Alejandra Araya\",\n",
    "    \"Carlos Andrés Abarca\",\n",
    "    \"Marco Antonio Ramos\",\n",
    "    \"Claudia Araya\",\n",
    "    \"Daniela Hernández\",\n",
    "    \"Sergio Ananias\",\n",
    "    \"Alexis Bacian\",\n",
    "    \"Cristian Alvarez\",\n",
    "    \"Nubia Ascencio\",\n",
    "    \"Veronica Marín\",\n",
    "    \"Liliana Romina Garmendia\",\n",
    "    \"Rocio Macari\",\n",
    "    \"Loreto Llambias\",\n",
    "    \"Braulio Valdés\",\n",
    "]"
   ]
  },
  {
   "cell_type": "code",
   "execution_count": 2,
   "metadata": {},
   "outputs": [],
   "source": [
    "import random\n",
    "\n",
    "def random_student():\n",
    "    return random.choice(data_science_students)\n",
    "\n",
    "def n_random_students(n_students):\n",
    "    return random.sample(data_science_students, n_students)"
   ]
  },
  {
   "cell_type": "code",
   "execution_count": 7,
   "metadata": {},
   "outputs": [],
   "source": [
    "# crear una clase de una trajeta de credito que tenga los siguientes atributos:\n",
    "# numero de tarjeta\n",
    "# fecha de expiracion\n",
    "# nombre del titular\n",
    "# saldo\n",
    "# metodo para pagar\n",
    "# metodo para recargar\n",
    "# metodo para consultar saldo\n",
    "\n",
    "class CreditCard:\n",
    "\n",
    "    def __init__(\n",
    "            self, card_number, expiration_date, card_holder, balance\n",
    "        ):\n",
    "\n",
    "        self.card_number = card_number\n",
    "        self.expiration_date = expiration_date\n",
    "        self.card_holder = card_holder\n",
    "        self.balance = balance\n",
    "\n",
    "    def pay(self, amount):\n",
    "        self.balance -= amount\n",
    "\n",
    "    def recharge(self, amount):\n",
    "        self.balance += amount\n",
    "\n",
    "    def check_balance(self):\n",
    "        return self.balance\n",
    "    \n",
    "    def __str__(self):\n",
    "        return f\"Tarjeta de credito perteneciente a {self.card_holder} con saldo de {self.balance}\""
   ]
  },
  {
   "cell_type": "code",
   "execution_count": 10,
   "metadata": {},
   "outputs": [],
   "source": [
    "c = CreditCard(\n",
    "    card_number=123456789,\n",
    "    expiration_date=\"12/12/2030\",\n",
    "    card_holder=\"Claudio Bahamonde\",\n",
    "    balance=1_000_000,\n",
    ")"
   ]
  },
  {
   "cell_type": "code",
   "execution_count": 11,
   "metadata": {},
   "outputs": [
    {
     "data": {
      "text/plain": [
       "('Claudio Bahamonde', 1000000)"
      ]
     },
     "execution_count": 11,
     "metadata": {},
     "output_type": "execute_result"
    }
   ],
   "source": [
    "c.card_holder, c.balance"
   ]
  },
  {
   "cell_type": "code",
   "execution_count": 12,
   "metadata": {},
   "outputs": [
    {
     "name": "stdout",
     "output_type": "stream",
     "text": [
      "Tarjeta de credito perteneciente a Claudio Bahamonde con saldo de 1000000\n"
     ]
    }
   ],
   "source": [
    "print(c)"
   ]
  },
  {
   "cell_type": "code",
   "execution_count": 13,
   "metadata": {},
   "outputs": [],
   "source": [
    "# Crear una clase padre para un auto que tenga los siguientes atributos:\n",
    "# rueedas\n",
    "# encendido\n",
    "# color\n",
    "# marca\n",
    "# modelo\n",
    "# metodo para encender\n",
    "# metodo para apagar\n",
    "# metodo para frenar\n",
    "# metodo para acelerar\n",
    "\n",
    "class Car:\n",
    "    \n",
    "        def __init__(self, color, brand, model):\n",
    "            self.wheels = 4\n",
    "            self.engine_on = False\n",
    "            self.color = color\n",
    "            self.brand = brand\n",
    "            self.model = model\n",
    "    \n",
    "        def turn_on(self):\n",
    "            self.engine_on = True\n",
    "    \n",
    "        def turn_off(self):\n",
    "            self.engine_on = False\n",
    "    \n",
    "        def brake(self):\n",
    "            print(\"Braking\")\n",
    "    \n",
    "        def accelerate(self):\n",
    "            print(\"Accelerating\")\n",
    "    \n",
    "        def __str__(self):\n",
    "            return f\"Auto de marca {self.brand} modelo {self.model} color {self.color}\""
   ]
  },
  {
   "cell_type": "code",
   "execution_count": 14,
   "metadata": {},
   "outputs": [],
   "source": [
    "# crear una clase hija que herede de la clase padre auto que sea un auto electrico que tenga los siguientes atributos:\n",
    "# bateria\n",
    "# metodo para cargar bateria\n",
    "# metodo para consultar bateria\n",
    "\n",
    "class ElectricCar(Car):\n",
    "        \n",
    "            def __init__(self, color, brand, model):\n",
    "                super().__init__(color, brand, model)\n",
    "                self.battery = 100\n",
    "        \n",
    "            def charge_battery(self):\n",
    "                self.battery = 100\n",
    "        \n",
    "            def check_battery(self):\n",
    "                return self.battery\n",
    "            \n",
    "            def __str__(self):\n",
    "                return f\"Auto electrico de marca {self.brand} modelo {self.model} color {self.color}\""
   ]
  },
  {
   "cell_type": "code",
   "execution_count": 15,
   "metadata": {},
   "outputs": [],
   "source": [
    "auto_eletrico = ElectricCar(\"rojo\", \"Tesla\", \"Model 3\")"
   ]
  },
  {
   "cell_type": "code",
   "execution_count": 20,
   "metadata": {},
   "outputs": [
    {
     "data": {
      "text/plain": [
       "['battery',\n",
       " 'brake',\n",
       " 'brand',\n",
       " 'charge_battery',\n",
       " 'check_battery',\n",
       " 'color',\n",
       " 'engine_on',\n",
       " 'model',\n",
       " 'turn_off',\n",
       " 'turn_on',\n",
       " 'wheels']"
      ]
     },
     "execution_count": 20,
     "metadata": {},
     "output_type": "execute_result"
    }
   ],
   "source": [
    "# listar solo los metodos de la clase ElectricCar\n",
    "\n",
    "x = dir(auto_eletrico)\n",
    "x[27:]\n"
   ]
  },
  {
   "cell_type": "code",
   "execution_count": null,
   "metadata": {},
   "outputs": [],
   "source": []
  }
 ],
 "metadata": {
  "kernelspec": {
   "display_name": "Python 3",
   "language": "python",
   "name": "python3"
  },
  "language_info": {
   "codemirror_mode": {
    "name": "ipython",
    "version": 3
   },
   "file_extension": ".py",
   "mimetype": "text/x-python",
   "name": "python",
   "nbconvert_exporter": "python",
   "pygments_lexer": "ipython3",
   "version": "3.10.6"
  },
  "orig_nbformat": 4
 },
 "nbformat": 4,
 "nbformat_minor": 2
}
