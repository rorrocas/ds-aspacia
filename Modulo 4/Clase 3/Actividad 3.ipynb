{
 "cells": [
  {
   "attachments": {},
   "cell_type": "markdown",
   "metadata": {},
   "source": [
    "### Actividad 3 Modulo 4"
   ]
  },
  {
   "attachments": {},
   "cell_type": "markdown",
   "metadata": {},
   "source": [
    "#### Caso 1: \n",
    "\n",
    "Muestreo estratificado con afijación proporcional.\n",
    "\n",
    "Se desea tomar una muestra aleatoria estratificada de las personas mayores de  edad  de  un  municipio,  cuyos  estratos  son  los  siguientes  intervalos  de edades,  en  años:  de  18  a  30,  de  31  a  45,  de  46  a  60  y  mayores  de  60.  \n",
    "\n",
    "En  el  primer  intervalo  hay  7500  personas,  en  el  segundo  hay  8400,  en  el  tercero 5700 y en el cuarto 3000.  Calcule  el  tamaño  de  la  muestra  total  y  su  composición,  sabiendo  que  el muestreo  se  hace  con  afijación  proporcional  y  se  han  elegido  al  azar  375 personas del primer estrato. "
   ]
  },
  {
   "cell_type": "code",
   "execution_count": 5,
   "metadata": {},
   "outputs": [
    {
     "data": {
      "text/plain": [
       "20.0"
      ]
     },
     "execution_count": 5,
     "metadata": {},
     "output_type": "execute_result"
    }
   ],
   "source": [
    "proporcion_intervalo_1 = 7500/375\n",
    "proporcion_intervalo_1"
   ]
  },
  {
   "cell_type": "code",
   "execution_count": 31,
   "metadata": {},
   "outputs": [
    {
     "name": "stdout",
     "output_type": "stream",
     "text": [
      "El tamaño de la muestra para el intervalo 1 es: 20.0\n"
     ]
    }
   ],
   "source": [
    "print(f\"El tamaño de la muestra para el intervalo 1 es: {proporcion_intervalo_1}\")"
   ]
  },
  {
   "cell_type": "code",
   "execution_count": 7,
   "metadata": {},
   "outputs": [
    {
     "data": {
      "text/plain": [
       "420.0"
      ]
     },
     "execution_count": 7,
     "metadata": {},
     "output_type": "execute_result"
    }
   ],
   "source": [
    "muestra_intervalo_2 = 8400/proporcion_intervalo_1\n",
    "muestra_intervalo_2"
   ]
  },
  {
   "cell_type": "code",
   "execution_count": 30,
   "metadata": {},
   "outputs": [
    {
     "name": "stdout",
     "output_type": "stream",
     "text": [
      "El tamaño de la muestra para el intervalo 2 es: 420.0\n"
     ]
    }
   ],
   "source": [
    "print(f\"El tamaño de la muestra para el intervalo 2 es: {muestra_intervalo_2}\")"
   ]
  },
  {
   "cell_type": "code",
   "execution_count": 8,
   "metadata": {},
   "outputs": [
    {
     "data": {
      "text/plain": [
       "285.0"
      ]
     },
     "execution_count": 8,
     "metadata": {},
     "output_type": "execute_result"
    }
   ],
   "source": [
    "muestra_intervalo_3 = 5700/proporcion_intervalo_1\n",
    "muestra_intervalo_3"
   ]
  },
  {
   "cell_type": "code",
   "execution_count": 32,
   "metadata": {},
   "outputs": [
    {
     "name": "stdout",
     "output_type": "stream",
     "text": [
      "El tamaño de la muestra para el intervalo 3 es: 285.0\n"
     ]
    }
   ],
   "source": [
    "print(f\"El tamaño de la muestra para el intervalo 3 es: {muestra_intervalo_3}\")"
   ]
  },
  {
   "cell_type": "code",
   "execution_count": 9,
   "metadata": {},
   "outputs": [
    {
     "data": {
      "text/plain": [
       "150.0"
      ]
     },
     "execution_count": 9,
     "metadata": {},
     "output_type": "execute_result"
    }
   ],
   "source": [
    "muestra_intervalo_4 = 3000/proporcion_intervalo_1\n",
    "muestra_intervalo_4"
   ]
  },
  {
   "cell_type": "code",
   "execution_count": 33,
   "metadata": {},
   "outputs": [
    {
     "name": "stdout",
     "output_type": "stream",
     "text": [
      "El tamaño de la muestra para el intervalo 4 es: 150.0\n"
     ]
    }
   ],
   "source": [
    "print(f\"El tamaño de la muestra para el intervalo 4 es: {muestra_intervalo_4}\")"
   ]
  },
  {
   "attachments": {},
   "cell_type": "markdown",
   "metadata": {},
   "source": [
    "#### Caso 2 \n",
    "\n",
    "Si el contenido en gr. de un determinado medicamento X sigue una \n",
    "distribución  N(7.5,0.3),  calcular  la  probabilidad  de  que  para  una  muestra  de  \n",
    "tamaño n=5, se obtenga medio menor que 7, Pr ( X ≤ 7). "
   ]
  },
  {
   "attachments": {
    "image.png": {
     "image/png": "[encoded data removed]"
    }
   },
   "cell_type": "markdown",
   "metadata": {},
   "source": [
    "![image.png](attachment:image.png)"
   ]
  },
  {
   "cell_type": "code",
   "execution_count": 20,
   "metadata": {},
   "outputs": [],
   "source": [
    "import numpy as np"
   ]
  },
  {
   "attachments": {},
   "cell_type": "markdown",
   "metadata": {},
   "source": [
    "m* = Z\n",
    "\n",
    "$$m^*= \\frac{m-\\mu}{\\sigma/\\sqrt{n}}$$"
   ]
  },
  {
   "cell_type": "code",
   "execution_count": 34,
   "metadata": {},
   "outputs": [
    {
     "data": {
      "text/plain": [
       "-3.7267799624996503"
      ]
     },
     "execution_count": 34,
     "metadata": {},
     "output_type": "execute_result"
    }
   ],
   "source": [
    "Z = (7-7.5)/(0.3/np.sqrt(5))\n",
    "Z"
   ]
  },
  {
   "cell_type": "code",
   "execution_count": 36,
   "metadata": {},
   "outputs": [],
   "source": [
    "from scipy.stats import zscore"
   ]
  },
  {
   "cell_type": "code",
   "execution_count": 35,
   "metadata": {},
   "outputs": [
    {
     "ename": "TypeError",
     "evalue": "cdf() missing 1 required positional argument: 'x'",
     "output_type": "error",
     "traceback": [
      "\u001b[1;31m---------------------------------------------------------------------------\u001b[0m",
      "\u001b[1;31mTypeError\u001b[0m                                 Traceback (most recent call last)",
      "\u001b[1;32me:\\Clases Aspacia\\ds-aspacia\\Modulo 4\\Clase 3\\Actividad 3.ipynb Cell 18\u001b[0m in \u001b[0;36m<cell line: 1>\u001b[1;34m()\u001b[0m\n\u001b[1;32m----> <a href='vscode-notebook-cell:/e%3A/Clases%20Aspacia/ds-aspacia/Modulo%204/Clase%203/Actividad%203.ipynb#X16sZmlsZQ%3D%3D?line=0'>1</a>\u001b[0m probabilidad \u001b[39m=\u001b[39m norm\u001b[39m.\u001b[39;49mcdf(Z\u001b[39m=\u001b[39;49mZ)\n\u001b[0;32m      <a href='vscode-notebook-cell:/e%3A/Clases%20Aspacia/ds-aspacia/Modulo%204/Clase%203/Actividad%203.ipynb#X16sZmlsZQ%3D%3D?line=1'>2</a>\u001b[0m probabilidad\n",
      "\u001b[1;31mTypeError\u001b[0m: cdf() missing 1 required positional argument: 'x'"
     ]
    }
   ],
   "source": [
    "probabilidad = zscore()\n",
    "probabilidad"
   ]
  },
  {
   "cell_type": "code",
   "execution_count": null,
   "metadata": {},
   "outputs": [],
   "source": []
  },
  {
   "cell_type": "code",
   "execution_count": 24,
   "metadata": {},
   "outputs": [
    {
     "data": {
      "text/plain": [
       "0.9090909090909091"
      ]
     },
     "execution_count": 24,
     "metadata": {},
     "output_type": "execute_result"
    }
   ],
   "source": [
    "10/np.sqrt(121)"
   ]
  },
  {
   "cell_type": "code",
   "execution_count": 29,
   "metadata": {},
   "outputs": [
    {
     "data": {
      "text/plain": [
       "0.9090909090909091"
      ]
     },
     "execution_count": 29,
     "metadata": {},
     "output_type": "execute_result"
    }
   ],
   "source": [
    "np.sqrt(100/121)"
   ]
  }
 ],
 "metadata": {
  "kernelspec": {
   "display_name": "Python 3",
   "language": "python",
   "name": "python3"
  },
  "language_info": {
   "codemirror_mode": {
    "name": "ipython",
    "version": 3
   },
   "file_extension": ".py",
   "mimetype": "text/x-python",
   "name": "python",
   "nbconvert_exporter": "python",
   "pygments_lexer": "ipython3",
   "version": "3.9.7"
  },
  "orig_nbformat": 4
 },
 "nbformat": 4,
 "nbformat_minor": 2
}
