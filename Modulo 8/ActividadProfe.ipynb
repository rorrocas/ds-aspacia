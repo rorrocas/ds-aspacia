{
 "cells": [
  {
   "cell_type": "code",
   "execution_count": 1,
   "metadata": {},
   "outputs": [],
   "source": [
    "import findspark\n",
    "findspark.init()\n",
    "\n",
    "import pyspark"
   ]
  },
  {
   "cell_type": "code",
   "execution_count": 2,
   "metadata": {},
   "outputs": [],
   "source": [
    "from pyspark.sql import SparkSession\n",
    "from pyspark.ml.feature import VectorAssembler\n",
    "from pyspark.ml.classification import LogisticRegression\n",
    "from pyspark.sql.functions import when"
   ]
  },
  {
   "cell_type": "code",
   "execution_count": 3,
   "metadata": {},
   "outputs": [],
   "source": [
    "spark = SparkSession.builder.appName(\n",
    "    \"HeartDiseaseClassification\"\n",
    ").getOrCreate()"
   ]
  },
  {
   "cell_type": "code",
   "execution_count": 4,
   "metadata": {},
   "outputs": [],
   "source": [
    "# Read the data\n",
    "df = spark.read.option(\n",
    "    \"delimiter\", \" \"\n",
    ").csv('heart.dat', inferSchema=True, header=False)"
   ]
  },
  {
   "cell_type": "code",
   "execution_count": 5,
   "metadata": {},
   "outputs": [
    {
     "name": "stdout",
     "output_type": "stream",
     "text": [
      "+----+---+---+-----+-----+---+---+-----+---+---+----+----+----+----+\n",
      "| _c0|_c1|_c2|  _c3|  _c4|_c5|_c6|  _c7|_c8|_c9|_c10|_c11|_c12|_c13|\n",
      "+----+---+---+-----+-----+---+---+-----+---+---+----+----+----+----+\n",
      "|70.0|1.0|4.0|130.0|322.0|0.0|2.0|109.0|0.0|2.4| 2.0| 3.0| 3.0|   2|\n",
      "|67.0|0.0|3.0|115.0|564.0|0.0|2.0|160.0|0.0|1.6| 2.0| 0.0| 7.0|   1|\n",
      "|57.0|1.0|2.0|124.0|261.0|0.0|0.0|141.0|0.0|0.3| 1.0| 0.0| 7.0|   2|\n",
      "|64.0|1.0|4.0|128.0|263.0|0.0|0.0|105.0|1.0|0.2| 2.0| 1.0| 7.0|   1|\n",
      "|74.0|0.0|2.0|120.0|269.0|0.0|2.0|121.0|1.0|0.2| 1.0| 1.0| 3.0|   1|\n",
      "+----+---+---+-----+-----+---+---+-----+---+---+----+----+----+----+\n",
      "only showing top 5 rows\n",
      "\n"
     ]
    }
   ],
   "source": [
    "df.show(5)"
   ]
  },
  {
   "cell_type": "code",
   "execution_count": 6,
   "metadata": {},
   "outputs": [
    {
     "name": "stdout",
     "output_type": "stream",
     "text": [
      "+----+---+-----+------------+----------+--------------+-----------------+------------+------+-------+-------+----------+----+\n",
      "|year|sex|tPain|restPressure|colesterol|bloodSugarL120|electrocardioRest|maxHeartRate|angina|oldPeak|stSlope|numVessels|thal|\n",
      "+----+---+-----+------------+----------+--------------+-----------------+------------+------+-------+-------+----------+----+\n",
      "|70.0|1.0|  4.0|       130.0|     322.0|           0.0|              2.0|       109.0|   0.0|    2.4|    2.0|       3.0| 3.0|\n",
      "|67.0|0.0|  3.0|       115.0|     564.0|           0.0|              2.0|       160.0|   0.0|    1.6|    2.0|       0.0| 7.0|\n",
      "|57.0|1.0|  2.0|       124.0|     261.0|           0.0|              0.0|       141.0|   0.0|    0.3|    1.0|       0.0| 7.0|\n",
      "|64.0|1.0|  4.0|       128.0|     263.0|           0.0|              0.0|       105.0|   1.0|    0.2|    2.0|       1.0| 7.0|\n",
      "|74.0|0.0|  2.0|       120.0|     269.0|           0.0|              2.0|       121.0|   1.0|    0.2|    1.0|       1.0| 3.0|\n",
      "+----+---+-----+------------+----------+--------------+-----------------+------------+------+-------+-------+----------+----+\n",
      "only showing top 5 rows\n",
      "\n"
     ]
    }
   ],
   "source": [
    "# Rename the columns\n",
    "new_column_names = [\n",
    "    'year',\n",
    "    'sex',\n",
    "    'tPain',\n",
    "    'restPressure', \n",
    "    'colesterol',\n",
    "    'bloodSugarL120', \n",
    "    'electrocardioRest',\n",
    "    'maxHeartRate', \n",
    "    'angina',\n",
    "    'oldPeak',\n",
    "    'stSlope', \n",
    "    'numVessels',\n",
    "    'thal'\n",
    "]\n",
    "for i in range(len(new_column_names)):\n",
    "    df = df.withColumnRenamed(df.columns[i], new_column_names[i])\n",
    "df = df.drop(df.columns[-1])\n",
    "df.show(5)"
   ]
  },
  {
   "cell_type": "code",
   "execution_count": 10,
   "metadata": {},
   "outputs": [
    {
     "data": {
      "text/plain": [
       "[('year', 'double'),\n",
       " ('sex', 'double'),\n",
       " ('tPain', 'double'),\n",
       " ('restPressure', 'double'),\n",
       " ('colesterol', 'double'),\n",
       " ('bloodSugarL120', 'double'),\n",
       " ('electrocardioRest', 'double'),\n",
       " ('maxHeartRate', 'double'),\n",
       " ('angina', 'double'),\n",
       " ('oldPeak', 'double'),\n",
       " ('stSlope', 'double'),\n",
       " ('numVessels', 'double'),\n",
       " ('thal', 'double')]"
      ]
     },
     "execution_count": 10,
     "metadata": {},
     "output_type": "execute_result"
    }
   ],
   "source": [
    "df.dtypes"
   ]
  },
  {
   "cell_type": "code",
   "execution_count": 11,
   "metadata": {},
   "outputs": [
    {
     "name": "stdout",
     "output_type": "stream",
     "text": [
      "+----+---+-----+------------+----------+--------------+-----------------+------------+------+-------+-------+----------+----+----+\n",
      "|year|sex|tPain|restPressure|colesterol|bloodSugarL120|electrocardioRest|maxHeartRate|angina|oldPeak|stSlope|numVessels|thal|sick|\n",
      "+----+---+-----+------------+----------+--------------+-----------------+------------+------+-------+-------+----------+----+----+\n",
      "|70.0|1.0|  4.0|       130.0|     322.0|           0.0|              2.0|       109.0|   0.0|    2.4|    2.0|       3.0| 3.0|   0|\n",
      "|67.0|0.0|  3.0|       115.0|     564.0|           0.0|              2.0|       160.0|   0.0|    1.6|    2.0|       0.0| 7.0|   1|\n",
      "|57.0|1.0|  2.0|       124.0|     261.0|           0.0|              0.0|       141.0|   0.0|    0.3|    1.0|       0.0| 7.0|   1|\n",
      "|64.0|1.0|  4.0|       128.0|     263.0|           0.0|              0.0|       105.0|   1.0|    0.2|    2.0|       1.0| 7.0|   1|\n",
      "|74.0|0.0|  2.0|       120.0|     269.0|           0.0|              2.0|       121.0|   1.0|    0.2|    1.0|       1.0| 3.0|   0|\n",
      "+----+---+-----+------------+----------+--------------+-----------------+------------+------+-------+-------+----------+----+----+\n",
      "only showing top 5 rows\n",
      "\n"
     ]
    }
   ],
   "source": [
    "df = df.withColumn(\n",
    "    'sick',\n",
    "    when((df['thal'] == 3) | (df['thal'] == 6), 0).otherwise(1)\n",
    ")\n",
    "df.show(5)"
   ]
  },
  {
   "cell_type": "code",
   "execution_count": 12,
   "metadata": {},
   "outputs": [
    {
     "name": "stdout",
     "output_type": "stream",
     "text": [
      "+----+---+-----+------------+----------+--------------+-----------------+------------+------+-------+-------+----------+----+----+-------+\n",
      "|year|sex|tPain|restPressure|colesterol|bloodSugarL120|electrocardioRest|maxHeartRate|angina|oldPeak|stSlope|numVessels|thal|sick|newSick|\n",
      "+----+---+-----+------------+----------+--------------+-----------------+------------+------+-------+-------+----------+----+----+-------+\n",
      "|70.0|1.0|  4.0|       130.0|     322.0|           0.0|              2.0|       109.0|   0.0|    2.4|    2.0|       3.0| 3.0|   0|      0|\n",
      "|67.0|0.0|  3.0|       115.0|     564.0|           0.0|              2.0|       160.0|   0.0|    1.6|    2.0|       0.0| 7.0|   1|      1|\n",
      "|57.0|1.0|  2.0|       124.0|     261.0|           0.0|              0.0|       141.0|   0.0|    0.3|    1.0|       0.0| 7.0|   1|      1|\n",
      "|64.0|1.0|  4.0|       128.0|     263.0|           0.0|              0.0|       105.0|   1.0|    0.2|    2.0|       1.0| 7.0|   1|      1|\n",
      "|74.0|0.0|  2.0|       120.0|     269.0|           0.0|              2.0|       121.0|   1.0|    0.2|    1.0|       1.0| 3.0|   0|      0|\n",
      "+----+---+-----+------------+----------+--------------+-----------------+------------+------+-------+-------+----------+----+----+-------+\n",
      "only showing top 5 rows\n",
      "\n"
     ]
    }
   ],
   "source": [
    "df = df.transform(\n",
    "    lambda df: df.withColumn(\n",
    "        'newSick',\n",
    "        when((df['thal'] == 3) | (df['thal'] == 6), 0).otherwise(1))\n",
    ")\n",
    "\n",
    "df.show(5)"
   ]
  },
  {
   "cell_type": "code",
   "execution_count": 13,
   "metadata": {},
   "outputs": [
    {
     "name": "stdout",
     "output_type": "stream",
     "text": [
      "+----+---+-----+------------+----------+--------------+-----------------+------------+------+-------+-------+----------+----+----+\n",
      "|year|sex|tPain|restPressure|colesterol|bloodSugarL120|electrocardioRest|maxHeartRate|angina|oldPeak|stSlope|numVessels|thal|sick|\n",
      "+----+---+-----+------------+----------+--------------+-----------------+------------+------+-------+-------+----------+----+----+\n",
      "|70.0|1.0|  4.0|       130.0|     322.0|           0.0|              2.0|       109.0|   0.0|    2.4|    2.0|       3.0| 3.0|   0|\n",
      "|67.0|0.0|  3.0|       115.0|     564.0|           0.0|              2.0|       160.0|   0.0|    1.6|    2.0|       0.0| 7.0|   1|\n",
      "|57.0|1.0|  2.0|       124.0|     261.0|           0.0|              0.0|       141.0|   0.0|    0.3|    1.0|       0.0| 7.0|   1|\n",
      "|64.0|1.0|  4.0|       128.0|     263.0|           0.0|              0.0|       105.0|   1.0|    0.2|    2.0|       1.0| 7.0|   1|\n",
      "|74.0|0.0|  2.0|       120.0|     269.0|           0.0|              2.0|       121.0|   1.0|    0.2|    1.0|       1.0| 3.0|   0|\n",
      "+----+---+-----+------------+----------+--------------+-----------------+------------+------+-------+-------+----------+----+----+\n",
      "only showing top 5 rows\n",
      "\n"
     ]
    }
   ],
   "source": [
    "# drop newSick column\n",
    "df = df.drop('newSick')\n",
    "df.show(5)"
   ]
  },
  {
   "cell_type": "code",
   "execution_count": 14,
   "metadata": {},
   "outputs": [],
   "source": [
    "# Assemble all the features into a single vector\n",
    "assembler = VectorAssembler(\n",
    "    inputCols=[\n",
    "        'year', 'sex', 'tPain', 'restPressure',\n",
    "        'colesterol', 'bloodSugarL120', 'electrocardioRest',\n",
    "        'maxHeartRate', 'angina', 'oldPeak', 'stSlope',\n",
    "        'numVessels'\n",
    "    ],\n",
    "    outputCol='features'\n",
    ")\n",
    "\n",
    "df = assembler.transform(df)"
   ]
  },
  {
   "cell_type": "code",
   "execution_count": 15,
   "metadata": {},
   "outputs": [
    {
     "name": "stdout",
     "output_type": "stream",
     "text": [
      "+----+---+-----+------------+----------+--------------+-----------------+------------+------+-------+-------+----------+----+----+--------------------+\n",
      "|year|sex|tPain|restPressure|colesterol|bloodSugarL120|electrocardioRest|maxHeartRate|angina|oldPeak|stSlope|numVessels|thal|sick|            features|\n",
      "+----+---+-----+------------+----------+--------------+-----------------+------------+------+-------+-------+----------+----+----+--------------------+\n",
      "|70.0|1.0|  4.0|       130.0|     322.0|           0.0|              2.0|       109.0|   0.0|    2.4|    2.0|       3.0| 3.0|   0|[70.0,1.0,4.0,130...|\n",
      "|67.0|0.0|  3.0|       115.0|     564.0|           0.0|              2.0|       160.0|   0.0|    1.6|    2.0|       0.0| 7.0|   1|[67.0,0.0,3.0,115...|\n",
      "|57.0|1.0|  2.0|       124.0|     261.0|           0.0|              0.0|       141.0|   0.0|    0.3|    1.0|       0.0| 7.0|   1|[57.0,1.0,2.0,124...|\n",
      "|64.0|1.0|  4.0|       128.0|     263.0|           0.0|              0.0|       105.0|   1.0|    0.2|    2.0|       1.0| 7.0|   1|[64.0,1.0,4.0,128...|\n",
      "|74.0|0.0|  2.0|       120.0|     269.0|           0.0|              2.0|       121.0|   1.0|    0.2|    1.0|       1.0| 3.0|   0|[74.0,0.0,2.0,120...|\n",
      "+----+---+-----+------------+----------+--------------+-----------------+------------+------+-------+-------+----------+----+----+--------------------+\n",
      "only showing top 5 rows\n",
      "\n"
     ]
    }
   ],
   "source": [
    "df.show(5)"
   ]
  },
  {
   "cell_type": "code",
   "execution_count": 16,
   "metadata": {},
   "outputs": [],
   "source": [
    "# Select only the 'features' and 'new_column' for the model\n",
    "model_data = df.select('features', 'sick')\n",
    "\n",
    "# Rename 'new_column' to 'label' as required by MLlib\n",
    "model_data = model_data.withColumnRenamed('sick', 'label')\n",
    "\n",
    "# Split the data into training and test sets\n",
    "train_data, test_data = model_data.randomSplit([0.7, 0.3])"
   ]
  },
  {
   "cell_type": "code",
   "execution_count": 17,
   "metadata": {},
   "outputs": [
    {
     "name": "stdout",
     "output_type": "stream",
     "text": [
      "+--------------------+-----+--------------------+--------------------+----------+\n",
      "|            features|label|       rawPrediction|         probability|prediction|\n",
      "+--------------------+-----+--------------------+--------------------+----------+\n",
      "|(12,[0,2,3,4,7,10...|    0|[3.29444650177848...|[0.96423780092264...|       0.0|\n",
      "|[29.0,1.0,2.0,130...|    0|[1.68330619836882...|[0.84334183010437...|       0.0|\n",
      "|[35.0,1.0,4.0,126...|    1|[0.04022173626572...|[0.51005407865560...|       0.0|\n",
      "|[40.0,1.0,1.0,140...|    1|[0.98237922910892...|[0.72758005222614...|       0.0|\n",
      "|[40.0,1.0,4.0,110...|    1|[-0.2407645079885...|[0.44009795836661...|       1.0|\n",
      "|[40.0,1.0,4.0,152...|    1|[-0.2790060296920...|[0.43069747795044...|       1.0|\n",
      "|[41.0,0.0,2.0,105...|    0|[3.82278970785327...|[0.97860120729678...|       0.0|\n",
      "|[41.0,0.0,3.0,112...|    0|[3.10797251035206...|[0.95722040801919...|       0.0|\n",
      "|[41.0,1.0,2.0,110...|    0|[1.77370328226339...|[0.85491760609190...|       0.0|\n",
      "|[41.0,1.0,3.0,130...|    0|[0.50733046782399...|[0.62418046561032...|       0.0|\n",
      "|[42.0,0.0,4.0,102...|    0|[3.11217998035086...|[0.95739237074011...|       0.0|\n",
      "|[42.0,1.0,3.0,130...|    0|[0.84112131605465...|[0.69870132555477...|       0.0|\n",
      "|[43.0,0.0,3.0,122...|    0|[2.76017378875899...|[0.94048536218481...|       0.0|\n",
      "|[43.0,0.0,4.0,132...|    1|[1.70949625312891...|[0.84677093453619...|       0.0|\n",
      "|[44.0,0.0,3.0,108...|    0|[2.77732353280049...|[0.94143805851265...|       0.0|\n",
      "|[44.0,1.0,4.0,110...|    0|[0.41496671894774...|[0.60227820480017...|       0.0|\n",
      "|[44.0,1.0,4.0,112...|    0|[0.61428803867618...|[0.64891834004866...|       0.0|\n",
      "|[46.0,1.0,3.0,150...|    0|[-0.2512645866777...|[0.43751226574522...|       1.0|\n",
      "|[47.0,1.0,3.0,138...|    0|[1.15370638954938...|[0.76018725283020...|       0.0|\n",
      "|[48.0,1.0,2.0,110...|    1|[0.57571213591336...|[0.64008017322191...|       0.0|\n",
      "+--------------------+-----+--------------------+--------------------+----------+\n",
      "only showing top 20 rows\n",
      "\n"
     ]
    }
   ],
   "source": [
    "# Create a Logistic Regression model and fit it to the training data\n",
    "lr = LogisticRegression()\n",
    "lr_model = lr.fit(train_data)\n",
    "\n",
    "# Make predictions on the test data\n",
    "predictions = lr_model.transform(test_data)\n",
    "\n",
    "# Show some predictions\n",
    "predictions.show()"
   ]
  },
  {
   "cell_type": "code",
   "execution_count": 18,
   "metadata": {},
   "outputs": [],
   "source": [
    "spark.stop()"
   ]
  }
 ],
 "metadata": {
  "kernelspec": {
   "display_name": "Python 3",
   "language": "python",
   "name": "python3"
  },
  "language_info": {
   "codemirror_mode": {
    "name": "ipython",
    "version": 3
   },
   "file_extension": ".py",
   "mimetype": "text/x-python",
   "name": "python",
   "nbconvert_exporter": "python",
   "pygments_lexer": "ipython3",
   "version": "3.11.1"
  },
  "orig_nbformat": 4
 },
 "nbformat": 4,
 "nbformat_minor": 2
}
