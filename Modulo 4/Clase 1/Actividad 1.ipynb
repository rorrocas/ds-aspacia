{
 "cells": [
  {
   "cell_type": "markdown",
   "metadata": {},
   "source": [
    "### Actividad 1 Modulo 4"
   ]
  },
  {
   "cell_type": "code",
   "execution_count": 1,
   "metadata": {},
   "outputs": [],
   "source": [
    "import random"
   ]
  },
  {
   "attachments": {},
   "cell_type": "markdown",
   "metadata": {},
   "source": [
    "### Caso 1:\n",
    "\n",
    "Un dado está trucado, de forma que las probabilidades de obtener las distintas\n",
    "caras son proporcionales a los números de estas.\n",
    "\n",
    "Hallar:\n",
    "\n",
    "-  La probabilidad de obtener el 6 en un lanzamiento."
   ]
  },
  {
   "cell_type": "code",
   "execution_count": 96,
   "metadata": {},
   "outputs": [
    {
     "name": "stdout",
     "output_type": "stream",
     "text": [
      "La probabilidad de obtener 6 es: aproximadamente 0.1663\n"
     ]
    }
   ],
   "source": [
    "n_trials = 1_000_000\n",
    "num_odds = 0\n",
    "\n",
    "for i in range(n_trials):\n",
    "\n",
    "    roll = random.randint(1, 6)\n",
    "\n",
    "    if roll == 6:\n",
    "\n",
    "        num_odds += 1\n",
    "\n",
    "probability = num_odds / n_trials\n",
    "\n",
    "print(\n",
    "    f\"La probabilidad de obtener 6 es:\"\n",
    "    f\" aproximadamente {probability:.4f}\"\n",
    ")"
   ]
  },
  {
   "cell_type": "code",
   "execution_count": 94,
   "metadata": {},
   "outputs": [
    {
     "data": {
      "text/plain": [
       "0.16666666666666666"
      ]
     },
     "execution_count": 94,
     "metadata": {},
     "output_type": "execute_result"
    }
   ],
   "source": [
    "1/6"
   ]
  },
  {
   "attachments": {},
   "cell_type": "markdown",
   "metadata": {},
   "source": [
    "-  La probabilidad de conseguir un número impar en un lanzamiento."
   ]
  },
  {
   "cell_type": "code",
   "execution_count": 99,
   "metadata": {},
   "outputs": [
    {
     "name": "stdout",
     "output_type": "stream",
     "text": [
      "La probabilidad de obtener 6 es: aproximadamente 0.50\n"
     ]
    }
   ],
   "source": [
    "n_trials = 1_000_000\n",
    "num_odds = 0\n",
    "\n",
    "for i in range(n_trials):\n",
    "\n",
    "    roll = random.randint(1, 6)\n",
    "\n",
    "    if roll % 2 != 0:\n",
    "        num_odds += 1\n",
    "\n",
    "probability = num_odds / n_trials\n",
    "\n",
    "print(\n",
    "    f\"La probabilidad de obtener 6 es:\"\n",
    "    f\" aproximadamente {probability:.2f}\"\n",
    ")"
   ]
  },
  {
   "cell_type": "code",
   "execution_count": 97,
   "metadata": {},
   "outputs": [
    {
     "data": {
      "text/plain": [
       "0.5"
      ]
     },
     "execution_count": 97,
     "metadata": {},
     "output_type": "execute_result"
    }
   ],
   "source": [
    "# 1, 3, 5\n",
    "3/6"
   ]
  },
  {
   "attachments": {},
   "cell_type": "markdown",
   "metadata": {},
   "source": [
    "Se lanzan dos dados al aire y se anota la suma de los puntos obtenidos. Se pide:\n",
    "\n",
    "- probabilidad de que salga el 7."
   ]
  },
  {
   "cell_type": "code",
   "execution_count": 32,
   "metadata": {},
   "outputs": [
    {
     "name": "stdout",
     "output_type": "stream",
     "text": [
      "La probabilidad de obtener 7 es: aproximadamente 0.17\n"
     ]
    }
   ],
   "source": [
    "num_trials = 1_000_000\n",
    "num_odds = 0\n",
    "\n",
    "for i in range(num_trials):\n",
    "\n",
    "    roll_1 = random.randint(1, 6)\n",
    "    roll_2 = random.randint(1, 6)\n",
    "\n",
    "    if roll_1 + roll_2 == 7:\n",
    "\n",
    "        num_odds += 1\n",
    "\n",
    "probability = num_odds / num_trials\n",
    "\n",
    "print(\n",
    "    f\"La probabilidad de obtener 7 es:\"\n",
    "    f\" aproximadamente {probability:.2f}\"\n",
    ")"
   ]
  },
  {
   "attachments": {},
   "cell_type": "markdown",
   "metadata": {},
   "source": [
    "- La probabilidad de que el número obtenido sea par."
   ]
  },
  {
   "cell_type": "code",
   "execution_count": 34,
   "metadata": {},
   "outputs": [
    {
     "name": "stdout",
     "output_type": "stream",
     "text": [
      "La probabilidad de que la suma sea par es: aproximadamente 0.50\n"
     ]
    }
   ],
   "source": [
    "num_trials = 1_000_000\n",
    "num_odds = 0\n",
    "\n",
    "for i in range(num_trials):\n",
    "\n",
    "    roll_1 = random.randint(1, 6)\n",
    "    roll_2 = random.randint(1, 6)\n",
    "\n",
    "    if (roll_1 + roll_2) % 2 == 0:\n",
    "\n",
    "        num_odds += 1\n",
    "\n",
    "probability = num_odds / num_trials\n",
    "\n",
    "print(\n",
    "    f\"La probabilidad de que la suma sea par es:\"\n",
    "    f\" aproximadamente {probability:.2f}\"\n",
    ")"
   ]
  },
  {
   "attachments": {},
   "cell_type": "markdown",
   "metadata": {},
   "source": [
    "- La probabilidad de que el número obtenido sea múltiplo de 3"
   ]
  },
  {
   "cell_type": "code",
   "execution_count": 35,
   "metadata": {},
   "outputs": [
    {
     "name": "stdout",
     "output_type": "stream",
     "text": [
      "La probabilidad de que la suma sea multiplo de 3: aproximadamente 0.33\n"
     ]
    }
   ],
   "source": [
    "num_trials = 1_000_000\n",
    "num_odds = 0\n",
    "\n",
    "for i in range(num_trials):\n",
    "\n",
    "    roll_1 = random.randint(1, 6)\n",
    "    roll_2 = random.randint(1, 6)\n",
    "\n",
    "    if (roll_1 + roll_2) % 3 == 0:\n",
    "\n",
    "        num_odds += 1\n",
    "\n",
    "probability = num_odds / num_trials\n",
    "\n",
    "print(\n",
    "    f\"La probabilidad de que la suma sea multiplo de 3:\"\n",
    "    f\" aproximadamente {probability:.2f}\"\n",
    ")"
   ]
  },
  {
   "attachments": {},
   "cell_type": "markdown",
   "metadata": {},
   "source": [
    "### Caso 3\n",
    "\n",
    "Se lanzan al aire 3 monedas iguales. Calcula la probabilidad de que salgan dos\n",
    "caras y una cruz."
   ]
  },
  {
   "cell_type": "code",
   "execution_count": 38,
   "metadata": {},
   "outputs": [
    {
     "name": "stdout",
     "output_type": "stream",
     "text": [
      "La probabilidad de obtener 2 caras y 1 sello es 0.37\n"
     ]
    }
   ],
   "source": [
    "#Define outcomes\n",
    "outcomes = [\"heads\",\"tails\"]\n",
    "\n",
    "num_trials = 1_000_000\n",
    "num_accert = 0\n",
    "\n",
    "monedas = []\n",
    "#Simulate flipping a coin\n",
    "for i in range(num_trials):\n",
    "    for j in range(3):\n",
    "        monedas.append(random.choice(outcomes))\n",
    "\n",
    "    cant_caras = monedas.count(\"heads\")\n",
    "    cant_sellos = monedas.count(\"tails\")\n",
    "    if cant_caras == 2 and cant_sellos == 1:\n",
    "        num_accert +=1\n",
    "    monedas = []\n",
    "prob_heads = num_accert / num_trials\n",
    "\n",
    "print(f\"La probabilidad de obtener 2 caras y 1 sello es {prob_heads:.2f}\")"
   ]
  },
  {
   "attachments": {},
   "cell_type": "markdown",
   "metadata": {},
   "source": [
    "### Caso 4\n",
    "\n",
    "Una bolsa contiene 2 bolas negras y 3 bolas blancas. Otra bolsa tiene 4 bolas\n",
    "negras y 2 blancas. Se elige una de las bolsas al azar y se extrae una bola.\n",
    "Calcular la probabilidad de:\n",
    "\n",
    "a.- La bola es blanca y de la primera bolsa."
   ]
  },
  {
   "cell_type": "code",
   "execution_count": 56,
   "metadata": {},
   "outputs": [
    {
     "name": "stdout",
     "output_type": "stream",
     "text": [
      "La probabilidad de obtener una bola blanca de la primera bolsa es 0.30\n"
     ]
    }
   ],
   "source": [
    "bolsas = {\n",
    "        \"bolsa1\":[\"negra\",\"negra\",\"blanca\",\"blanca\",\"blanca\"],\n",
    "        \"bolsa2\":[\"negra\",\"negra\",\"negra\",\"negra\",\"blanca\",\"blanca\"]\n",
    "    }\n",
    "\n",
    "# 5 blancas, 6 negras\n",
    "num_trials = 1_000_000\n",
    "num_accert = 0\n",
    "\n",
    "#Simulate flipping a coin\n",
    "for i in range(num_trials):\n",
    "\n",
    "    bolsa_elegida = random.choice([\"bolsa1\",\"bolsa2\"])\n",
    "    bola_elegida = random.choice(bolsas[bolsa_elegida])\n",
    "\n",
    "    if bolsa_elegida == \"bolsa1\" and bola_elegida == \"blanca\":\n",
    "        num_accert +=1\n",
    "    \n",
    "prob_heads = num_accert / num_trials\n",
    "print(f\"La probabilidad de obtener una bola blanca de la primera bolsa es {prob_heads:.2f}\")"
   ]
  },
  {
   "cell_type": "code",
   "execution_count": 61,
   "metadata": {},
   "outputs": [
    {
     "data": {
      "text/plain": [
       "0.3"
      ]
     },
     "execution_count": 61,
     "metadata": {},
     "output_type": "execute_result"
    }
   ],
   "source": [
    "3/10"
   ]
  },
  {
   "attachments": {},
   "cell_type": "markdown",
   "metadata": {},
   "source": [
    "b.- La bola es blanca."
   ]
  },
  {
   "cell_type": "code",
   "execution_count": 57,
   "metadata": {},
   "outputs": [
    {
     "name": "stdout",
     "output_type": "stream",
     "text": [
      "La probabilidad de obtener una bola blanca es 0.47\n"
     ]
    }
   ],
   "source": [
    "bolsas = {\n",
    "        \"bolsa1\":[\"negra\",\"negra\",\"blanca\",\"blanca\",\"blanca\"],\n",
    "        \"bolsa2\":[\"negra\",\"negra\",\"negra\",\"negra\",\"blanca\",\"blanca\"]\n",
    "    }\n",
    "\n",
    "num_trials = 1_000_000\n",
    "num_accert = 0\n",
    "\n",
    "#Simulate flipping a coin\n",
    "for i in range(num_trials):\n",
    "\n",
    "    bolsa_elegida = random.choice([\"bolsa1\",\"bolsa2\"])\n",
    "    bola_elegida = random.choice(bolsas[bolsa_elegida])\n",
    "\n",
    "    if bola_elegida == \"blanca\":\n",
    "        num_accert +=1\n",
    "    \n",
    "prob_heads = num_accert / num_trials\n",
    "print(f\"La probabilidad de obtener una bola blanca es {prob_heads:.2f}\")"
   ]
  },
  {
   "cell_type": "code",
   "execution_count": 60,
   "metadata": {},
   "outputs": [
    {
     "data": {
      "text/plain": [
       "0.4666666666666667"
      ]
     },
     "execution_count": 60,
     "metadata": {},
     "output_type": "execute_result"
    }
   ],
   "source": [
    "14/30"
   ]
  },
  {
   "attachments": {},
   "cell_type": "markdown",
   "metadata": {},
   "source": [
    "c.- Si la bola es negra, ¿cuál es la probabilidad de que sea de la segunda bolsa?"
   ]
  },
  {
   "cell_type": "code",
   "execution_count": 86,
   "metadata": {},
   "outputs": [
    {
     "name": "stdout",
     "output_type": "stream",
     "text": [
      "La probabilidad de obtener una bola negra de la segunda bolsa es 0.6242\n"
     ]
    }
   ],
   "source": [
    "bolsas = {\n",
    "        \"bolsa1\":[\"negra\",\"negra\",\"blanca\",\"blanca\",\"blanca\"],\n",
    "        \"bolsa2\":[\"negra\",\"negra\",\"negra\",\"negra\",\"blanca\",\"blanca\"]\n",
    "    }\n",
    "\n",
    "num_trials = 1_000_000\n",
    "num_bolas_negras = 0\n",
    "num_accert = 0\n",
    "\n",
    "#Simulate flipping a coin\n",
    "for i in range(num_trials):\n",
    "\n",
    "    bolsa_elegida = random.choice([\"bolsa1\",\"bolsa2\"])\n",
    "    bola_elegida = random.choice(bolsas[bolsa_elegida])\n",
    "\n",
    "    if bola_elegida == \"negra\":\n",
    "        num_bolas_negras += 1\n",
    "        if bolsa_elegida == \"bolsa2\":\n",
    "            num_accert +=1\n",
    "    \n",
    "prob_heads = num_accert / num_bolas_negras\n",
    "print(f\"La probabilidad de obtener una bola negra de la segunda bolsa es {prob_heads:.4f}\")"
   ]
  },
  {
   "cell_type": "code",
   "execution_count": 92,
   "metadata": {},
   "outputs": [
    {
     "data": {
      "text/plain": [
       "0.625"
      ]
     },
     "execution_count": 92,
     "metadata": {},
     "output_type": "execute_result"
    }
   ],
   "source": [
    "30/48"
   ]
  },
  {
   "attachments": {},
   "cell_type": "markdown",
   "metadata": {},
   "source": [
    "### Preguntas Guia:\n",
    "\n",
    "- Concepto de probabilidad\n",
    "\n",
    "**R: Es una forma de cuantificar la ocurrencia de un echo en un universo de otros eventos.**\n",
    "\n",
    "- Espacio Muestral\n",
    "\n",
    "**R: Es la totalidad de eventos posibles en estudio.**\n",
    "\n",
    "- Árboles de decisiones\n",
    "\n",
    "**R: Es un diagrama que nos señala dado ciertas condiciones que eventos o camino se debe seleccionar.**\n",
    "\n",
    "- Teorema de Bayes\n",
    "\n",
    "**R: Es una teoria que nos señala como calcular la probabildad de que un evento ocurra dado que ya ah ocurrido otro en particular.**"
   ]
  }
 ],
 "metadata": {
  "kernelspec": {
   "display_name": "Python 3",
   "language": "python",
   "name": "python3"
  },
  "language_info": {
   "codemirror_mode": {
    "name": "ipython",
    "version": 3
   },
   "file_extension": ".py",
   "mimetype": "text/x-python",
   "name": "python",
   "nbconvert_exporter": "python",
   "pygments_lexer": "ipython3",
   "version": "3.11.1"
  },
  "orig_nbformat": 4
 },
 "nbformat": 4,
 "nbformat_minor": 2
}
