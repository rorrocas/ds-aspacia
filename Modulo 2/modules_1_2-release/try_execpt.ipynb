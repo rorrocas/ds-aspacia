{
 "cells": [
  {
   "cell_type": "code",
   "execution_count": 3,
   "metadata": {},
   "outputs": [],
   "source": [
    "data_science_students = [\n",
    "    \"Claudio Bahamonde\",\n",
    "    \"Felipe Abarzúa\",\n",
    "    \"Diego Rodriguez\",\n",
    "    \"Javier Pizarro\",\n",
    "    \"Smilling Battaglini\",\n",
    "    \"Pamela Labbé\",\n",
    "    \"Marilina Fuentes\",\n",
    "    \"Jaime Castillo\",\n",
    "    \"Rodrigo Castillo\",\n",
    "    \"Ignacia Arenas\",\n",
    "    \"Luis reyes\",\n",
    "    \"Felipe Cabello\",\n",
    "    \"Polette Pino\",\n",
    "    \"Karen Lobos\",\n",
    "    \"Diego Ávila\",\n",
    "    \"Constanza Guzman\",\n",
    "    \"Nicole Alejandra Araya\",\n",
    "    \"Carlos Andrés Abarca\",\n",
    "    \"Marco Antonio Ramos\",\n",
    "    \"Claudia Araya\",\n",
    "    \"Daniela Hernández\",\n",
    "    \"Sergio Ananias\",\n",
    "    \"Alexis Bacian\",\n",
    "    \"Cristian Alvarez\",\n",
    "    \"Nubia Ascencio\",\n",
    "    \"Veronica Marín\",\n",
    "    \"Liliana Romina Garmendia\",\n",
    "    \"Rocio Macari\",\n",
    "    \"Loreto Llambias\",\n",
    "    \"Braulio Valdés\",\n",
    "]"
   ]
  },
  {
   "cell_type": "code",
   "execution_count": 4,
   "metadata": {},
   "outputs": [],
   "source": [
    "import random\n",
    "\n",
    "def random_student():\n",
    "    return random.choice(data_science_students)\n",
    "\n",
    "def n_random_students(n_students):\n",
    "    return random.sample(data_science_students, n_students)"
   ]
  },
  {
   "attachments": {},
   "cell_type": "markdown",
   "metadata": {},
   "source": [
    "# Exceptions"
   ]
  },
  {
   "cell_type": "code",
   "execution_count": 5,
   "metadata": {},
   "outputs": [
    {
     "ename": "ZeroDivisionError",
     "evalue": "division by zero",
     "output_type": "error",
     "traceback": [
      "\u001b[0;31m---------------------------------------------------------------------------\u001b[0m",
      "\u001b[0;31mZeroDivisionError\u001b[0m                         Traceback (most recent call last)",
      "\u001b[0;32m/tmp/ipykernel_33391/3627099327.py\u001b[0m in \u001b[0;36m<module>\u001b[0;34m\u001b[0m\n\u001b[0;32m----> 1\u001b[0;31m \u001b[0;36m2\u001b[0m\u001b[0;34m/\u001b[0m\u001b[0;36m0\u001b[0m\u001b[0;34m\u001b[0m\u001b[0;34m\u001b[0m\u001b[0m\n\u001b[0m",
      "\u001b[0;31mZeroDivisionError\u001b[0m: division by zero"
     ]
    }
   ],
   "source": [
    "2/0"
   ]
  },
  {
   "cell_type": "code",
   "execution_count": 12,
   "metadata": {},
   "outputs": [],
   "source": [
    "# pedir al usuario que ingrese dos números y dividirlos\n",
    "\n",
    "numero_1 = float(input(\"Ingrese un número: \"))\n",
    "numero_2 = float(input(\"Ingrese otro número: \"))"
   ]
  },
  {
   "cell_type": "code",
   "execution_count": 6,
   "metadata": {},
   "outputs": [
    {
     "data": {
      "text/plain": [
       "'Smilling Battaglini'"
      ]
     },
     "execution_count": 6,
     "metadata": {},
     "output_type": "execute_result"
    }
   ],
   "source": [
    "random_student()"
   ]
  },
  {
   "cell_type": "code",
   "execution_count": 16,
   "metadata": {},
   "outputs": [
    {
     "name": "stdout",
     "output_type": "stream",
     "text": [
      "El segundo número no puede ser 0\n"
     ]
    },
    {
     "ename": "ZeroDivisionError",
     "evalue": "float division by zero",
     "output_type": "error",
     "traceback": [
      "\u001b[0;31m---------------------------------------------------------------------------\u001b[0m",
      "\u001b[0;31mZeroDivisionError\u001b[0m                         Traceback (most recent call last)",
      "\u001b[0;32m/tmp/ipykernel_33391/339314195.py\u001b[0m in \u001b[0;36m<module>\u001b[0;34m\u001b[0m\n\u001b[1;32m      5\u001b[0m \u001b[0;32mtry\u001b[0m\u001b[0;34m:\u001b[0m\u001b[0;34m\u001b[0m\u001b[0;34m\u001b[0m\u001b[0m\n\u001b[0;32m----> 6\u001b[0;31m     \u001b[0mprint\u001b[0m\u001b[0;34m(\u001b[0m\u001b[0mnumero_1\u001b[0m \u001b[0;34m/\u001b[0m \u001b[0mnumero_2\u001b[0m\u001b[0;34m)\u001b[0m\u001b[0;34m\u001b[0m\u001b[0;34m\u001b[0m\u001b[0m\n\u001b[0m\u001b[1;32m      7\u001b[0m \u001b[0;34m\u001b[0m\u001b[0m\n",
      "\u001b[0;31mZeroDivisionError\u001b[0m: float division by zero",
      "\nDuring handling of the above exception, another exception occurred:\n",
      "\u001b[0;31mZeroDivisionError\u001b[0m                         Traceback (most recent call last)",
      "\u001b[0;32m/tmp/ipykernel_33391/339314195.py\u001b[0m in \u001b[0;36m<module>\u001b[0;34m\u001b[0m\n\u001b[1;32m     12\u001b[0m     \u001b[0mnumero_2\u001b[0m \u001b[0;34m=\u001b[0m \u001b[0mfloat\u001b[0m\u001b[0;34m(\u001b[0m\u001b[0minput\u001b[0m\u001b[0;34m(\u001b[0m\u001b[0;34m\"Ingrese el segundo numero nuevamente: \"\u001b[0m\u001b[0;34m)\u001b[0m\u001b[0;34m)\u001b[0m\u001b[0;34m\u001b[0m\u001b[0;34m\u001b[0m\u001b[0m\n\u001b[1;32m     13\u001b[0m \u001b[0;34m\u001b[0m\u001b[0m\n\u001b[0;32m---> 14\u001b[0;31m     \u001b[0mprint\u001b[0m\u001b[0;34m(\u001b[0m\u001b[0mnumero_1\u001b[0m \u001b[0;34m/\u001b[0m \u001b[0mnumero_2\u001b[0m\u001b[0;34m)\u001b[0m\u001b[0;34m\u001b[0m\u001b[0;34m\u001b[0m\u001b[0m\n\u001b[0m",
      "\u001b[0;31mZeroDivisionError\u001b[0m: float division by zero"
     ]
    }
   ],
   "source": [
    "# usar excepciones para informar al usuario que el segundo número no puede ser 0\n",
    "numero_1 = float(input(\"Ingrese un número: \"))\n",
    "numero_2 = float(input(\"Ingrese otro número: \"))\n",
    "\n",
    "try:\n",
    "    print(numero_1 / numero_2)\n",
    "\n",
    "except ZeroDivisionError:\n",
    "\n",
    "    print(\"El segundo número no puede ser 0\")\n",
    "\n",
    "    numero_2 = float(input(\"Ingrese el segundo numero nuevamente: \"))\n",
    "\n",
    "    print(numero_1 / numero_2)\n"
   ]
  },
  {
   "cell_type": "code",
   "execution_count": null,
   "metadata": {},
   "outputs": [],
   "source": []
  }
 ],
 "metadata": {
  "kernelspec": {
   "display_name": "Python 3",
   "language": "python",
   "name": "python3"
  },
  "language_info": {
   "codemirror_mode": {
    "name": "ipython",
    "version": 3
   },
   "file_extension": ".py",
   "mimetype": "text/x-python",
   "name": "python",
   "nbconvert_exporter": "python",
   "pygments_lexer": "ipython3",
   "version": "3.10.6"
  },
  "orig_nbformat": 4
 },
 "nbformat": 4,
 "nbformat_minor": 2
}
