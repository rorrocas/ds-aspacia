{
 "cells": [
  {
   "cell_type": "markdown",
   "metadata": {},
   "source": [
    "#### Caso:"
   ]
  },
  {
   "cell_type": "markdown",
   "metadata": {},
   "source": [
    "\n",
    "**Se tiene un fichero csv con información relativa a datos de un estudio realizado\n",
    "en la zona de Boston, donde se analizan diferentes variables, como son el\n",
    "índice de crimen, el número de habitaciones, el porcentaje de habitantes de\n",
    "clase baja y el valor medio de las casas de esa zona.**"
   ]
  },
  {
   "attachments": {},
   "cell_type": "markdown",
   "metadata": {},
   "source": [
    "#### 1.- Importar librerías a utilizar para el caso en cuestión (panda, matplotlib)"
   ]
  },
  {
   "cell_type": "code",
   "execution_count": 1,
   "metadata": {},
   "outputs": [],
   "source": [
    "# Importamos librerias para manipulacion y grafico de datos\n",
    "import pandas as pd\n",
    "import matplotlib.pyplot as plt"
   ]
  },
  {
   "attachments": {},
   "cell_type": "markdown",
   "metadata": {},
   "source": [
    "#### 2.- Leer csv correspondiente."
   ]
  },
  {
   "cell_type": "code",
   "execution_count": 2,
   "metadata": {},
   "outputs": [
    {
     "data": {
      "text/html": [
       "<div>\n",
       "<style scoped>\n",
       "    .dataframe tbody tr th:only-of-type {\n",
       "        vertical-align: middle;\n",
       "    }\n",
       "\n",
       "    .dataframe tbody tr th {\n",
       "        vertical-align: top;\n",
       "    }\n",
       "\n",
       "    .dataframe thead th {\n",
       "        text-align: right;\n",
       "    }\n",
       "</style>\n",
       "<table border=\"1\" class=\"dataframe\">\n",
       "  <thead>\n",
       "    <tr style=\"text-align: right;\">\n",
       "      <th></th>\n",
       "      <th>CRIM</th>\n",
       "      <th>ZN</th>\n",
       "      <th>INDUS</th>\n",
       "      <th>CHAS</th>\n",
       "      <th>NOX</th>\n",
       "      <th>RM</th>\n",
       "      <th>AGE</th>\n",
       "      <th>DIS</th>\n",
       "      <th>RAD</th>\n",
       "      <th>TAX</th>\n",
       "      <th>PTRATIO</th>\n",
       "      <th>B</th>\n",
       "      <th>LSTAT</th>\n",
       "      <th>MEDV</th>\n",
       "    </tr>\n",
       "  </thead>\n",
       "  <tbody>\n",
       "    <tr>\n",
       "      <th>0</th>\n",
       "      <td>0.00632</td>\n",
       "      <td>18.0</td>\n",
       "      <td>2.31</td>\n",
       "      <td>0.0</td>\n",
       "      <td>0.538</td>\n",
       "      <td>6.575</td>\n",
       "      <td>65.2</td>\n",
       "      <td>4.0900</td>\n",
       "      <td>1</td>\n",
       "      <td>296</td>\n",
       "      <td>15.3</td>\n",
       "      <td>396.90</td>\n",
       "      <td>4.98</td>\n",
       "      <td>24.0</td>\n",
       "    </tr>\n",
       "    <tr>\n",
       "      <th>1</th>\n",
       "      <td>0.02731</td>\n",
       "      <td>0.0</td>\n",
       "      <td>7.07</td>\n",
       "      <td>0.0</td>\n",
       "      <td>0.469</td>\n",
       "      <td>6.421</td>\n",
       "      <td>78.9</td>\n",
       "      <td>4.9671</td>\n",
       "      <td>2</td>\n",
       "      <td>242</td>\n",
       "      <td>17.8</td>\n",
       "      <td>396.90</td>\n",
       "      <td>9.14</td>\n",
       "      <td>21.6</td>\n",
       "    </tr>\n",
       "    <tr>\n",
       "      <th>2</th>\n",
       "      <td>0.02729</td>\n",
       "      <td>0.0</td>\n",
       "      <td>7.07</td>\n",
       "      <td>0.0</td>\n",
       "      <td>0.469</td>\n",
       "      <td>7.185</td>\n",
       "      <td>61.1</td>\n",
       "      <td>4.9671</td>\n",
       "      <td>2</td>\n",
       "      <td>242</td>\n",
       "      <td>17.8</td>\n",
       "      <td>392.83</td>\n",
       "      <td>4.03</td>\n",
       "      <td>34.7</td>\n",
       "    </tr>\n",
       "    <tr>\n",
       "      <th>3</th>\n",
       "      <td>0.03237</td>\n",
       "      <td>0.0</td>\n",
       "      <td>2.18</td>\n",
       "      <td>0.0</td>\n",
       "      <td>0.458</td>\n",
       "      <td>6.998</td>\n",
       "      <td>45.8</td>\n",
       "      <td>6.0622</td>\n",
       "      <td>3</td>\n",
       "      <td>222</td>\n",
       "      <td>18.7</td>\n",
       "      <td>394.63</td>\n",
       "      <td>2.94</td>\n",
       "      <td>33.4</td>\n",
       "    </tr>\n",
       "    <tr>\n",
       "      <th>4</th>\n",
       "      <td>0.06905</td>\n",
       "      <td>0.0</td>\n",
       "      <td>2.18</td>\n",
       "      <td>0.0</td>\n",
       "      <td>0.458</td>\n",
       "      <td>7.147</td>\n",
       "      <td>54.2</td>\n",
       "      <td>6.0622</td>\n",
       "      <td>3</td>\n",
       "      <td>222</td>\n",
       "      <td>18.7</td>\n",
       "      <td>396.90</td>\n",
       "      <td>NaN</td>\n",
       "      <td>36.2</td>\n",
       "    </tr>\n",
       "  </tbody>\n",
       "</table>\n",
       "</div>"
      ],
      "text/plain": [
       "      CRIM    ZN  INDUS  CHAS    NOX     RM   AGE     DIS  RAD  TAX  PTRATIO  \\\n",
       "0  0.00632  18.0   2.31   0.0  0.538  6.575  65.2  4.0900    1  296     15.3   \n",
       "1  0.02731   0.0   7.07   0.0  0.469  6.421  78.9  4.9671    2  242     17.8   \n",
       "2  0.02729   0.0   7.07   0.0  0.469  7.185  61.1  4.9671    2  242     17.8   \n",
       "3  0.03237   0.0   2.18   0.0  0.458  6.998  45.8  6.0622    3  222     18.7   \n",
       "4  0.06905   0.0   2.18   0.0  0.458  7.147  54.2  6.0622    3  222     18.7   \n",
       "\n",
       "        B  LSTAT  MEDV  \n",
       "0  396.90   4.98  24.0  \n",
       "1  396.90   9.14  21.6  \n",
       "2  392.83   4.03  34.7  \n",
       "3  394.63   2.94  33.4  \n",
       "4  396.90    NaN  36.2  "
      ]
     },
     "execution_count": 2,
     "metadata": {},
     "output_type": "execute_result"
    }
   ],
   "source": [
    "# Leemos csv Housing data\n",
    "df_housing = pd.read_csv('HousingData.csv')\n",
    "df_housing.head(5)"
   ]
  },
  {
   "attachments": {},
   "cell_type": "markdown",
   "metadata": {},
   "source": [
    "#### 3.- Renombrar campos."
   ]
  },
  {
   "cell_type": "code",
   "execution_count": 3,
   "metadata": {},
   "outputs": [],
   "source": [
    "rename_values = {\n",
    "    \"CRIM\":\"crime_rate\",\n",
    "    \"ZN\":\"prop_residential_land\",\n",
    "    \"INDUS\":\"prop_non_retail_busin\",\n",
    "    \"CHAS\":\"charles_river_dummy_variable\",\n",
    "    \"NOX\":\"nitric_oxides_concentration\",\n",
    "    \"RM\":\"avg_number_rooms_per_dwelling\",\n",
    "    \"AGE\":\"prop_owner_occupies_units_built_prior_1940\",\n",
    "    \"DIS\":\"weighted_distances_to_five_boston_employement_centres\",\n",
    "    \"RAD\":\"index_accessibility_to_radial_highways\",\n",
    "    \"TAX\":\"full_value_property_tax_rate_per_10000\",\n",
    "    \"PTRATIO\":\"pupil_teacher_ratio_by_town\",\n",
    "    \"B\":\"1000(Bk-0.63)^2\",\n",
    "    \"LSTAT\":\"percent_lower_status_of_the_population\",\n",
    "    \"MEDV\":\"media_n_value_of_owner_occupied_homes_in_thousands\"\n",
    "}\n",
    "\n",
    "for i in df_housing:\n",
    "    df_housing = df_housing.rename(columns={i: rename_values[i]})"
   ]
  },
  {
   "cell_type": "markdown",
   "metadata": {},
   "source": [
    "#### 4.- Confeccionar los siguientes Gráficos"
   ]
  },
  {
   "attachments": {},
   "cell_type": "markdown",
   "metadata": {},
   "source": [
    "- Histograma: Un histograma es útil para ver la distribución de una variable, es decir, nos permite ver los valores más comunes. Para el caso que se presenta se desea ver la distribución de la cantidad media de habitaciones en el estudio realizado."
   ]
  },
  {
   "cell_type": "code",
   "execution_count": 4,
   "metadata": {},
   "outputs": [
    {
     "data": {
      "text/plain": [
       "<AxesSubplot:>"
      ]
     },
     "execution_count": 4,
     "metadata": {},
     "output_type": "execute_result"
    },
    {
     "data": {
      "image/png": "[encoded data removed]",
      "text/plain": [
       "<Figure size 432x288 with 1 Axes>"
      ]
     },
     "metadata": {
      "needs_background": "light"
     },
     "output_type": "display_data"
    }
   ],
   "source": [
    "# histograma para cantidad media de habitaciones \n",
    "df_housing.avg_number_rooms_per_dwelling.hist()"
   ]
  },
  {
   "attachments": {},
   "cell_type": "markdown",
   "metadata": {},
   "source": [
    "- Dispersión: sirve para representar la relación entre dos variables.\n",
    "Para nuestro caso se desea ver la relación entre índice de crimen\n",
    "y el valor mediano de las casas. En otras palabras, ¿el índice de\n",
    "crimen afecta el valor medio de las casas?"
   ]
  },
  {
   "cell_type": "code",
   "execution_count": 31,
   "metadata": {},
   "outputs": [
    {
     "data": {
      "image/png": "[encoded data removed]",
      "text/plain": [
       "<Figure size 640x480 with 1 Axes>"
      ]
     },
     "metadata": {},
     "output_type": "display_data"
    }
   ],
   "source": [
    "# Grafico de la relacion entre valor medio de casa y la tasa de crimen\n",
    "df_housing.plot.scatter(x='media_n_value_of_owner_occupied_homes_in_thousands', y='crime_rate')\n",
    "plt.show()"
   ]
  },
  {
   "attachments": {},
   "cell_type": "markdown",
   "metadata": {},
   "source": [
    "**R: En los lugares donde el crimen tiene mayor indice el precio de las casas es menor.**"
   ]
  },
  {
   "attachments": {},
   "cell_type": "markdown",
   "metadata": {},
   "source": [
    "- Barras: Un gráfico de barras es útil para comparar una variable\n",
    "entre distintos grupos o categorías. Por ejemplo, si quisiéramos\n",
    "observar el valor medio de cada ciudad. Para nuestro caso se\n",
    "desea agrupar por ciudad y toma la media del valor mediano.\n",
    "Gráfica las 10 primeras ciudades."
   ]
  },
  {
   "cell_type": "code",
   "execution_count": 38,
   "metadata": {},
   "outputs": [
    {
     "data": {
      "text/plain": [
       "<AxesSubplot: >"
      ]
     },
     "execution_count": 38,
     "metadata": {},
     "output_type": "execute_result"
    },
    {
     "data": {
      "image/png": "[encoded data removed]",
      "text/plain": [
       "<Figure size 640x480 with 1 Axes>"
      ]
     },
     "metadata": {},
     "output_type": "display_data"
    }
   ],
   "source": [
    "df_housing.head(10)[\"media_n_value_of_owner_occupied_homes_in_thousands\"].plot.bar()"
   ]
  },
  {
   "attachments": {},
   "cell_type": "markdown",
   "metadata": {},
   "source": [
    "- Cajas: Los diagramas de cajas son útiles para representar grupos\n",
    "de datos y compararlos entre ellos. Otro uso importante es que\n",
    "nos permiten identificar de forma sencilla si una variable tiene\n",
    "muchos outliers (valores atípicos) esto es, elementos que se\n",
    "alejan de los valores frecuentes de dicha variable. Para nuestro\n",
    "caso, se desea ver los valores atípicos de índice de crimen en los\n",
    "diferentes cuantiles de valor mediano."
   ]
  },
  {
   "cell_type": "code",
   "execution_count": 6,
   "metadata": {},
   "outputs": [],
   "source": [
    "# Se obtiene valor de corte para cada quintil\n",
    "quantiles_media = df_housing[\"media_n_value_of_owner_occupied_homes_in_thousands\"].quantile(q=[0, 0.25, 0.5, 0.75, 1])"
   ]
  },
  {
   "cell_type": "code",
   "execution_count": 7,
   "metadata": {},
   "outputs": [],
   "source": [
    "# Se crean mascaras para obtener los datos que correspoenden a cada quintil\n",
    "mascara_quantile_25 =  (0 <= df_housing.media_n_value_of_owner_occupied_homes_in_thousands) &  (df_housing.media_n_value_of_owner_occupied_homes_in_thousands <= quantiles_media.values[1])\n",
    "mascara_quantile_50 =  (quantiles_media.values[1] <= df_housing.media_n_value_of_owner_occupied_homes_in_thousands) &  (df_housing.media_n_value_of_owner_occupied_homes_in_thousands <= quantiles_media.values[2])\n",
    "mascara_quantile_75 =  (quantiles_media.values[2] <= df_housing.media_n_value_of_owner_occupied_homes_in_thousands) &  (df_housing.media_n_value_of_owner_occupied_homes_in_thousands <= quantiles_media.values[3])\n",
    "mascara_quantile_100 =  (quantiles_media.values[3] <= df_housing.media_n_value_of_owner_occupied_homes_in_thousands) &  (df_housing.media_n_value_of_owner_occupied_homes_in_thousands <= quantiles_media.values[4])"
   ]
  },
  {
   "cell_type": "code",
   "execution_count": 8,
   "metadata": {},
   "outputs": [],
   "source": [
    "# guardamos los datos en un dataframe para graficar\n",
    "datos_0_25 = df_housing[mascara_quantile_25]\n",
    "datos_25_50 = df_housing[mascara_quantile_50]\n",
    "datos_50_75 = df_housing[mascara_quantile_75]\n",
    "datos_75_100 = df_housing[mascara_quantile_100]"
   ]
  },
  {
   "attachments": {},
   "cell_type": "markdown",
   "metadata": {},
   "source": [
    "#### Tasa de crimen para primer quintil"
   ]
  },
  {
   "cell_type": "code",
   "execution_count": 9,
   "metadata": {},
   "outputs": [
    {
     "data": {
      "image/png": "[encoded data removed]",
      "text/plain": [
       "<Figure size 432x288 with 1 Axes>"
      ]
     },
     "metadata": {
      "needs_background": "light"
     },
     "output_type": "display_data"
    }
   ],
   "source": [
    "datos_0_25.boxplot(column=['crime_rate'])\n",
    "plt.title(\"Indice de crimen para primer quintil\")\n",
    "plt.show()"
   ]
  },
  {
   "attachments": {},
   "cell_type": "markdown",
   "metadata": {},
   "source": [
    "#### Tasa de crimen para segundo quintil"
   ]
  },
  {
   "cell_type": "code",
   "execution_count": 10,
   "metadata": {},
   "outputs": [
    {
     "data": {
      "image/png": "[encoded data removed]",
      "text/plain": [
       "<Figure size 432x288 with 1 Axes>"
      ]
     },
     "metadata": {
      "needs_background": "light"
     },
     "output_type": "display_data"
    }
   ],
   "source": [
    "datos_25_50.boxplot(column=['crime_rate'])\n",
    "plt.title(\"Indice de crimen para segundo quintil\")\n",
    "plt.show()"
   ]
  },
  {
   "attachments": {},
   "cell_type": "markdown",
   "metadata": {},
   "source": [
    "#### Tasa de crimen para tercer quintil"
   ]
  },
  {
   "cell_type": "code",
   "execution_count": 11,
   "metadata": {},
   "outputs": [
    {
     "data": {
      "image/png": "[encoded data removed]",
      "text/plain": [
       "<Figure size 432x288 with 1 Axes>"
      ]
     },
     "metadata": {
      "needs_background": "light"
     },
     "output_type": "display_data"
    }
   ],
   "source": [
    "datos_50_75.boxplot(column=['crime_rate'])\n",
    "plt.title(\"Indice de crimen para tercer quintil\")\n",
    "plt.show()"
   ]
  },
  {
   "attachments": {},
   "cell_type": "markdown",
   "metadata": {},
   "source": [
    "#### Tasa de crimen para cuarto quintil"
   ]
  },
  {
   "cell_type": "code",
   "execution_count": 12,
   "metadata": {},
   "outputs": [
    {
     "data": {
      "image/png": "[encoded data removed]",
      "text/plain": [
       "<Figure size 432x288 with 1 Axes>"
      ]
     },
     "metadata": {
      "needs_background": "light"
     },
     "output_type": "display_data"
    }
   ],
   "source": [
    "datos_75_100.boxplot(column=['crime_rate'])\n",
    "plt.title(\"Indice de crimen para cuarto quintil\")\n",
    "plt.show()"
   ]
  },
  {
   "attachments": {},
   "cell_type": "markdown",
   "metadata": {},
   "source": [
    "**R: Para quintiles con valores de casas mas altos el indice de crimen tiene valores atipicos cada vez menores y la media del valor de crimen tambien disminuye.**"
   ]
  },
  {
   "attachments": {},
   "cell_type": "markdown",
   "metadata": {},
   "source": [
    "- Tipos de gráficos para la librería Matplotlib:\n",
    "\n",
    "    **R: Hasta ahora hemos visto graficos de dispersion, barra, cajas e histograma.**"
   ]
  }
 ],
 "metadata": {
  "kernelspec": {
   "display_name": "Python 3",
   "language": "python",
   "name": "python3"
  },
  "language_info": {
   "codemirror_mode": {
    "name": "ipython",
    "version": 3
   },
   "file_extension": ".py",
   "mimetype": "text/x-python",
   "name": "python",
   "nbconvert_exporter": "python",
   "pygments_lexer": "ipython3",
   "version": "3.9.7"
  },
  "orig_nbformat": 4
 },
 "nbformat": 4,
 "nbformat_minor": 2
}
