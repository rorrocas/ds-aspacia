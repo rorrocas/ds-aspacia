{
 "cells": [
  {
   "attachments": {},
   "cell_type": "markdown",
   "metadata": {},
   "source": [
    "## Ejercicio 5 Modulo 1"
   ]
  },
  {
   "cell_type": "code",
   "execution_count": 1,
   "metadata": {},
   "outputs": [
    {
     "name": "stdout",
     "output_type": "stream",
     "text": [
      "Valor de b es igual a cero error en la ejecucion del programa.\n"
     ]
    }
   ],
   "source": [
    "#1.-\n",
    "a = 10\n",
    "b = 0\n",
    "try:\n",
    "    c = a / b\n",
    "    print(\"a/b = %d\" % c)\n",
    "except:\n",
    "    print(\"Valor de b es igual a cero error en la ejecucion del programa.\")"
   ]
  },
  {
   "cell_type": "code",
   "execution_count": 4,
   "metadata": {},
   "outputs": [
    {
     "data": {
      "text/plain": [
       "1.0"
      ]
     },
     "execution_count": 4,
     "metadata": {},
     "output_type": "execute_result"
    }
   ],
   "source": [
    "#2.-\n",
    "a = int(input(\"Ingresa valor para el dividendo: \"))\n",
    "b = int(input(\"Ingresa valor para el divisor: \"))\n",
    "def Division(a,b):\n",
    "    try:\n",
    "        c = a/b\n",
    "    except:\n",
    "        while b == 0:\n",
    "            b = int(input(\"ingrese nuevamente el valor del divisor esta vez debe ser distinto de cero: \"))\n",
    "    c = a/b\n",
    "    return c\n",
    "Division(a,b)"
   ]
  },
  {
   "cell_type": "code",
   "execution_count": 9,
   "metadata": {},
   "outputs": [
    {
     "data": {
      "text/plain": [
       "200.0"
      ]
     },
     "execution_count": 9,
     "metadata": {},
     "output_type": "execute_result"
    }
   ],
   "source": [
    "#3.-\n",
    "def InteresCompuesto(monto, año, tasa):\n",
    "    if tasa > 100:\n",
    "        while tasa > 100:\n",
    "            tasa = float(input(\"Ingrese una tasa menor a 100: \"))\n",
    "    interes = (monto * año * tasa)/100\n",
    "    return interes\n",
    "InteresCompuesto(1000,2,10)"
   ]
  },
  {
   "attachments": {},
   "cell_type": "markdown",
   "metadata": {},
   "source": [
    "- ¿Cómo manejar las excepciones usando las sentencias try, except y finalmente?\n",
    "\n",
    "    **R: Dentro de try va en el codigo al que se le aplicara la excepcion, en caso de fallar el codigo por alguna razon, se controla la exceptcion con el codigo dentro de except y en caso de ser necesario dentro de finally se aplica un ultimo segmento de codigo que siempre sera ejecutado haya o no haya excepcion.**\n",
    "- ¿Cómo generar excepciones?\n",
    "\n",
    "    **R: Usando raise seguido de un mensaje de error**"
   ]
  }
 ],
 "metadata": {
  "kernelspec": {
   "display_name": "Python 3",
   "language": "python",
   "name": "python3"
  },
  "language_info": {
   "codemirror_mode": {
    "name": "ipython",
    "version": 3
   },
   "file_extension": ".py",
   "mimetype": "text/x-python",
   "name": "python",
   "nbconvert_exporter": "python",
   "pygments_lexer": "ipython3",
   "version": "3.9.7"
  },
  "orig_nbformat": 4
 },
 "nbformat": 4,
 "nbformat_minor": 2
}
