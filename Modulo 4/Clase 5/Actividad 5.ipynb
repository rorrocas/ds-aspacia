{
 "cells": [
  {
   "attachments": {},
   "cell_type": "markdown",
   "metadata": {},
   "source": [
    "### Actividad 5"
   ]
  },
  {
   "attachments": {},
   "cell_type": "markdown",
   "metadata": {
    "vscode": {
     "languageId": "python"
    }
   },
   "source": [
    "#### Caso 1 \n",
    "**Se sabe que la media del consumo de energía eléctrica en cierta provincia es de 721 kwh. Una empresa tecnológica de la región cree que sus empleados consumen más que  el  promedio provincial. Recoge  información  sobre  los  consumos  de  20 empleados escogidos al azar, y obtiene los siguientes datos:**\n",
    "\n",
    "  **Si la distribución del consumo mensual de energía eléctrica es normal:**\n",
    "    \n"
   ]
  },
  {
   "attachments": {},
   "cell_type": "markdown",
   "metadata": {},
   "source": [
    "- a)  ¿Hay  evidencias  para  afirmar que  el  promedio del consumo de  energía eléctrica hogareño de los empleados de la empresa es superior a la media del consumo a nivel provincial? Usar un nivel de significación del 10%."
   ]
  },
  {
   "cell_type": "code",
   "execution_count": null,
   "metadata": {
    "vscode": {
     "languageId": "plaintext"
    }
   },
   "outputs": [],
   "source": []
  },
  {
   "attachments": {},
   "cell_type": "markdown",
   "metadata": {},
   "source": [
    "- b)  ¿Cuál es el valor p de la decisión?"
   ]
  },
  {
   "cell_type": "code",
   "execution_count": null,
   "metadata": {
    "vscode": {
     "languageId": "plaintext"
    }
   },
   "outputs": [],
   "source": []
  }
 ],
 "metadata": {
  "language_info": {
   "name": "python"
  },
  "orig_nbformat": 4
 },
 "nbformat": 4,
 "nbformat_minor": 2
}
