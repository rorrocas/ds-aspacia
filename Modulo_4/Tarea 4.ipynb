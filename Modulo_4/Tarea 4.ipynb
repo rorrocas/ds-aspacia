{
 "cells": [
  {
   "attachments": {},
   "cell_type": "markdown",
   "metadata": {},
   "source": [
    "### 1. Cree una clase llamada Individuo . Sus atributos son:\n",
    "● PrimerNombre, Edad y RUT. \n",
    "### Construye los siguientes métodos para la clase:\n",
    "● Un constructor, donde los datos pueden estar vacíos.\n",
    "\n",
    " ● Los setters y getters para cada uno de los atributos. Hay que validar las entradas de datos.\n",
    "\n",
    " ● revelar ( ) : Revela la información de la persona.\n",
    "\n",
    " ● Adulto ( ) : Entrega un valor lógico sí es o no adulto (mayor de 18 años)."
   ]
  },
  {
   "cell_type": "code",
   "execution_count": 56,
   "metadata": {},
   "outputs": [],
   "source": [
    "class Individuo:\n",
    "    def __init__(self, primer_nombre=None, edad=None, rut=None):\n",
    "        self._PrimerNombre = primer_nombre\n",
    "        self._Edad = edad\n",
    "        self._RUT = rut\n",
    "    \n",
    "    @property\n",
    "    def PrimerNombre(self):\n",
    "        return self._PrimerNombre\n",
    "    \n",
    "    @PrimerNombre.setter\n",
    "    def PrimerNombre(self, nombre):\n",
    "        if nombre == None:\n",
    "            pass\n",
    "        elif len(nombre) > 20:\n",
    "            raise ValueError(\"El nombre excede los caracteres permitidos\")\n",
    "        else:\n",
    "            self._PrimerNombre = nombre\n",
    "\n",
    "    @property\n",
    "    def Edad(self):\n",
    "        return self._Edad\n",
    "\n",
    "    @Edad.setter\n",
    "    def Edad(self, edad):\n",
    "        if edad == None:\n",
    "            pass\n",
    "        elif edad < 0 or edad > 120:\n",
    "            raise ValueError(\"La edad debe estar entre 0 y 120\")\n",
    "        self._Edad = edad\n",
    "    \n",
    "    @property\n",
    "    def RUT(self):\n",
    "        return self._RUT\n",
    "\n",
    "    @RUT.setter\n",
    "    def RUT(self, rut):\n",
    "        if rut == None:\n",
    "            pass\n",
    "        elif len(rut)< 8:\n",
    "            raise ValueError(\"El Rut debe ser valido\")\n",
    "        else:\n",
    "            self._RUT = rut\n",
    "\n",
    "    def Revelar(self):\n",
    "        print(f\"Nombre: {self._PrimerNombre} \\nEdad: {self.Edad} \\nRut: {self.RUT}\")\n",
    "\n",
    "    def Adulto(self):\n",
    "        if self.Edad >= 18:\n",
    "            return 1\n",
    "        else:\n",
    "            return 0"
   ]
  },
  {
   "attachments": {},
   "cell_type": "markdown",
   "metadata": {},
   "source": [
    "**2. Cree una clase que nombrará Cliente con los siguientes atributos:\n",
    "persona (puede ser el titular de una cuenta) y monto (puede tener\n",
    "decimales). El atributo persona será obligatorio y el monto es\n",
    "opcional. Debe considerar lo siguiente para la clase pedida:**\n",
    "\n",
    "- Un constructor, donde los datos pueden estar vacíos.\n",
    "- Los setters y getters para cada uno de los atributos. El\n",
    "atributo no se puede modificar directamente, sólo ingresando\n",
    "o retirando dinero.\n",
    "- revelar() : Revela la información del Cliente.\n",
    "- ingresar(monto) : Registra el monto del cliente para una\n",
    "cuenta, si el número que ingresa es negativo, no hará nada.\n",
    "- retirar(monto) : Registra un posible retiro de la cuenta del\n",
    "cliente. El cliente puede tener un saldo negativo."
   ]
  },
  {
   "cell_type": "code",
   "execution_count": 50,
   "metadata": {},
   "outputs": [
    {
     "name": "stdout",
     "output_type": "stream",
     "text": [
      "Nombre: ASDASDASDASDASDASDASDASD \n",
      "Edad: -11 \n",
      "Rut: ASDASD\n"
     ]
    }
   ],
   "source": [
    "class Cliente():\n",
    "    def __init__(self, persona, monto):\n",
    "        persona= \n"
   ]
  },
  {
   "attachments": {},
   "cell_type": "markdown",
   "metadata": {},
   "source": [
    "**¿Cómo se construye una clase?**\n",
    "    R:\n",
    "\n",
    "**¿Cómo definimos cada atributo?**\n",
    "    R:"
   ]
  }
 ],
 "metadata": {
  "kernelspec": {
   "display_name": "Python 3",
   "language": "python",
   "name": "python3"
  },
  "language_info": {
   "codemirror_mode": {
    "name": "ipython",
    "version": 3
   },
   "file_extension": ".py",
   "mimetype": "text/x-python",
   "name": "python",
   "nbconvert_exporter": "python",
   "pygments_lexer": "ipython3",
   "version": "3.9.7"
  },
  "orig_nbformat": 4
 },
 "nbformat": 4,
 "nbformat_minor": 2
}
