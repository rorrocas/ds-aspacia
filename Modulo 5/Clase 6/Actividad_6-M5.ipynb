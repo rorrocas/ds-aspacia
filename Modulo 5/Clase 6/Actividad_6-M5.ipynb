{
 "cells": [
  {
   "cell_type": "code",
   "execution_count": 1,
   "id": "e5c2c7a9",
   "metadata": {},
   "outputs": [],
   "source": [
    "#importar librerías\n",
    "import numpy as np\n",
    "import pandas as pd\n",
    "from sklearn.model_selection import train_test_split\n",
    "from sklearn.ensemble import RandomForestRegressor\n",
    "from sklearn.metrics import mean_squared_error\n",
    "import matplotlib.pyplot as plt"
   ]
  },
  {
   "cell_type": "code",
   "execution_count": 2,
   "id": "c7ce5804",
   "metadata": {},
   "outputs": [
    {
     "name": "stdout",
     "output_type": "stream",
     "text": [
      "(348, 12)\n",
      "   year  month  day   week  temp_2  temp_1  average  actual  forecast_noaa  \\\n",
      "0  2016      1    1    Fri      45      45     45.6      45             43   \n",
      "1  2016      1    2    Sat      44      45     45.7      44             41   \n",
      "2  2016      1    3    Sun      45      44     45.8      41             43   \n",
      "3  2016      1    4    Mon      44      41     45.9      40             44   \n",
      "4  2016      1    5   Tues      41      40     46.0      44             46   \n",
      "5  2016      1    6    Wed      40      44     46.1      51             43   \n",
      "6  2016      1    7  Thurs      44      51     46.2      45             45   \n",
      "7  2016      1    8    Fri      51      45     46.3      48             43   \n",
      "8  2016      1    9    Sat      45      48     46.4      50             46   \n",
      "9  2016      1   10    Sun      48      50     46.5      52             45   \n",
      "\n",
      "   forecast_acc  forecast_under  friend  \n",
      "0            50              44      29  \n",
      "1            50              44      61  \n",
      "2            46              47      56  \n",
      "3            48              46      53  \n",
      "4            46              46      41  \n",
      "5            49              48      40  \n",
      "6            49              46      38  \n",
      "7            47              46      34  \n",
      "8            50              45      47  \n",
      "9            48              48      49  \n"
     ]
    }
   ],
   "source": [
    "#Cargar datos\n",
    "temperatura = pd.read_csv(\"temps.csv\")\n",
    "temperatura = pd.DataFrame(temperatura)\n",
    "print(temperatura.shape)\n",
    "print (temperatura.head(10))"
   ]
  },
  {
   "cell_type": "markdown",
   "id": "41bb816b",
   "metadata": {},
   "source": [
    "1. Para identificar anomalías, obtenga un resumen estadístico, o dicho de otro modo, realice un análisis descriptivo de sus datos, comente."
   ]
  },
  {
   "cell_type": "code",
   "execution_count": 3,
   "id": "1bdf6055",
   "metadata": {},
   "outputs": [
    {
     "name": "stdout",
     "output_type": "stream",
     "text": [
      "<class 'pandas.core.frame.DataFrame'>\n",
      "RangeIndex: 348 entries, 0 to 347\n",
      "Data columns (total 12 columns):\n",
      " #   Column          Non-Null Count  Dtype  \n",
      "---  ------          --------------  -----  \n",
      " 0   year            348 non-null    int64  \n",
      " 1   month           348 non-null    int64  \n",
      " 2   day             348 non-null    int64  \n",
      " 3   week            348 non-null    object \n",
      " 4   temp_2          348 non-null    int64  \n",
      " 5   temp_1          348 non-null    int64  \n",
      " 6   average         348 non-null    float64\n",
      " 7   actual          348 non-null    int64  \n",
      " 8   forecast_noaa   348 non-null    int64  \n",
      " 9   forecast_acc    348 non-null    int64  \n",
      " 10  forecast_under  348 non-null    int64  \n",
      " 11  friend          348 non-null    int64  \n",
      "dtypes: float64(1), int64(10), object(1)\n",
      "memory usage: 32.8+ KB\n"
     ]
    }
   ],
   "source": [
    "temperatura.info() #Obtener información sobre las variables"
   ]
  },
  {
   "cell_type": "code",
   "execution_count": 4,
   "id": "2de5bb46",
   "metadata": {},
   "outputs": [
    {
     "name": "stdout",
     "output_type": "stream",
     "text": [
      "         year       month         day      temp_2      temp_1     average  \\\n",
      "count   348.0  348.000000  348.000000  348.000000  348.000000  348.000000   \n",
      "mean   2016.0    6.477011   15.514368   62.652299   62.701149   59.760632   \n",
      "std       0.0    3.498380    8.772982   12.165398   12.120542   10.527306   \n",
      "min    2016.0    1.000000    1.000000   35.000000   35.000000   45.100000   \n",
      "25%    2016.0    3.000000    8.000000   54.000000   54.000000   49.975000   \n",
      "50%    2016.0    6.000000   15.000000   62.500000   62.500000   58.200000   \n",
      "75%    2016.0   10.000000   23.000000   71.000000   71.000000   69.025000   \n",
      "max    2016.0   12.000000   31.000000  117.000000  117.000000   77.400000   \n",
      "\n",
      "           actual  forecast_noaa  forecast_acc  forecast_under      friend  \n",
      "count  348.000000     348.000000    348.000000      348.000000  348.000000  \n",
      "mean    62.543103      57.238506     62.373563       59.772989   60.034483  \n",
      "std     11.794146      10.605746     10.549381       10.705256   15.626179  \n",
      "min     35.000000      41.000000     46.000000       44.000000   28.000000  \n",
      "25%     54.000000      48.000000     53.000000       50.000000   47.750000  \n",
      "50%     62.500000      56.000000     61.000000       58.000000   60.000000  \n",
      "75%     71.000000      66.000000     72.000000       69.000000   71.000000  \n",
      "max     92.000000      77.000000     82.000000       79.000000   95.000000  \n",
      "\n",
      "        week\n",
      "count    348\n",
      "unique     7\n",
      "top     Tues\n",
      "freq      52\n"
     ]
    }
   ],
   "source": [
    "#Obtener descriptivos de los datos\n",
    "descriptivos_numericos = temperatura.describe()\n",
    "print(descriptivos_numericos)\n",
    "print()\n",
    "descriptivo_categoricos = temperatura.describe(include = \"object\")\n",
    "print(descriptivo_categoricos)"
   ]
  },
  {
   "cell_type": "code",
   "execution_count": 5,
   "id": "fcb75879",
   "metadata": {},
   "outputs": [
    {
     "data": {
      "text/html": [
       "<div>\n",
       "<style scoped>\n",
       "    .dataframe tbody tr th:only-of-type {\n",
       "        vertical-align: middle;\n",
       "    }\n",
       "\n",
       "    .dataframe tbody tr th {\n",
       "        vertical-align: top;\n",
       "    }\n",
       "\n",
       "    .dataframe thead th {\n",
       "        text-align: right;\n",
       "    }\n",
       "</style>\n",
       "<table border=\"1\" class=\"dataframe\">\n",
       "  <thead>\n",
       "    <tr style=\"text-align: right;\">\n",
       "      <th></th>\n",
       "      <th>temp_2</th>\n",
       "      <th>temp_1</th>\n",
       "      <th>average</th>\n",
       "      <th>actual</th>\n",
       "      <th>forecast_noaa</th>\n",
       "      <th>forecast_acc</th>\n",
       "      <th>forecast_under</th>\n",
       "      <th>friend</th>\n",
       "    </tr>\n",
       "  </thead>\n",
       "  <tbody>\n",
       "    <tr>\n",
       "      <th>287</th>\n",
       "      <td>117.0</td>\n",
       "      <td>NaN</td>\n",
       "      <td>NaN</td>\n",
       "      <td>NaN</td>\n",
       "      <td>NaN</td>\n",
       "      <td>NaN</td>\n",
       "      <td>NaN</td>\n",
       "      <td>NaN</td>\n",
       "    </tr>\n",
       "    <tr>\n",
       "      <th>286</th>\n",
       "      <td>NaN</td>\n",
       "      <td>117.0</td>\n",
       "      <td>NaN</td>\n",
       "      <td>NaN</td>\n",
       "      <td>NaN</td>\n",
       "      <td>NaN</td>\n",
       "      <td>NaN</td>\n",
       "      <td>NaN</td>\n",
       "    </tr>\n",
       "  </tbody>\n",
       "</table>\n",
       "</div>"
      ],
      "text/plain": [
       "     temp_2  temp_1  average  actual  forecast_noaa  forecast_acc  \\\n",
       "287   117.0     NaN      NaN     NaN            NaN           NaN   \n",
       "286     NaN   117.0      NaN     NaN            NaN           NaN   \n",
       "\n",
       "     forecast_under  friend  \n",
       "287             NaN     NaN  \n",
       "286             NaN     NaN  "
      ]
     },
     "execution_count": 5,
     "metadata": {},
     "output_type": "execute_result"
    }
   ],
   "source": [
    "#Determinar si existen valores outliers en los datos\n",
    "\n",
    "#Obtención de RIQ y límite superior (Q3 + 1.5RIQ)\n",
    "X = temperatura.drop([\"week\", \"year\",\"month\", \"day\"], axis = 1) #eliminar variables categóricas\n",
    "P25 = X.quantile(0.25).to_frame() #obtener percentil 25\n",
    "P75 = X.quantile(0.75).to_frame() #obtener percentil 75\n",
    "\n",
    "RIQ = pd.merge(P25, P75, right_index=True, left_index=True) #generar un df con ambos valores\n",
    "RIQ[\"RIQ\"] = RIQ[0.75] - RIQ[0.25] #calcular RIQ\n",
    "RIQ[\"Lim\"] = RIQ[0.75] + RIQ[\"RIQ\"]*1.5 #Obtener límite superior para detección de outliers\n",
    "\n",
    "# Obtener los valores outliers\n",
    "\n",
    "outliers = pd.DataFrame() #gen df empty\n",
    "i = 0 #def interador\n",
    "\n",
    "for i in range(8):\n",
    "    riq = RIQ.iloc[i,3] #obtener el lim superior\n",
    "    a = X[X.iloc[:, lambda df: [i]] > riq].dropna(how = \"all\") #filtrar df\n",
    "    outliers = pd.concat([outliers,a]) #concatenar \n",
    "    \n",
    "i = 0 + 1 #incrementar el iterador\n",
    "\n",
    "outliers\n"
   ]
  },
  {
   "cell_type": "markdown",
   "id": "b6114ba4",
   "metadata": {},
   "source": [
    "2. Realice un análisis gráfico de las temperaturas máximas históricas, las temperaturas de los dos días anteriores y la estimación del amigo, con respecto a la fecha. Comente si hay anomalías."
   ]
  },
  {
   "cell_type": "code",
   "execution_count": 6,
   "id": "9d025c74",
   "metadata": {},
   "outputs": [
    {
     "data": {
      "image/png": "[encoded data removed]",
      "text/plain": [
       "<Figure size 432x288 with 4 Axes>"
      ]
     },
     "metadata": {
      "needs_background": "light"
     },
     "output_type": "display_data"
    }
   ],
   "source": [
    "graph = temperatura[[\"temp_2\", \"actual\", \"friend\"]]\n",
    "graph.hist(bins = 15, density = True)\n",
    "plt.tight_layout() #para que no se superpongan las gráficas\n",
    "plt.show()"
   ]
  },
  {
   "cell_type": "code",
   "execution_count": 7,
   "id": "2f5e770c",
   "metadata": {},
   "outputs": [
    {
     "data": {
      "image/png": "[encoded data removed]",
      "text/plain": [
       "<Figure size 432x288 with 1 Axes>"
      ]
     },
     "metadata": {
      "needs_background": "light"
     },
     "output_type": "display_data"
    }
   ],
   "source": [
    "graph.boxplot()\n",
    "plt.show()"
   ]
  },
  {
   "cell_type": "markdown",
   "id": "17e8f381",
   "metadata": {},
   "source": [
    "3. Recodifique los días de la semana, creando siete variables 1-0 asociados a los días de la semana. Le puede facilitar el proceso usando get_dummies de la librería Pandas."
   ]
  },
  {
   "cell_type": "code",
   "execution_count": 8,
   "id": "46c2ec26",
   "metadata": {},
   "outputs": [
    {
     "data": {
      "text/html": [
       "<div>\n",
       "<style scoped>\n",
       "    .dataframe tbody tr th:only-of-type {\n",
       "        vertical-align: middle;\n",
       "    }\n",
       "\n",
       "    .dataframe tbody tr th {\n",
       "        vertical-align: top;\n",
       "    }\n",
       "\n",
       "    .dataframe thead th {\n",
       "        text-align: right;\n",
       "    }\n",
       "</style>\n",
       "<table border=\"1\" class=\"dataframe\">\n",
       "  <thead>\n",
       "    <tr style=\"text-align: right;\">\n",
       "      <th></th>\n",
       "      <th>year</th>\n",
       "      <th>month</th>\n",
       "      <th>day</th>\n",
       "      <th>temp_2</th>\n",
       "      <th>temp_1</th>\n",
       "      <th>average</th>\n",
       "      <th>actual</th>\n",
       "      <th>forecast_noaa</th>\n",
       "      <th>forecast_acc</th>\n",
       "      <th>forecast_under</th>\n",
       "      <th>friend</th>\n",
       "      <th>week_Fri</th>\n",
       "      <th>week_Mon</th>\n",
       "      <th>week_Sat</th>\n",
       "      <th>week_Sun</th>\n",
       "      <th>week_Thurs</th>\n",
       "      <th>week_Tues</th>\n",
       "      <th>week_Wed</th>\n",
       "    </tr>\n",
       "  </thead>\n",
       "  <tbody>\n",
       "    <tr>\n",
       "      <th>0</th>\n",
       "      <td>2016</td>\n",
       "      <td>1</td>\n",
       "      <td>1</td>\n",
       "      <td>45</td>\n",
       "      <td>45</td>\n",
       "      <td>45.6</td>\n",
       "      <td>45</td>\n",
       "      <td>43</td>\n",
       "      <td>50</td>\n",
       "      <td>44</td>\n",
       "      <td>29</td>\n",
       "      <td>1</td>\n",
       "      <td>0</td>\n",
       "      <td>0</td>\n",
       "      <td>0</td>\n",
       "      <td>0</td>\n",
       "      <td>0</td>\n",
       "      <td>0</td>\n",
       "    </tr>\n",
       "    <tr>\n",
       "      <th>1</th>\n",
       "      <td>2016</td>\n",
       "      <td>1</td>\n",
       "      <td>2</td>\n",
       "      <td>44</td>\n",
       "      <td>45</td>\n",
       "      <td>45.7</td>\n",
       "      <td>44</td>\n",
       "      <td>41</td>\n",
       "      <td>50</td>\n",
       "      <td>44</td>\n",
       "      <td>61</td>\n",
       "      <td>0</td>\n",
       "      <td>0</td>\n",
       "      <td>1</td>\n",
       "      <td>0</td>\n",
       "      <td>0</td>\n",
       "      <td>0</td>\n",
       "      <td>0</td>\n",
       "    </tr>\n",
       "    <tr>\n",
       "      <th>2</th>\n",
       "      <td>2016</td>\n",
       "      <td>1</td>\n",
       "      <td>3</td>\n",
       "      <td>45</td>\n",
       "      <td>44</td>\n",
       "      <td>45.8</td>\n",
       "      <td>41</td>\n",
       "      <td>43</td>\n",
       "      <td>46</td>\n",
       "      <td>47</td>\n",
       "      <td>56</td>\n",
       "      <td>0</td>\n",
       "      <td>0</td>\n",
       "      <td>0</td>\n",
       "      <td>1</td>\n",
       "      <td>0</td>\n",
       "      <td>0</td>\n",
       "      <td>0</td>\n",
       "    </tr>\n",
       "    <tr>\n",
       "      <th>3</th>\n",
       "      <td>2016</td>\n",
       "      <td>1</td>\n",
       "      <td>4</td>\n",
       "      <td>44</td>\n",
       "      <td>41</td>\n",
       "      <td>45.9</td>\n",
       "      <td>40</td>\n",
       "      <td>44</td>\n",
       "      <td>48</td>\n",
       "      <td>46</td>\n",
       "      <td>53</td>\n",
       "      <td>0</td>\n",
       "      <td>1</td>\n",
       "      <td>0</td>\n",
       "      <td>0</td>\n",
       "      <td>0</td>\n",
       "      <td>0</td>\n",
       "      <td>0</td>\n",
       "    </tr>\n",
       "    <tr>\n",
       "      <th>4</th>\n",
       "      <td>2016</td>\n",
       "      <td>1</td>\n",
       "      <td>5</td>\n",
       "      <td>41</td>\n",
       "      <td>40</td>\n",
       "      <td>46.0</td>\n",
       "      <td>44</td>\n",
       "      <td>46</td>\n",
       "      <td>46</td>\n",
       "      <td>46</td>\n",
       "      <td>41</td>\n",
       "      <td>0</td>\n",
       "      <td>0</td>\n",
       "      <td>0</td>\n",
       "      <td>0</td>\n",
       "      <td>0</td>\n",
       "      <td>1</td>\n",
       "      <td>0</td>\n",
       "    </tr>\n",
       "    <tr>\n",
       "      <th>5</th>\n",
       "      <td>2016</td>\n",
       "      <td>1</td>\n",
       "      <td>6</td>\n",
       "      <td>40</td>\n",
       "      <td>44</td>\n",
       "      <td>46.1</td>\n",
       "      <td>51</td>\n",
       "      <td>43</td>\n",
       "      <td>49</td>\n",
       "      <td>48</td>\n",
       "      <td>40</td>\n",
       "      <td>0</td>\n",
       "      <td>0</td>\n",
       "      <td>0</td>\n",
       "      <td>0</td>\n",
       "      <td>0</td>\n",
       "      <td>0</td>\n",
       "      <td>1</td>\n",
       "    </tr>\n",
       "    <tr>\n",
       "      <th>6</th>\n",
       "      <td>2016</td>\n",
       "      <td>1</td>\n",
       "      <td>7</td>\n",
       "      <td>44</td>\n",
       "      <td>51</td>\n",
       "      <td>46.2</td>\n",
       "      <td>45</td>\n",
       "      <td>45</td>\n",
       "      <td>49</td>\n",
       "      <td>46</td>\n",
       "      <td>38</td>\n",
       "      <td>0</td>\n",
       "      <td>0</td>\n",
       "      <td>0</td>\n",
       "      <td>0</td>\n",
       "      <td>1</td>\n",
       "      <td>0</td>\n",
       "      <td>0</td>\n",
       "    </tr>\n",
       "    <tr>\n",
       "      <th>7</th>\n",
       "      <td>2016</td>\n",
       "      <td>1</td>\n",
       "      <td>8</td>\n",
       "      <td>51</td>\n",
       "      <td>45</td>\n",
       "      <td>46.3</td>\n",
       "      <td>48</td>\n",
       "      <td>43</td>\n",
       "      <td>47</td>\n",
       "      <td>46</td>\n",
       "      <td>34</td>\n",
       "      <td>1</td>\n",
       "      <td>0</td>\n",
       "      <td>0</td>\n",
       "      <td>0</td>\n",
       "      <td>0</td>\n",
       "      <td>0</td>\n",
       "      <td>0</td>\n",
       "    </tr>\n",
       "    <tr>\n",
       "      <th>8</th>\n",
       "      <td>2016</td>\n",
       "      <td>1</td>\n",
       "      <td>9</td>\n",
       "      <td>45</td>\n",
       "      <td>48</td>\n",
       "      <td>46.4</td>\n",
       "      <td>50</td>\n",
       "      <td>46</td>\n",
       "      <td>50</td>\n",
       "      <td>45</td>\n",
       "      <td>47</td>\n",
       "      <td>0</td>\n",
       "      <td>0</td>\n",
       "      <td>1</td>\n",
       "      <td>0</td>\n",
       "      <td>0</td>\n",
       "      <td>0</td>\n",
       "      <td>0</td>\n",
       "    </tr>\n",
       "    <tr>\n",
       "      <th>9</th>\n",
       "      <td>2016</td>\n",
       "      <td>1</td>\n",
       "      <td>10</td>\n",
       "      <td>48</td>\n",
       "      <td>50</td>\n",
       "      <td>46.5</td>\n",
       "      <td>52</td>\n",
       "      <td>45</td>\n",
       "      <td>48</td>\n",
       "      <td>48</td>\n",
       "      <td>49</td>\n",
       "      <td>0</td>\n",
       "      <td>0</td>\n",
       "      <td>0</td>\n",
       "      <td>1</td>\n",
       "      <td>0</td>\n",
       "      <td>0</td>\n",
       "      <td>0</td>\n",
       "    </tr>\n",
       "  </tbody>\n",
       "</table>\n",
       "</div>"
      ],
      "text/plain": [
       "   year  month  day  temp_2  temp_1  average  actual  forecast_noaa  \\\n",
       "0  2016      1    1      45      45     45.6      45             43   \n",
       "1  2016      1    2      44      45     45.7      44             41   \n",
       "2  2016      1    3      45      44     45.8      41             43   \n",
       "3  2016      1    4      44      41     45.9      40             44   \n",
       "4  2016      1    5      41      40     46.0      44             46   \n",
       "5  2016      1    6      40      44     46.1      51             43   \n",
       "6  2016      1    7      44      51     46.2      45             45   \n",
       "7  2016      1    8      51      45     46.3      48             43   \n",
       "8  2016      1    9      45      48     46.4      50             46   \n",
       "9  2016      1   10      48      50     46.5      52             45   \n",
       "\n",
       "   forecast_acc  forecast_under  friend  week_Fri  week_Mon  week_Sat  \\\n",
       "0            50              44      29         1         0         0   \n",
       "1            50              44      61         0         0         1   \n",
       "2            46              47      56         0         0         0   \n",
       "3            48              46      53         0         1         0   \n",
       "4            46              46      41         0         0         0   \n",
       "5            49              48      40         0         0         0   \n",
       "6            49              46      38         0         0         0   \n",
       "7            47              46      34         1         0         0   \n",
       "8            50              45      47         0         0         1   \n",
       "9            48              48      49         0         0         0   \n",
       "\n",
       "   week_Sun  week_Thurs  week_Tues  week_Wed  \n",
       "0         0           0          0         0  \n",
       "1         0           0          0         0  \n",
       "2         1           0          0         0  \n",
       "3         0           0          0         0  \n",
       "4         0           0          1         0  \n",
       "5         0           0          0         1  \n",
       "6         0           1          0         0  \n",
       "7         0           0          0         0  \n",
       "8         0           0          0         0  \n",
       "9         1           0          0         0  "
      ]
     },
     "execution_count": 8,
     "metadata": {},
     "output_type": "execute_result"
    }
   ],
   "source": [
    "temperatura = pd.get_dummies(temperatura)\n",
    "temperatura.head(10)"
   ]
  },
  {
   "cell_type": "markdown",
   "id": "d7b960f8",
   "metadata": {},
   "source": [
    "4. Ahora, separe los datos en predictores y variable respuesta. Su variable Y es la temperatura máxima real y los predictores son todas las columnas que usa el modelo para hacer una predicción. Asegúrese de transformar en una matriz Numpy porque esa es la forma en que funciona el algoritmo."
   ]
  },
  {
   "cell_type": "code",
   "execution_count": 9,
   "id": "edb668ab",
   "metadata": {},
   "outputs": [],
   "source": [
    "Y = temperatura[\"actual\"].values.reshape(-1,1)\n",
    "X = temperatura.drop(\"actual\", axis = 1)"
   ]
  },
  {
   "cell_type": "markdown",
   "id": "cfd6f072",
   "metadata": {},
   "source": [
    "5. Separe su base en entrenamiento y testeo en 75/25. Use una semilla (random_state = 42) para obtener los mismos valores."
   ]
  },
  {
   "cell_type": "code",
   "execution_count": 10,
   "id": "72e2df31",
   "metadata": {},
   "outputs": [],
   "source": [
    "X_train, X_test, y_train, y_test = train_test_split(\n",
    "    X, Y,\n",
    "    test_size=0.25,\n",
    "    random_state=42\n",
    ")"
   ]
  },
  {
   "cell_type": "markdown",
   "id": "944ff735",
   "metadata": {},
   "source": [
    "6. Cree una línea de base, es decir, el error que obtendremos si simplemente predijéramos la temperatura máxima promedio para todos los días."
   ]
  },
  {
   "cell_type": "code",
   "execution_count": 11,
   "id": "b3257be6",
   "metadata": {},
   "outputs": [
    {
     "name": "stderr",
     "output_type": "stream",
     "text": [
      "C:\\Users\\Default.DESKTOP-GVJJTQ5\\AppData\\Local\\Temp\\ipykernel_640\\1916390651.py:19: DataConversionWarning: A column-vector y was passed when a 1d array was expected. Please change the shape of y to (n_samples,), for example using ravel().\n",
      "  rf.fit(X1_train, y1_train)\n"
     ]
    },
    {
     "name": "stdout",
     "output_type": "stream",
     "text": [
      "0.8128487257488989\n",
      "El error (rmse) de test es: 5.101657512937373\n"
     ]
    }
   ],
   "source": [
    "#definición de datos y target\n",
    "Y_1 = temperatura[\"average\"].values.reshape(-1,1)\n",
    "X_1 = temperatura.drop([\"average\",\"actual\"], axis = 1)\n",
    "\n",
    "#partición en train y test\n",
    "X1_train, X1_test, y1_train, y1_test = train_test_split(\n",
    "    X, Y,\n",
    "    test_size=0.25,\n",
    "    random_state=42\n",
    ")\n",
    "\n",
    "# Create a Random Forest regressor\n",
    "rf = RandomForestRegressor(\n",
    "    n_estimators=1000,\n",
    "    random_state=42\n",
    ")\n",
    "\n",
    "# Train the regressor\n",
    "rf.fit(X1_train, y1_train)\n",
    "\n",
    "#error\n",
    "print(rf.score(X1_test, y1_test))\n",
    "\n",
    "predicciones = rf.predict(X = X1_test)\n",
    "\n",
    "#rmse\n",
    "rmse = mean_squared_error(\n",
    "        y_true  = y1_test,\n",
    "        y_pred  = predicciones,\n",
    "        squared = False\n",
    "       )\n",
    "\n",
    "print(f\"El error (rmse) de test es: {rmse}\")\n",
    "\n",
    "\n",
    "\n",
    "\n"
   ]
  },
  {
   "cell_type": "markdown",
   "id": "372995a5",
   "metadata": {},
   "source": [
    "7. Ajuste un modelo de regresión de bosque aleatorio con los datos de entrenamiento. Implemente 1000 árboles y use la misma semilla declarada en el punto 5."
   ]
  },
  {
   "cell_type": "code",
   "execution_count": 12,
   "id": "826e5b27",
   "metadata": {},
   "outputs": [
    {
     "name": "stderr",
     "output_type": "stream",
     "text": [
      "C:\\Users\\Default.DESKTOP-GVJJTQ5\\AppData\\Local\\Temp\\ipykernel_640\\4012055744.py:8: DataConversionWarning: A column-vector y was passed when a 1d array was expected. Please change the shape of y to (n_samples,), for example using ravel().\n",
      "  rf_1.fit(X_train, y_train)\n"
     ]
    },
    {
     "data": {
      "text/plain": [
       "RandomForestRegressor(n_estimators=1000, random_state=42)"
      ]
     },
     "execution_count": 12,
     "metadata": {},
     "output_type": "execute_result"
    }
   ],
   "source": [
    "# Create a Random Forest regressor\n",
    "rf_1 = RandomForestRegressor(\n",
    "    n_estimators=1000,\n",
    "    random_state=42\n",
    ")\n",
    "\n",
    "# Train the regressor\n",
    "rf_1.fit(X_train, y_train)"
   ]
  },
  {
   "cell_type": "markdown",
   "id": "a3fcd2d3",
   "metadata": {},
   "source": [
    "8. Obtenga la predicción. Coméntalo."
   ]
  },
  {
   "cell_type": "code",
   "execution_count": 13,
   "id": "fe5adae5",
   "metadata": {},
   "outputs": [
    {
     "name": "stdout",
     "output_type": "stream",
     "text": [
      "[69.857 61.319 51.891 61.321 66.463 70.162 78.848 75.786 62.121 74.078\n",
      " 63.647 72.176 38.472 62.433 71.594 56.012 60.943 56.995 56.748 76.113\n",
      " 63.758 54.401 66.493 62.468 58.786 53.032 66.769 46.448 62.122 80.176\n",
      " 73.833 64.313 55.188 81.972 74.178 61.695 53.636 51.424 68.929 42.452\n",
      " 70.385 57.373 76.172 42.396 61.098 74.08  52.745 81.369 53.325 42.487\n",
      " 46.507 42.144 64.17  65.709 74.13  61.339 55.177 59.945 54.651 59.664\n",
      " 65.491 50.052 60.849 70.188 60.062 59.236 71.743 69.796 76.83  41.32\n",
      " 76.868 56.783 60.378 50.519 54.426 64.003 43.711 74.354 47.306 52.326\n",
      " 53.526 68.21  73.607 72.658 63.243 57.175 46.04 ]\n"
     ]
    }
   ],
   "source": [
    "# Make predictions on the test set\n",
    "y_pred = rf_1.predict(X_test)\n",
    "print(y_pred)\n"
   ]
  },
  {
   "cell_type": "markdown",
   "id": "bca64d48",
   "metadata": {},
   "source": [
    "9. Obtenga las métricas de precisión."
   ]
  },
  {
   "cell_type": "code",
   "execution_count": 14,
   "id": "2039192d",
   "metadata": {},
   "outputs": [
    {
     "name": "stdout",
     "output_type": "stream",
     "text": [
      "0.8128487257488989\n",
      "El error (rmse) de test es: 5.101657512937373\n"
     ]
    }
   ],
   "source": [
    "#error\n",
    "print(rf_1.score(X_test, y_test))\n",
    "\n",
    "#rmse\n",
    "rmse = mean_squared_error(\n",
    "        y_true  = y_test,\n",
    "        y_pred  = y_pred,\n",
    "        squared = False\n",
    "       )\n",
    "\n",
    "print(f\"El error (rmse) de test es: {rmse}\")"
   ]
  }
 ],
 "metadata": {
  "kernelspec": {
   "display_name": "Python 3 (ipykernel)",
   "language": "python",
   "name": "python3"
  },
  "language_info": {
   "codemirror_mode": {
    "name": "ipython",
    "version": 3
   },
   "file_extension": ".py",
   "mimetype": "text/x-python",
   "name": "python",
   "nbconvert_exporter": "python",
   "pygments_lexer": "ipython3",
   "version": "3.9.12"
  }
 },
 "nbformat": 4,
 "nbformat_minor": 5
}
