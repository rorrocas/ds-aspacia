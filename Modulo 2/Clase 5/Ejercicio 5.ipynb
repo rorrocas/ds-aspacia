{
 "cells": [
  {
   "cell_type": "markdown",
   "metadata": {},
   "source": [
    "### Ejercicio 5"
   ]
  },
  {
   "attachments": {},
   "cell_type": "markdown",
   "metadata": {},
   "source": [
    "## 1. Una Tabla de BINGO\n",
    "\n",
    "**Para una tarde de bingo se usarán tablas generadas con las siguientes reglas:**\n",
    "\n",
    "    ● Los 5 números en cada columna son aleatorios ordenados no repetidos de acuerdo al rango asignado por columna.\n",
    "\n",
    "    ● La casilla central de la tabla tiene valor marcado cero o ‘libre’. Realice un programa para generar una tabla de bingo."
   ]
  },
  {
   "cell_type": "code",
   "execution_count": null,
   "metadata": {},
   "outputs": [],
   "source": []
  }
 ],
 "metadata": {
  "kernelspec": {
   "display_name": "Python 3",
   "language": "python",
   "name": "python3"
  },
  "language_info": {
   "codemirror_mode": {
    "name": "ipython",
    "version": 3
   },
   "file_extension": ".py",
   "mimetype": "text/x-python",
   "name": "python",
   "nbconvert_exporter": "python",
   "pygments_lexer": "ipython3",
   "version": "3.11.1"
  },
  "orig_nbformat": 4
 },
 "nbformat": 4,
 "nbformat_minor": 2
}
