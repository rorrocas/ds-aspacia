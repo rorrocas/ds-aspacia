{
 "cells": [
  {
   "attachments": {},
   "cell_type": "markdown",
   "metadata": {},
   "source": [
    "## Actividad 7\n",
    "Elabora un modelo predictivo aplicando el algoritmo clasificador Bayesiano para resolver un problema de clasificación utilizando lenguaje Python"
   ]
  },
  {
   "attachments": {},
   "cell_type": "markdown",
   "metadata": {},
   "source": [
    "Con el fin de clasificar las distintas actividades que puede realizar una persona, se realizó un experimento a un grupo de 30 voluntarios dentro de un grupo de edad de 19 a 48 años. Cada persona realizó seis actividades (CAMINAR, CAMINAR POR LAS ESCALERAS, BAJAR LAS ESCALERAS, SENTARSE, DE PIE, RECOSTARSE) con un smartphone (Samsung Galaxy S II) conectado en su cintura. Usando el acelerómetro y giroscopio integrados en el smartphone, se tienen la siguiente data:\n",
    "\n",
    "- Aceleración triaxial del acelerómetro (aceleración total) y la aceleración corporal estimada.\n",
    "- Velocidad angular triaxial del giroscopio.\n",
    "- Variables de dominio de tiempo y frecuencia.\n",
    "- Su etiqueta de actividad.\n",
    "- Un identificador del sujeto que realizó el experimento.\n",
    "\n",
    "El conjunto de datos obtenido se ha dividido aleatoriamente en dos conjuntos (train y test), donde se seleccionó al 70% de los voluntarios para generar los datos de entrenamiento y al 30% los datos de la prueba."
   ]
  },
  {
   "cell_type": "code",
   "execution_count": 19,
   "metadata": {},
   "outputs": [],
   "source": [
    "import pandas as pd\n",
    "import seaborn as sns"
   ]
  },
  {
   "attachments": {},
   "cell_type": "markdown",
   "metadata": {},
   "source": [
    "### 1.  Cargue  los  set  de  datos  de  entrenamiento  y  prueba.  ¿Cuáles  son  las dimensiones de estos set de datos?"
   ]
  },
  {
   "cell_type": "code",
   "execution_count": 9,
   "metadata": {},
   "outputs": [
    {
     "data": {
      "text/html": [
       "<div>\n",
       "<style scoped>\n",
       "    .dataframe tbody tr th:only-of-type {\n",
       "        vertical-align: middle;\n",
       "    }\n",
       "\n",
       "    .dataframe tbody tr th {\n",
       "        vertical-align: top;\n",
       "    }\n",
       "\n",
       "    .dataframe thead th {\n",
       "        text-align: right;\n",
       "    }\n",
       "</style>\n",
       "<table border=\"1\" class=\"dataframe\">\n",
       "  <thead>\n",
       "    <tr style=\"text-align: right;\">\n",
       "      <th></th>\n",
       "      <th>tBodyAcc-mean()-X</th>\n",
       "      <th>tBodyAcc-mean()-Y</th>\n",
       "      <th>tBodyAcc-mean()-Z</th>\n",
       "      <th>tBodyAcc-std()-X</th>\n",
       "      <th>tBodyAcc-std()-Y</th>\n",
       "      <th>tBodyAcc-std()-Z</th>\n",
       "      <th>tBodyAcc-mad()-X</th>\n",
       "      <th>tBodyAcc-mad()-Y</th>\n",
       "      <th>tBodyAcc-mad()-Z</th>\n",
       "      <th>tBodyAcc-max()-X</th>\n",
       "      <th>...</th>\n",
       "      <th>fBodyBodyGyroJerkMag-kurtosis()</th>\n",
       "      <th>angle(tBodyAccMean,gravity)</th>\n",
       "      <th>angle(tBodyAccJerkMean),gravityMean)</th>\n",
       "      <th>angle(tBodyGyroMean,gravityMean)</th>\n",
       "      <th>angle(tBodyGyroJerkMean,gravityMean)</th>\n",
       "      <th>angle(X,gravityMean)</th>\n",
       "      <th>angle(Y,gravityMean)</th>\n",
       "      <th>angle(Z,gravityMean)</th>\n",
       "      <th>subject</th>\n",
       "      <th>Activity</th>\n",
       "    </tr>\n",
       "  </thead>\n",
       "  <tbody>\n",
       "    <tr>\n",
       "      <th>4659</th>\n",
       "      <td>0.164332</td>\n",
       "      <td>0.003476</td>\n",
       "      <td>-0.13562</td>\n",
       "      <td>0.315744</td>\n",
       "      <td>0.357465</td>\n",
       "      <td>-0.244591</td>\n",
       "      <td>0.277314</td>\n",
       "      <td>0.363728</td>\n",
       "      <td>-0.351415</td>\n",
       "      <td>0.411769</td>\n",
       "      <td>...</td>\n",
       "      <td>-0.530381</td>\n",
       "      <td>0.73496</td>\n",
       "      <td>-0.254613</td>\n",
       "      <td>-0.894778</td>\n",
       "      <td>0.149899</td>\n",
       "      <td>-0.771585</td>\n",
       "      <td>0.252715</td>\n",
       "      <td>0.050754</td>\n",
       "      <td>22</td>\n",
       "      <td>WALKING_DOWNSTAIRS</td>\n",
       "    </tr>\n",
       "  </tbody>\n",
       "</table>\n",
       "<p>1 rows × 563 columns</p>\n",
       "</div>"
      ],
      "text/plain": [
       "      tBodyAcc-mean()-X  tBodyAcc-mean()-Y  tBodyAcc-mean()-Z  \\\n",
       "4659           0.164332           0.003476           -0.13562   \n",
       "\n",
       "      tBodyAcc-std()-X  tBodyAcc-std()-Y  tBodyAcc-std()-Z  tBodyAcc-mad()-X  \\\n",
       "4659          0.315744          0.357465         -0.244591          0.277314   \n",
       "\n",
       "      tBodyAcc-mad()-Y  tBodyAcc-mad()-Z  tBodyAcc-max()-X  ...  \\\n",
       "4659          0.363728         -0.351415          0.411769  ...   \n",
       "\n",
       "      fBodyBodyGyroJerkMag-kurtosis()  angle(tBodyAccMean,gravity)  \\\n",
       "4659                        -0.530381                      0.73496   \n",
       "\n",
       "      angle(tBodyAccJerkMean),gravityMean)  angle(tBodyGyroMean,gravityMean)  \\\n",
       "4659                             -0.254613                         -0.894778   \n",
       "\n",
       "      angle(tBodyGyroJerkMean,gravityMean)  angle(X,gravityMean)  \\\n",
       "4659                              0.149899             -0.771585   \n",
       "\n",
       "      angle(Y,gravityMean)  angle(Z,gravityMean)  subject            Activity  \n",
       "4659              0.252715              0.050754       22  WALKING_DOWNSTAIRS  \n",
       "\n",
       "[1 rows x 563 columns]"
      ]
     },
     "execution_count": 9,
     "metadata": {},
     "output_type": "execute_result"
    }
   ],
   "source": [
    "df_train = pd.read_csv('https://raw.githubusercontent.com/natjulian/Contribuci-n-Diplomado-Data-Science-UC-2021/main/Bases%20de%20datos%20Clases/Activity/train.csv')\n",
    "df_train.sample()"
   ]
  },
  {
   "cell_type": "code",
   "execution_count": 12,
   "metadata": {},
   "outputs": [
    {
     "data": {
      "text/plain": [
       "(7352, 563)"
      ]
     },
     "execution_count": 12,
     "metadata": {},
     "output_type": "execute_result"
    }
   ],
   "source": [
    "df_train.shape"
   ]
  },
  {
   "cell_type": "code",
   "execution_count": 49,
   "metadata": {},
   "outputs": [
    {
     "data": {
      "text/html": [
       "<div>\n",
       "<style scoped>\n",
       "    .dataframe tbody tr th:only-of-type {\n",
       "        vertical-align: middle;\n",
       "    }\n",
       "\n",
       "    .dataframe tbody tr th {\n",
       "        vertical-align: top;\n",
       "    }\n",
       "\n",
       "    .dataframe thead th {\n",
       "        text-align: right;\n",
       "    }\n",
       "</style>\n",
       "<table border=\"1\" class=\"dataframe\">\n",
       "  <thead>\n",
       "    <tr style=\"text-align: right;\">\n",
       "      <th></th>\n",
       "      <th>tBodyAcc-mean()-X</th>\n",
       "      <th>tBodyAcc-mean()-Y</th>\n",
       "      <th>tBodyAcc-mean()-Z</th>\n",
       "      <th>tBodyAcc-std()-X</th>\n",
       "      <th>tBodyAcc-std()-Y</th>\n",
       "      <th>tBodyAcc-std()-Z</th>\n",
       "      <th>tBodyAcc-mad()-X</th>\n",
       "      <th>tBodyAcc-mad()-Y</th>\n",
       "      <th>tBodyAcc-mad()-Z</th>\n",
       "      <th>tBodyAcc-max()-X</th>\n",
       "      <th>...</th>\n",
       "      <th>fBodyBodyGyroJerkMag-kurtosis()</th>\n",
       "      <th>angle(tBodyAccMean,gravity)</th>\n",
       "      <th>angle(tBodyAccJerkMean),gravityMean)</th>\n",
       "      <th>angle(tBodyGyroMean,gravityMean)</th>\n",
       "      <th>angle(tBodyGyroJerkMean,gravityMean)</th>\n",
       "      <th>angle(X,gravityMean)</th>\n",
       "      <th>angle(Y,gravityMean)</th>\n",
       "      <th>angle(Z,gravityMean)</th>\n",
       "      <th>subject</th>\n",
       "      <th>Activity</th>\n",
       "    </tr>\n",
       "  </thead>\n",
       "  <tbody>\n",
       "    <tr>\n",
       "      <th>2584</th>\n",
       "      <td>0.280348</td>\n",
       "      <td>-0.032913</td>\n",
       "      <td>-0.061788</td>\n",
       "      <td>-0.964032</td>\n",
       "      <td>-0.773387</td>\n",
       "      <td>-0.868260</td>\n",
       "      <td>-0.975269</td>\n",
       "      <td>-0.758659</td>\n",
       "      <td>-0.857835</td>\n",
       "      <td>-0.863260</td>\n",
       "      <td>...</td>\n",
       "      <td>-0.201735</td>\n",
       "      <td>-0.001917</td>\n",
       "      <td>0.197684</td>\n",
       "      <td>0.226381</td>\n",
       "      <td>-0.371652</td>\n",
       "      <td>-0.846712</td>\n",
       "      <td>0.183827</td>\n",
       "      <td>0.082967</td>\n",
       "      <td>24</td>\n",
       "      <td>STANDING</td>\n",
       "    </tr>\n",
       "    <tr>\n",
       "      <th>2196</th>\n",
       "      <td>0.210650</td>\n",
       "      <td>-0.058295</td>\n",
       "      <td>-0.123296</td>\n",
       "      <td>-0.427855</td>\n",
       "      <td>-0.212583</td>\n",
       "      <td>-0.311737</td>\n",
       "      <td>-0.487290</td>\n",
       "      <td>-0.219249</td>\n",
       "      <td>-0.380234</td>\n",
       "      <td>-0.213704</td>\n",
       "      <td>...</td>\n",
       "      <td>-0.850126</td>\n",
       "      <td>0.132641</td>\n",
       "      <td>0.744819</td>\n",
       "      <td>-0.974976</td>\n",
       "      <td>-0.493940</td>\n",
       "      <td>-0.586804</td>\n",
       "      <td>0.299557</td>\n",
       "      <td>0.222701</td>\n",
       "      <td>18</td>\n",
       "      <td>WALKING_UPSTAIRS</td>\n",
       "    </tr>\n",
       "    <tr>\n",
       "      <th>169</th>\n",
       "      <td>0.330148</td>\n",
       "      <td>0.018983</td>\n",
       "      <td>-0.042531</td>\n",
       "      <td>-0.961897</td>\n",
       "      <td>-0.847142</td>\n",
       "      <td>-0.763820</td>\n",
       "      <td>-0.962593</td>\n",
       "      <td>-0.829188</td>\n",
       "      <td>-0.733149</td>\n",
       "      <td>-0.873754</td>\n",
       "      <td>...</td>\n",
       "      <td>-0.765821</td>\n",
       "      <td>-0.110768</td>\n",
       "      <td>0.099816</td>\n",
       "      <td>-0.062580</td>\n",
       "      <td>-0.519440</td>\n",
       "      <td>-0.569389</td>\n",
       "      <td>0.376260</td>\n",
       "      <td>-0.086252</td>\n",
       "      <td>2</td>\n",
       "      <td>STANDING</td>\n",
       "    </tr>\n",
       "    <tr>\n",
       "      <th>2353</th>\n",
       "      <td>0.298744</td>\n",
       "      <td>-0.052431</td>\n",
       "      <td>-0.130287</td>\n",
       "      <td>0.016623</td>\n",
       "      <td>0.600825</td>\n",
       "      <td>0.113084</td>\n",
       "      <td>-0.040125</td>\n",
       "      <td>0.439247</td>\n",
       "      <td>-0.005967</td>\n",
       "      <td>0.471334</td>\n",
       "      <td>...</td>\n",
       "      <td>-0.054663</td>\n",
       "      <td>-0.337452</td>\n",
       "      <td>0.109002</td>\n",
       "      <td>0.940409</td>\n",
       "      <td>-0.414029</td>\n",
       "      <td>-0.671152</td>\n",
       "      <td>0.288455</td>\n",
       "      <td>0.144089</td>\n",
       "      <td>20</td>\n",
       "      <td>WALKING_DOWNSTAIRS</td>\n",
       "    </tr>\n",
       "    <tr>\n",
       "      <th>2628</th>\n",
       "      <td>0.274934</td>\n",
       "      <td>-0.012630</td>\n",
       "      <td>-0.122805</td>\n",
       "      <td>-0.992728</td>\n",
       "      <td>-0.973335</td>\n",
       "      <td>-0.951904</td>\n",
       "      <td>-0.993312</td>\n",
       "      <td>-0.974129</td>\n",
       "      <td>-0.951089</td>\n",
       "      <td>-0.939542</td>\n",
       "      <td>...</td>\n",
       "      <td>-0.933601</td>\n",
       "      <td>0.020688</td>\n",
       "      <td>0.023860</td>\n",
       "      <td>0.015683</td>\n",
       "      <td>0.269247</td>\n",
       "      <td>-0.877811</td>\n",
       "      <td>0.012299</td>\n",
       "      <td>0.038708</td>\n",
       "      <td>24</td>\n",
       "      <td>SITTING</td>\n",
       "    </tr>\n",
       "  </tbody>\n",
       "</table>\n",
       "<p>5 rows × 563 columns</p>\n",
       "</div>"
      ],
      "text/plain": [
       "      tBodyAcc-mean()-X  tBodyAcc-mean()-Y  tBodyAcc-mean()-Z  \\\n",
       "2584           0.280348          -0.032913          -0.061788   \n",
       "2196           0.210650          -0.058295          -0.123296   \n",
       "169            0.330148           0.018983          -0.042531   \n",
       "2353           0.298744          -0.052431          -0.130287   \n",
       "2628           0.274934          -0.012630          -0.122805   \n",
       "\n",
       "      tBodyAcc-std()-X  tBodyAcc-std()-Y  tBodyAcc-std()-Z  tBodyAcc-mad()-X  \\\n",
       "2584         -0.964032         -0.773387         -0.868260         -0.975269   \n",
       "2196         -0.427855         -0.212583         -0.311737         -0.487290   \n",
       "169          -0.961897         -0.847142         -0.763820         -0.962593   \n",
       "2353          0.016623          0.600825          0.113084         -0.040125   \n",
       "2628         -0.992728         -0.973335         -0.951904         -0.993312   \n",
       "\n",
       "      tBodyAcc-mad()-Y  tBodyAcc-mad()-Z  tBodyAcc-max()-X  ...  \\\n",
       "2584         -0.758659         -0.857835         -0.863260  ...   \n",
       "2196         -0.219249         -0.380234         -0.213704  ...   \n",
       "169          -0.829188         -0.733149         -0.873754  ...   \n",
       "2353          0.439247         -0.005967          0.471334  ...   \n",
       "2628         -0.974129         -0.951089         -0.939542  ...   \n",
       "\n",
       "      fBodyBodyGyroJerkMag-kurtosis()  angle(tBodyAccMean,gravity)  \\\n",
       "2584                        -0.201735                    -0.001917   \n",
       "2196                        -0.850126                     0.132641   \n",
       "169                         -0.765821                    -0.110768   \n",
       "2353                        -0.054663                    -0.337452   \n",
       "2628                        -0.933601                     0.020688   \n",
       "\n",
       "      angle(tBodyAccJerkMean),gravityMean)  angle(tBodyGyroMean,gravityMean)  \\\n",
       "2584                              0.197684                          0.226381   \n",
       "2196                              0.744819                         -0.974976   \n",
       "169                               0.099816                         -0.062580   \n",
       "2353                              0.109002                          0.940409   \n",
       "2628                              0.023860                          0.015683   \n",
       "\n",
       "      angle(tBodyGyroJerkMean,gravityMean)  angle(X,gravityMean)  \\\n",
       "2584                             -0.371652             -0.846712   \n",
       "2196                             -0.493940             -0.586804   \n",
       "169                              -0.519440             -0.569389   \n",
       "2353                             -0.414029             -0.671152   \n",
       "2628                              0.269247             -0.877811   \n",
       "\n",
       "      angle(Y,gravityMean)  angle(Z,gravityMean)  subject            Activity  \n",
       "2584              0.183827              0.082967       24            STANDING  \n",
       "2196              0.299557              0.222701       18    WALKING_UPSTAIRS  \n",
       "169               0.376260             -0.086252        2            STANDING  \n",
       "2353              0.288455              0.144089       20  WALKING_DOWNSTAIRS  \n",
       "2628              0.012299              0.038708       24             SITTING  \n",
       "\n",
       "[5 rows x 563 columns]"
      ]
     },
     "execution_count": 49,
     "metadata": {},
     "output_type": "execute_result"
    }
   ],
   "source": [
    "df_test = pd.read_csv('https://raw.githubusercontent.com/natjulian/Contribuci-n-Diplomado-Data-Science-UC-2021/main/Bases%20de%20datos%20Clases/Activity/test.csv')\n",
    "df_test.sample(5)"
   ]
  },
  {
   "cell_type": "code",
   "execution_count": 13,
   "metadata": {},
   "outputs": [
    {
     "data": {
      "text/plain": [
       "(2947, 563)"
      ]
     },
     "execution_count": 13,
     "metadata": {},
     "output_type": "execute_result"
    }
   ],
   "source": [
    "df_test.shape"
   ]
  },
  {
   "attachments": {},
   "cell_type": "markdown",
   "metadata": {},
   "source": [
    "### 2.  Estudie la cantidad de registros que hay en cada actividad en el set de entrenamiento.  Para  esto,  una  opción  es  utilizar  la  función  de  pandas crosstab(index=columna, columns=\"count\"). ¿Cómo se encuentran repartidas las Actividades? ¿Existe algún desbalance en las categorías? (realice un gráfico que acompañe su análisis) Comente."
   ]
  },
  {
   "cell_type": "code",
   "execution_count": 23,
   "metadata": {},
   "outputs": [],
   "source": [
    "import matplotlib.pyplot as plt"
   ]
  },
  {
   "cell_type": "code",
   "execution_count": 18,
   "metadata": {},
   "outputs": [
    {
     "data": {
      "text/html": [
       "<div>\n",
       "<style scoped>\n",
       "    .dataframe tbody tr th:only-of-type {\n",
       "        vertical-align: middle;\n",
       "    }\n",
       "\n",
       "    .dataframe tbody tr th {\n",
       "        vertical-align: top;\n",
       "    }\n",
       "\n",
       "    .dataframe thead th {\n",
       "        text-align: right;\n",
       "    }\n",
       "</style>\n",
       "<table border=\"1\" class=\"dataframe\">\n",
       "  <thead>\n",
       "    <tr style=\"text-align: right;\">\n",
       "      <th>col_0</th>\n",
       "      <th>Activity</th>\n",
       "      <th>count</th>\n",
       "    </tr>\n",
       "  </thead>\n",
       "  <tbody>\n",
       "    <tr>\n",
       "      <th>0</th>\n",
       "      <td>LAYING</td>\n",
       "      <td>1407</td>\n",
       "    </tr>\n",
       "    <tr>\n",
       "      <th>1</th>\n",
       "      <td>SITTING</td>\n",
       "      <td>1286</td>\n",
       "    </tr>\n",
       "    <tr>\n",
       "      <th>2</th>\n",
       "      <td>STANDING</td>\n",
       "      <td>1374</td>\n",
       "    </tr>\n",
       "    <tr>\n",
       "      <th>3</th>\n",
       "      <td>WALKING</td>\n",
       "      <td>1226</td>\n",
       "    </tr>\n",
       "    <tr>\n",
       "      <th>4</th>\n",
       "      <td>WALKING_DOWNSTAIRS</td>\n",
       "      <td>986</td>\n",
       "    </tr>\n",
       "    <tr>\n",
       "      <th>5</th>\n",
       "      <td>WALKING_UPSTAIRS</td>\n",
       "      <td>1073</td>\n",
       "    </tr>\n",
       "  </tbody>\n",
       "</table>\n",
       "</div>"
      ],
      "text/plain": [
       "col_0            Activity  count\n",
       "0                  LAYING   1407\n",
       "1                 SITTING   1286\n",
       "2                STANDING   1374\n",
       "3                 WALKING   1226\n",
       "4      WALKING_DOWNSTAIRS    986\n",
       "5        WALKING_UPSTAIRS   1073"
      ]
     },
     "execution_count": 18,
     "metadata": {},
     "output_type": "execute_result"
    }
   ],
   "source": [
    "tabla = pd.crosstab(index=df_train['Activity'],columns='count').reset_index()\n",
    "tabla"
   ]
  },
  {
   "cell_type": "code",
   "execution_count": 29,
   "metadata": {},
   "outputs": [
    {
     "data": {
      "image/png": "[encoded data removed]",
      "text/plain": [
       "<Figure size 432x288 with 1 Axes>"
      ]
     },
     "metadata": {
      "needs_background": "light"
     },
     "output_type": "display_data"
    }
   ],
   "source": [
    "sns.countplot(x='Activity', data = df_train)\n",
    "plt.xticks(rotation = 45)\n",
    "plt.show()"
   ]
  },
  {
   "attachments": {},
   "cell_type": "markdown",
   "metadata": {},
   "source": [
    "Se puede decir que las categorias se encuentran balanceadas ya que no existe alguna categoria que tenga uan gran mayoria de los datos y que pueda desbalancear el modelo."
   ]
  },
  {
   "attachments": {},
   "cell_type": "markdown",
   "metadata": {},
   "source": [
    "### 3.  Defina X_train y X_test como corresponda (omitiendo las variables que no corresponden a variables predictoras). "
   ]
  },
  {
   "cell_type": "code",
   "execution_count": 30,
   "metadata": {},
   "outputs": [],
   "source": [
    "X_train = df_train.drop(columns=['subject','Activity'])\n",
    "X_test = df_test.drop(columns=['subject','Activity'])"
   ]
  },
  {
   "attachments": {},
   "cell_type": "markdown",
   "metadata": {},
   "source": [
    "### 4.  Estandarice el set de features de entrenamiento y prueba. Puede utilizar la función StandardScaler: "
   ]
  },
  {
   "cell_type": "code",
   "execution_count": 50,
   "metadata": {},
   "outputs": [],
   "source": [
    "from sklearn.preprocessing import StandardScaler, MinMaxScaler"
   ]
  },
  {
   "cell_type": "code",
   "execution_count": 51,
   "metadata": {},
   "outputs": [],
   "source": [
    "# Escalar los datos de entrenamiento y prueba utilizando MinMaxScaler\n",
    "scaler = MinMaxScaler()\n",
    "X_train_scaled = scaler.fit_transform(X_train)\n",
    "X_test_scaled = scaler.transform(X_test)"
   ]
  },
  {
   "cell_type": "code",
   "execution_count": 32,
   "metadata": {},
   "outputs": [],
   "source": [
    "#x_train_stand = StandardScaler().fit_transform(X_train)\n",
    "#x_test_stand = StandardScaler().fit_transform(X_test)"
   ]
  },
  {
   "attachments": {},
   "cell_type": "markdown",
   "metadata": {},
   "source": [
    "### 5.  Defina  y_train  e  y_test  como  corresponda  (recuerde  que  debe  estar codificada numéricamente). Para recodificar un vector o columna y de varias categorías a formato numérico puede utilizar: "
   ]
  },
  {
   "cell_type": "code",
   "execution_count": 33,
   "metadata": {},
   "outputs": [],
   "source": [
    "from sklearn import preprocessing"
   ]
  },
  {
   "cell_type": "code",
   "execution_count": 34,
   "metadata": {},
   "outputs": [],
   "source": [
    "y_train = df_train['Activity']\n",
    "y_test = df_test['Activity']"
   ]
  },
  {
   "cell_type": "code",
   "execution_count": 35,
   "metadata": {},
   "outputs": [],
   "source": [
    "encoder_train = preprocessing.LabelEncoder().fit(y_train) \n",
    "y_train_encoder = encoder_train.transform(y_train)"
   ]
  },
  {
   "cell_type": "code",
   "execution_count": 36,
   "metadata": {},
   "outputs": [],
   "source": [
    "encoder_test = preprocessing.LabelEncoder().fit(y_test) \n",
    "y_test_encoder = encoder_test.transform(y_test)"
   ]
  },
  {
   "attachments": {},
   "cell_type": "markdown",
   "metadata": {},
   "source": [
    "### 6. Utilice la función GridSearchCV para realizar 10 validaciones cruzadas con la lista de parámetros definida anteriormente. Determine la mejor combinación de parámetros y obtenga el modelo con dichos parámetros."
   ]
  },
  {
   "cell_type": "code",
   "execution_count": 64,
   "metadata": {},
   "outputs": [],
   "source": [
    "from sklearn.model_selection import GridSearchCV\n",
    "from sklearn.naive_bayes import MultinomialNB\n",
    "\n",
    "# Definir los parámetros a probar\n",
    "parametros = {\n",
    "    'alpha': [0.1, 0.5, 1.0, 10],\n",
    "    'fit_prior': [True, False]\n",
    "    #'class_prior': [None, [0.2, 0.8], [0.5, 0.5]]\n",
    "}\n",
    "\n",
    "# Crear el modelo MultinomialNB\n",
    "modelo = MultinomialNB()\n",
    "\n",
    "# Crear el objeto GridSearchCV\n",
    "grid_search = GridSearchCV(estimator=modelo, param_grid=parametros, cv=5)\n",
    "\n",
    "# Ajustar el modelo utilizando GridSearchCV\n",
    "grid_search.fit(X_train_scaled, y_train_encoder)\n",
    "\n",
    "# Obtener los mejores parámetros y puntajes\n",
    "mejores_parametros = grid_search.best_params_\n",
    "mejor_puntaje = grid_search.best_score_"
   ]
  },
  {
   "cell_type": "code",
   "execution_count": 66,
   "metadata": {},
   "outputs": [
    {
     "data": {
      "text/plain": [
       "{'alpha': 10, 'fit_prior': True}"
      ]
     },
     "execution_count": 66,
     "metadata": {},
     "output_type": "execute_result"
    }
   ],
   "source": [
    "mejores_parametros"
   ]
  },
  {
   "cell_type": "code",
   "execution_count": 67,
   "metadata": {},
   "outputs": [
    {
     "data": {
      "text/plain": [
       "0.8350131568602969"
      ]
     },
     "execution_count": 67,
     "metadata": {},
     "output_type": "execute_result"
    }
   ],
   "source": [
    "mejor_puntaje"
   ]
  },
  {
   "attachments": {},
   "cell_type": "markdown",
   "metadata": {},
   "source": [
    "### 7. ¿Cómo es la capacidad predictiva de este modelo en el set de prueba? Comente."
   ]
  },
  {
   "cell_type": "code",
   "execution_count": 70,
   "metadata": {},
   "outputs": [
    {
     "name": "stdout",
     "output_type": "stream",
     "text": [
      "Precisión del modelo en el set de prueba: 0.8561248727519511\n"
     ]
    }
   ],
   "source": [
    "from sklearn.metrics import accuracy_score, precision_score, recall_score, f1_score\n",
    "best_model = MultinomialNB(alpha=10, fit_prior= True)\n",
    "best_model.fit(X_train_scaled, y_train_encoder)\n",
    "\n",
    "# Obtener las predicciones del modelo en el set de prueba\n",
    "y_pred = best_model.predict(X_test_scaled)\n",
    "\n",
    "# Calcular la precisión del modelo en el set de prueba\n",
    "accuracy = accuracy_score(y_test_encoder, y_pred)\n",
    "\n",
    "print(\"Precisión del modelo en el set de prueba:\", accuracy)"
   ]
  },
  {
   "attachments": {},
   "cell_type": "markdown",
   "metadata": {},
   "source": [
    "Es un modelo que funciona bien ya que tiene un presicion del 85% del cual ademas se pudo llegar a los parametros adecuados para mejorar la precision usando gridsearch."
   ]
  }
 ],
 "metadata": {
  "kernelspec": {
   "display_name": "Python 3",
   "language": "python",
   "name": "python3"
  },
  "language_info": {
   "codemirror_mode": {
    "name": "ipython",
    "version": 3
   },
   "file_extension": ".py",
   "mimetype": "text/x-python",
   "name": "python",
   "nbconvert_exporter": "python",
   "pygments_lexer": "ipython3",
   "version": "3.9.7"
  },
  "orig_nbformat": 4
 },
 "nbformat": 4,
 "nbformat_minor": 2
}
