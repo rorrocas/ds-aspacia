{
 "cells": [
  {
   "cell_type": "code",
   "execution_count": 4,
   "metadata": {},
   "outputs": [],
   "source": [
    "import pandas as pd\n",
    "\n",
    "from utils import data_science_students\n",
    "from utils import random_student, n_random_students"
   ]
  },
  {
   "cell_type": "code",
   "execution_count": 2,
   "metadata": {},
   "outputs": [
    {
     "data": {
      "text/plain": [
       "'Marilina Fuentes'"
      ]
     },
     "execution_count": 2,
     "metadata": {},
     "output_type": "execute_result"
    }
   ],
   "source": [
    "random_student()"
   ]
  },
  {
   "cell_type": "code",
   "execution_count": 8,
   "metadata": {},
   "outputs": [
    {
     "data": {
      "text/plain": [
       "0      Claudio Bahamonde\n",
       "1         Felipe Abarzúa\n",
       "2        Diego Rodriguez\n",
       "3         Javier Pizarro\n",
       "4    Smilling Battaglini\n",
       "5           Pamela Labbé\n",
       "6       Marilina Fuentes\n",
       "7         Jaime Castillo\n",
       "8       Rodrigo Castillo\n",
       "9         Ignacia Arenas\n",
       "dtype: object"
      ]
     },
     "execution_count": 8,
     "metadata": {},
     "output_type": "execute_result"
    }
   ],
   "source": [
    "# crear una serie a partir de una lista\n",
    "\n",
    "serie_01 = pd.Series(data_science_students[:10], dtype=str)\n",
    "serie_01"
   ]
  },
  {
   "cell_type": "code",
   "execution_count": 10,
   "metadata": {},
   "outputs": [
    {
     "data": {
      "text/plain": [
       "0      Claudio Bahamonde\n",
       "1         Felipe Abarzúa\n",
       "2        Diego Rodriguez\n",
       "3         Javier Pizarro\n",
       "4    Smilling Battaglini\n",
       "5           Pamela Labbé\n",
       "dtype: object"
      ]
     },
     "execution_count": 10,
     "metadata": {},
     "output_type": "execute_result"
    }
   ],
   "source": [
    "# crear una serie a partir de un diccionario donde la clave es el índice y el valor es el valor es el nombre\n",
    "\n",
    "serie_02 = pd.Series(\n",
    "    {\n",
    "        0: \"Claudio Bahamonde\",\n",
    "        1: \"Felipe Abarzúa\",\n",
    "        2: \"Diego Rodriguez\",\n",
    "        3: \"Javier Pizarro\",\n",
    "        4: \"Smilling Battaglini\",\n",
    "        5: \"Pamela Labbé\",\n",
    "    }\n",
    ")\n",
    "\n",
    "serie_02"
   ]
  },
  {
   "cell_type": "code",
   "execution_count": 11,
   "metadata": {},
   "outputs": [
    {
     "data": {
      "text/plain": [
       "count                    10\n",
       "unique                   10\n",
       "top       Claudio Bahamonde\n",
       "freq                      1\n",
       "dtype: object"
      ]
     },
     "execution_count": 11,
     "metadata": {},
     "output_type": "execute_result"
    }
   ],
   "source": [
    "serie_01.describe()"
   ]
  },
  {
   "cell_type": "code",
   "execution_count": 12,
   "metadata": {},
   "outputs": [
    {
     "data": {
      "text/plain": [
       "Claudio Bahamonde      1\n",
       "Felipe Abarzúa         1\n",
       "Diego Rodriguez        1\n",
       "Javier Pizarro         1\n",
       "Smilling Battaglini    1\n",
       "Pamela Labbé           1\n",
       "Marilina Fuentes       1\n",
       "Jaime Castillo         1\n",
       "Rodrigo Castillo       1\n",
       "Ignacia Arenas         1\n",
       "dtype: int64"
      ]
     },
     "execution_count": 12,
     "metadata": {},
     "output_type": "execute_result"
    }
   ],
   "source": [
    "serie_01.value_counts()"
   ]
  },
  {
   "cell_type": "code",
   "execution_count": null,
   "metadata": {},
   "outputs": [],
   "source": []
  }
 ],
 "metadata": {
  "kernelspec": {
   "display_name": "Python 3",
   "language": "python",
   "name": "python3"
  },
  "language_info": {
   "codemirror_mode": {
    "name": "ipython",
    "version": 3
   },
   "file_extension": ".py",
   "mimetype": "text/x-python",
   "name": "python",
   "nbconvert_exporter": "python",
   "pygments_lexer": "ipython3",
   "version": "3.10.6"
  },
  "orig_nbformat": 4
 },
 "nbformat": 4,
 "nbformat_minor": 2
}
