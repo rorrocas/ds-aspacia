{
 "cells": [
  {
   "attachments": {},
   "cell_type": "markdown",
   "metadata": {},
   "source": [
    "### Ejercicio 3"
   ]
  },
  {
   "cell_type": "code",
   "execution_count": 1,
   "metadata": {},
   "outputs": [],
   "source": [
    "import pandas as pd"
   ]
  },
  {
   "attachments": {},
   "cell_type": "markdown",
   "metadata": {},
   "source": [
    "#### 1.- Crear un programa que sea capaz de leer el archivo videojuegos.csv, luego sacar el promedio de los precios y el promedio de la calificación."
   ]
  },
  {
   "cell_type": "code",
   "execution_count": 2,
   "metadata": {},
   "outputs": [
    {
     "data": {
      "text/html": [
       "<div>\n",
       "<style scoped>\n",
       "    .dataframe tbody tr th:only-of-type {\n",
       "        vertical-align: middle;\n",
       "    }\n",
       "\n",
       "    .dataframe tbody tr th {\n",
       "        vertical-align: top;\n",
       "    }\n",
       "\n",
       "    .dataframe thead th {\n",
       "        text-align: right;\n",
       "    }\n",
       "</style>\n",
       "<table border=\"1\" class=\"dataframe\">\n",
       "  <thead>\n",
       "    <tr style=\"text-align: right;\">\n",
       "      <th></th>\n",
       "      <th>Nombre,CalificaciÃ³n,Precio</th>\n",
       "    </tr>\n",
       "  </thead>\n",
       "  <tbody>\n",
       "    <tr>\n",
       "      <th>0</th>\n",
       "      <td>Cuphead,100,180</td>\n",
       "    </tr>\n",
       "    <tr>\n",
       "      <th>1</th>\n",
       "      <td>Doom eternal,99,1400</td>\n",
       "    </tr>\n",
       "    <tr>\n",
       "      <th>2</th>\n",
       "      <td>Horizon Zero Dawn,90,450.7</td>\n",
       "    </tr>\n",
       "    <tr>\n",
       "      <th>3</th>\n",
       "      <td>Resident Evil 2 Remake,95,450.88</td>\n",
       "    </tr>\n",
       "    <tr>\n",
       "      <th>4</th>\n",
       "      <td>Super Mario Odyssey,90,1700.05</td>\n",
       "    </tr>\n",
       "    <tr>\n",
       "      <th>5</th>\n",
       "      <td>Minecraft,95,550.54</td>\n",
       "    </tr>\n",
       "  </tbody>\n",
       "</table>\n",
       "</div>"
      ],
      "text/plain": [
       "        Nombre,CalificaciÃ³n,Precio\n",
       "0                   Cuphead,100,180\n",
       "1              Doom eternal,99,1400\n",
       "2        Horizon Zero Dawn,90,450.7\n",
       "3  Resident Evil 2 Remake,95,450.88\n",
       "4    Super Mario Odyssey,90,1700.05\n",
       "5               Minecraft,95,550.54"
      ]
     },
     "execution_count": 2,
     "metadata": {},
     "output_type": "execute_result"
    }
   ],
   "source": [
    "df_videogames = pd.read_csv(\"videojuegos1.csv\")\n",
    "df_videogames"
   ]
  },
  {
   "cell_type": "code",
   "execution_count": 3,
   "metadata": {},
   "outputs": [
    {
     "data": {
      "text/plain": [
       "['\"Nombre,CalificaciÃ³n,Precio\"\\n',\n",
       " '\"Cuphead,100,180\"\\n',\n",
       " '\"Doom eternal,99,1400\"\\n',\n",
       " '\"Horizon Zero Dawn,90,450.7\"\\n',\n",
       " '\"Resident Evil 2 Remake,95,450.88\"\\n',\n",
       " '\"Super Mario Odyssey,90,1700.05\"\\n',\n",
       " '\"Minecraft,95,550.54\"']"
      ]
     },
     "execution_count": 3,
     "metadata": {},
     "output_type": "execute_result"
    }
   ],
   "source": [
    "with open('videojuegos1.csv', 'r',encoding=\"utf-8\") as archivo:\n",
    "    lineas = archivo.readlines()\n",
    "lineas"
   ]
  },
  {
   "cell_type": "code",
   "execution_count": 4,
   "metadata": {},
   "outputs": [
    {
     "name": "stdout",
     "output_type": "stream",
     "text": [
      "['', 'Nombre,CalificaciÃ³n,Precio', '\\n']\n",
      "['', 'Cuphead,100,180', '\\n']\n",
      "['', 'Doom eternal,99,1400', '\\n']\n",
      "['', 'Horizon Zero Dawn,90,450.7', '\\n']\n",
      "['', 'Resident Evil 2 Remake,95,450.88', '\\n']\n",
      "['', 'Super Mario Odyssey,90,1700.05', '\\n']\n",
      "['', 'Minecraft,95,550.54', '']\n"
     ]
    }
   ],
   "source": [
    "for linea in lineas:\n",
    "    print(linea.split('\"'))"
   ]
  },
  {
   "cell_type": "code",
   "execution_count": 5,
   "metadata": {},
   "outputs": [
    {
     "data": {
      "text/plain": [
       "[['Nombre', 'CalificaciÃ³n', 'Precio'],\n",
       " ['Cuphead', '100', '180'],\n",
       " ['Doom eternal', '99', '1400'],\n",
       " ['Horizon Zero Dawn', '90', '450.7'],\n",
       " ['Resident Evil 2 Remake', '95', '450.88'],\n",
       " ['Super Mario Odyssey', '90', '1700.05'],\n",
       " ['Minecraft', '95', '550.54']]"
      ]
     },
     "execution_count": 5,
     "metadata": {},
     "output_type": "execute_result"
    }
   ],
   "source": [
    "columnas = []\n",
    "for linea in lineas:\n",
    "    columna = linea.split('\"')[1]\n",
    "    columnas.append(columna.split(','))\n",
    "columnas"
   ]
  },
  {
   "cell_type": "code",
   "execution_count": 6,
   "metadata": {},
   "outputs": [],
   "source": [
    "nombre = []\n",
    "precio = []\n",
    "calificacion = []\n",
    "for columna in columnas:\n",
    "    nombre.append(columna[0])\n",
    "    calificacion.append(columna[1])\n",
    "    precio.append(columna[2])"
   ]
  },
  {
   "cell_type": "code",
   "execution_count": 7,
   "metadata": {},
   "outputs": [],
   "source": [
    "datos = {\n",
    "    'nombre': nombre[1:],\n",
    "    'calificacion': calificacion[1:],\n",
    "    'precio': precio[1:]\n",
    "}\n",
    "\n",
    "df_videogames1 = pd.DataFrame(datos)"
   ]
  },
  {
   "cell_type": "code",
   "execution_count": 8,
   "metadata": {},
   "outputs": [
    {
     "data": {
      "text/html": [
       "<div>\n",
       "<style scoped>\n",
       "    .dataframe tbody tr th:only-of-type {\n",
       "        vertical-align: middle;\n",
       "    }\n",
       "\n",
       "    .dataframe tbody tr th {\n",
       "        vertical-align: top;\n",
       "    }\n",
       "\n",
       "    .dataframe thead th {\n",
       "        text-align: right;\n",
       "    }\n",
       "</style>\n",
       "<table border=\"1\" class=\"dataframe\">\n",
       "  <thead>\n",
       "    <tr style=\"text-align: right;\">\n",
       "      <th></th>\n",
       "      <th>nombre</th>\n",
       "      <th>calificacion</th>\n",
       "      <th>precio</th>\n",
       "    </tr>\n",
       "  </thead>\n",
       "  <tbody>\n",
       "    <tr>\n",
       "      <th>0</th>\n",
       "      <td>Cuphead</td>\n",
       "      <td>100</td>\n",
       "      <td>180</td>\n",
       "    </tr>\n",
       "    <tr>\n",
       "      <th>1</th>\n",
       "      <td>Doom eternal</td>\n",
       "      <td>99</td>\n",
       "      <td>1400</td>\n",
       "    </tr>\n",
       "    <tr>\n",
       "      <th>2</th>\n",
       "      <td>Horizon Zero Dawn</td>\n",
       "      <td>90</td>\n",
       "      <td>450.7</td>\n",
       "    </tr>\n",
       "    <tr>\n",
       "      <th>3</th>\n",
       "      <td>Resident Evil 2 Remake</td>\n",
       "      <td>95</td>\n",
       "      <td>450.88</td>\n",
       "    </tr>\n",
       "    <tr>\n",
       "      <th>4</th>\n",
       "      <td>Super Mario Odyssey</td>\n",
       "      <td>90</td>\n",
       "      <td>1700.05</td>\n",
       "    </tr>\n",
       "    <tr>\n",
       "      <th>5</th>\n",
       "      <td>Minecraft</td>\n",
       "      <td>95</td>\n",
       "      <td>550.54</td>\n",
       "    </tr>\n",
       "  </tbody>\n",
       "</table>\n",
       "</div>"
      ],
      "text/plain": [
       "                   nombre calificacion   precio\n",
       "0                 Cuphead          100      180\n",
       "1            Doom eternal           99     1400\n",
       "2       Horizon Zero Dawn           90    450.7\n",
       "3  Resident Evil 2 Remake           95   450.88\n",
       "4     Super Mario Odyssey           90  1700.05\n",
       "5               Minecraft           95   550.54"
      ]
     },
     "execution_count": 8,
     "metadata": {},
     "output_type": "execute_result"
    }
   ],
   "source": [
    "df_videogames1"
   ]
  },
  {
   "attachments": {},
   "cell_type": "markdown",
   "metadata": {},
   "source": [
    "### 2.- Se tiene el archivo videojuegos2.csv con información sobre todo el contenido de su biblioteca de videojuegos."
   ]
  },
  {
   "cell_type": "code",
   "execution_count": 9,
   "metadata": {},
   "outputs": [
    {
     "data": {
      "text/plain": [
       "['\"Nombre,year,Consola,Calificacion,Tags(separados por \",),,,\\n',\n",
       " '\"The Legend of Zelda,86,Famicom,Disk System,3.5,RPG\",Link,Zelda,Hyrule,Triforce\\n',\n",
       " '\"Double Dragon,87,Arcade,3.7,Beat-\\'em up\",Billy,Jimmy,PuÃ±ete,\\n',\n",
       " '\"The Legend of Zelda,88,NES,4.3,RPG\",Link,Zelda,Hyrule,Triforce\\n',\n",
       " '\"Halo 5: Guardians,15,Xbox One,4,FPS\",Master Chief,Cortana,Covenant,\\n',\n",
       " '\"Curse of Ra,82,Commodore PET,3,RPG\",adventure,Temple,Apshai,\\n',\n",
       " '\"Battlefield 1,16,Xbox One,4.8,FPS\",WWI,,,\\n']"
      ]
     },
     "execution_count": 9,
     "metadata": {},
     "output_type": "execute_result"
    }
   ],
   "source": [
    "with open('videojuegos2.csv', 'r',encoding=\"utf-8\") as archivo:\n",
    "    lineas2 = archivo.readlines()\n",
    "lineas2"
   ]
  },
  {
   "cell_type": "code",
   "execution_count": 10,
   "metadata": {},
   "outputs": [
    {
     "name": "stdout",
     "output_type": "stream",
     "text": [
      "['', 'Nombre,year,Consola,Calificacion,Tags(separados por ', ',),,,\\n']\n",
      "['', 'The Legend of Zelda,86,Famicom,Disk System,3.5,RPG', ',Link,Zelda,Hyrule,Triforce\\n']\n",
      "['', \"Double Dragon,87,Arcade,3.7,Beat-'em up\", ',Billy,Jimmy,PuÃ±ete,\\n']\n",
      "['', 'The Legend of Zelda,88,NES,4.3,RPG', ',Link,Zelda,Hyrule,Triforce\\n']\n",
      "['', 'Halo 5: Guardians,15,Xbox One,4,FPS', ',Master Chief,Cortana,Covenant,\\n']\n",
      "['', 'Curse of Ra,82,Commodore PET,3,RPG', ',adventure,Temple,Apshai,\\n']\n",
      "['', 'Battlefield 1,16,Xbox One,4.8,FPS', ',WWI,,,\\n']\n"
     ]
    }
   ],
   "source": [
    "for linea in lineas2:\n",
    "    print(linea.split('\"'))"
   ]
  },
  {
   "cell_type": "code",
   "execution_count": 11,
   "metadata": {},
   "outputs": [
    {
     "data": {
      "text/plain": [
       "[',),,,\\n',\n",
       " ',Link,Zelda,Hyrule,Triforce\\n',\n",
       " ',Billy,Jimmy,PuÃ±ete,\\n',\n",
       " ',Link,Zelda,Hyrule,Triforce\\n',\n",
       " ',Master Chief,Cortana,Covenant,\\n',\n",
       " ',adventure,Temple,Apshai,\\n',\n",
       " ',WWI,,,\\n']"
      ]
     },
     "execution_count": 11,
     "metadata": {},
     "output_type": "execute_result"
    }
   ],
   "source": [
    "tags = []\n",
    "for linea in lineas2:\n",
    "    tags.append(linea.split('\"')[-1])\n",
    "tags"
   ]
  },
  {
   "cell_type": "code",
   "execution_count": 12,
   "metadata": {},
   "outputs": [],
   "source": [
    "tags = [tag.strip(',') for tag in tags]\n",
    "tags = [tag.strip('\\n') for tag in tags]\n",
    "tags[0] = 'Tag'"
   ]
  },
  {
   "cell_type": "code",
   "execution_count": 66,
   "metadata": {},
   "outputs": [
    {
     "data": {
      "text/plain": [
       "[['Nombre', 'year', 'Consola', 'Calificacion', 'Tags(separados por '],\n",
       " ['The Legend of Zelda', '86', 'Famicom', 'Disk System', '3.5', 'RPG'],\n",
       " ['Double Dragon', '87', 'Arcade', '3.7', \"Beat-'em up\"],\n",
       " ['The Legend of Zelda', '88', 'NES', '4.3', 'RPG'],\n",
       " ['Halo 5: Guardians', '15', 'Xbox One', '4', 'FPS'],\n",
       " ['Curse of Ra', '82', 'Commodore PET', '3', 'RPG'],\n",
       " ['Battlefield 1', '16', 'Xbox One', '4.8', 'FPS']]"
      ]
     },
     "execution_count": 66,
     "metadata": {},
     "output_type": "execute_result"
    }
   ],
   "source": [
    "columnas2 = []\n",
    "for linea in lineas2:\n",
    "    columna = linea.split('\"')[1]\n",
    "    columnas2.append(columna.split(','))\n",
    "columnas2"
   ]
  },
  {
   "cell_type": "code",
   "execution_count": 73,
   "metadata": {},
   "outputs": [
    {
     "data": {
      "text/plain": [
       "['Tag',\n",
       " 'Link,Zelda,Hyrule,Triforce, RPG, RPG',\n",
       " \"Billy,Jimmy,PuÃ±ete,, Beat-'em up, Beat-'em up\",\n",
       " 'Link,Zelda,Hyrule,Triforce, RPG, RPG',\n",
       " 'Master Chief,Cortana,Covenant,, FPS, FPS',\n",
       " 'adventure,Temple,Apshai,, RPG, RPG',\n",
       " 'WWI,,,, FPS, FPS']"
      ]
     },
     "execution_count": 73,
     "metadata": {},
     "output_type": "execute_result"
    }
   ],
   "source": [
    "for idx, columna in enumerate(columnas2):\n",
    "    if idx == 0:\n",
    "        continue\n",
    "    tag = columna[-1]\n",
    "    tags[idx] = f\"{tags[idx]}, {tag}\"\n",
    "tags"
   ]
  },
  {
   "cell_type": "code",
   "execution_count": 74,
   "metadata": {},
   "outputs": [],
   "source": [
    "nombre2 = []\n",
    "year2 = []\n",
    "consola2 = []\n",
    "calificacion2 = []\n",
    "\n",
    "for columna in columnas2:\n",
    "    nombre2.append(columna[0])\n",
    "    year2.append(columna[1])\n",
    "    consola2.append(columna[2])\n",
    "    calificacion2.append(columna[3])"
   ]
  },
  {
   "cell_type": "code",
   "execution_count": 75,
   "metadata": {},
   "outputs": [],
   "source": [
    "datos2 = {\n",
    "    'nombre': nombre2[1:],\n",
    "    'year': year2[1:],\n",
    "    'consola': consola2[1:],\n",
    "    'calificacion': calificacion2[1:],\n",
    "    'tags': tags[1:],\n",
    "}\n",
    "\n",
    "df_videogames2 = pd.DataFrame(datos2)"
   ]
  },
  {
   "cell_type": "code",
   "execution_count": 76,
   "metadata": {},
   "outputs": [
    {
     "data": {
      "text/html": [
       "<div>\n",
       "<style scoped>\n",
       "    .dataframe tbody tr th:only-of-type {\n",
       "        vertical-align: middle;\n",
       "    }\n",
       "\n",
       "    .dataframe tbody tr th {\n",
       "        vertical-align: top;\n",
       "    }\n",
       "\n",
       "    .dataframe thead th {\n",
       "        text-align: right;\n",
       "    }\n",
       "</style>\n",
       "<table border=\"1\" class=\"dataframe\">\n",
       "  <thead>\n",
       "    <tr style=\"text-align: right;\">\n",
       "      <th></th>\n",
       "      <th>nombre</th>\n",
       "      <th>year</th>\n",
       "      <th>consola</th>\n",
       "      <th>calificacion</th>\n",
       "      <th>tags</th>\n",
       "    </tr>\n",
       "  </thead>\n",
       "  <tbody>\n",
       "    <tr>\n",
       "      <th>0</th>\n",
       "      <td>The Legend of Zelda</td>\n",
       "      <td>86</td>\n",
       "      <td>Famicom</td>\n",
       "      <td>3.5</td>\n",
       "      <td>Link,Zelda,Hyrule,Triforce, RPG, RPG</td>\n",
       "    </tr>\n",
       "    <tr>\n",
       "      <th>1</th>\n",
       "      <td>Double Dragon</td>\n",
       "      <td>87</td>\n",
       "      <td>Arcade</td>\n",
       "      <td>3.7</td>\n",
       "      <td>Billy,Jimmy,PuÃ±ete,, Beat-'em up, Beat-'em up</td>\n",
       "    </tr>\n",
       "    <tr>\n",
       "      <th>2</th>\n",
       "      <td>The Legend of Zelda</td>\n",
       "      <td>88</td>\n",
       "      <td>NES</td>\n",
       "      <td>4.3</td>\n",
       "      <td>Link,Zelda,Hyrule,Triforce, RPG, RPG</td>\n",
       "    </tr>\n",
       "    <tr>\n",
       "      <th>3</th>\n",
       "      <td>Halo 5: Guardians</td>\n",
       "      <td>15</td>\n",
       "      <td>Xbox One</td>\n",
       "      <td>4</td>\n",
       "      <td>Master Chief,Cortana,Covenant,, FPS, FPS</td>\n",
       "    </tr>\n",
       "    <tr>\n",
       "      <th>4</th>\n",
       "      <td>Curse of Ra</td>\n",
       "      <td>82</td>\n",
       "      <td>Commodore PET</td>\n",
       "      <td>3</td>\n",
       "      <td>adventure,Temple,Apshai,, RPG, RPG</td>\n",
       "    </tr>\n",
       "    <tr>\n",
       "      <th>5</th>\n",
       "      <td>Battlefield 1</td>\n",
       "      <td>16</td>\n",
       "      <td>Xbox One</td>\n",
       "      <td>4.8</td>\n",
       "      <td>WWI,,,, FPS, FPS</td>\n",
       "    </tr>\n",
       "  </tbody>\n",
       "</table>\n",
       "</div>"
      ],
      "text/plain": [
       "                nombre year        consola calificacion   \n",
       "0  The Legend of Zelda   86        Famicom          3.5  \\\n",
       "1        Double Dragon   87         Arcade          3.7   \n",
       "2  The Legend of Zelda   88            NES          4.3   \n",
       "3    Halo 5: Guardians   15       Xbox One            4   \n",
       "4          Curse of Ra   82  Commodore PET            3   \n",
       "5        Battlefield 1   16       Xbox One          4.8   \n",
       "\n",
       "                                             tags  \n",
       "0            Link,Zelda,Hyrule,Triforce, RPG, RPG  \n",
       "1  Billy,Jimmy,PuÃ±ete,, Beat-'em up, Beat-'em up  \n",
       "2            Link,Zelda,Hyrule,Triforce, RPG, RPG  \n",
       "3        Master Chief,Cortana,Covenant,, FPS, FPS  \n",
       "4              adventure,Temple,Apshai,, RPG, RPG  \n",
       "5                                WWI,,,, FPS, FPS  "
      ]
     },
     "execution_count": 76,
     "metadata": {},
     "output_type": "execute_result"
    }
   ],
   "source": [
    "df_videogames2"
   ]
  },
  {
   "attachments": {},
   "cell_type": "markdown",
   "metadata": {},
   "source": [
    "**Note que un juego aparecerá listado en el archivo una vez por cada consola\n",
    "en la que fue lanzado.\n",
    "La categoría del juego se especifica siempre en el primer Tag. Por ejemplo,\n",
    "Double Dragon pertenece a la categoría Beat-‘em up.**"
   ]
  },
  {
   "attachments": {},
   "cell_type": "markdown",
   "metadata": {},
   "source": [
    "#### Desarrolle lo siguiente:\n",
    "**1.- La función juegosConsolas(nomArchivo, categoria, decada) que recibe el nombre del archivo con la información de los videojuegos, una categoría y número de cuatro dígitos representando una década de años. La función retorna una tupla con 2 elementos. El primer elemento es la lista con los valores únicos de todos los juegos de esa década para esa categoría. El segundo elemento es la lista con valores únicos de todas las consolas que tienen juegos para esa década y categoría.**\n",
    "\n",
    "*Por ejemplo, para llamar a juegosConsolas('videojuegos.csv','RPG',1980)*\n",
    "\n",
    "*retorna: (['The legend of Zelda', 'Phantasy Star', ...], ['NES', 'Famicon Disk System', ...])*"
   ]
  },
  {
   "cell_type": "code",
   "execution_count": 28,
   "metadata": {},
   "outputs": [
    {
     "data": {
      "text/plain": [
       "(['The Legend of Zelda', 'Double Dragon', 'Curse of Ra'],\n",
       " ['Famicom', 'Arcade', 'NES', 'Commodore PET'])"
      ]
     },
     "execution_count": 28,
     "metadata": {},
     "output_type": "execute_result"
    }
   ],
   "source": [
    "# Obviando la limpieza ya que el ejercio no contempla la forma en que viene los datos en este caso\n",
    "def juegosConsolas(df_videojuegos, categoria, decada):\n",
    "    decada = int(str(decada)[-2:])\n",
    "    nombre_juegos, nombre_consolas = [],[]\n",
    "    df_videogames2['year'] = df_videogames2['year'].astype(int)\n",
    "\n",
    "    if decada > 30:\n",
    "        nombres = df_videogames2.loc[(df_videogames2[\"year\"] >= decada)][\"nombre\"]\n",
    "        consola = df_videogames2.loc[(df_videogames2[\"year\"] >= decada)][\"consola\"]\n",
    "    else:\n",
    "        nombres = df_videogames2.loc[(df_videogames2[\"year\"] >= decada) & (df_videogames2[\"year\"] <= 30)][\"nombre\"]\n",
    "        consola = df_videogames2.loc[(df_videogames2[\"year\"] >= decada) & (df_videogames2[\"year\"] <= 30)][\"consola\"]\n",
    "    nombres = nombres.drop_duplicates()\n",
    "    consola = consola.drop_duplicates()\n",
    "\n",
    "    return (nombres.tolist(), consola.tolist())\n",
    "\n",
    "juegosConsolas(df_videogames2,\"RPG\",1980)"
   ]
  },
  {
   "attachments": {},
   "cell_type": "markdown",
   "metadata": {},
   "source": [
    "**2.- La función crearMatriz(nomArchivo, categoria, decada) que recibe el nombre del archivo con la información de los videojuegos, el nombre de una categoría de videojuegos y un número de cuatro dígitos representando una década de años. La función deberá leer el archivo y retorna una matriz donde las filas representan los juegos de categoría para la década , las columnas representan las consolas que tienen juegos de categoría para la década y las celdas son las calificaciones de cada juego para cada consola. Si un juego no existe para una consola, su calificación deberá ser cero (0).**"
   ]
  },
  {
   "cell_type": "code",
   "execution_count": 149,
   "metadata": {},
   "outputs": [
    {
     "data": {
      "text/html": [
       "<div>\n",
       "<style scoped>\n",
       "    .dataframe tbody tr th:only-of-type {\n",
       "        vertical-align: middle;\n",
       "    }\n",
       "\n",
       "    .dataframe tbody tr th {\n",
       "        vertical-align: top;\n",
       "    }\n",
       "\n",
       "    .dataframe thead th {\n",
       "        text-align: right;\n",
       "    }\n",
       "</style>\n",
       "<table border=\"1\" class=\"dataframe\">\n",
       "  <thead>\n",
       "    <tr style=\"text-align: right;\">\n",
       "      <th></th>\n",
       "      <th>Famicom</th>\n",
       "      <th>NES</th>\n",
       "      <th>Commodore PET</th>\n",
       "    </tr>\n",
       "  </thead>\n",
       "  <tbody>\n",
       "    <tr>\n",
       "      <th>The Legend of Zelda</th>\n",
       "      <td>3.5</td>\n",
       "      <td>4.3</td>\n",
       "      <td>0</td>\n",
       "    </tr>\n",
       "    <tr>\n",
       "      <th>Curse of Ra</th>\n",
       "      <td>0</td>\n",
       "      <td>0</td>\n",
       "      <td>3</td>\n",
       "    </tr>\n",
       "  </tbody>\n",
       "</table>\n",
       "</div>"
      ],
      "text/plain": [
       "                    Famicom  NES Commodore PET\n",
       "The Legend of Zelda     3.5  4.3             0\n",
       "Curse of Ra               0    0             3"
      ]
     },
     "execution_count": 149,
     "metadata": {},
     "output_type": "execute_result"
    }
   ],
   "source": [
    "def crearMatriz(nomArchivo, categoria, decada):\n",
    "    df_categoria = df_videogames2[df_videogames2[\"tags\"].str.contains(categoria)]\n",
    "    filas = df_categoria.nombre.drop_duplicates().values\n",
    "    columnas = df_categoria.consola.drop_duplicates().values\n",
    "\n",
    "    calificacion_por_fila = {}\n",
    "    consolas = []\n",
    "    for i in df_categoria.nombre.drop_duplicates().values:\n",
    "        consolas = consolas + (df_categoria[df_categoria[\"nombre\"] == i].consola.tolist())\n",
    "    \n",
    "    for i in filas:\n",
    "        lista_aux = []\n",
    "        df_por_nombre = df_categoria[df_categoria[\"nombre\"] == i]\n",
    "        for j in consolas:\n",
    "            calificaciones = df_por_nombre[df_por_nombre[\"consola\"] == j].calificacion\n",
    "            if len(calificaciones.values.tolist()) == 0:\n",
    "                lista_aux.extend([0])\n",
    "            else:\n",
    "                lista_aux.extend(calificaciones.values.tolist())\n",
    "            #aux = df_categoria[df_categoria[\"consola\"] == i]\n",
    "            #print(aux)\n",
    "            #lista_aux.append(calificaciones.values)\n",
    "        calificacion_por_fila[i] = lista_aux\n",
    "    lista_aux = []\n",
    "    for i in calificacion_por_fila:\n",
    "        lista_aux.append(calificacion_por_fila[i])\n",
    "\n",
    "    matriz = pd.DataFrame(lista_aux, index=filas, columns=columnas)#, data=calificacion_por_fila)\n",
    "    #matriz = matriz.set_index(columnas).T\n",
    "\n",
    "    return matriz\n",
    "\n",
    "crearMatriz(df_videogames2, \"RPG\", 1980)"
   ]
  },
  {
   "attachments": {},
   "cell_type": "markdown",
   "metadata": {},
   "source": [
    "- ¿Cómo obtenemos datos desde CSV?\n",
    "\n",
    "    **R: Con la libreria pandas y el metodo \"read_csv\", entregamos la url del archivo con su nombre y leemos los datos separados por coma lo que facilita su conversion a una estructura de datos Dataframe donde son facilmente accecibles**\n",
    "\n",
    "- ¿Cómo obtenemos datos desde Excel?\n",
    "\n",
    "    **R: De la misma forma solo que ocupando el metodo \"read_excel\"**"
   ]
  }
 ],
 "metadata": {
  "kernelspec": {
   "display_name": "Python 3",
   "language": "python",
   "name": "python3"
  },
  "language_info": {
   "codemirror_mode": {
    "name": "ipython",
    "version": 3
   },
   "file_extension": ".py",
   "mimetype": "text/x-python",
   "name": "python",
   "nbconvert_exporter": "python",
   "pygments_lexer": "ipython3",
   "version": "3.11.1"
  },
  "orig_nbformat": 4
 },
 "nbformat": 4,
 "nbformat_minor": 2
}
