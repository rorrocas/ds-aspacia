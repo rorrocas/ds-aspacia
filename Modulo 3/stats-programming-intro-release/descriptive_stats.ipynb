{
 "cells": [
  {
   "attachments": {},
   "cell_type": "markdown",
   "metadata": {},
   "source": [
    "### Estadística Descriptiva\n",
    "\n",
    "#### Variables Categóricas\n",
    "- Frecuencias absolutas\n",
    "- Frecuencias relativas\n",
    "- Frecuencias absolutas acumuladas\n",
    "- Frecuencias relativas acumuladas\n",
    "- Moda\n",
    "#### Variables Numéricas\n",
    "- Mediana\n",
    "- Moda\n",
    "- Media\n",
    "- Rango\n",
    "- Varianza\n",
    "- Desviación estándar\n",
    "- Coeficiente de variación\n",
    "\n",
    "### Visualización de Datos\n",
    "\n",
    "#### Variables Categóricas\n",
    "- Gráfico de barras\n",
    "- Gráfico de pastel\n",
    "\n",
    "#### Variables Numéricas\n",
    "- Histograma\n",
    "- Diagrama de caja\n",
    "- Gráfico de dispersión\n"
   ]
  },
  {
   "cell_type": "code",
   "execution_count": 2,
   "metadata": {},
   "outputs": [],
   "source": [
    "import pandas as pd"
   ]
  },
  {
   "cell_type": "code",
   "execution_count": 5,
   "metadata": {},
   "outputs": [
    {
     "name": "stdout",
     "output_type": "stream",
     "text": [
      "Index(['Survived', 'Pclass', 'Name', 'Sex', 'Age', 'SibSp', 'Parch', 'Ticket',\n",
      "       'Fare', 'Cabin', 'Embarked'],\n",
      "      dtype='object')\n"
     ]
    },
    {
     "data": {
      "text/html": [
       "<div>\n",
       "<style scoped>\n",
       "    .dataframe tbody tr th:only-of-type {\n",
       "        vertical-align: middle;\n",
       "    }\n",
       "\n",
       "    .dataframe tbody tr th {\n",
       "        vertical-align: top;\n",
       "    }\n",
       "\n",
       "    .dataframe thead th {\n",
       "        text-align: right;\n",
       "    }\n",
       "</style>\n",
       "<table border=\"1\" class=\"dataframe\">\n",
       "  <thead>\n",
       "    <tr style=\"text-align: right;\">\n",
       "      <th></th>\n",
       "      <th>Survived</th>\n",
       "      <th>Pclass</th>\n",
       "      <th>Name</th>\n",
       "      <th>Sex</th>\n",
       "      <th>Age</th>\n",
       "      <th>SibSp</th>\n",
       "      <th>Parch</th>\n",
       "      <th>Ticket</th>\n",
       "      <th>Fare</th>\n",
       "      <th>Cabin</th>\n",
       "      <th>Embarked</th>\n",
       "    </tr>\n",
       "    <tr>\n",
       "      <th>PassengerId</th>\n",
       "      <th></th>\n",
       "      <th></th>\n",
       "      <th></th>\n",
       "      <th></th>\n",
       "      <th></th>\n",
       "      <th></th>\n",
       "      <th></th>\n",
       "      <th></th>\n",
       "      <th></th>\n",
       "      <th></th>\n",
       "      <th></th>\n",
       "    </tr>\n",
       "  </thead>\n",
       "  <tbody>\n",
       "    <tr>\n",
       "      <th>1</th>\n",
       "      <td>0</td>\n",
       "      <td>3</td>\n",
       "      <td>Braund, Mr. Owen Harris</td>\n",
       "      <td>male</td>\n",
       "      <td>22.0</td>\n",
       "      <td>1</td>\n",
       "      <td>0</td>\n",
       "      <td>A/5 21171</td>\n",
       "      <td>7.2500</td>\n",
       "      <td>NaN</td>\n",
       "      <td>S</td>\n",
       "    </tr>\n",
       "    <tr>\n",
       "      <th>2</th>\n",
       "      <td>1</td>\n",
       "      <td>1</td>\n",
       "      <td>Cumings, Mrs. John Bradley (Florence Briggs Th...</td>\n",
       "      <td>female</td>\n",
       "      <td>38.0</td>\n",
       "      <td>1</td>\n",
       "      <td>0</td>\n",
       "      <td>PC 17599</td>\n",
       "      <td>71.2833</td>\n",
       "      <td>C85</td>\n",
       "      <td>C</td>\n",
       "    </tr>\n",
       "    <tr>\n",
       "      <th>3</th>\n",
       "      <td>1</td>\n",
       "      <td>3</td>\n",
       "      <td>Heikkinen, Miss. Laina</td>\n",
       "      <td>female</td>\n",
       "      <td>26.0</td>\n",
       "      <td>0</td>\n",
       "      <td>0</td>\n",
       "      <td>STON/O2. 3101282</td>\n",
       "      <td>7.9250</td>\n",
       "      <td>NaN</td>\n",
       "      <td>S</td>\n",
       "    </tr>\n",
       "    <tr>\n",
       "      <th>4</th>\n",
       "      <td>1</td>\n",
       "      <td>1</td>\n",
       "      <td>Futrelle, Mrs. Jacques Heath (Lily May Peel)</td>\n",
       "      <td>female</td>\n",
       "      <td>35.0</td>\n",
       "      <td>1</td>\n",
       "      <td>0</td>\n",
       "      <td>113803</td>\n",
       "      <td>53.1000</td>\n",
       "      <td>C123</td>\n",
       "      <td>S</td>\n",
       "    </tr>\n",
       "    <tr>\n",
       "      <th>5</th>\n",
       "      <td>0</td>\n",
       "      <td>3</td>\n",
       "      <td>Allen, Mr. William Henry</td>\n",
       "      <td>male</td>\n",
       "      <td>35.0</td>\n",
       "      <td>0</td>\n",
       "      <td>0</td>\n",
       "      <td>373450</td>\n",
       "      <td>8.0500</td>\n",
       "      <td>NaN</td>\n",
       "      <td>S</td>\n",
       "    </tr>\n",
       "  </tbody>\n",
       "</table>\n",
       "</div>"
      ],
      "text/plain": [
       "             Survived  Pclass  \\\n",
       "PassengerId                     \n",
       "1                   0       3   \n",
       "2                   1       1   \n",
       "3                   1       3   \n",
       "4                   1       1   \n",
       "5                   0       3   \n",
       "\n",
       "                                                          Name     Sex   Age  \\\n",
       "PassengerId                                                                    \n",
       "1                                      Braund, Mr. Owen Harris    male  22.0   \n",
       "2            Cumings, Mrs. John Bradley (Florence Briggs Th...  female  38.0   \n",
       "3                                       Heikkinen, Miss. Laina  female  26.0   \n",
       "4                 Futrelle, Mrs. Jacques Heath (Lily May Peel)  female  35.0   \n",
       "5                                     Allen, Mr. William Henry    male  35.0   \n",
       "\n",
       "             SibSp  Parch            Ticket     Fare Cabin Embarked  \n",
       "PassengerId                                                          \n",
       "1                1      0         A/5 21171   7.2500   NaN        S  \n",
       "2                1      0          PC 17599  71.2833   C85        C  \n",
       "3                0      0  STON/O2. 3101282   7.9250   NaN        S  \n",
       "4                1      0            113803  53.1000  C123        S  \n",
       "5                0      0            373450   8.0500   NaN        S  "
      ]
     },
     "execution_count": 5,
     "metadata": {},
     "output_type": "execute_result"
    }
   ],
   "source": [
    "titanic_df = pd.read_csv('practice/titanic.csv', index_col=\"PassengerId\")\n",
    "print(titanic_df.columns)\n",
    "titanic_df.head()"
   ]
  },
  {
   "cell_type": "code",
   "execution_count": 6,
   "metadata": {},
   "outputs": [
    {
     "data": {
      "text/plain": [
       "Survived      int64\n",
       "Pclass        int64\n",
       "Name         object\n",
       "Sex          object\n",
       "Age         float64\n",
       "SibSp         int64\n",
       "Parch         int64\n",
       "Ticket       object\n",
       "Fare        float64\n",
       "Cabin        object\n",
       "Embarked     object\n",
       "dtype: object"
      ]
     },
     "execution_count": 6,
     "metadata": {},
     "output_type": "execute_result"
    }
   ],
   "source": [
    "titanic_df.dtypes"
   ]
  },
  {
   "cell_type": "code",
   "execution_count": 9,
   "metadata": {},
   "outputs": [
    {
     "name": "stdout",
     "output_type": "stream",
     "text": [
      "male      577\n",
      "female    314\n",
      "Name: Sex, dtype: int64\n",
      "male      0.647587\n",
      "female    0.352413\n",
      "Name: Sex, dtype: float64\n"
     ]
    }
   ],
   "source": [
    "frecuencia = titanic_df.Sex.value_counts()\n",
    "norm_frecuencia = titanic_df.Sex.value_counts(normalize=True)\n",
    "print(frecuencia)\n",
    "print(norm_frecuencia)"
   ]
  },
  {
   "cell_type": "code",
   "execution_count": 13,
   "metadata": {},
   "outputs": [
    {
     "name": "stdout",
     "output_type": "stream",
     "text": [
      "<class 'pandas.core.series.Series'>\n"
     ]
    },
    {
     "data": {
      "text/plain": [
       "<AxesSubplot:>"
      ]
     },
     "execution_count": 13,
     "metadata": {},
     "output_type": "execute_result"
    },
    {
     "data": {
      "image/png": "[encoded data removed]",
      "text/plain": [
       "<Figure size 432x288 with 1 Axes>"
      ]
     },
     "metadata": {
      "needs_background": "light"
     },
     "output_type": "display_data"
    }
   ],
   "source": [
    "# digrama de barras para Sexo\n",
    "import matplotlib.pyplot as plt\n",
    "print(type(frecuencia))\n",
    "frecuencia.plot(kind='bar')"
   ]
  },
  {
   "cell_type": "code",
   "execution_count": 14,
   "metadata": {},
   "outputs": [
    {
     "data": {
      "text/plain": [
       "<AxesSubplot:>"
      ]
     },
     "execution_count": 14,
     "metadata": {},
     "output_type": "execute_result"
    },
    {
     "data": {
      "image/png": "[encoded data removed]",
      "text/plain": [
       "<Figure size 432x288 with 1 Axes>"
      ]
     },
     "metadata": {
      "needs_background": "light"
     },
     "output_type": "display_data"
    }
   ],
   "source": [
    "norm_frecuencia.plot(kind='bar')"
   ]
  },
  {
   "cell_type": "code",
   "execution_count": 15,
   "metadata": {},
   "outputs": [
    {
     "data": {
      "text/plain": [
       "<AxesSubplot:ylabel='Sex'>"
      ]
     },
     "execution_count": 15,
     "metadata": {},
     "output_type": "execute_result"
    },
    {
     "data": {
      "image/png": "[encoded data removed]",
      "text/plain": [
       "<Figure size 432x288 with 1 Axes>"
      ]
     },
     "metadata": {},
     "output_type": "display_data"
    }
   ],
   "source": [
    "# pie chart para Sexo\n",
    "frecuencia.plot(kind='pie')"
   ]
  },
  {
   "cell_type": "code",
   "execution_count": 16,
   "metadata": {},
   "outputs": [],
   "source": [
    "# frecuencia cumulativa para Sexo\n",
    "frecuencia = titanic_df.Pclass.value_counts()\n",
    "norm_frecuencia = titanic_df.Pclass.value_counts(normalize=True)\n"
   ]
  },
  {
   "cell_type": "code",
   "execution_count": 17,
   "metadata": {},
   "outputs": [
    {
     "name": "stdout",
     "output_type": "stream",
     "text": [
      "3    491\n",
      "1    707\n",
      "2    891\n",
      "Name: Pclass, dtype: int64\n",
      "3    0.551066\n",
      "1    0.793490\n",
      "2    1.000000\n",
      "Name: Pclass, dtype: float64\n"
     ]
    }
   ],
   "source": [
    "# calcular frecuencia acumulada de Pclass\n",
    "frecuencia_acumulada = frecuencia.cumsum()\n",
    "norm_frecuencia_acumulada = norm_frecuencia.cumsum()\n",
    "print(frecuencia_acumulada)\n",
    "print(norm_frecuencia_acumulada)"
   ]
  },
  {
   "cell_type": "code",
   "execution_count": 18,
   "metadata": {},
   "outputs": [
    {
     "data": {
      "text/plain": [
       "(891, 11)"
      ]
     },
     "execution_count": 18,
     "metadata": {},
     "output_type": "execute_result"
    }
   ],
   "source": [
    "titanic_df.shape"
   ]
  },
  {
   "attachments": {},
   "cell_type": "markdown",
   "metadata": {},
   "source": [
    "## Variables numericas"
   ]
  },
  {
   "cell_type": "code",
   "execution_count": 19,
   "metadata": {},
   "outputs": [
    {
     "name": "stdout",
     "output_type": "stream",
     "text": [
      "29.69911764705882\n",
      "28.0\n",
      "0    24.0\n",
      "Name: Age, dtype: float64\n"
     ]
    }
   ],
   "source": [
    "# calcular media, mediana y moda de Age\n",
    "print(titanic_df.Age.mean())\n",
    "print(titanic_df.Age.median())\n",
    "print(titanic_df.Age.mode())\n"
   ]
  },
  {
   "cell_type": "code",
   "execution_count": 20,
   "metadata": {},
   "outputs": [
    {
     "name": "stdout",
     "output_type": "stream",
     "text": [
      "14.526497332334044\n",
      "211.0191247463081\n",
      "79.58\n",
      "0.48912218554656756\n"
     ]
    }
   ],
   "source": [
    "# calucular desviación estándar y varianza y rango y coeficiente de variación de Age\n",
    "\n",
    "print(titanic_df.Age.std())\n",
    "print(titanic_df.Age.var())\n",
    "print(titanic_df.Age.max() - titanic_df.Age.min())\n",
    "print(titanic_df.Age.std() / titanic_df.Age.mean())"
   ]
  },
  {
   "cell_type": "code",
   "execution_count": 27,
   "metadata": {},
   "outputs": [
    {
     "data": {
      "text/plain": [
       "<AxesSubplot:ylabel='Frequency'>"
      ]
     },
     "execution_count": 27,
     "metadata": {},
     "output_type": "execute_result"
    },
    {
     "data": {
      "image/png": "[encoded data removed]",
      "text/plain": [
       "<Figure size 432x288 with 1 Axes>"
      ]
     },
     "metadata": {
      "needs_background": "light"
     },
     "output_type": "display_data"
    }
   ],
   "source": [
    "# plotear histograma de Age\n",
    "\n",
    "titanic_df.Age.plot(kind='hist', bins=20)"
   ]
  },
  {
   "cell_type": "code",
   "execution_count": 28,
   "metadata": {},
   "outputs": [],
   "source": [
    "from library import random_student"
   ]
  },
  {
   "cell_type": "code",
   "execution_count": 30,
   "metadata": {},
   "outputs": [
    {
     "data": {
      "text/plain": [
       "'Diego Ávila'"
      ]
     },
     "execution_count": 30,
     "metadata": {},
     "output_type": "execute_result"
    }
   ],
   "source": [
    "random_student()"
   ]
  },
  {
   "cell_type": "code",
   "execution_count": 31,
   "metadata": {},
   "outputs": [
    {
     "data": {
      "text/plain": [
       "<AxesSubplot:>"
      ]
     },
     "execution_count": 31,
     "metadata": {},
     "output_type": "execute_result"
    },
    {
     "data": {
      "image/png": "[encoded data removed]",
      "text/plain": [
       "<Figure size 432x288 with 1 Axes>"
      ]
     },
     "metadata": {
      "needs_background": "light"
     },
     "output_type": "display_data"
    }
   ],
   "source": [
    "# box plot de Age\n",
    "titanic_df.Age.plot(kind='box')"
   ]
  },
  {
   "cell_type": "code",
   "execution_count": 32,
   "metadata": {},
   "outputs": [
    {
     "name": "stdout",
     "output_type": "stream",
     "text": [
      "0.00     0.420\n",
      "0.25    20.125\n",
      "0.50    28.000\n",
      "0.75    38.000\n",
      "1.00    80.000\n",
      "Name: Age, dtype: float64\n"
     ]
    }
   ],
   "source": [
    "# calcular los quantiles de Age\n",
    "print(titanic_df.Age.quantile(q=[0, 0.25, 0.5, 0.75, 1]))"
   ]
  },
  {
   "cell_type": "code",
   "execution_count": 35,
   "metadata": {},
   "outputs": [
    {
     "data": {
      "text/plain": [
       "Survived      int64\n",
       "Pclass        int64\n",
       "Name         object\n",
       "Sex          object\n",
       "Age         float64\n",
       "SibSp         int64\n",
       "Parch         int64\n",
       "Ticket       object\n",
       "Fare        float64\n",
       "Cabin        object\n",
       "Embarked     object\n",
       "dtype: object"
      ]
     },
     "execution_count": 35,
     "metadata": {},
     "output_type": "execute_result"
    }
   ],
   "source": [
    "titanic_df.dtypes"
   ]
  },
  {
   "cell_type": "code",
   "execution_count": 43,
   "metadata": {},
   "outputs": [
    {
     "data": {
      "text/plain": [
       "<AxesSubplot:ylabel='Frequency'>"
      ]
     },
     "execution_count": 43,
     "metadata": {},
     "output_type": "execute_result"
    },
    {
     "data": {
      "image/png": "[encoded data removed]",
      "text/plain": [
       "<Figure size 864x576 with 4 Axes>"
      ]
     },
     "metadata": {
      "needs_background": "light"
     },
     "output_type": "display_data"
    }
   ],
   "source": [
    "fig, axs = plt.subplots(\n",
    "    ncols=2, nrows=2,\n",
    "    figsize=(12, 8)\n",
    ")\n",
    "\n",
    "axs[0, 0].set_title('Box plot de Age')\n",
    "titanic_df.Age.plot(kind='box', ax=axs[0, 0])\n",
    "axs[0, 0].set_xlabel('Edad')\n",
    "axs[0, 1].set_xlabel('Edad')\n",
    "titanic_df.Age.plot(kind='hist', ax=axs[0, 1])\n",
    "\n",
    "titanic_df.Fare.plot(kind='box', ax=axs[1, 0])\n",
    "titanic_df.Fare.plot(kind='hist', ax=axs[1, 1])"
   ]
  },
  {
   "cell_type": "code",
   "execution_count": 41,
   "metadata": {},
   "outputs": [
    {
     "name": "stdout",
     "output_type": "stream",
     "text": [
      "\u001b[0;31mSignature:\u001b[0m      \u001b[0mtitanic_df\u001b[0m\u001b[0;34m.\u001b[0m\u001b[0mFare\u001b[0m\u001b[0;34m.\u001b[0m\u001b[0mplot\u001b[0m\u001b[0;34m(\u001b[0m\u001b[0;34m*\u001b[0m\u001b[0margs\u001b[0m\u001b[0;34m,\u001b[0m \u001b[0;34m**\u001b[0m\u001b[0mkwargs\u001b[0m\u001b[0;34m)\u001b[0m\u001b[0;34m\u001b[0m\u001b[0;34m\u001b[0m\u001b[0m\n",
      "\u001b[0;31mType:\u001b[0m           PlotAccessor\n",
      "\u001b[0;31mString form:\u001b[0m    <pandas.plotting._core.PlotAccessor object at 0x7f6d7196ee90>\n",
      "\u001b[0;31mFile:\u001b[0m           ~/.local/lib/python3.10/site-packages/pandas/plotting/_core.py\n",
      "\u001b[0;31mDocstring:\u001b[0m     \n",
      "Make plots of Series or DataFrame.\n",
      "\n",
      "Uses the backend specified by the\n",
      "option ``plotting.backend``. By default, matplotlib is used.\n",
      "\n",
      "Parameters\n",
      "----------\n",
      "data : Series or DataFrame\n",
      "    The object for which the method is called.\n",
      "x : label or position, default None\n",
      "    Only used if data is a DataFrame.\n",
      "y : label, position or list of label, positions, default None\n",
      "    Allows plotting of one column versus another. Only used if data is a\n",
      "    DataFrame.\n",
      "kind : str\n",
      "    The kind of plot to produce:\n",
      "\n",
      "    - 'line' : line plot (default)\n",
      "    - 'bar' : vertical bar plot\n",
      "    - 'barh' : horizontal bar plot\n",
      "    - 'hist' : histogram\n",
      "    - 'box' : boxplot\n",
      "    - 'kde' : Kernel Density Estimation plot\n",
      "    - 'density' : same as 'kde'\n",
      "    - 'area' : area plot\n",
      "    - 'pie' : pie plot\n",
      "    - 'scatter' : scatter plot (DataFrame only)\n",
      "    - 'hexbin' : hexbin plot (DataFrame only)\n",
      "ax : matplotlib axes object, default None\n",
      "    An axes of the current figure.\n",
      "subplots : bool, default False\n",
      "    Make separate subplots for each column.\n",
      "sharex : bool, default True if ax is None else False\n",
      "    In case ``subplots=True``, share x axis and set some x axis labels\n",
      "    to invisible; defaults to True if ax is None otherwise False if\n",
      "    an ax is passed in; Be aware, that passing in both an ax and\n",
      "    ``sharex=True`` will alter all x axis labels for all axis in a figure.\n",
      "sharey : bool, default False\n",
      "    In case ``subplots=True``, share y axis and set some y axis labels to invisible.\n",
      "layout : tuple, optional\n",
      "    (rows, columns) for the layout of subplots.\n",
      "figsize : a tuple (width, height) in inches\n",
      "    Size of a figure object.\n",
      "use_index : bool, default True\n",
      "    Use index as ticks for x axis.\n",
      "title : str or list\n",
      "    Title to use for the plot. If a string is passed, print the string\n",
      "    at the top of the figure. If a list is passed and `subplots` is\n",
      "    True, print each item in the list above the corresponding subplot.\n",
      "grid : bool, default None (matlab style default)\n",
      "    Axis grid lines.\n",
      "legend : bool or {'reverse'}\n",
      "    Place legend on axis subplots.\n",
      "style : list or dict\n",
      "    The matplotlib line style per column.\n",
      "logx : bool or 'sym', default False\n",
      "    Use log scaling or symlog scaling on x axis.\n",
      "    .. versionchanged:: 0.25.0\n",
      "\n",
      "logy : bool or 'sym' default False\n",
      "    Use log scaling or symlog scaling on y axis.\n",
      "    .. versionchanged:: 0.25.0\n",
      "\n",
      "loglog : bool or 'sym', default False\n",
      "    Use log scaling or symlog scaling on both x and y axes.\n",
      "    .. versionchanged:: 0.25.0\n",
      "\n",
      "xticks : sequence\n",
      "    Values to use for the xticks.\n",
      "yticks : sequence\n",
      "    Values to use for the yticks.\n",
      "xlim : 2-tuple/list\n",
      "    Set the x limits of the current axes.\n",
      "ylim : 2-tuple/list\n",
      "    Set the y limits of the current axes.\n",
      "xlabel : label, optional\n",
      "    Name to use for the xlabel on x-axis. Default uses index name as xlabel, or the\n",
      "    x-column name for planar plots.\n",
      "\n",
      "    .. versionadded:: 1.1.0\n",
      "\n",
      "    .. versionchanged:: 1.2.0\n",
      "\n",
      "       Now applicable to planar plots (`scatter`, `hexbin`).\n",
      "\n",
      "ylabel : label, optional\n",
      "    Name to use for the ylabel on y-axis. Default will show no ylabel, or the\n",
      "    y-column name for planar plots.\n",
      "\n",
      "    .. versionadded:: 1.1.0\n",
      "\n",
      "    .. versionchanged:: 1.2.0\n",
      "\n",
      "       Now applicable to planar plots (`scatter`, `hexbin`).\n",
      "\n",
      "rot : int, default None\n",
      "    Rotation for ticks (xticks for vertical, yticks for horizontal\n",
      "    plots).\n",
      "fontsize : int, default None\n",
      "    Font size for xticks and yticks.\n",
      "colormap : str or matplotlib colormap object, default None\n",
      "    Colormap to select colors from. If string, load colormap with that\n",
      "    name from matplotlib.\n",
      "colorbar : bool, optional\n",
      "    If True, plot colorbar (only relevant for 'scatter' and 'hexbin'\n",
      "    plots).\n",
      "position : float\n",
      "    Specify relative alignments for bar plot layout.\n",
      "    From 0 (left/bottom-end) to 1 (right/top-end). Default is 0.5\n",
      "    (center).\n",
      "table : bool, Series or DataFrame, default False\n",
      "    If True, draw a table using the data in the DataFrame and the data\n",
      "    will be transposed to meet matplotlib's default layout.\n",
      "    If a Series or DataFrame is passed, use passed data to draw a\n",
      "    table.\n",
      "yerr : DataFrame, Series, array-like, dict and str\n",
      "    See :ref:`Plotting with Error Bars <visualization.errorbars>` for\n",
      "    detail.\n",
      "xerr : DataFrame, Series, array-like, dict and str\n",
      "    Equivalent to yerr.\n",
      "stacked : bool, default False in line and bar plots, and True in area plot\n",
      "    If True, create stacked plot.\n",
      "sort_columns : bool, default False\n",
      "    Sort column names to determine plot ordering.\n",
      "secondary_y : bool or sequence, default False\n",
      "    Whether to plot on the secondary y-axis if a list/tuple, which\n",
      "    columns to plot on secondary y-axis.\n",
      "mark_right : bool, default True\n",
      "    When using a secondary_y axis, automatically mark the column\n",
      "    labels with \"(right)\" in the legend.\n",
      "include_bool : bool, default is False\n",
      "    If True, boolean values can be plotted.\n",
      "backend : str, default None\n",
      "    Backend to use instead of the backend specified in the option\n",
      "    ``plotting.backend``. For instance, 'matplotlib'. Alternatively, to\n",
      "    specify the ``plotting.backend`` for the whole session, set\n",
      "    ``pd.options.plotting.backend``.\n",
      "\n",
      "    .. versionadded:: 1.0.0\n",
      "\n",
      "**kwargs\n",
      "    Options to pass to matplotlib plotting method.\n",
      "\n",
      "Returns\n",
      "-------\n",
      ":class:`matplotlib.axes.Axes` or numpy.ndarray of them\n",
      "    If the backend is not the default matplotlib one, the return value\n",
      "    will be the object returned by the backend.\n",
      "\n",
      "Notes\n",
      "-----\n",
      "- See matplotlib documentation online for more on this subject\n",
      "- If `kind` = 'bar' or 'barh', you can specify relative alignments\n",
      "  for bar plot layout by `position` keyword.\n",
      "  From 0 (left/bottom-end) to 1 (right/top-end). Default is 0.5\n",
      "  (center)\n",
      "\u001b[0;31mCall docstring:\u001b[0m\n",
      "Make plots of Series or DataFrame.\n",
      "\n",
      "Uses the backend specified by the\n",
      "option ``plotting.backend``. By default, matplotlib is used.\n",
      "\n",
      "Parameters\n",
      "----------\n",
      "data : Series or DataFrame\n",
      "    The object for which the method is called.\n",
      "x : label or position, default None\n",
      "    Only used if data is a DataFrame.\n",
      "y : label, position or list of label, positions, default None\n",
      "    Allows plotting of one column versus another. Only used if data is a\n",
      "    DataFrame.\n",
      "kind : str\n",
      "    The kind of plot to produce:\n",
      "\n",
      "    - 'line' : line plot (default)\n",
      "    - 'bar' : vertical bar plot\n",
      "    - 'barh' : horizontal bar plot\n",
      "    - 'hist' : histogram\n",
      "    - 'box' : boxplot\n",
      "    - 'kde' : Kernel Density Estimation plot\n",
      "    - 'density' : same as 'kde'\n",
      "    - 'area' : area plot\n",
      "    - 'pie' : pie plot\n",
      "    - 'scatter' : scatter plot (DataFrame only)\n",
      "    - 'hexbin' : hexbin plot (DataFrame only)\n",
      "ax : matplotlib axes object, default None\n",
      "    An axes of the current figure.\n",
      "subplots : bool, default False\n",
      "    Make separate subplots for each column.\n",
      "sharex : bool, default True if ax is None else False\n",
      "    In case ``subplots=True``, share x axis and set some x axis labels\n",
      "    to invisible; defaults to True if ax is None otherwise False if\n",
      "    an ax is passed in; Be aware, that passing in both an ax and\n",
      "    ``sharex=True`` will alter all x axis labels for all axis in a figure.\n",
      "sharey : bool, default False\n",
      "    In case ``subplots=True``, share y axis and set some y axis labels to invisible.\n",
      "layout : tuple, optional\n",
      "    (rows, columns) for the layout of subplots.\n",
      "figsize : a tuple (width, height) in inches\n",
      "    Size of a figure object.\n",
      "use_index : bool, default True\n",
      "    Use index as ticks for x axis.\n",
      "title : str or list\n",
      "    Title to use for the plot. If a string is passed, print the string\n",
      "    at the top of the figure. If a list is passed and `subplots` is\n",
      "    True, print each item in the list above the corresponding subplot.\n",
      "grid : bool, default None (matlab style default)\n",
      "    Axis grid lines.\n",
      "legend : bool or {'reverse'}\n",
      "    Place legend on axis subplots.\n",
      "style : list or dict\n",
      "    The matplotlib line style per column.\n",
      "logx : bool or 'sym', default False\n",
      "    Use log scaling or symlog scaling on x axis.\n",
      "    .. versionchanged:: 0.25.0\n",
      "\n",
      "logy : bool or 'sym' default False\n",
      "    Use log scaling or symlog scaling on y axis.\n",
      "    .. versionchanged:: 0.25.0\n",
      "\n",
      "loglog : bool or 'sym', default False\n",
      "    Use log scaling or symlog scaling on both x and y axes.\n",
      "    .. versionchanged:: 0.25.0\n",
      "\n",
      "xticks : sequence\n",
      "    Values to use for the xticks.\n",
      "yticks : sequence\n",
      "    Values to use for the yticks.\n",
      "xlim : 2-tuple/list\n",
      "    Set the x limits of the current axes.\n",
      "ylim : 2-tuple/list\n",
      "    Set the y limits of the current axes.\n",
      "xlabel : label, optional\n",
      "    Name to use for the xlabel on x-axis. Default uses index name as xlabel, or the\n",
      "    x-column name for planar plots.\n",
      "\n",
      "    .. versionadded:: 1.1.0\n",
      "\n",
      "    .. versionchanged:: 1.2.0\n",
      "\n",
      "       Now applicable to planar plots (`scatter`, `hexbin`).\n",
      "\n",
      "ylabel : label, optional\n",
      "    Name to use for the ylabel on y-axis. Default will show no ylabel, or the\n",
      "    y-column name for planar plots.\n",
      "\n",
      "    .. versionadded:: 1.1.0\n",
      "\n",
      "    .. versionchanged:: 1.2.0\n",
      "\n",
      "       Now applicable to planar plots (`scatter`, `hexbin`).\n",
      "\n",
      "rot : int, default None\n",
      "    Rotation for ticks (xticks for vertical, yticks for horizontal\n",
      "    plots).\n",
      "fontsize : int, default None\n",
      "    Font size for xticks and yticks.\n",
      "colormap : str or matplotlib colormap object, default None\n",
      "    Colormap to select colors from. If string, load colormap with that\n",
      "    name from matplotlib.\n",
      "colorbar : bool, optional\n",
      "    If True, plot colorbar (only relevant for 'scatter' and 'hexbin'\n",
      "    plots).\n",
      "position : float\n",
      "    Specify relative alignments for bar plot layout.\n",
      "    From 0 (left/bottom-end) to 1 (right/top-end). Default is 0.5\n",
      "    (center).\n",
      "table : bool, Series or DataFrame, default False\n",
      "    If True, draw a table using the data in the DataFrame and the data\n",
      "    will be transposed to meet matplotlib's default layout.\n",
      "    If a Series or DataFrame is passed, use passed data to draw a\n",
      "    table.\n",
      "yerr : DataFrame, Series, array-like, dict and str\n",
      "    See :ref:`Plotting with Error Bars <visualization.errorbars>` for\n",
      "    detail.\n",
      "xerr : DataFrame, Series, array-like, dict and str\n",
      "    Equivalent to yerr.\n",
      "stacked : bool, default False in line and bar plots, and True in area plot\n",
      "    If True, create stacked plot.\n",
      "sort_columns : bool, default False\n",
      "    Sort column names to determine plot ordering.\n",
      "secondary_y : bool or sequence, default False\n",
      "    Whether to plot on the secondary y-axis if a list/tuple, which\n",
      "    columns to plot on secondary y-axis.\n",
      "mark_right : bool, default True\n",
      "    When using a secondary_y axis, automatically mark the column\n",
      "    labels with \"(right)\" in the legend.\n",
      "include_bool : bool, default is False\n",
      "    If True, boolean values can be plotted.\n",
      "backend : str, default None\n",
      "    Backend to use instead of the backend specified in the option\n",
      "    ``plotting.backend``. For instance, 'matplotlib'. Alternatively, to\n",
      "    specify the ``plotting.backend`` for the whole session, set\n",
      "    ``pd.options.plotting.backend``.\n",
      "\n",
      "    .. versionadded:: 1.0.0\n",
      "\n",
      "**kwargs\n",
      "    Options to pass to matplotlib plotting method.\n",
      "\n",
      "Returns\n",
      "-------\n",
      ":class:`matplotlib.axes.Axes` or numpy.ndarray of them\n",
      "    If the backend is not the default matplotlib one, the return value\n",
      "    will be the object returned by the backend.\n",
      "\n",
      "Notes\n",
      "-----\n",
      "- See matplotlib documentation online for more on this subject\n",
      "- If `kind` = 'bar' or 'barh', you can specify relative alignments\n",
      "  for bar plot layout by `position` keyword.\n",
      "  From 0 (left/bottom-end) to 1 (right/top-end). Default is 0.5\n",
      "  (center)\n"
     ]
    }
   ],
   "source": [
    "titanic_df.Fare.plot?"
   ]
  },
  {
   "cell_type": "code",
   "execution_count": 49,
   "metadata": {},
   "outputs": [
    {
     "data": {
      "text/html": [
       "<div>\n",
       "<style scoped>\n",
       "    .dataframe tbody tr th:only-of-type {\n",
       "        vertical-align: middle;\n",
       "    }\n",
       "\n",
       "    .dataframe tbody tr th {\n",
       "        vertical-align: top;\n",
       "    }\n",
       "\n",
       "    .dataframe thead th {\n",
       "        text-align: right;\n",
       "    }\n",
       "</style>\n",
       "<table border=\"1\" class=\"dataframe\">\n",
       "  <thead>\n",
       "    <tr style=\"text-align: right;\">\n",
       "      <th></th>\n",
       "      <th>frecuencia</th>\n",
       "      <th>norm_frecuencia</th>\n",
       "    </tr>\n",
       "    <tr>\n",
       "      <th>Pclass</th>\n",
       "      <th></th>\n",
       "      <th></th>\n",
       "    </tr>\n",
       "  </thead>\n",
       "  <tbody>\n",
       "    <tr>\n",
       "      <th>3</th>\n",
       "      <td>491</td>\n",
       "      <td>0.551066</td>\n",
       "    </tr>\n",
       "    <tr>\n",
       "      <th>1</th>\n",
       "      <td>216</td>\n",
       "      <td>0.242424</td>\n",
       "    </tr>\n",
       "    <tr>\n",
       "      <th>2</th>\n",
       "      <td>184</td>\n",
       "      <td>0.206510</td>\n",
       "    </tr>\n",
       "  </tbody>\n",
       "</table>\n",
       "</div>"
      ],
      "text/plain": [
       "        frecuencia  norm_frecuencia\n",
       "Pclass                             \n",
       "3              491         0.551066\n",
       "1              216         0.242424\n",
       "2              184         0.206510"
      ]
     },
     "execution_count": 49,
     "metadata": {},
     "output_type": "execute_result"
    }
   ],
   "source": [
    "# crear data frame con la frecuencia absoluta y relativa de Pclass\n",
    "frecuencia = titanic_df.Pclass.value_counts()\n",
    "norm_frecuencia = titanic_df.Pclass.value_counts(normalize=True)\n",
    "\n",
    "df = pd.DataFrame({\n",
    "    'frecuencia': frecuencia,\n",
    "    'norm_frecuencia': norm_frecuencia\n",
    "})\n",
    "df.index.name = 'Pclass'\n",
    "df"
   ]
  },
  {
   "cell_type": "code",
   "execution_count": 56,
   "metadata": {},
   "outputs": [
    {
     "data": {
      "text/plain": [
       "<matplotlib.lines.Line2D at 0x7f6d708935b0>"
      ]
     },
     "execution_count": 56,
     "metadata": {},
     "output_type": "execute_result"
    },
    {
     "data": {
      "image/png": "[encoded data removed]",
      "text/plain": [
       "<Figure size 432x288 with 1 Axes>"
      ]
     },
     "metadata": {
      "needs_background": "light"
     },
     "output_type": "display_data"
    }
   ],
   "source": [
    "fig, ax = plt.subplots()\n",
    "titanic_df.Age.plot(\n",
    "    kind='hist', bins=50,\n",
    "    ax=ax,\n",
    ")\n",
    "\n",
    "ax.axvline(\n",
    "    titanic_df.Age.mean(),\n",
    "    color='red',\n",
    "    linestyle='--',\n",
    "    label='Average Age',\n",
    "    lw=10\n",
    ")\n"
   ]
  },
  {
   "cell_type": "code",
   "execution_count": 57,
   "metadata": {},
   "outputs": [],
   "source": [
    "data = {\n",
    "    'metros': [1, 2, 3, 4, 5, 6, 7, 8],\n",
    "    'niños': [2, 6, 10, 5, 10, 3, 2, 2]\n",
    "}\n",
    "\n",
    "df = pd.DataFrame(data)"
   ]
  },
  {
   "cell_type": "code",
   "execution_count": 58,
   "metadata": {},
   "outputs": [
    {
     "data": {
      "text/html": [
       "<div>\n",
       "<style scoped>\n",
       "    .dataframe tbody tr th:only-of-type {\n",
       "        vertical-align: middle;\n",
       "    }\n",
       "\n",
       "    .dataframe tbody tr th {\n",
       "        vertical-align: top;\n",
       "    }\n",
       "\n",
       "    .dataframe thead th {\n",
       "        text-align: right;\n",
       "    }\n",
       "</style>\n",
       "<table border=\"1\" class=\"dataframe\">\n",
       "  <thead>\n",
       "    <tr style=\"text-align: right;\">\n",
       "      <th></th>\n",
       "      <th>metros</th>\n",
       "      <th>niños</th>\n",
       "    </tr>\n",
       "  </thead>\n",
       "  <tbody>\n",
       "    <tr>\n",
       "      <th>0</th>\n",
       "      <td>1</td>\n",
       "      <td>2</td>\n",
       "    </tr>\n",
       "    <tr>\n",
       "      <th>1</th>\n",
       "      <td>2</td>\n",
       "      <td>6</td>\n",
       "    </tr>\n",
       "    <tr>\n",
       "      <th>2</th>\n",
       "      <td>3</td>\n",
       "      <td>10</td>\n",
       "    </tr>\n",
       "    <tr>\n",
       "      <th>3</th>\n",
       "      <td>4</td>\n",
       "      <td>5</td>\n",
       "    </tr>\n",
       "    <tr>\n",
       "      <th>4</th>\n",
       "      <td>5</td>\n",
       "      <td>10</td>\n",
       "    </tr>\n",
       "    <tr>\n",
       "      <th>5</th>\n",
       "      <td>6</td>\n",
       "      <td>3</td>\n",
       "    </tr>\n",
       "    <tr>\n",
       "      <th>6</th>\n",
       "      <td>7</td>\n",
       "      <td>2</td>\n",
       "    </tr>\n",
       "    <tr>\n",
       "      <th>7</th>\n",
       "      <td>8</td>\n",
       "      <td>2</td>\n",
       "    </tr>\n",
       "  </tbody>\n",
       "</table>\n",
       "</div>"
      ],
      "text/plain": [
       "   metros  niños\n",
       "0       1      2\n",
       "1       2      6\n",
       "2       3     10\n",
       "3       4      5\n",
       "4       5     10\n",
       "5       6      3\n",
       "6       7      2\n",
       "7       8      2"
      ]
     },
     "execution_count": 58,
     "metadata": {},
     "output_type": "execute_result"
    }
   ],
   "source": [
    "df"
   ]
  },
  {
   "cell_type": "code",
   "execution_count": 65,
   "metadata": {},
   "outputs": [
    {
     "name": "stdout",
     "output_type": "stream",
     "text": [
      "2     3\n",
      "10    2\n",
      "6     1\n",
      "5     1\n",
      "3     1\n",
      "Name: niños, dtype: int64\n",
      "Int64Index([2, 10, 6, 5, 3], dtype='int64')\n"
     ]
    }
   ],
   "source": [
    "fre = df.niños.value_counts()\n",
    "fre_rel = df.niños.value_counts(normalize=True)"
   ]
  },
  {
   "cell_type": "code",
   "execution_count": 66,
   "metadata": {},
   "outputs": [],
   "source": [
    "tata = []\n",
    "for idx in fre.index:\n",
    "    tata.append(idx * [fre[idx]])"
   ]
  },
  {
   "cell_type": "code",
   "execution_count": 67,
   "metadata": {},
   "outputs": [
    {
     "data": {
      "text/plain": [
       "[[3, 3],\n",
       " [2, 2, 2, 2, 2, 2, 2, 2, 2, 2],\n",
       " [1, 1, 1, 1, 1, 1],\n",
       " [1, 1, 1, 1, 1],\n",
       " [1, 1, 1]]"
      ]
     },
     "execution_count": 67,
     "metadata": {},
     "output_type": "execute_result"
    }
   ],
   "source": [
    "tata"
   ]
  },
  {
   "cell_type": "code",
   "execution_count": null,
   "metadata": {},
   "outputs": [],
   "source": [
    "plt.figs"
   ]
  }
 ],
 "metadata": {
  "kernelspec": {
   "display_name": "Python 3",
   "language": "python",
   "name": "python3"
  },
  "language_info": {
   "codemirror_mode": {
    "name": "ipython",
    "version": 3
   },
   "file_extension": ".py",
   "mimetype": "text/x-python",
   "name": "python",
   "nbconvert_exporter": "python",
   "pygments_lexer": "ipython3",
   "version": "3.10.6"
  },
  "orig_nbformat": 4
 },
 "nbformat": 4,
 "nbformat_minor": 2
}
