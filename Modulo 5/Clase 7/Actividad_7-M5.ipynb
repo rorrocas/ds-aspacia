{
 "cells": [
  {
   "cell_type": "code",
   "execution_count": 53,
   "id": "f441b7f9",
   "metadata": {},
   "outputs": [],
   "source": [
    "#Importar librerías\n",
    "import seaborn as sns\n",
    "from sklearn.naive_bayes import GaussianNB\n",
    "from sklearn.metrics import confusion_matrix, accuracy_score\n",
    "from sklearn.preprocessing import StandardScaler\n",
    "from sklearn import preprocessing\n",
    "from sklearn.model_selection import GridSearchCV\n",
    "import matplotlib.pyplot as plt\n",
    "import pandas as pd"
   ]
  },
  {
   "cell_type": "markdown",
   "id": "0534eb1a",
   "metadata": {},
   "source": [
    "1. Cargue los set de datos de entrenamiento y prueba. ¿Cuáles son las dimensiones de estos set de datos?"
   ]
  },
  {
   "cell_type": "code",
   "execution_count": 9,
   "id": "f306c592",
   "metadata": {},
   "outputs": [
    {
     "name": "stdout",
     "output_type": "stream",
     "text": [
      "   tBodyAcc-mean()-X  tBodyAcc-mean()-Y  tBodyAcc-mean()-Z  tBodyAcc-std()-X  \\\n",
      "0           0.288585          -0.020294          -0.132905         -0.995279   \n",
      "1           0.278419          -0.016411          -0.123520         -0.998245   \n",
      "2           0.279653          -0.019467          -0.113462         -0.995380   \n",
      "3           0.279174          -0.026201          -0.123283         -0.996091   \n",
      "4           0.276629          -0.016570          -0.115362         -0.998139   \n",
      "5           0.277199          -0.010098          -0.105137         -0.997335   \n",
      "6           0.279454          -0.019641          -0.110022         -0.996921   \n",
      "7           0.277432          -0.030488          -0.125360         -0.996559   \n",
      "8           0.277293          -0.021751          -0.120751         -0.997328   \n",
      "9           0.280586          -0.009960          -0.106065         -0.994803   \n",
      "\n",
      "   tBodyAcc-std()-Y  tBodyAcc-std()-Z  tBodyAcc-mad()-X  tBodyAcc-mad()-Y  \\\n",
      "0         -0.983111         -0.913526         -0.995112         -0.983185   \n",
      "1         -0.975300         -0.960322         -0.998807         -0.974914   \n",
      "2         -0.967187         -0.978944         -0.996520         -0.963668   \n",
      "3         -0.983403         -0.990675         -0.997099         -0.982750   \n",
      "4         -0.980817         -0.990482         -0.998321         -0.979672   \n",
      "5         -0.990487         -0.995420         -0.997627         -0.990218   \n",
      "6         -0.967186         -0.983118         -0.997003         -0.966097   \n",
      "7         -0.966728         -0.981585         -0.996485         -0.966313   \n",
      "8         -0.961245         -0.983672         -0.997596         -0.957236   \n",
      "9         -0.972758         -0.986244         -0.995405         -0.973663   \n",
      "\n",
      "   tBodyAcc-mad()-Z  tBodyAcc-max()-X  ...  fBodyBodyGyroJerkMag-kurtosis()  \\\n",
      "0         -0.923527         -0.934724  ...                        -0.710304   \n",
      "1         -0.957686         -0.943068  ...                        -0.861499   \n",
      "2         -0.977469         -0.938692  ...                        -0.760104   \n",
      "3         -0.989302         -0.938692  ...                        -0.482845   \n",
      "4         -0.990441         -0.942469  ...                        -0.699205   \n",
      "5         -0.995549         -0.942469  ...                        -0.844619   \n",
      "6         -0.983116         -0.940987  ...                        -0.564430   \n",
      "7         -0.982982         -0.940987  ...                        -0.421715   \n",
      "8         -0.984379         -0.940598  ...                        -0.572995   \n",
      "9         -0.985642         -0.940028  ...                         0.140452   \n",
      "\n",
      "   angle(tBodyAccMean,gravity)  angle(tBodyAccJerkMean),gravityMean)  \\\n",
      "0                    -0.112754                              0.030400   \n",
      "1                     0.053477                             -0.007435   \n",
      "2                    -0.118559                              0.177899   \n",
      "3                    -0.036788                             -0.012892   \n",
      "4                     0.123320                              0.122542   \n",
      "5                     0.082632                             -0.143439   \n",
      "6                    -0.212754                             -0.230622   \n",
      "7                    -0.020888                              0.593996   \n",
      "8                     0.012954                              0.080936   \n",
      "9                    -0.020590                             -0.127730   \n",
      "\n",
      "   angle(tBodyGyroMean,gravityMean)  angle(tBodyGyroJerkMean,gravityMean)  \\\n",
      "0                         -0.464761                             -0.018446   \n",
      "1                         -0.732626                              0.703511   \n",
      "2                          0.100699                              0.808529   \n",
      "3                          0.640011                             -0.485366   \n",
      "4                          0.693578                             -0.615971   \n",
      "5                          0.275041                             -0.368224   \n",
      "6                          0.014637                             -0.189512   \n",
      "7                         -0.561871                              0.467383   \n",
      "8                         -0.234313                              0.117797   \n",
      "9                         -0.482871                             -0.070670   \n",
      "\n",
      "   angle(X,gravityMean)  angle(Y,gravityMean)  angle(Z,gravityMean)  subject  \\\n",
      "0             -0.841247              0.179941             -0.058627        1   \n",
      "1             -0.844788              0.180289             -0.054317        1   \n",
      "2             -0.848933              0.180637             -0.049118        1   \n",
      "3             -0.848649              0.181935             -0.047663        1   \n",
      "4             -0.847865              0.185151             -0.043892        1   \n",
      "5             -0.849632              0.184823             -0.042126        1   \n",
      "6             -0.852150              0.182170             -0.043010        1   \n",
      "7             -0.851017              0.183779             -0.041976        1   \n",
      "8             -0.847971              0.188982             -0.037364        1   \n",
      "9             -0.848294              0.190310             -0.034417        1   \n",
      "\n",
      "   Activity  \n",
      "0  STANDING  \n",
      "1  STANDING  \n",
      "2  STANDING  \n",
      "3  STANDING  \n",
      "4  STANDING  \n",
      "5  STANDING  \n",
      "6  STANDING  \n",
      "7  STANDING  \n",
      "8  STANDING  \n",
      "9  STANDING  \n",
      "\n",
      "[10 rows x 563 columns]\n",
      "\n",
      "Las dimensiones del set de entrenamiento son (7352, 563)\n"
     ]
    }
   ],
   "source": [
    "#cargar entrenamiento\n",
    "train = pd.read_csv(\"https://raw.githubusercontent.com/natjulian/Contribuci-n-Diplomado-Data-Science-UC-2021/main/Bases%20de%20datos%20Clases/Activity/train.csv\")\n",
    "print(train.head(10))\n",
    "print()\n",
    "print(f\"Las dimensiones del set de entrenamiento son {train.shape}\")"
   ]
  },
  {
   "cell_type": "code",
   "execution_count": 11,
   "id": "07377a1b",
   "metadata": {},
   "outputs": [
    {
     "name": "stdout",
     "output_type": "stream",
     "text": [
      "   tBodyAcc-mean()-X  tBodyAcc-mean()-Y  tBodyAcc-mean()-Z  tBodyAcc-std()-X  \\\n",
      "0           0.257178          -0.023285          -0.014654         -0.938404   \n",
      "1           0.286027          -0.013163          -0.119083         -0.975415   \n",
      "2           0.275485          -0.026050          -0.118152         -0.993819   \n",
      "3           0.270298          -0.032614          -0.117520         -0.994743   \n",
      "4           0.274833          -0.027848          -0.129527         -0.993852   \n",
      "5           0.279220          -0.018620          -0.113902         -0.994455   \n",
      "6           0.279746          -0.018271          -0.104000         -0.995819   \n",
      "7           0.274601          -0.025035          -0.116831         -0.995594   \n",
      "8           0.272529          -0.020954          -0.114472         -0.996784   \n",
      "9           0.275746          -0.010372          -0.099776         -0.998373   \n",
      "\n",
      "   tBodyAcc-std()-Y  tBodyAcc-std()-Z  tBodyAcc-mad()-X  tBodyAcc-mad()-Y  \\\n",
      "0         -0.920091         -0.667683         -0.952501         -0.925249   \n",
      "1         -0.967458         -0.944958         -0.986799         -0.968401   \n",
      "2         -0.969926         -0.962748         -0.994403         -0.970735   \n",
      "3         -0.973268         -0.967091         -0.995274         -0.974471   \n",
      "4         -0.967445         -0.978295         -0.994111         -0.965953   \n",
      "5         -0.970417         -0.965316         -0.994585         -0.969481   \n",
      "6         -0.976354         -0.977725         -0.995996         -0.973665   \n",
      "7         -0.982069         -0.985262         -0.995341         -0.981485   \n",
      "8         -0.975906         -0.986597         -0.997029         -0.973735   \n",
      "9         -0.986933         -0.991022         -0.998663         -0.987140   \n",
      "\n",
      "   tBodyAcc-mad()-Z  tBodyAcc-max()-X  ...  fBodyBodyGyroJerkMag-kurtosis()  \\\n",
      "0         -0.674302         -0.894088  ...                        -0.705974   \n",
      "1         -0.945823         -0.894088  ...                        -0.594944   \n",
      "2         -0.963483         -0.939260  ...                        -0.640736   \n",
      "3         -0.968897         -0.938610  ...                        -0.736124   \n",
      "4         -0.977346         -0.938610  ...                        -0.846595   \n",
      "5         -0.965897         -0.937856  ...                        -0.857565   \n",
      "6         -0.979253         -0.937856  ...                        -0.391286   \n",
      "7         -0.984610         -0.941263  ...                        -0.672358   \n",
      "8         -0.985556         -0.941263  ...                        -0.853248   \n",
      "9         -0.991084         -0.943761  ...                        -0.741435   \n",
      "\n",
      "   angle(tBodyAccMean,gravity)  angle(tBodyAccJerkMean),gravityMean)  \\\n",
      "0                     0.006462                              0.162920   \n",
      "1                    -0.083495                              0.017500   \n",
      "2                    -0.034956                              0.202302   \n",
      "3                    -0.017067                              0.154438   \n",
      "4                    -0.002223                             -0.040046   \n",
      "5                    -0.095681                              0.048849   \n",
      "6                    -0.309083                             -0.000857   \n",
      "7                    -0.025526                             -0.214033   \n",
      "8                     0.144626                             -0.035564   \n",
      "9                     0.157584                             -0.033487   \n",
      "\n",
      "   angle(tBodyGyroMean,gravityMean)  angle(tBodyGyroJerkMean,gravityMean)  \\\n",
      "0                         -0.825886                              0.271151   \n",
      "1                         -0.434375                              0.920593   \n",
      "2                          0.064103                              0.145068   \n",
      "3                          0.340134                              0.296407   \n",
      "4                          0.736715                             -0.118545   \n",
      "5                          0.760684                             -0.072216   \n",
      "6                          0.728514                             -0.333771   \n",
      "7                          0.437640                             -0.366674   \n",
      "8                         -0.181800                              0.087320   \n",
      "9                         -0.350893                              0.343146   \n",
      "\n",
      "   angle(X,gravityMean)  angle(Y,gravityMean)  angle(Z,gravityMean)  subject  \\\n",
      "0             -0.720009              0.276801             -0.057978        2   \n",
      "1             -0.698091              0.281343             -0.083898        2   \n",
      "2             -0.702771              0.280083             -0.079346        2   \n",
      "3             -0.698954              0.284114             -0.077108        2   \n",
      "4             -0.692245              0.290722             -0.073857        2   \n",
      "5             -0.689816              0.294896             -0.068471        2   \n",
      "6             -0.690085              0.295282             -0.067065        2   \n",
      "7             -0.688785              0.295981             -0.067706        2   \n",
      "8             -0.685390              0.299394             -0.065491        2   \n",
      "9             -0.684110              0.300822             -0.064263        2   \n",
      "\n",
      "   Activity  \n",
      "0  STANDING  \n",
      "1  STANDING  \n",
      "2  STANDING  \n",
      "3  STANDING  \n",
      "4  STANDING  \n",
      "5  STANDING  \n",
      "6  STANDING  \n",
      "7  STANDING  \n",
      "8  STANDING  \n",
      "9  STANDING  \n",
      "\n",
      "[10 rows x 563 columns]\n",
      "\n",
      "Las dimensiones del set de testeo son (2947, 563)\n"
     ]
    }
   ],
   "source": [
    "#cargar test\n",
    "test = pd.read_csv(\"https://raw.githubusercontent.com/natjulian/Contribuci-n-Diplomado-Data-Science-UC-2021/main/Bases%20de%20datos%20Clases/Activity/test.csv\")\n",
    "print(test.head(10))\n",
    "print()\n",
    "print(f\"Las dimensiones del set de testeo son {test.shape}\")"
   ]
  },
  {
   "cell_type": "markdown",
   "id": "1dc40ad3",
   "metadata": {},
   "source": [
    "2. Estudie la cantidad de registros que hay en cada actividad en el set de entrenamiento. Para esto, una opción es utilizar la función de pandas crosstab(index=columna, columns=\"count\"). ¿Cómo se encuentran repartidas las Actividades? ¿Existe algún desbalance en las categorías? (realice un gráfico que acompañe su análisis) Comente."
   ]
  },
  {
   "cell_type": "code",
   "execution_count": 27,
   "id": "b76bcd3a",
   "metadata": {},
   "outputs": [
    {
     "name": "stdout",
     "output_type": "stream",
     "text": [
      "LAYING                1407\n",
      "STANDING              1374\n",
      "SITTING               1286\n",
      "WALKING               1226\n",
      "WALKING_UPSTAIRS      1073\n",
      "WALKING_DOWNSTAIRS     986\n",
      "Name: Activity, dtype: int64\n"
     ]
    }
   ],
   "source": [
    "#Obtener las frecuencias por actividad\n",
    "actividad = train[\"Activity\"]\n",
    "frecuencia = actividad.value_counts()\n",
    "print(frecuencia)"
   ]
  },
  {
   "cell_type": "code",
   "execution_count": 44,
   "id": "dd448bbe",
   "metadata": {},
   "outputs": [
    {
     "data": {
      "image/png": "[encoded data removed]",
      "text/plain": [
       "<Figure size 432x288 with 1 Axes>"
      ]
     },
     "metadata": {
      "needs_background": "light"
     },
     "output_type": "display_data"
    }
   ],
   "source": [
    "#gráfico actividades\n",
    "sns.countplot(x = \"Activity\", data = train)\n",
    "plt.xticks(rotation = 45)\n",
    "plt.show()"
   ]
  },
  {
   "cell_type": "markdown",
   "id": "2ed82214",
   "metadata": {},
   "source": [
    "3.Defina X_train y X_test como corresponda (omitiendo las variables que no corresponden a variables predictoras)."
   ]
  },
  {
   "cell_type": "code",
   "execution_count": 48,
   "id": "4d5456e3",
   "metadata": {},
   "outputs": [],
   "source": [
    "X_train = train.drop([\"Activity\", \"subject\"], axis = 1)\n",
    "X_test = test.drop([\"Activity\", \"subject\"], axis = 1)"
   ]
  },
  {
   "cell_type": "markdown",
   "id": "2b121670",
   "metadata": {},
   "source": [
    "4. Estandarice el set de features de entrenamiento y prueba. Puede utilizar la función StandardScaler: x_stand = StandardScaler().fit_transform(x)"
   ]
  },
  {
   "cell_type": "code",
   "execution_count": 49,
   "id": "58165c45",
   "metadata": {},
   "outputs": [],
   "source": [
    "X_train_stand = StandardScaler().fit_transform(X_train)\n",
    "X_test_stand = StandardScaler().fit_transform(X_test)"
   ]
  },
  {
   "cell_type": "markdown",
   "id": "600c1029",
   "metadata": {},
   "source": [
    "5. Defina y_train e y_test como corresponda (recuerde que debe estar codificada numéricamente). Para recodificar un vector o columna y de varias categorías a formato numérico puede utilizar: \n",
    "encoder=preprocessing.LabelEncoder().fit(y)\n",
    "y_new=encodertrain.transform(y)"
   ]
  },
  {
   "cell_type": "code",
   "execution_count": 52,
   "id": "9eba734f",
   "metadata": {},
   "outputs": [],
   "source": [
    "#Definir y\n",
    "y_test = test[\"Activity\"]\n",
    "y_train = train[\"Activity\"]\n",
    "\n",
    "#recodificar en categorías y_test\n",
    "encondertest = preprocessing.LabelEncoder().fit(y_test)\n",
    "y_test = encondertest.transform(y_test)\n",
    "\n",
    "#recodificar en categorías y_train\n",
    "\n",
    "encondertrain = preprocessing.LabelEncoder().fit(y_train)\n",
    "y_train = encondertrain.transform(y_train)\n"
   ]
  },
  {
   "cell_type": "markdown",
   "id": "6ec45ca0",
   "metadata": {},
   "source": [
    "6. Utilice la función GridSearchCV para realizar 10 validaciones cruzadas con la lista de parámetros definida anteriormente. Determine la mejor combinación de parámetros y obtenga el modelo con dichos parámetros."
   ]
  },
  {
   "cell_type": "code",
   "execution_count": null,
   "id": "37a8f71a",
   "metadata": {},
   "outputs": [],
   "source": []
  }
 ],
 "metadata": {
  "kernelspec": {
   "display_name": "Python 3 (ipykernel)",
   "language": "python",
   "name": "python3"
  },
  "language_info": {
   "codemirror_mode": {
    "name": "ipython",
    "version": 3
   },
   "file_extension": ".py",
   "mimetype": "text/x-python",
   "name": "python",
   "nbconvert_exporter": "python",
   "pygments_lexer": "ipython3",
   "version": "3.9.12"
  }
 },
 "nbformat": 4,
 "nbformat_minor": 5
}
