{
 "cells": [
  {
   "cell_type": "markdown",
   "id": "83dc9e73",
   "metadata": {},
   "source": [
    "### 1.- Dada la lista L = [\"almacenar\", 8, \"a\", [1,2,3], True,(0,0,1), 85.7]"
   ]
  },
  {
   "cell_type": "code",
   "execution_count": 56,
   "id": "59224bcf",
   "metadata": {},
   "outputs": [],
   "source": [
    "L = [\"almacenar\", 8, \"a\", [1,2,3], True, (0,0,1), 85.7]"
   ]
  },
  {
   "cell_type": "code",
   "execution_count": 57,
   "id": "b58814e1",
   "metadata": {},
   "outputs": [
    {
     "name": "stdout",
     "output_type": "stream",
     "text": [
      "85.7  pertenece a la lista\n",
      "True  pertenece a la lista\n",
      "[1, 2, 3]  pertenece a la lista\n",
      "a  pertenece a la lista\n"
     ]
    }
   ],
   "source": [
    "# a. ¿Cuál de estos elementos pertenece a ella?\n",
    "for i in [85.7, True, [(0,0,1)], [1,2,3], 0, [True], 85, \"a\"]:\n",
    "    if i in L:\n",
    "        print(i, \" pertenece a la lista\")"
   ]
  },
  {
   "cell_type": "code",
   "execution_count": 59,
   "id": "80d8b575",
   "metadata": {},
   "outputs": [
    {
     "data": {
      "text/plain": [
       "5"
      ]
     },
     "execution_count": 59,
     "metadata": {},
     "output_type": "execute_result"
    }
   ],
   "source": [
    "# b. ¿Cómo obtener la posición en que se encuentra el elemento (0,0,1)?\n",
    "L.index((0,0,1))"
   ]
  },
  {
   "cell_type": "code",
   "execution_count": 60,
   "id": "b2162176",
   "metadata": {},
   "outputs": [
    {
     "name": "stdout",
     "output_type": "stream",
     "text": [
      "['almacenar', 8, 'a', [1, 2, 3], True, (0, 0, 1)]\n"
     ]
    }
   ],
   "source": [
    "# c. ¿Cómo eliminar el último elemento, independientemente de cuántos elementos haya en la lista?\n",
    "L.pop()\n",
    "print(L)"
   ]
  },
  {
   "cell_type": "code",
   "execution_count": 62,
   "id": "2b3cd128",
   "metadata": {},
   "outputs": [
    {
     "data": {
      "text/plain": [
       "1"
      ]
     },
     "execution_count": 62,
     "metadata": {},
     "output_type": "execute_result"
    }
   ],
   "source": [
    "# d. Utilizar una operación para contar cuántas veces aparece el string “a”. ¿Cuál será el resultado?\n",
    "L = [\"almacenar\", 8, \"a\", [1,2,3], True, (0,0,1), 85.7]\n",
    "L.count(\"a\")"
   ]
  },
  {
   "cell_type": "markdown",
   "id": "30cce59a",
   "metadata": {},
   "source": [
    "### 2. Escribir un programa que pida al usuario una palabra y muestre por pantalla si es un palíndromo."
   ]
  },
  {
   "cell_type": "code",
   "execution_count": 4,
   "id": "1785c794",
   "metadata": {},
   "outputs": [
    {
     "name": "stdout",
     "output_type": "stream",
     "text": [
      "Ingrese palabra: oso\n",
      "Es un palindromo!\n"
     ]
    }
   ],
   "source": [
    "word = input(\"Ingrese palabra: \")\n",
    "if word == word[::-1]:\n",
    "    print(\"Es un palindromo!\")\n",
    "else:\n",
    "    print(\"No es palindromo :c\")"
   ]
  },
  {
   "cell_type": "markdown",
   "id": "14a05cfa",
   "metadata": {},
   "source": [
    "### 3. Escribir un programa que almacene en una lista los números del 1 al 10 y los muestre por pantalla en orden inverso separados por comas."
   ]
  },
  {
   "cell_type": "code",
   "execution_count": 12,
   "id": "a7c51ce0",
   "metadata": {},
   "outputs": [
    {
     "name": "stdout",
     "output_type": "stream",
     "text": [
      "[10, 9, 8, 7, 6, 5, 4, 3, 2, 1]\n"
     ]
    }
   ],
   "source": [
    "lista = []\n",
    "for i in range(10):\n",
    "    lista.append(i+1)\n",
    "print(lista[::-1])"
   ]
  },
  {
   "cell_type": "markdown",
   "id": "0b7cc32c",
   "metadata": {},
   "source": [
    "### 4. Escribir un programa que almacene las asignaturas de un curso (por ejemplo Matemáticas, Física, Química, Historia y Lengua) en una lista, pregunte al usuario la nota que ha sacado en cada asignatura, y después las muestre por pantalla con el mensaje En \"asignatura\" has sacado \"nota\" donde \"asignatura\" es cada una de las asignaturas de la lista y \"nota\" cada una de las correspondientes notas introducidas por el usuario."
   ]
  },
  {
   "cell_type": "code",
   "execution_count": 27,
   "id": "49a55e4e",
   "metadata": {},
   "outputs": [],
   "source": [
    "asignaturas = [\"Matemáticas\", \"Física\", \"Química\", \"Historia\", \"Lengua\"]\n",
    "diccionario_asignaturas = {}"
   ]
  },
  {
   "cell_type": "code",
   "execution_count": 32,
   "id": "d8a2d6a6",
   "metadata": {},
   "outputs": [
    {
     "name": "stdout",
     "output_type": "stream",
     "text": [
      "¿Que nota obtuvo en: Matemáticas 10\n",
      "¿Que nota obtuvo en: Física 5\n",
      "¿Que nota obtuvo en: Química 6\n",
      "¿Que nota obtuvo en: Historia 8\n",
      "¿Que nota obtuvo en: Lengua 7\n"
     ]
    }
   ],
   "source": [
    "for asignatura in asignaturas:\n",
    "    nota = input(f\"¿Que nota obtuvo en: {asignatura} \")\n",
    "    diccionario_asignaturas[asignatura] = nota"
   ]
  },
  {
   "cell_type": "code",
   "execution_count": 33,
   "id": "8714110b",
   "metadata": {},
   "outputs": [
    {
     "name": "stdout",
     "output_type": "stream",
     "text": [
      "Su nota en Matemáticas es 10\n",
      "Su nota en Física es 5\n",
      "Su nota en Química es 6\n",
      "Su nota en Historia es 8\n",
      "Su nota en Lengua es 7\n"
     ]
    }
   ],
   "source": [
    "for asignatura in diccionario_asignaturas:\n",
    "    print(f\"Su nota en {asignatura} es {diccionario_asignaturas[asignatura]}\")"
   ]
  },
  {
   "cell_type": "markdown",
   "id": "dd2a4157",
   "metadata": {},
   "source": [
    "### 5. Escribir un programa que almacene las matrices ... en una lista y muestre por pantalla su producto. Nota: Para representar matrices mediante listas usar listas anidadas, representando cada vector fila en una lista."
   ]
  },
  {
   "cell_type": "code",
   "execution_count": 69,
   "id": "f03272f7",
   "metadata": {},
   "outputs": [],
   "source": [
    "a = [[1,2,3],[4,5,6]]\n",
    "b = [[-1,0],[0,1],[1,1]]"
   ]
  },
  {
   "cell_type": "code",
   "execution_count": 70,
   "id": "17a2bf14",
   "metadata": {},
   "outputs": [
    {
     "name": "stdout",
     "output_type": "stream",
     "text": [
      "[1, 2, 3]\n",
      "[4, 5, 6]\n"
     ]
    }
   ],
   "source": [
    "for i in a:\n",
    "    print(i)"
   ]
  },
  {
   "cell_type": "code",
   "execution_count": 71,
   "id": "c2c2b9a0",
   "metadata": {},
   "outputs": [
    {
     "name": "stdout",
     "output_type": "stream",
     "text": [
      "[-1, 0]\n",
      "[0, 1]\n",
      "[1, 1]\n"
     ]
    }
   ],
   "source": [
    "for i in b:\n",
    "    print(i)"
   ]
  },
  {
   "cell_type": "code",
   "execution_count": 83,
   "id": "860bd6b0",
   "metadata": {},
   "outputs": [],
   "source": [
    "producto = [[0,0],[0,0]]"
   ]
  },
  {
   "cell_type": "code",
   "execution_count": 84,
   "id": "739b0e2a",
   "metadata": {},
   "outputs": [],
   "source": [
    "for i in range(len(a)):\n",
    "    for j in range(len(b[0])):\n",
    "        for k in range(len(b)):\n",
    "            producto[i][j] += a[i][k] * b[k][j]"
   ]
  },
  {
   "cell_type": "code",
   "execution_count": 86,
   "id": "a3225d05",
   "metadata": {},
   "outputs": [
    {
     "name": "stdout",
     "output_type": "stream",
     "text": [
      "[2, 5]\n",
      "[2, 11]\n"
     ]
    }
   ],
   "source": [
    "for i in producto:\n",
    "    print(i)"
   ]
  },
  {
   "cell_type": "markdown",
   "id": "3846a248",
   "metadata": {},
   "source": [
    "### 6. Escribir un programa que guarde en una variable el diccionario {'Euro':'€', 'Dollar':'$', 'Yen':'¥'}, pregunte al usuario por una divisa y muestre su símbolo o un mensaje de aviso si la divisa no está en el diccionario."
   ]
  },
  {
   "cell_type": "code",
   "execution_count": 40,
   "id": "0692d186",
   "metadata": {},
   "outputs": [],
   "source": [
    "divisas =  {'Euro':'€', 'Dollar':'$', 'Yen':'¥'}"
   ]
  },
  {
   "cell_type": "code",
   "execution_count": 45,
   "id": "d4596945",
   "metadata": {},
   "outputs": [
    {
     "name": "stdout",
     "output_type": "stream",
     "text": [
      "Ingrese nombre de la divisa: euro\n",
      "Su simbolo es: €\n"
     ]
    }
   ],
   "source": [
    "divisa = input(\"Ingrese nombre de la divisa: \").title()\n",
    "if divisa in divisas:\n",
    "    print(f\"Su simbolo es: {divisas[divisa]}\")\n",
    "else:\n",
    "    print(\"Esa divisa no se encuentra en la base de datos.\")"
   ]
  },
  {
   "cell_type": "markdown",
   "id": "adcd20c7",
   "metadata": {},
   "source": [
    "### 7. Escribir un programa que pregunte una fecha en formato dd/mm/aaaa y muestre por pantalla la misma fecha en formato dd de \"mes\" de aaaa donde \"mes\" es el nombre del mes."
   ]
  },
  {
   "cell_type": "code",
   "execution_count": 46,
   "id": "2447c7df",
   "metadata": {},
   "outputs": [
    {
     "name": "stdout",
     "output_type": "stream",
     "text": [
      "Escriba la fecha (dd/mm/aaaa): 01/04/2023\n"
     ]
    }
   ],
   "source": [
    "fecha = input(\"Escriba la fecha (dd/mm/aaaa): \")"
   ]
  },
  {
   "cell_type": "code",
   "execution_count": 50,
   "id": "38ce3930",
   "metadata": {},
   "outputs": [],
   "source": [
    "fecha = fecha.split(\"/\")"
   ]
  },
  {
   "cell_type": "code",
   "execution_count": 52,
   "id": "c49ba30e",
   "metadata": {},
   "outputs": [],
   "source": [
    "meses = [\"Enero\", \"Febrero\", \"Marzo\", \"Abril\", \"Mayo\", \"Junio\", \"Julio\", \"Agosto\", \"Septiembre\", \"Octubre\", \"Noviembre\", \"Diciembre\"]"
   ]
  },
  {
   "cell_type": "code",
   "execution_count": 54,
   "id": "b6cef9dc",
   "metadata": {},
   "outputs": [
    {
     "name": "stdout",
     "output_type": "stream",
     "text": [
      "La fecha es: 01 de Abril de 2023\n"
     ]
    }
   ],
   "source": [
    "print(f\"La fecha es: {fecha[0]} de {meses[int(fecha[1])-1]} de {fecha[2]}\")"
   ]
  },
  {
   "cell_type": "markdown",
   "id": "e52b9524",
   "metadata": {},
   "source": [
    "- ¿Sabemos que es una estructura de datos?\n",
    "    \n",
    "    **R: Son las distintas formas que tiene python para almacenar datos, pueden ser listas, diccionarios, set o tuplas.**\n",
    "\n",
    "- ¿Conocemos los conceptos de Listas, Tuplas, etc.?\n",
    "    \n",
    "    **R: Las listas pueden almacenas valores repetidos son mutables y accedibles por indice, las tuplas son como listas pero inmutables, los diccionarios son elementos clave:valor donde se accede a cada valor por medio de una clave que no puede ser repetida y los set son listas sin elementos repetidos.**"
   ]
  },
  {
   "cell_type": "code",
   "execution_count": null,
   "id": "d699583d",
   "metadata": {},
   "outputs": [],
   "source": []
  }
 ],
 "metadata": {
  "kernelspec": {
   "display_name": "Python 3 (ipykernel)",
   "language": "python",
   "name": "python3"
  },
  "language_info": {
   "codemirror_mode": {
    "name": "ipython",
    "version": 3
   },
   "file_extension": ".py",
   "mimetype": "text/x-python",
   "name": "python",
   "nbconvert_exporter": "python",
   "pygments_lexer": "ipython3",
   "version": "3.9.7"
  }
 },
 "nbformat": 4,
 "nbformat_minor": 5
}
