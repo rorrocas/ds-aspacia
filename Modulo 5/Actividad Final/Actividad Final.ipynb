{
 "cells": [
  {
   "attachments": {},
   "cell_type": "markdown",
   "metadata": {},
   "source": [
    "### Actividad Final modulo 5"
   ]
  },
  {
   "attachments": {},
   "cell_type": "markdown",
   "metadata": {},
   "source": [
    "#### 1.- Enliste todas las librerias que utilizará "
   ]
  },
  {
   "cell_type": "code",
   "execution_count": 1,
   "metadata": {},
   "outputs": [],
   "source": [
    "import numpy as np\n",
    "from sklearn.svm import SVC\n",
    "from sklearn.model_selection import train_test_split\n",
    "from sklearn.metrics import confusion_matrix\n",
    "import pandas as pd\n",
    "import matplotlib.pyplot as plt\n",
    "import seaborn as sns"
   ]
  },
  {
   "attachments": {},
   "cell_type": "markdown",
   "metadata": {},
   "source": [
    "#### 2.- Importación y revisión de los datos Importe  ambos  sets.  Dado  que  la  fuente  de  datos  proviene  de  la  misma  base, tienen las mismas columnas. Consolide ambos sets y reporte una exploración básica de  los  datos  (numero  de  filas/columnas,  tipos  de  datos, estadísticas básicas, casos perdidos)"
   ]
  },
  {
   "cell_type": "code",
   "execution_count": 2,
   "metadata": {},
   "outputs": [],
   "source": [
    "df_2009 = pd.read_csv('2009_1perc.csv')\n",
    "df_2010 = pd.read_csv('2010_1perc.csv')"
   ]
  },
  {
   "cell_type": "code",
   "execution_count": 9,
   "metadata": {},
   "outputs": [
    {
     "data": {
      "text/plain": [
       "(5812, 112)"
      ]
     },
     "execution_count": 9,
     "metadata": {},
     "output_type": "execute_result"
    }
   ],
   "source": [
    "df_2009.shape"
   ]
  },
  {
   "cell_type": "code",
   "execution_count": 10,
   "metadata": {},
   "outputs": [
    {
     "data": {
      "text/plain": [
       "(6013, 112)"
      ]
     },
     "execution_count": 10,
     "metadata": {},
     "output_type": "execute_result"
    }
   ],
   "source": [
    "df_2010.shape"
   ]
  },
  {
   "cell_type": "code",
   "execution_count": 4,
   "metadata": {},
   "outputs": [
    {
     "data": {
      "text/plain": [
       "['perobs', 'addrpct', 'linecm', 'detailcm']"
      ]
     },
     "execution_count": 4,
     "metadata": {},
     "output_type": "execute_result"
    }
   ],
   "source": [
    "# Columnas diferentes\n",
    "columnas_aux = []\n",
    "for i in df_2010.columns:\n",
    "    if df_2009[i].dtype != df_2010[i].dtype:\n",
    "        columnas_aux.append(i)\n",
    "columnas_aux"
   ]
  },
  {
   "cell_type": "code",
   "execution_count": 9,
   "metadata": {},
   "outputs": [
    {
     "name": "stdout",
     "output_type": "stream",
     "text": [
      "      2009                2010\n",
      "perobs: float64 ----> perobs: int64\n",
      "addrpct: int64 ----> addrpct: object\n",
      "linecm: int64 ----> linecm: object\n",
      "detailcm: int64 ----> detailcm: object\n"
     ]
    }
   ],
   "source": [
    "# Comparacion de variables\n",
    "print(\"      2009                2010\")\n",
    "for i in columnas_aux:\n",
    "    print(f'{i}: {df_2009[i].dtype} ----> {i}: {df_2010[i].dtype}')"
   ]
  },
  {
   "cell_type": "code",
   "execution_count": 10,
   "metadata": {},
   "outputs": [],
   "source": [
    "# Transformar tipo de columnas\n",
    "for i in columnas_aux:\n",
    "    df_2009[i] = df_2009[i].astype(object)\n",
    "    df_2010[i] = df_2010[i].astype(object)\n",
    "    \n",
    "    df_2009[i] = pd.to_numeric(df_2009[i], errors='coerce')\n",
    "    df_2010[i] = pd.to_numeric(df_2010[i], errors='coerce')\n",
    "\n",
    "    df_2009[i] = df_2009[i].astype(float)\n",
    "    df_2010[i] = df_2010[i].astype(float)"
   ]
  },
  {
   "cell_type": "code",
   "execution_count": 11,
   "metadata": {},
   "outputs": [],
   "source": [
    "df_total = pd.concat([df_2009,df_2010], axis=0, ignore_index=True)"
   ]
  },
  {
   "cell_type": "code",
   "execution_count": 12,
   "metadata": {},
   "outputs": [
    {
     "data": {
      "text/html": [
       "<div>\n",
       "<style scoped>\n",
       "    .dataframe tbody tr th:only-of-type {\n",
       "        vertical-align: middle;\n",
       "    }\n",
       "\n",
       "    .dataframe tbody tr th {\n",
       "        vertical-align: top;\n",
       "    }\n",
       "\n",
       "    .dataframe thead th {\n",
       "        text-align: right;\n",
       "    }\n",
       "</style>\n",
       "<table border=\"1\" class=\"dataframe\">\n",
       "  <thead>\n",
       "    <tr style=\"text-align: right;\">\n",
       "      <th></th>\n",
       "      <th>Unnamed: 0</th>\n",
       "      <th>year</th>\n",
       "      <th>pct</th>\n",
       "      <th>ser_num</th>\n",
       "      <th>datestop</th>\n",
       "      <th>timestop</th>\n",
       "      <th>perobs</th>\n",
       "      <th>perstop</th>\n",
       "      <th>compyear</th>\n",
       "      <th>comppct</th>\n",
       "      <th>repcmd</th>\n",
       "      <th>revcmd</th>\n",
       "      <th>dob</th>\n",
       "      <th>age</th>\n",
       "      <th>ht_feet</th>\n",
       "      <th>ht_inch</th>\n",
       "      <th>weight</th>\n",
       "      <th>addrpct</th>\n",
       "      <th>linecm</th>\n",
       "      <th>detailcm</th>\n",
       "    </tr>\n",
       "  </thead>\n",
       "  <tbody>\n",
       "    <tr>\n",
       "      <th>count</th>\n",
       "      <td>11825.000000</td>\n",
       "      <td>11825.000000</td>\n",
       "      <td>11825.000000</td>\n",
       "      <td>11825.000000</td>\n",
       "      <td>1.182500e+04</td>\n",
       "      <td>11825.000000</td>\n",
       "      <td>11825.000000</td>\n",
       "      <td>11825.000000</td>\n",
       "      <td>11825.0</td>\n",
       "      <td>11825.0</td>\n",
       "      <td>11825.000000</td>\n",
       "      <td>11825.000000</td>\n",
       "      <td>1.182500e+04</td>\n",
       "      <td>11825.000000</td>\n",
       "      <td>11825.000000</td>\n",
       "      <td>11825.000000</td>\n",
       "      <td>11825.000000</td>\n",
       "      <td>11824.000000</td>\n",
       "      <td>11824.0</td>\n",
       "      <td>11824.000000</td>\n",
       "    </tr>\n",
       "    <tr>\n",
       "      <th>mean</th>\n",
       "      <td>295983.814799</td>\n",
       "      <td>2009.508499</td>\n",
       "      <td>68.625624</td>\n",
       "      <td>5697.994334</td>\n",
       "      <td>6.364221e+06</td>\n",
       "      <td>1413.725497</td>\n",
       "      <td>2.654391</td>\n",
       "      <td>5.649556</td>\n",
       "      <td>0.0</td>\n",
       "      <td>0.0</td>\n",
       "      <td>243.354926</td>\n",
       "      <td>238.986385</td>\n",
       "      <td>7.316195e+06</td>\n",
       "      <td>28.968541</td>\n",
       "      <td>5.183340</td>\n",
       "      <td>6.408034</td>\n",
       "      <td>170.093615</td>\n",
       "      <td>68.629482</td>\n",
       "      <td>1.0</td>\n",
       "      <td>38.047023</td>\n",
       "    </tr>\n",
       "    <tr>\n",
       "      <th>std</th>\n",
       "      <td>170820.705702</td>\n",
       "      <td>0.499949</td>\n",
       "      <td>33.037826</td>\n",
       "      <td>5152.486022</td>\n",
       "      <td>3.429091e+06</td>\n",
       "      <td>744.726359</td>\n",
       "      <td>9.759031</td>\n",
       "      <td>9.758535</td>\n",
       "      <td>0.0</td>\n",
       "      <td>0.0</td>\n",
       "      <td>297.788599</td>\n",
       "      <td>299.394740</td>\n",
       "      <td>3.729206e+06</td>\n",
       "      <td>29.205278</td>\n",
       "      <td>0.398801</td>\n",
       "      <td>3.405503</td>\n",
       "      <td>37.195884</td>\n",
       "      <td>33.036558</td>\n",
       "      <td>0.0</td>\n",
       "      <td>25.317826</td>\n",
       "    </tr>\n",
       "    <tr>\n",
       "      <th>min</th>\n",
       "      <td>52.000000</td>\n",
       "      <td>2009.000000</td>\n",
       "      <td>1.000000</td>\n",
       "      <td>1.000000</td>\n",
       "      <td>1.012009e+06</td>\n",
       "      <td>0.000000</td>\n",
       "      <td>0.000000</td>\n",
       "      <td>1.000000</td>\n",
       "      <td>0.0</td>\n",
       "      <td>0.0</td>\n",
       "      <td>1.000000</td>\n",
       "      <td>1.000000</td>\n",
       "      <td>1.011900e+06</td>\n",
       "      <td>1.000000</td>\n",
       "      <td>3.000000</td>\n",
       "      <td>0.000000</td>\n",
       "      <td>1.000000</td>\n",
       "      <td>1.000000</td>\n",
       "      <td>1.0</td>\n",
       "      <td>6.000000</td>\n",
       "    </tr>\n",
       "    <tr>\n",
       "      <th>25%</th>\n",
       "      <td>147515.000000</td>\n",
       "      <td>2009.000000</td>\n",
       "      <td>42.000000</td>\n",
       "      <td>2002.000000</td>\n",
       "      <td>3.232009e+06</td>\n",
       "      <td>1000.000000</td>\n",
       "      <td>1.000000</td>\n",
       "      <td>3.000000</td>\n",
       "      <td>0.0</td>\n",
       "      <td>0.0</td>\n",
       "      <td>70.000000</td>\n",
       "      <td>66.000000</td>\n",
       "      <td>4.121982e+06</td>\n",
       "      <td>19.000000</td>\n",
       "      <td>5.000000</td>\n",
       "      <td>4.000000</td>\n",
       "      <td>150.000000</td>\n",
       "      <td>42.000000</td>\n",
       "      <td>1.0</td>\n",
       "      <td>20.000000</td>\n",
       "    </tr>\n",
       "    <tr>\n",
       "      <th>50%</th>\n",
       "      <td>296652.000000</td>\n",
       "      <td>2010.000000</td>\n",
       "      <td>73.000000</td>\n",
       "      <td>4366.000000</td>\n",
       "      <td>6.162010e+06</td>\n",
       "      <td>1605.000000</td>\n",
       "      <td>1.000000</td>\n",
       "      <td>5.000000</td>\n",
       "      <td>0.0</td>\n",
       "      <td>0.0</td>\n",
       "      <td>105.000000</td>\n",
       "      <td>103.000000</td>\n",
       "      <td>7.261982e+06</td>\n",
       "      <td>25.000000</td>\n",
       "      <td>5.000000</td>\n",
       "      <td>7.000000</td>\n",
       "      <td>170.000000</td>\n",
       "      <td>73.000000</td>\n",
       "      <td>1.0</td>\n",
       "      <td>28.000000</td>\n",
       "    </tr>\n",
       "    <tr>\n",
       "      <th>75%</th>\n",
       "      <td>443097.000000</td>\n",
       "      <td>2010.000000</td>\n",
       "      <td>102.000000</td>\n",
       "      <td>7840.000000</td>\n",
       "      <td>9.232009e+06</td>\n",
       "      <td>2035.000000</td>\n",
       "      <td>3.000000</td>\n",
       "      <td>5.000000</td>\n",
       "      <td>0.0</td>\n",
       "      <td>0.0</td>\n",
       "      <td>177.000000</td>\n",
       "      <td>176.000000</td>\n",
       "      <td>1.105199e+07</td>\n",
       "      <td>34.000000</td>\n",
       "      <td>5.000000</td>\n",
       "      <td>9.000000</td>\n",
       "      <td>180.000000</td>\n",
       "      <td>102.000000</td>\n",
       "      <td>1.0</td>\n",
       "      <td>46.000000</td>\n",
       "    </tr>\n",
       "    <tr>\n",
       "      <th>max</th>\n",
       "      <td>601281.000000</td>\n",
       "      <td>2010.000000</td>\n",
       "      <td>123.000000</td>\n",
       "      <td>31694.000000</td>\n",
       "      <td>1.231201e+07</td>\n",
       "      <td>2830.000000</td>\n",
       "      <td>926.000000</td>\n",
       "      <td>857.000000</td>\n",
       "      <td>0.0</td>\n",
       "      <td>0.0</td>\n",
       "      <td>879.000000</td>\n",
       "      <td>879.000000</td>\n",
       "      <td>1.231200e+07</td>\n",
       "      <td>999.000000</td>\n",
       "      <td>7.000000</td>\n",
       "      <td>11.000000</td>\n",
       "      <td>999.000000</td>\n",
       "      <td>123.000000</td>\n",
       "      <td>1.0</td>\n",
       "      <td>113.000000</td>\n",
       "    </tr>\n",
       "  </tbody>\n",
       "</table>\n",
       "</div>"
      ],
      "text/plain": [
       "          Unnamed: 0          year           pct       ser_num      datestop  \\\n",
       "count   11825.000000  11825.000000  11825.000000  11825.000000  1.182500e+04   \n",
       "mean   295983.814799   2009.508499     68.625624   5697.994334  6.364221e+06   \n",
       "std    170820.705702      0.499949     33.037826   5152.486022  3.429091e+06   \n",
       "min        52.000000   2009.000000      1.000000      1.000000  1.012009e+06   \n",
       "25%    147515.000000   2009.000000     42.000000   2002.000000  3.232009e+06   \n",
       "50%    296652.000000   2010.000000     73.000000   4366.000000  6.162010e+06   \n",
       "75%    443097.000000   2010.000000    102.000000   7840.000000  9.232009e+06   \n",
       "max    601281.000000   2010.000000    123.000000  31694.000000  1.231201e+07   \n",
       "\n",
       "           timestop        perobs       perstop  compyear  comppct  \\\n",
       "count  11825.000000  11825.000000  11825.000000   11825.0  11825.0   \n",
       "mean    1413.725497      2.654391      5.649556       0.0      0.0   \n",
       "std      744.726359      9.759031      9.758535       0.0      0.0   \n",
       "min        0.000000      0.000000      1.000000       0.0      0.0   \n",
       "25%     1000.000000      1.000000      3.000000       0.0      0.0   \n",
       "50%     1605.000000      1.000000      5.000000       0.0      0.0   \n",
       "75%     2035.000000      3.000000      5.000000       0.0      0.0   \n",
       "max     2830.000000    926.000000    857.000000       0.0      0.0   \n",
       "\n",
       "             repcmd        revcmd           dob           age       ht_feet  \\\n",
       "count  11825.000000  11825.000000  1.182500e+04  11825.000000  11825.000000   \n",
       "mean     243.354926    238.986385  7.316195e+06     28.968541      5.183340   \n",
       "std      297.788599    299.394740  3.729206e+06     29.205278      0.398801   \n",
       "min        1.000000      1.000000  1.011900e+06      1.000000      3.000000   \n",
       "25%       70.000000     66.000000  4.121982e+06     19.000000      5.000000   \n",
       "50%      105.000000    103.000000  7.261982e+06     25.000000      5.000000   \n",
       "75%      177.000000    176.000000  1.105199e+07     34.000000      5.000000   \n",
       "max      879.000000    879.000000  1.231200e+07    999.000000      7.000000   \n",
       "\n",
       "            ht_inch        weight       addrpct   linecm      detailcm  \n",
       "count  11825.000000  11825.000000  11824.000000  11824.0  11824.000000  \n",
       "mean       6.408034    170.093615     68.629482      1.0     38.047023  \n",
       "std        3.405503     37.195884     33.036558      0.0     25.317826  \n",
       "min        0.000000      1.000000      1.000000      1.0      6.000000  \n",
       "25%        4.000000    150.000000     42.000000      1.0     20.000000  \n",
       "50%        7.000000    170.000000     73.000000      1.0     28.000000  \n",
       "75%        9.000000    180.000000    102.000000      1.0     46.000000  \n",
       "max       11.000000    999.000000    123.000000      1.0    113.000000  "
      ]
     },
     "execution_count": 12,
     "metadata": {},
     "output_type": "execute_result"
    }
   ],
   "source": [
    "df_total.describe()"
   ]
  },
  {
   "attachments": {},
   "cell_type": "markdown",
   "metadata": {},
   "source": [
    "### 3. Preprocesamiento de datos  Habrá  notado  que  los  datos  parecen  tener  ciertas  inconsistencias.  Siga  los  siguientes pasos para limpiar este set: \n",
    "\n",
    "- 3.1 Obtenga una lista con todas las variables categoricas que tengan entre 2 y 99 categorías (inclusive). (hint: son las variables tipo categoricas\n"
   ]
  },
  {
   "cell_type": "code",
   "execution_count": 91,
   "metadata": {},
   "outputs": [],
   "source": [
    "variables_categoricas = df_total.select_dtypes(include=['object'])"
   ]
  },
  {
   "cell_type": "code",
   "execution_count": 126,
   "metadata": {},
   "outputs": [
    {
     "data": {
      "text/html": [
       "<div>\n",
       "<style scoped>\n",
       "    .dataframe tbody tr th:only-of-type {\n",
       "        vertical-align: middle;\n",
       "    }\n",
       "\n",
       "    .dataframe tbody tr th {\n",
       "        vertical-align: top;\n",
       "    }\n",
       "\n",
       "    .dataframe thead th {\n",
       "        text-align: right;\n",
       "    }\n",
       "</style>\n",
       "<table border=\"1\" class=\"dataframe\">\n",
       "  <thead>\n",
       "    <tr style=\"text-align: right;\">\n",
       "      <th></th>\n",
       "      <th>recstat</th>\n",
       "      <th>inout</th>\n",
       "      <th>trhsloc</th>\n",
       "      <th>crimsusp</th>\n",
       "      <th>typeofid</th>\n",
       "      <th>explnstp</th>\n",
       "      <th>othpers</th>\n",
       "      <th>arstmade</th>\n",
       "      <th>arstoffn</th>\n",
       "      <th>sumissue</th>\n",
       "      <th>...</th>\n",
       "      <th>aptnum</th>\n",
       "      <th>city</th>\n",
       "      <th>state</th>\n",
       "      <th>zip</th>\n",
       "      <th>sector</th>\n",
       "      <th>beat</th>\n",
       "      <th>post</th>\n",
       "      <th>xcoord</th>\n",
       "      <th>ycoord</th>\n",
       "      <th>dettypcm</th>\n",
       "    </tr>\n",
       "  </thead>\n",
       "  <tbody>\n",
       "    <tr>\n",
       "      <th>0</th>\n",
       "      <td>A</td>\n",
       "      <td>O</td>\n",
       "      <td>P</td>\n",
       "      <td>CPW</td>\n",
       "      <td>P</td>\n",
       "      <td>Y</td>\n",
       "      <td>N</td>\n",
       "      <td>N</td>\n",
       "      <td></td>\n",
       "      <td>N</td>\n",
       "      <td>...</td>\n",
       "      <td></td>\n",
       "      <td>BRONX</td>\n",
       "      <td></td>\n",
       "      <td></td>\n",
       "      <td>G</td>\n",
       "      <td>7</td>\n",
       "      <td></td>\n",
       "      <td>1013067</td>\n",
       "      <td>0238633</td>\n",
       "      <td>CM</td>\n",
       "    </tr>\n",
       "    <tr>\n",
       "      <th>1</th>\n",
       "      <td>A</td>\n",
       "      <td>O</td>\n",
       "      <td>P</td>\n",
       "      <td>BURG</td>\n",
       "      <td>P</td>\n",
       "      <td>Y</td>\n",
       "      <td>Y</td>\n",
       "      <td>N</td>\n",
       "      <td></td>\n",
       "      <td>N</td>\n",
       "      <td>...</td>\n",
       "      <td></td>\n",
       "      <td>QUEENS</td>\n",
       "      <td></td>\n",
       "      <td></td>\n",
       "      <td>J</td>\n",
       "      <td></td>\n",
       "      <td></td>\n",
       "      <td>1012043</td>\n",
       "      <td>0212157</td>\n",
       "      <td>CM</td>\n",
       "    </tr>\n",
       "    <tr>\n",
       "      <th>2</th>\n",
       "      <td>1</td>\n",
       "      <td>O</td>\n",
       "      <td>P</td>\n",
       "      <td>MISD</td>\n",
       "      <td>V</td>\n",
       "      <td>Y</td>\n",
       "      <td>N</td>\n",
       "      <td>N</td>\n",
       "      <td></td>\n",
       "      <td>N</td>\n",
       "      <td>...</td>\n",
       "      <td></td>\n",
       "      <td>BRONX</td>\n",
       "      <td></td>\n",
       "      <td></td>\n",
       "      <td>E</td>\n",
       "      <td></td>\n",
       "      <td></td>\n",
       "      <td>1017599</td>\n",
       "      <td>0240200</td>\n",
       "      <td>CM</td>\n",
       "    </tr>\n",
       "    <tr>\n",
       "      <th>3</th>\n",
       "      <td>A</td>\n",
       "      <td>O</td>\n",
       "      <td>P</td>\n",
       "      <td>MIS</td>\n",
       "      <td>P</td>\n",
       "      <td>Y</td>\n",
       "      <td>N</td>\n",
       "      <td>N</td>\n",
       "      <td></td>\n",
       "      <td>N</td>\n",
       "      <td>...</td>\n",
       "      <td></td>\n",
       "      <td>BROOKLYN</td>\n",
       "      <td></td>\n",
       "      <td></td>\n",
       "      <td>J</td>\n",
       "      <td>4</td>\n",
       "      <td>35</td>\n",
       "      <td>1002625</td>\n",
       "      <td>0183442</td>\n",
       "      <td>CM</td>\n",
       "    </tr>\n",
       "    <tr>\n",
       "      <th>4</th>\n",
       "      <td>A</td>\n",
       "      <td>O</td>\n",
       "      <td>P</td>\n",
       "      <td>CPW</td>\n",
       "      <td>P</td>\n",
       "      <td>Y</td>\n",
       "      <td>Y</td>\n",
       "      <td>N</td>\n",
       "      <td></td>\n",
       "      <td>N</td>\n",
       "      <td>...</td>\n",
       "      <td></td>\n",
       "      <td>QUEENS</td>\n",
       "      <td></td>\n",
       "      <td></td>\n",
       "      <td>H</td>\n",
       "      <td></td>\n",
       "      <td></td>\n",
       "      <td>1024535</td>\n",
       "      <td>0209890</td>\n",
       "      <td>CM</td>\n",
       "    </tr>\n",
       "    <tr>\n",
       "      <th>...</th>\n",
       "      <td>...</td>\n",
       "      <td>...</td>\n",
       "      <td>...</td>\n",
       "      <td>...</td>\n",
       "      <td>...</td>\n",
       "      <td>...</td>\n",
       "      <td>...</td>\n",
       "      <td>...</td>\n",
       "      <td>...</td>\n",
       "      <td>...</td>\n",
       "      <td>...</td>\n",
       "      <td>...</td>\n",
       "      <td>...</td>\n",
       "      <td>...</td>\n",
       "      <td>...</td>\n",
       "      <td>...</td>\n",
       "      <td>...</td>\n",
       "      <td>...</td>\n",
       "      <td>...</td>\n",
       "      <td>...</td>\n",
       "      <td>...</td>\n",
       "    </tr>\n",
       "    <tr>\n",
       "      <th>11820</th>\n",
       "      <td>1</td>\n",
       "      <td>O</td>\n",
       "      <td>H</td>\n",
       "      <td>MISD</td>\n",
       "      <td>P</td>\n",
       "      <td>Y</td>\n",
       "      <td>N</td>\n",
       "      <td>N</td>\n",
       "      <td></td>\n",
       "      <td>N</td>\n",
       "      <td>...</td>\n",
       "      <td></td>\n",
       "      <td>BROOKLYN</td>\n",
       "      <td></td>\n",
       "      <td></td>\n",
       "      <td>I</td>\n",
       "      <td></td>\n",
       "      <td></td>\n",
       "      <td>989382</td>\n",
       "      <td>155162</td>\n",
       "      <td>CM</td>\n",
       "    </tr>\n",
       "    <tr>\n",
       "      <th>11821</th>\n",
       "      <td>A</td>\n",
       "      <td>O</td>\n",
       "      <td>P</td>\n",
       "      <td>ROBBERY</td>\n",
       "      <td>R</td>\n",
       "      <td>Y</td>\n",
       "      <td>N</td>\n",
       "      <td>N</td>\n",
       "      <td></td>\n",
       "      <td>N</td>\n",
       "      <td>...</td>\n",
       "      <td></td>\n",
       "      <td>BROOKLYN</td>\n",
       "      <td></td>\n",
       "      <td></td>\n",
       "      <td>A</td>\n",
       "      <td></td>\n",
       "      <td></td>\n",
       "      <td>1012757</td>\n",
       "      <td>186018</td>\n",
       "      <td>CM</td>\n",
       "    </tr>\n",
       "    <tr>\n",
       "      <th>11822</th>\n",
       "      <td>A</td>\n",
       "      <td>O</td>\n",
       "      <td>P</td>\n",
       "      <td>GLA</td>\n",
       "      <td>P</td>\n",
       "      <td>Y</td>\n",
       "      <td>N</td>\n",
       "      <td>N</td>\n",
       "      <td></td>\n",
       "      <td>Y</td>\n",
       "      <td>...</td>\n",
       "      <td></td>\n",
       "      <td>STATEN IS</td>\n",
       "      <td></td>\n",
       "      <td></td>\n",
       "      <td>E</td>\n",
       "      <td></td>\n",
       "      <td></td>\n",
       "      <td>933868</td>\n",
       "      <td>138600</td>\n",
       "      <td>CM</td>\n",
       "    </tr>\n",
       "    <tr>\n",
       "      <th>11823</th>\n",
       "      <td>1</td>\n",
       "      <td>O</td>\n",
       "      <td>P</td>\n",
       "      <td>FELONY</td>\n",
       "      <td>P</td>\n",
       "      <td>Y</td>\n",
       "      <td>N</td>\n",
       "      <td>N</td>\n",
       "      <td></td>\n",
       "      <td>N</td>\n",
       "      <td>...</td>\n",
       "      <td></td>\n",
       "      <td>QUEENS</td>\n",
       "      <td></td>\n",
       "      <td></td>\n",
       "      <td>E</td>\n",
       "      <td></td>\n",
       "      <td></td>\n",
       "      <td>1014722</td>\n",
       "      <td>214388</td>\n",
       "      <td>CM</td>\n",
       "    </tr>\n",
       "    <tr>\n",
       "      <th>11824</th>\n",
       "      <td>1</td>\n",
       "      <td>I</td>\n",
       "      <td>T</td>\n",
       "      <td>CRIM MIS.</td>\n",
       "      <td>P</td>\n",
       "      <td>Y</td>\n",
       "      <td>N</td>\n",
       "      <td>N</td>\n",
       "      <td></td>\n",
       "      <td>N</td>\n",
       "      <td>...</td>\n",
       "      <td></td>\n",
       "      <td>MANHATTAN</td>\n",
       "      <td></td>\n",
       "      <td></td>\n",
       "      <td>H</td>\n",
       "      <td>11</td>\n",
       "      <td></td>\n",
       "      <td>987078</td>\n",
       "      <td>215157</td>\n",
       "      <td>CM</td>\n",
       "    </tr>\n",
       "  </tbody>\n",
       "</table>\n",
       "<p>11825 rows × 92 columns</p>\n",
       "</div>"
      ],
      "text/plain": [
       "      recstat inout trhsloc   crimsusp typeofid explnstp othpers arstmade   \n",
       "0           A     O       P        CPW        P        Y       N        N  \\\n",
       "1           A     O       P       BURG        P        Y       Y        N   \n",
       "2           1     O       P       MISD        V        Y       N        N   \n",
       "3           A     O       P        MIS        P        Y       N        N   \n",
       "4           A     O       P        CPW        P        Y       Y        N   \n",
       "...       ...   ...     ...        ...      ...      ...     ...      ...   \n",
       "11820       1     O       H       MISD        P        Y       N        N   \n",
       "11821       A     O       P    ROBBERY        R        Y       N        N   \n",
       "11822       A     O       P        GLA        P        Y       N        N   \n",
       "11823       1     O       P     FELONY        P        Y       N        N   \n",
       "11824       1     I       T  CRIM MIS.        P        Y       N        N   \n",
       "\n",
       "      arstoffn sumissue  ... aptnum       city state zip sector beat post   \n",
       "0                     N  ...             BRONX                G    7       \\\n",
       "1                     N  ...            QUEENS                J             \n",
       "2                     N  ...             BRONX                E             \n",
       "3                     N  ...          BROOKLYN                J    4   35   \n",
       "4                     N  ...            QUEENS                H             \n",
       "...        ...      ...  ...    ...        ...   ...  ..    ...  ...  ...   \n",
       "11820                 N  ...          BROOKLYN                I             \n",
       "11821                 N  ...          BROOKLYN                A             \n",
       "11822                 Y  ...         STATEN IS                E             \n",
       "11823                 N  ...            QUEENS                E             \n",
       "11824                 N  ...         MANHATTAN                H   11        \n",
       "\n",
       "        xcoord   ycoord dettypcm  \n",
       "0      1013067  0238633       CM  \n",
       "1      1012043  0212157       CM  \n",
       "2      1017599  0240200       CM  \n",
       "3      1002625  0183442       CM  \n",
       "4      1024535  0209890       CM  \n",
       "...        ...      ...      ...  \n",
       "11820   989382   155162       CM  \n",
       "11821  1012757   186018       CM  \n",
       "11822   933868   138600       CM  \n",
       "11823  1014722   214388       CM  \n",
       "11824   987078   215157       CM  \n",
       "\n",
       "[11825 rows x 92 columns]"
      ]
     },
     "execution_count": 126,
     "metadata": {},
     "output_type": "execute_result"
    }
   ],
   "source": [
    "variables_categoricas"
   ]
  },
  {
   "cell_type": "code",
   "execution_count": 143,
   "metadata": {},
   "outputs": [],
   "source": [
    "condicion = lambda x: (len(x.value_counts()) >= 2 and len(x.value_counts()) <= 99)\n",
    "var_categoricas = variables_categoricas.apply(condicion)"
   ]
  },
  {
   "cell_type": "code",
   "execution_count": 144,
   "metadata": {},
   "outputs": [
    {
     "data": {
      "text/plain": [
       "recstat     True\n",
       "inout       True\n",
       "trhsloc     True\n",
       "typeofid    True\n",
       "explnstp    True\n",
       "            ... \n",
       "addrtyp     True\n",
       "city        True\n",
       "sector      True\n",
       "beat        True\n",
       "dettypcm    True\n",
       "Length: 73, dtype: bool"
      ]
     },
     "execution_count": 144,
     "metadata": {},
     "output_type": "execute_result"
    }
   ],
   "source": [
    "var_categoricas[var_categoricas]"
   ]
  },
  {
   "attachments": {},
   "cell_type": "markdown",
   "metadata": {},
   "source": [
    "#### 3.2 Reemplaze las siguientes clases faltantes: \n",
    "\n",
    "- Si  alguna  categoría  de  las  columnas  officrid,  offshld  o  offverb  es  igual  a  \"\" cambielo a 'N' y en caso contrario dejelo como 'Y'"
   ]
  },
  {
   "cell_type": "code",
   "execution_count": 31,
   "metadata": {},
   "outputs": [],
   "source": [
    "for i in [\"offshld\",\"offverb\",\"officrid\"]:\n",
    "    df_total[i].replace(df_total['offshld'].value_counts().index[0],\"N\",inplace=True)\n",
    "    df_total[i].replace(df_total['offshld'].value_counts().index[1],\"Y\",inplace=True)"
   ]
  },
  {
   "attachments": {},
   "cell_type": "markdown",
   "metadata": {},
   "source": [
    "- Si alguna categoría de las columnas sector, trhsloc o beat es igual a \"\" (o NA, dependiendo de como haya catgado la base de datos), cambielo a 'U' y en caso contrario mantenga su valor Nota, los valores significan {N: No, Y: Yes, U: Unknown}"
   ]
  },
  {
   "cell_type": "code",
   "execution_count": 41,
   "metadata": {},
   "outputs": [],
   "source": [
    "for i in [\"sector\",\"trhsloc\",\"beat\"]:\n",
    "    df_total[i].replace(\" \",\"U\",inplace=True)"
   ]
  },
  {
   "attachments": {},
   "cell_type": "markdown",
   "metadata": {},
   "source": [
    "#### 3.3  Transforme  las  columnas  ht_feet  junto  con  ht_inchen  una  única  columna (de la forma \"ht_feet.ht_inch\") llamado 'meters' (hint: transforme con el siguiente cálculo: metros = (pies+pulgadas)*0.3048)"
   ]
  },
  {
   "cell_type": "code",
   "execution_count": 51,
   "metadata": {},
   "outputs": [],
   "source": [
    "df_total[\"meters\"] = round((df_total[\"ht_feet\"]+df_total[\"ht_inch\"])*0.3048,4)"
   ]
  },
  {
   "cell_type": "code",
   "execution_count": 52,
   "metadata": {},
   "outputs": [],
   "source": [
    "del df_total[\"ht_inch\"]"
   ]
  },
  {
   "cell_type": "code",
   "execution_count": 53,
   "metadata": {},
   "outputs": [],
   "source": [
    "del df_total[\"ht_feet\"]"
   ]
  },
  {
   "attachments": {},
   "cell_type": "markdown",
   "metadata": {},
   "source": [
    "#### 3.4  Note  que  la  fecha  viene  en  un  formato  MMDDAAAA  en  la  columna  datestop.  Genere  2  nuevas  columnas  llamadas  month  y  year  que  solo  tenga el mes y el año respectivamente"
   ]
  },
  {
   "cell_type": "code",
   "execution_count": 79,
   "metadata": {},
   "outputs": [],
   "source": [
    "df_total[\"month\"] = df_total[\"datestop\"]//1000000"
   ]
  },
  {
   "cell_type": "code",
   "execution_count": 78,
   "metadata": {},
   "outputs": [],
   "source": [
    "df_total[\"year\"] = df_total[\"datestop\"]%10000"
   ]
  },
  {
   "attachments": {},
   "cell_type": "markdown",
   "metadata": {},
   "source": [
    "#### 3.5 Filtre su DataFrame y solo deje las columnas seleccionadas en el punto 3.1, el mes, el año, los metros y la edad. Luego solo deje los registros cuyas edades esten entre 18 y 100 años, ambos inclusive."
   ]
  },
  {
   "cell_type": "code",
   "execution_count": 80,
   "metadata": {},
   "outputs": [],
   "source": [
    "del df_total[\"datestop\"]"
   ]
  },
  {
   "cell_type": "code",
   "execution_count": null,
   "metadata": {},
   "outputs": [],
   "source": [
    "del df_total[\"Unnamed: 0\"]"
   ]
  },
  {
   "attachments": {},
   "cell_type": "markdown",
   "metadata": {},
   "source": [
    "### 4.- Análisis exploratorio \n",
    "#### 4.1 Estudie la variable respuesta por si sola (arstmade), puede ayudarse de un gráfico. Comente"
   ]
  },
  {
   "cell_type": "code",
   "execution_count": 86,
   "metadata": {},
   "outputs": [
    {
     "data": {
      "text/plain": [
       "N    11077\n",
       "Y      748\n",
       "Name: arstmade, dtype: int64"
      ]
     },
     "execution_count": 86,
     "metadata": {},
     "output_type": "execute_result"
    }
   ],
   "source": [
    "df_total[\"arstmade\"].value_counts()"
   ]
  },
  {
   "cell_type": "code",
   "execution_count": 88,
   "metadata": {},
   "outputs": [
    {
     "data": {
      "text/plain": [
       "<AxesSubplot:xlabel='arstmade', ylabel='count'>"
      ]
     },
     "execution_count": 88,
     "metadata": {},
     "output_type": "execute_result"
    },
    {
     "data": {
      "image/png": "[encoded data removed]",
      "text/plain": [
       "<Figure size 432x288 with 1 Axes>"
      ]
     },
     "metadata": {
      "needs_background": "light"
     },
     "output_type": "display_data"
    }
   ],
   "source": [
    "sns.countplot(x=df_total[\"arstmade\"])"
   ]
  },
  {
   "attachments": {},
   "cell_type": "markdown",
   "metadata": {},
   "source": [
    "#### 4.2.- Estudie la relación de la variable respuesta en comportamiento con la raza (race), comente."
   ]
  },
  {
   "cell_type": "code",
   "execution_count": 101,
   "metadata": {},
   "outputs": [
    {
     "data": {
      "text/plain": [
       "<AxesSubplot:xlabel='arstmade', ylabel='count'>"
      ]
     },
     "execution_count": 101,
     "metadata": {},
     "output_type": "execute_result"
    },
    {
     "data": {
      "image/png": "[encoded data removed]",
      "text/plain": [
       "<Figure size 1440x720 with 1 Axes>"
      ]
     },
     "metadata": {
      "needs_background": "light"
     },
     "output_type": "display_data"
    }
   ],
   "source": [
    "fig, axs = plt.subplots(figsize=(20,10))\n",
    "\n",
    "sns.countplot(\n",
    "    x=\"arstmade\",\n",
    "    data=df_total,\n",
    "    hue=\"race\",\n",
    "    palette=\"colorblind\"\n",
    ")"
   ]
  },
  {
   "attachments": {},
   "cell_type": "markdown",
   "metadata": {},
   "source": [
    "#### 4.3 Estudie la relación de la variable respuesta en comportamiento con la sexo (sex), comente."
   ]
  },
  {
   "cell_type": "code",
   "execution_count": 102,
   "metadata": {},
   "outputs": [
    {
     "data": {
      "text/plain": [
       "<AxesSubplot:xlabel='arstmade', ylabel='count'>"
      ]
     },
     "execution_count": 102,
     "metadata": {},
     "output_type": "execute_result"
    },
    {
     "data": {
      "image/png": "[encoded data removed]",
      "text/plain": [
       "<Figure size 1440x720 with 1 Axes>"
      ]
     },
     "metadata": {
      "needs_background": "light"
     },
     "output_type": "display_data"
    }
   ],
   "source": [
    "fig, axs = plt.subplots(figsize=(20,10))\n",
    "\n",
    "sns.countplot(\n",
    "    x=\"arstmade\",\n",
    "    data=df_total,\n",
    "    hue=\"sex\",\n",
    "    palette=\"colorblind\"\n",
    ")"
   ]
  },
  {
   "attachments": {},
   "cell_type": "markdown",
   "metadata": {},
   "source": [
    "#### 4.4 Recodifique la variable respuesta a 1 y 0. Donde 0 es N y 1 es Y"
   ]
  },
  {
   "cell_type": "code",
   "execution_count": 103,
   "metadata": {},
   "outputs": [],
   "source": [
    "df_total[\"arstmade\"].replace(\"N\",0,inplace=True)\n",
    "df_total[\"arstmade\"].replace(\"Y\",1,inplace=True)"
   ]
  },
  {
   "attachments": {},
   "cell_type": "markdown",
   "metadata": {},
   "source": [
    "#### 4.5   Muestre   en   un   gráfico   la   probabilidad   que   un   individuo   sea   arrestado,condicional al género y a la raza. ¿qué implicancias éticas tienen algunas conclusiones de lo que observa?"
   ]
  },
  {
   "cell_type": "code",
   "execution_count": 119,
   "metadata": {},
   "outputs": [
    {
     "data": {
      "text/plain": [
       "race  sex  arstmade\n",
       "A     F    0           0.931034\n",
       "           1           0.068966\n",
       "      M    0           0.934132\n",
       "           1           0.065868\n",
       "      Z    0           1.000000\n",
       "B     F    0           0.877285\n",
       "           1           0.122715\n",
       "      M    0           0.941186\n",
       "           1           0.058814\n",
       "      Z    0           1.000000\n",
       "I     F    0           1.000000\n",
       "      M    0           0.979167\n",
       "           1           0.020833\n",
       "P     F    0           0.900000\n",
       "           1           0.100000\n",
       "      M    0           0.938871\n",
       "           1           0.061129\n",
       "      Z    0           1.000000\n",
       "Q     F    0           0.931217\n",
       "           1           0.068783\n",
       "      M    0           0.936303\n",
       "           1           0.063697\n",
       "      Z    0           0.882353\n",
       "           1           0.117647\n",
       "U     F    0           1.000000\n",
       "      M    0           0.968254\n",
       "           1           0.031746\n",
       "      Z    0           0.875000\n",
       "           1           0.125000\n",
       "W     F    0           0.915966\n",
       "           1           0.084034\n",
       "      M    0           0.931590\n",
       "           1           0.068410\n",
       "      Z    0           1.000000\n",
       "Z     F    0           1.000000\n",
       "      M    0           0.926380\n",
       "           1           0.073620\n",
       "      Z    0           0.954545\n",
       "           1           0.045455\n",
       "Name: arstmade, dtype: float64"
      ]
     },
     "execution_count": 119,
     "metadata": {},
     "output_type": "execute_result"
    }
   ],
   "source": [
    "df_total.groupby([\"race\",\"sex\"])[\"arstmade\"].value_counts(\"%\")"
   ]
  }
 ],
 "metadata": {
  "kernelspec": {
   "display_name": "Python 3",
   "language": "python",
   "name": "python3"
  },
  "language_info": {
   "codemirror_mode": {
    "name": "ipython",
    "version": 3
   },
   "file_extension": ".py",
   "mimetype": "text/x-python",
   "name": "python",
   "nbconvert_exporter": "python",
   "pygments_lexer": "ipython3",
   "version": "3.9.7"
  },
  "orig_nbformat": 4
 },
 "nbformat": 4,
 "nbformat_minor": 2
}
