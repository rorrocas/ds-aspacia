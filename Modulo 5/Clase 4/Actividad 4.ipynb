{
 "cells": [
  {
   "attachments": {},
   "cell_type": "markdown",
   "metadata": {},
   "source": [
    "## Actividad 4"
   ]
  },
  {
   "attachments": {},
   "cell_type": "markdown",
   "metadata": {},
   "source": [
    "**1.  Cargue  los  datos  y  revise  los  formatos  de  cada  variable,  recuerde codificar las variables como numéricas o factores según corresponda.**"
   ]
  },
  {
   "cell_type": "code",
   "execution_count": 1,
   "metadata": {},
   "outputs": [],
   "source": [
    "import numpy as np\n",
    "import pandas as pd"
   ]
  },
  {
   "cell_type": "code",
   "execution_count": 2,
   "metadata": {},
   "outputs": [
    {
     "data": {
      "text/html": [
       "<div>\n",
       "<style scoped>\n",
       "    .dataframe tbody tr th:only-of-type {\n",
       "        vertical-align: middle;\n",
       "    }\n",
       "\n",
       "    .dataframe tbody tr th {\n",
       "        vertical-align: top;\n",
       "    }\n",
       "\n",
       "    .dataframe thead th {\n",
       "        text-align: right;\n",
       "    }\n",
       "</style>\n",
       "<table border=\"1\" class=\"dataframe\">\n",
       "  <thead>\n",
       "    <tr style=\"text-align: right;\">\n",
       "      <th></th>\n",
       "      <th>Estado</th>\n",
       "      <th>Edad</th>\n",
       "      <th>Ratio.Pago</th>\n",
       "      <th>Salario</th>\n",
       "      <th>Dias.trabajados</th>\n",
       "      <th>Ausencias</th>\n",
       "      <th>Sexo</th>\n",
       "      <th>Estado.Civil</th>\n",
       "      <th>Departamento</th>\n",
       "      <th>Posicion</th>\n",
       "      <th>Desempeño</th>\n",
       "    </tr>\n",
       "  </thead>\n",
       "  <tbody>\n",
       "    <tr>\n",
       "      <th>305</th>\n",
       "      <td>0</td>\n",
       "      <td>48.0</td>\n",
       "      <td>52.25</td>\n",
       "      <td>4029.733333</td>\n",
       "      <td>289</td>\n",
       "      <td>14</td>\n",
       "      <td>Male</td>\n",
       "      <td>4</td>\n",
       "      <td>IT/IS</td>\n",
       "      <td>Senior BI Developer</td>\n",
       "      <td>Fully Meets</td>\n",
       "    </tr>\n",
       "  </tbody>\n",
       "</table>\n",
       "</div>"
      ],
      "text/plain": [
       "     Estado  Edad  Ratio.Pago      Salario  Dias.trabajados  Ausencias  Sexo  \\\n",
       "305       0  48.0       52.25  4029.733333              289         14  Male   \n",
       "\n",
       "     Estado.Civil Departamento             Posicion    Desempeño  \n",
       "305             4        IT/IS  Senior BI Developer  Fully Meets  "
      ]
     },
     "execution_count": 2,
     "metadata": {},
     "output_type": "execute_result"
    }
   ],
   "source": [
    "df = pd.read_csv('ABAC.csv')\n",
    "df.sample()"
   ]
  },
  {
   "attachments": {},
   "cell_type": "markdown",
   "metadata": {},
   "source": [
    "**2.  Realice  un  análisis  descriptivo  de  sus  datos.  Determinar  si  existen observaciones  faltantes,  en  el  caso  de  existir  tome  la  decisión  de omitirlas  del  estudio  u  omitir  la  variable.  Evalúe  si  existen  posibles incongruencias en la fuente de datos (ej: edades negativas). Y finalmente  análice  la  presencia  de  valores  atípicos  en  las variables.  Comente.**"
   ]
  },
  {
   "cell_type": "code",
   "execution_count": 3,
   "metadata": {},
   "outputs": [
    {
     "data": {
      "text/plain": [
       "(310, 11)"
      ]
     },
     "execution_count": 3,
     "metadata": {},
     "output_type": "execute_result"
    }
   ],
   "source": [
    "df.shape"
   ]
  },
  {
   "cell_type": "code",
   "execution_count": 4,
   "metadata": {},
   "outputs": [
    {
     "name": "stdout",
     "output_type": "stream",
     "text": [
      "<class 'pandas.core.frame.DataFrame'>\n",
      "RangeIndex: 310 entries, 0 to 309\n",
      "Data columns (total 11 columns):\n",
      " #   Column           Non-Null Count  Dtype  \n",
      "---  ------           --------------  -----  \n",
      " 0   Estado           310 non-null    int64  \n",
      " 1   Edad             310 non-null    float64\n",
      " 2   Ratio.Pago       310 non-null    float64\n",
      " 3   Salario          310 non-null    float64\n",
      " 4   Dias.trabajados  310 non-null    int64  \n",
      " 5   Ausencias        310 non-null    int64  \n",
      " 6   Sexo             310 non-null    object \n",
      " 7   Estado.Civil     310 non-null    int64  \n",
      " 8   Departamento     310 non-null    object \n",
      " 9   Posicion         310 non-null    object \n",
      " 10  Desempeño        310 non-null    object \n",
      "dtypes: float64(3), int64(4), object(4)\n",
      "memory usage: 26.8+ KB\n"
     ]
    }
   ],
   "source": [
    "df.info()"
   ]
  },
  {
   "cell_type": "code",
   "execution_count": 5,
   "metadata": {},
   "outputs": [
    {
     "data": {
      "text/html": [
       "<div>\n",
       "<style scoped>\n",
       "    .dataframe tbody tr th:only-of-type {\n",
       "        vertical-align: middle;\n",
       "    }\n",
       "\n",
       "    .dataframe tbody tr th {\n",
       "        vertical-align: top;\n",
       "    }\n",
       "\n",
       "    .dataframe thead th {\n",
       "        text-align: right;\n",
       "    }\n",
       "</style>\n",
       "<table border=\"1\" class=\"dataframe\">\n",
       "  <thead>\n",
       "    <tr style=\"text-align: right;\">\n",
       "      <th></th>\n",
       "      <th>Estado</th>\n",
       "      <th>Edad</th>\n",
       "      <th>Ratio.Pago</th>\n",
       "      <th>Salario</th>\n",
       "      <th>Dias.trabajados</th>\n",
       "      <th>Ausencias</th>\n",
       "      <th>Estado.Civil</th>\n",
       "    </tr>\n",
       "  </thead>\n",
       "  <tbody>\n",
       "    <tr>\n",
       "      <th>count</th>\n",
       "      <td>310.000000</td>\n",
       "      <td>310.000000</td>\n",
       "      <td>310.000000</td>\n",
       "      <td>310.000000</td>\n",
       "      <td>310.000000</td>\n",
       "      <td>310.000000</td>\n",
       "      <td>310.000000</td>\n",
       "    </tr>\n",
       "    <tr>\n",
       "      <th>mean</th>\n",
       "      <td>0.409677</td>\n",
       "      <td>38.867742</td>\n",
       "      <td>31.284806</td>\n",
       "      <td>4606.534839</td>\n",
       "      <td>1296.080645</td>\n",
       "      <td>10.264516</td>\n",
       "      <td>2.903226</td>\n",
       "    </tr>\n",
       "    <tr>\n",
       "      <th>std</th>\n",
       "      <td>0.492569</td>\n",
       "      <td>8.922459</td>\n",
       "      <td>15.383615</td>\n",
       "      <td>1677.350176</td>\n",
       "      <td>769.491382</td>\n",
       "      <td>5.843235</td>\n",
       "      <td>1.150625</td>\n",
       "    </tr>\n",
       "    <tr>\n",
       "      <th>min</th>\n",
       "      <td>0.000000</td>\n",
       "      <td>25.000000</td>\n",
       "      <td>14.000000</td>\n",
       "      <td>3004.600000</td>\n",
       "      <td>2.000000</td>\n",
       "      <td>1.000000</td>\n",
       "      <td>1.000000</td>\n",
       "    </tr>\n",
       "    <tr>\n",
       "      <th>25%</th>\n",
       "      <td>0.000000</td>\n",
       "      <td>32.000000</td>\n",
       "      <td>20.000000</td>\n",
       "      <td>3707.033333</td>\n",
       "      <td>766.250000</td>\n",
       "      <td>5.000000</td>\n",
       "      <td>2.000000</td>\n",
       "    </tr>\n",
       "    <tr>\n",
       "      <th>50%</th>\n",
       "      <td>0.000000</td>\n",
       "      <td>37.000000</td>\n",
       "      <td>24.000000</td>\n",
       "      <td>4190.666667</td>\n",
       "      <td>1238.000000</td>\n",
       "      <td>10.000000</td>\n",
       "      <td>3.000000</td>\n",
       "    </tr>\n",
       "    <tr>\n",
       "      <th>75%</th>\n",
       "      <td>1.000000</td>\n",
       "      <td>44.000000</td>\n",
       "      <td>45.315000</td>\n",
       "      <td>4804.733333</td>\n",
       "      <td>1732.750000</td>\n",
       "      <td>15.000000</td>\n",
       "      <td>4.000000</td>\n",
       "    </tr>\n",
       "    <tr>\n",
       "      <th>max</th>\n",
       "      <td>1.000000</td>\n",
       "      <td>67.000000</td>\n",
       "      <td>80.000000</td>\n",
       "      <td>16666.666667</td>\n",
       "      <td>4339.000000</td>\n",
       "      <td>20.000000</td>\n",
       "      <td>5.000000</td>\n",
       "    </tr>\n",
       "  </tbody>\n",
       "</table>\n",
       "</div>"
      ],
      "text/plain": [
       "           Estado        Edad  Ratio.Pago       Salario  Dias.trabajados  \\\n",
       "count  310.000000  310.000000  310.000000    310.000000       310.000000   \n",
       "mean     0.409677   38.867742   31.284806   4606.534839      1296.080645   \n",
       "std      0.492569    8.922459   15.383615   1677.350176       769.491382   \n",
       "min      0.000000   25.000000   14.000000   3004.600000         2.000000   \n",
       "25%      0.000000   32.000000   20.000000   3707.033333       766.250000   \n",
       "50%      0.000000   37.000000   24.000000   4190.666667      1238.000000   \n",
       "75%      1.000000   44.000000   45.315000   4804.733333      1732.750000   \n",
       "max      1.000000   67.000000   80.000000  16666.666667      4339.000000   \n",
       "\n",
       "        Ausencias  Estado.Civil  \n",
       "count  310.000000    310.000000  \n",
       "mean    10.264516      2.903226  \n",
       "std      5.843235      1.150625  \n",
       "min      1.000000      1.000000  \n",
       "25%      5.000000      2.000000  \n",
       "50%     10.000000      3.000000  \n",
       "75%     15.000000      4.000000  \n",
       "max     20.000000      5.000000  "
      ]
     },
     "execution_count": 5,
     "metadata": {},
     "output_type": "execute_result"
    }
   ],
   "source": [
    "df.describe()"
   ]
  },
  {
   "cell_type": "code",
   "execution_count": 6,
   "metadata": {},
   "outputs": [
    {
     "name": "stdout",
     "output_type": "stream",
     "text": [
      "Sexo \n",
      " Female    177\n",
      "Male      133\n",
      "Name: Sexo, dtype: int64 \n",
      "\n",
      "Departamento \n",
      " Production              208\n",
      "IT/IS                    50\n",
      "Sales                    31\n",
      "Admin Offices            10\n",
      "Software Engineering     10\n",
      "Executive Office          1\n",
      "Name: Departamento, dtype: int64 \n",
      "\n",
      "Estado.Civil \n",
      " 4    137\n",
      "2    123\n",
      "1     30\n",
      "3     12\n",
      "5      8\n",
      "Name: Estado.Civil, dtype: int64 \n",
      "\n"
     ]
    }
   ],
   "source": [
    "for i in ['Sexo','Departamento','Estado.Civil']:\n",
    "    print(i,'\\n', df[i].value_counts(),'\\n')"
   ]
  },
  {
   "attachments": {},
   "cell_type": "markdown",
   "metadata": {},
   "source": [
    "Observamos que no existen datos nulos, los valores maximos y minimos no parecen ser anomalos, podemos notar como existen datos de empleados recien contratados (2 dias de dias trabajados)"
   ]
  },
  {
   "attachments": {},
   "cell_type": "markdown",
   "metadata": {},
   "source": [
    "**3.  Realice  análisis  de  cómo  se  relacionan  las  variables continuas con  la variable de interés. Acompañe con gráficos y estadísticas. ¿Qué variables pudieran resultar significativas a la hora de modelar la probabilidad de que el trabajador sea desvinculado a la empresa?**"
   ]
  },
  {
   "cell_type": "code",
   "execution_count": 7,
   "metadata": {},
   "outputs": [],
   "source": [
    "import matplotlib.pyplot as plt\n",
    "import seaborn as sns"
   ]
  },
  {
   "cell_type": "code",
   "execution_count": 8,
   "metadata": {},
   "outputs": [
    {
     "data": {
      "text/plain": [
       "Index(['Estado', 'Edad', 'Ratio.Pago', 'Salario', 'Dias.trabajados',\n",
       "       'Ausencias', 'Sexo', 'Estado.Civil', 'Departamento', 'Posicion',\n",
       "       'Desempeño'],\n",
       "      dtype='object')"
      ]
     },
     "execution_count": 8,
     "metadata": {},
     "output_type": "execute_result"
    }
   ],
   "source": [
    "df.columns"
   ]
  },
  {
   "cell_type": "code",
   "execution_count": 9,
   "metadata": {},
   "outputs": [
    {
     "data": {
      "text/plain": [
       "Fully Meets                 181\n",
       "N/A- too early to review     37\n",
       "90-day meets                 31\n",
       "Exceeds                      28\n",
       "Needs Improvement            15\n",
       "Exceptional                   9\n",
       "PIP                           9\n",
       "Name: Desempeño, dtype: int64"
      ]
     },
     "execution_count": 9,
     "metadata": {},
     "output_type": "execute_result"
    }
   ],
   "source": [
    "df['Desempeño'].value_counts()"
   ]
  },
  {
   "cell_type": "code",
   "execution_count": 10,
   "metadata": {},
   "outputs": [
    {
     "data": {
      "text/plain": [
       "<AxesSubplot:xlabel='Estado', ylabel='Salario'>"
      ]
     },
     "execution_count": 10,
     "metadata": {},
     "output_type": "execute_result"
    },
    {
     "data": {
      "image/png": "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",
      "text/plain": [
       "<Figure size 1440x720 with 6 Axes>"
      ]
     },
     "metadata": {
      "needs_background": "light"
     },
     "output_type": "display_data"
    }
   ],
   "source": [
    "fig, axs = plt.subplots(ncols=3, nrows=2, figsize=(20,10))\n",
    "\n",
    "sns.boxplot(y = 'Edad', x = 'Estado', data=df, ax=axs[0][0])\n",
    "\n",
    "\n",
    "sns.boxplot(y = 'Ausencias', x = 'Estado', data=df, ax=axs[0][1])\n",
    "\n",
    "\n",
    "sns.boxplot(y = 'Dias.trabajados', x = 'Estado', data=df, ax=axs[0][2])\n",
    "\n",
    "\n",
    "sns.boxenplot(y = 'Edad', x='Estado', hue='Estado.Civil', data=df, ax=axs[1][0])\n",
    "\n",
    "sns.boxenplot(y = 'Salario', x='Estado', data=df, ax=axs[1][1])"
   ]
  },
  {
   "attachments": {},
   "cell_type": "markdown",
   "metadata": {},
   "source": [
    "**4.  Realice  análisis  de  cómo  se  relacionan  las  variables categóricas con  la variable de interés. Acompañe con gráficos y estadísticas. ¿Qué variables pudieran resultar significativas a la hora de modelar la probabilidad de que el trabajador sea desvinculado a la empresa?**"
   ]
  },
  {
   "cell_type": "code",
   "execution_count": 11,
   "metadata": {},
   "outputs": [
    {
     "data": {
      "text/plain": [
       "<AxesSubplot:xlabel='Estado', ylabel='count'>"
      ]
     },
     "execution_count": 11,
     "metadata": {},
     "output_type": "execute_result"
    },
    {
     "data": {
      "image/png": "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",
      "text/plain": [
       "<Figure size 1440x720 with 6 Axes>"
      ]
     },
     "metadata": {
      "needs_background": "light"
     },
     "output_type": "display_data"
    }
   ],
   "source": [
    "fig, axs = plt.subplots(ncols=3, nrows=2, figsize=(20,10))\n",
    "\n",
    "sns.countplot(x = 'Estado', hue = 'Sexo', data=df, ax=axs[0][0])\n",
    "\n",
    "sns.countplot(x = 'Estado', hue = 'Estado.Civil', data=df, ax=axs[0][1])\n",
    "\n",
    "sns.countplot(x = 'Estado', hue = 'Departamento', data=df, ax=axs[0][2])\n",
    "\n",
    "sns.countplot(x = 'Estado', hue = 'Departamento', data=df, ax=axs[0][2])\n",
    "\n",
    "sns.countplot(x = 'Estado', hue = 'Desempeño', data=df, ax=axs[1][0])\n"
   ]
  },
  {
   "cell_type": "code",
   "execution_count": 12,
   "metadata": {},
   "outputs": [
    {
     "data": {
      "text/html": [
       "<div>\n",
       "<style scoped>\n",
       "    .dataframe tbody tr th:only-of-type {\n",
       "        vertical-align: middle;\n",
       "    }\n",
       "\n",
       "    .dataframe tbody tr th {\n",
       "        vertical-align: top;\n",
       "    }\n",
       "\n",
       "    .dataframe thead th {\n",
       "        text-align: right;\n",
       "    }\n",
       "</style>\n",
       "<table border=\"1\" class=\"dataframe\">\n",
       "  <thead>\n",
       "    <tr style=\"text-align: right;\">\n",
       "      <th></th>\n",
       "      <th>Estado</th>\n",
       "      <th>Edad</th>\n",
       "      <th>Ratio.Pago</th>\n",
       "      <th>Salario</th>\n",
       "      <th>Dias.trabajados</th>\n",
       "      <th>Ausencias</th>\n",
       "      <th>Estado.Civil</th>\n",
       "    </tr>\n",
       "  </thead>\n",
       "  <tbody>\n",
       "    <tr>\n",
       "      <th>0</th>\n",
       "      <td>0</td>\n",
       "      <td>38.087432</td>\n",
       "      <td>33.835902</td>\n",
       "      <td>4618.233515</td>\n",
       "      <td>1612.857923</td>\n",
       "      <td>10.234973</td>\n",
       "      <td>3.038251</td>\n",
       "    </tr>\n",
       "    <tr>\n",
       "      <th>1</th>\n",
       "      <td>1</td>\n",
       "      <td>39.992126</td>\n",
       "      <td>27.608819</td>\n",
       "      <td>4589.677690</td>\n",
       "      <td>839.622047</td>\n",
       "      <td>10.307087</td>\n",
       "      <td>2.708661</td>\n",
       "    </tr>\n",
       "  </tbody>\n",
       "</table>\n",
       "</div>"
      ],
      "text/plain": [
       "   Estado       Edad  Ratio.Pago      Salario  Dias.trabajados  Ausencias  \\\n",
       "0       0  38.087432   33.835902  4618.233515      1612.857923  10.234973   \n",
       "1       1  39.992126   27.608819  4589.677690       839.622047  10.307087   \n",
       "\n",
       "   Estado.Civil  \n",
       "0      3.038251  \n",
       "1      2.708661  "
      ]
     },
     "execution_count": 12,
     "metadata": {},
     "output_type": "execute_result"
    }
   ],
   "source": [
    "df.groupby(['Estado']).mean().reset_index()"
   ]
  },
  {
   "cell_type": "code",
<<<<<<< HEAD
   "execution_count": 13,
=======
   "execution_count": 61,
>>>>>>> 76eb9f246a35956b42a14992df1b176e6595167d
   "metadata": {},
   "outputs": [],
   "source": [
    "# Convertir la columna \"Sex\" en variables numéricas usando codificación one-hot\n",
    "abalone = pd.get_dummies(df, columns=[\"Sexo\"],drop_first=True)"
   ]
  },
  {
   "attachments": {},
   "cell_type": "markdown",
   "metadata": {},
   "source": [
    "Algunos de los factores que tienen una proporcion mayor en gente desvinculada vs gente aun trabajando mas alla de la proporcion de la poblacion total y que pueden estar mas expuestos a un despido son, gente con estado civil 4 es decir solteras, gente calificada como \"Exceeds\", gente del area de IT, gente joven bajo los 40 años, mayor sueldo y mas dias trabajados."
   ]
  }
 ],
 "metadata": {
  "kernelspec": {
   "display_name": "Python 3",
   "language": "python",
   "name": "python3"
  },
  "language_info": {
   "codemirror_mode": {
    "name": "ipython",
    "version": 3
   },
   "file_extension": ".py",
   "mimetype": "text/x-python",
   "name": "python",
   "nbconvert_exporter": "python",
   "pygments_lexer": "ipython3",
   "version": "3.9.7"
  },
  "orig_nbformat": 4
 },
 "nbformat": 4,
 "nbformat_minor": 2
}
