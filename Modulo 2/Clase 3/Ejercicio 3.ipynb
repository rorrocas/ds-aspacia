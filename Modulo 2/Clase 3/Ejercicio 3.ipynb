{
 "cells": [
  {
   "attachments": {},
   "cell_type": "markdown",
   "metadata": {},
   "source": [
    "### Ejercicio 3"
   ]
  },
  {
   "cell_type": "code",
   "execution_count": 1,
   "metadata": {},
   "outputs": [],
   "source": [
    "import pandas as pd"
   ]
  },
  {
   "attachments": {},
   "cell_type": "markdown",
   "metadata": {},
   "source": [
    "#### 1.- Crear un programa que sea capaz de leer el archivo videojuegos.csv, luego sacar el promedio de los precios y el promedio de la calificación."
   ]
  },
  {
   "cell_type": "code",
   "execution_count": 2,
   "metadata": {},
   "outputs": [
    {
     "data": {
      "text/html": [
       "<div>\n",
       "<style scoped>\n",
       "    .dataframe tbody tr th:only-of-type {\n",
       "        vertical-align: middle;\n",
       "    }\n",
       "\n",
       "    .dataframe tbody tr th {\n",
       "        vertical-align: top;\n",
       "    }\n",
       "\n",
       "    .dataframe thead th {\n",
       "        text-align: right;\n",
       "    }\n",
       "</style>\n",
       "<table border=\"1\" class=\"dataframe\">\n",
       "  <thead>\n",
       "    <tr style=\"text-align: right;\">\n",
       "      <th></th>\n",
       "      <th>Nombre,CalificaciÃ³n,Precio</th>\n",
       "    </tr>\n",
       "  </thead>\n",
       "  <tbody>\n",
       "    <tr>\n",
       "      <th>0</th>\n",
       "      <td>Cuphead,100,180</td>\n",
       "    </tr>\n",
       "    <tr>\n",
       "      <th>1</th>\n",
       "      <td>Doom eternal,99,1400</td>\n",
       "    </tr>\n",
       "    <tr>\n",
       "      <th>2</th>\n",
       "      <td>Horizon Zero Dawn,90,450.7</td>\n",
       "    </tr>\n",
       "    <tr>\n",
       "      <th>3</th>\n",
       "      <td>Resident Evil 2 Remake,95,450.88</td>\n",
       "    </tr>\n",
       "    <tr>\n",
       "      <th>4</th>\n",
       "      <td>Super Mario Odyssey,90,1700.05</td>\n",
       "    </tr>\n",
       "    <tr>\n",
       "      <th>5</th>\n",
       "      <td>Minecraft,95,550.54</td>\n",
       "    </tr>\n",
       "  </tbody>\n",
       "</table>\n",
       "</div>"
      ],
      "text/plain": [
       "        Nombre,CalificaciÃ³n,Precio\n",
       "0                   Cuphead,100,180\n",
       "1              Doom eternal,99,1400\n",
       "2        Horizon Zero Dawn,90,450.7\n",
       "3  Resident Evil 2 Remake,95,450.88\n",
       "4    Super Mario Odyssey,90,1700.05\n",
       "5               Minecraft,95,550.54"
      ]
     },
     "execution_count": 2,
     "metadata": {},
     "output_type": "execute_result"
    }
   ],
   "source": [
    "df_videogames = pd.read_csv(\"videojuegos1.csv\")\n",
    "df_videogames"
   ]
  },
  {
   "cell_type": "code",
   "execution_count": 27,
   "metadata": {},
   "outputs": [
    {
     "data": {
      "text/plain": [
       "['\"Nombre,CalificaciÃ³n,Precio\"\\n',\n",
       " '\"Cuphead,100,180\"\\n',\n",
       " '\"Doom eternal,99,1400\"\\n',\n",
       " '\"Horizon Zero Dawn,90,450.7\"\\n',\n",
       " '\"Resident Evil 2 Remake,95,450.88\"\\n',\n",
       " '\"Super Mario Odyssey,90,1700.05\"\\n',\n",
       " '\"Minecraft,95,550.54\"']"
      ]
     },
     "execution_count": 27,
     "metadata": {},
     "output_type": "execute_result"
    }
   ],
   "source": [
    "with open('videojuegos1.csv', 'r',encoding=\"utf-8\") as archivo:\n",
    "    lineas = archivo.readlines()\n",
    "lineas"
   ]
  },
  {
   "cell_type": "code",
   "execution_count": 21,
   "metadata": {},
   "outputs": [
    {
     "name": "stdout",
     "output_type": "stream",
     "text": [
      "['', 'Nombre,CalificaciÃ³n,Precio', '\\n']\n",
      "['', 'Cuphead,100,180', '\\n']\n",
      "['', 'Doom eternal,99,1400', '\\n']\n",
      "['', 'Horizon Zero Dawn,90,450.7', '\\n']\n",
      "['', 'Resident Evil 2 Remake,95,450.88', '\\n']\n",
      "['', 'Super Mario Odyssey,90,1700.05', '\\n']\n",
      "['', 'Minecraft,95,550.54', '']\n"
     ]
    }
   ],
   "source": [
    "for linea in lineas:\n",
    "    print(linea.split('\"'))"
   ]
  },
  {
   "cell_type": "code",
   "execution_count": 22,
   "metadata": {},
   "outputs": [
    {
     "data": {
      "text/plain": [
       "[['Nombre', 'CalificaciÃ³n', 'Precio'],\n",
       " ['Cuphead', '100', '180'],\n",
       " ['Doom eternal', '99', '1400'],\n",
       " ['Horizon Zero Dawn', '90', '450.7'],\n",
       " ['Resident Evil 2 Remake', '95', '450.88'],\n",
       " ['Super Mario Odyssey', '90', '1700.05'],\n",
       " ['Minecraft', '95', '550.54']]"
      ]
     },
     "execution_count": 22,
     "metadata": {},
     "output_type": "execute_result"
    }
   ],
   "source": [
    "columnas = []\n",
    "for linea in lineas:\n",
    "    columna = linea.split('\"')[1]\n",
    "    columnas.append(columna.split(','))\n",
    "columnas"
   ]
  },
  {
   "cell_type": "code",
   "execution_count": 28,
   "metadata": {},
   "outputs": [],
   "source": [
    "nombre = []\n",
    "precio = []\n",
    "calificacion = []\n",
    "for columna in columnas:\n",
    "    nombre.append(columna[0])\n",
    "    calificacion.append(columna[1])\n",
    "    precio.append(columna[2])"
   ]
  },
  {
   "cell_type": "code",
   "execution_count": 40,
   "metadata": {},
   "outputs": [],
   "source": [
    "datos = {\n",
    "    'nombre': nombre[1:],\n",
    "    'calificacion': calificacion[1:],\n",
    "    'precio': precio[1:]\n",
    "}\n",
    "\n",
    "df_videogames1 = pd.DataFrame(datos)"
   ]
  },
  {
   "cell_type": "code",
   "execution_count": 41,
   "metadata": {},
   "outputs": [
    {
     "data": {
      "text/html": [
       "<div>\n",
       "<style scoped>\n",
       "    .dataframe tbody tr th:only-of-type {\n",
       "        vertical-align: middle;\n",
       "    }\n",
       "\n",
       "    .dataframe tbody tr th {\n",
       "        vertical-align: top;\n",
       "    }\n",
       "\n",
       "    .dataframe thead th {\n",
       "        text-align: right;\n",
       "    }\n",
       "</style>\n",
       "<table border=\"1\" class=\"dataframe\">\n",
       "  <thead>\n",
       "    <tr style=\"text-align: right;\">\n",
       "      <th></th>\n",
       "      <th>nombre</th>\n",
       "      <th>calificacion</th>\n",
       "      <th>precio</th>\n",
       "    </tr>\n",
       "  </thead>\n",
       "  <tbody>\n",
       "    <tr>\n",
       "      <th>0</th>\n",
       "      <td>Cuphead</td>\n",
       "      <td>100</td>\n",
       "      <td>180</td>\n",
       "    </tr>\n",
       "    <tr>\n",
       "      <th>1</th>\n",
       "      <td>Doom eternal</td>\n",
       "      <td>99</td>\n",
       "      <td>1400</td>\n",
       "    </tr>\n",
       "    <tr>\n",
       "      <th>2</th>\n",
       "      <td>Horizon Zero Dawn</td>\n",
       "      <td>90</td>\n",
       "      <td>450.7</td>\n",
       "    </tr>\n",
       "    <tr>\n",
       "      <th>3</th>\n",
       "      <td>Resident Evil 2 Remake</td>\n",
       "      <td>95</td>\n",
       "      <td>450.88</td>\n",
       "    </tr>\n",
       "    <tr>\n",
       "      <th>4</th>\n",
       "      <td>Super Mario Odyssey</td>\n",
       "      <td>90</td>\n",
       "      <td>1700.05</td>\n",
       "    </tr>\n",
       "    <tr>\n",
       "      <th>5</th>\n",
       "      <td>Minecraft</td>\n",
       "      <td>95</td>\n",
       "      <td>550.54</td>\n",
       "    </tr>\n",
       "  </tbody>\n",
       "</table>\n",
       "</div>"
      ],
      "text/plain": [
       "                   nombre calificacion   precio\n",
       "0                 Cuphead          100      180\n",
       "1            Doom eternal           99     1400\n",
       "2       Horizon Zero Dawn           90    450.7\n",
       "3  Resident Evil 2 Remake           95   450.88\n",
       "4     Super Mario Odyssey           90  1700.05\n",
       "5               Minecraft           95   550.54"
      ]
     },
     "execution_count": 41,
     "metadata": {},
     "output_type": "execute_result"
    }
   ],
   "source": [
    "df_videogames1"
   ]
  },
  {
   "attachments": {},
   "cell_type": "markdown",
   "metadata": {},
   "source": [
    "### 2.- Se tiene el archivo videojuegos2.csv con información sobre todo el contenido de su biblioteca de videojuegos."
   ]
  },
  {
   "cell_type": "code",
   "execution_count": 32,
   "metadata": {},
   "outputs": [
    {
     "data": {
      "text/plain": [
       "['\"Nombre,year,Consola,Calificacion,Tags(separados por \",),,,\\n',\n",
       " '\"The Legend of Zelda,86,Famicom,Disk System,3.5,RPG\",Link,Zelda,Hyrule,Triforce\\n',\n",
       " '\"Double Dragon,87,Arcade,3.7,Beat-\\'em up\",Billy,Jimmy,PuÃ±ete,\\n',\n",
       " '\"The Legend of Zelda,88,NES,4.3,RPG\",Link,Zelda,Hyrule,Triforce\\n',\n",
       " '\"Halo 5: Guardians,15,Xbox One,4,FPS\",Master Chief,Cortana,Covenant,\\n',\n",
       " '\"Curse of Ra,82,Commodore PET,3,RPG\",adventure,Temple,Apshai,\\n',\n",
       " '\"Battlefield 1,16,Xbox One,4.8,FPS\",WWI,,,\\n']"
      ]
     },
     "execution_count": 32,
     "metadata": {},
     "output_type": "execute_result"
    }
   ],
   "source": [
    "with open('videojuegos2.csv', 'r',encoding=\"utf-8\") as archivo:\n",
    "    lineas2 = archivo.readlines()\n",
    "lineas2"
   ]
  },
  {
   "cell_type": "code",
   "execution_count": 33,
   "metadata": {},
   "outputs": [
    {
     "name": "stdout",
     "output_type": "stream",
     "text": [
      "['', 'Nombre,year,Consola,Calificacion,Tags(separados por ', ',),,,\\n']\n",
      "['', 'The Legend of Zelda,86,Famicom,Disk System,3.5,RPG', ',Link,Zelda,Hyrule,Triforce\\n']\n",
      "['', \"Double Dragon,87,Arcade,3.7,Beat-'em up\", ',Billy,Jimmy,PuÃ±ete,\\n']\n",
      "['', 'The Legend of Zelda,88,NES,4.3,RPG', ',Link,Zelda,Hyrule,Triforce\\n']\n",
      "['', 'Halo 5: Guardians,15,Xbox One,4,FPS', ',Master Chief,Cortana,Covenant,\\n']\n",
      "['', 'Curse of Ra,82,Commodore PET,3,RPG', ',adventure,Temple,Apshai,\\n']\n",
      "['', 'Battlefield 1,16,Xbox One,4.8,FPS', ',WWI,,,\\n']\n"
     ]
    }
   ],
   "source": [
    "for linea in lineas2:\n",
    "    print(linea.split('\"'))"
   ]
  },
  {
   "cell_type": "code",
   "execution_count": 34,
   "metadata": {},
   "outputs": [
    {
     "data": {
      "text/plain": [
       "[',),,,\\n',\n",
       " ',Link,Zelda,Hyrule,Triforce\\n',\n",
       " ',Billy,Jimmy,PuÃ±ete,\\n',\n",
       " ',Link,Zelda,Hyrule,Triforce\\n',\n",
       " ',Master Chief,Cortana,Covenant,\\n',\n",
       " ',adventure,Temple,Apshai,\\n',\n",
       " ',WWI,,,\\n']"
      ]
     },
     "execution_count": 34,
     "metadata": {},
     "output_type": "execute_result"
    }
   ],
   "source": [
    "tags = []\n",
    "for linea in lineas2:\n",
    "    tags.append(linea.split('\"')[-1])\n",
    "tags"
   ]
  },
  {
   "cell_type": "code",
   "execution_count": 35,
   "metadata": {},
   "outputs": [],
   "source": [
    "tags = [tag.strip(',') for tag in tags]\n",
    "tags = [tag.strip('\\n') for tag in tags]\n",
    "tags[0] = 'Tag'"
   ]
  },
  {
   "cell_type": "code",
   "execution_count": 36,
   "metadata": {},
   "outputs": [
    {
     "data": {
      "text/plain": [
       "[['Nombre', 'year', 'Consola', 'Calificacion', 'Tags(separados por '],\n",
       " ['The Legend of Zelda', '86', 'Famicom', 'Disk System', '3.5', 'RPG'],\n",
       " ['Double Dragon', '87', 'Arcade', '3.7', \"Beat-'em up\"],\n",
       " ['The Legend of Zelda', '88', 'NES', '4.3', 'RPG'],\n",
       " ['Halo 5: Guardians', '15', 'Xbox One', '4', 'FPS'],\n",
       " ['Curse of Ra', '82', 'Commodore PET', '3', 'RPG'],\n",
       " ['Battlefield 1', '16', 'Xbox One', '4.8', 'FPS']]"
      ]
     },
     "execution_count": 36,
     "metadata": {},
     "output_type": "execute_result"
    }
   ],
   "source": [
    "columnas2 = []\n",
    "for linea in lineas2:\n",
    "    columna = linea.split('\"')[1]\n",
    "    columnas2.append(columna.split(','))\n",
    "columnas2"
   ]
  },
  {
   "cell_type": "code",
   "execution_count": 37,
   "metadata": {},
   "outputs": [
    {
     "data": {
      "text/plain": [
       "['Tag',\n",
       " 'Link,Zelda,Hyrule,Triforce, RPG',\n",
       " \"Billy,Jimmy,PuÃ±ete,, Beat-'em up\",\n",
       " 'Link,Zelda,Hyrule,Triforce, RPG',\n",
       " 'Master Chief,Cortana,Covenant,, FPS',\n",
       " 'adventure,Temple,Apshai,, RPG',\n",
       " 'WWI,,,, FPS']"
      ]
     },
     "execution_count": 37,
     "metadata": {},
     "output_type": "execute_result"
    }
   ],
   "source": [
    "for idx, columna in enumerate(columnas2):\n",
    "    if idx == 0:\n",
    "        continue\n",
    "    tag = columna[-1]\n",
    "    tags[idx] = f\"{tags[idx]}, {tag}\"\n",
    "tags"
   ]
  },
  {
   "cell_type": "code",
   "execution_count": 38,
   "metadata": {},
   "outputs": [],
   "source": [
    "nombre2 = []\n",
    "year2 = []\n",
    "consola2 = []\n",
    "calificacion2 = []\n",
    "\n",
    "for columna in columnas2:\n",
    "    nombre2.append(columna[0])\n",
    "    year2.append(columna[1])\n",
    "    consola2.append(columna[2])\n",
    "    calificacion2.append(columna[3])"
   ]
  },
  {
   "cell_type": "code",
   "execution_count": 44,
   "metadata": {},
   "outputs": [],
   "source": [
    "datos2 = {\n",
    "    'nombre': nombre2[1:],\n",
    "    'year': year2[1:],\n",
    "    'consola': consola2[1:],\n",
    "    'calificacion': calificacion2[1:],\n",
    "    'tags': tags[1:],\n",
    "}\n",
    "\n",
    "df_videogames2 = pd.DataFrame(datos2)"
   ]
  },
  {
   "cell_type": "code",
   "execution_count": 45,
   "metadata": {},
   "outputs": [
    {
     "data": {
      "text/html": [
       "<div>\n",
       "<style scoped>\n",
       "    .dataframe tbody tr th:only-of-type {\n",
       "        vertical-align: middle;\n",
       "    }\n",
       "\n",
       "    .dataframe tbody tr th {\n",
       "        vertical-align: top;\n",
       "    }\n",
       "\n",
       "    .dataframe thead th {\n",
       "        text-align: right;\n",
       "    }\n",
       "</style>\n",
       "<table border=\"1\" class=\"dataframe\">\n",
       "  <thead>\n",
       "    <tr style=\"text-align: right;\">\n",
       "      <th></th>\n",
       "      <th>nombre</th>\n",
       "      <th>year</th>\n",
       "      <th>consola</th>\n",
       "      <th>calificacion</th>\n",
       "      <th>tags</th>\n",
       "    </tr>\n",
       "  </thead>\n",
       "  <tbody>\n",
       "    <tr>\n",
       "      <th>0</th>\n",
       "      <td>The Legend of Zelda</td>\n",
       "      <td>86</td>\n",
       "      <td>Famicom</td>\n",
       "      <td>Disk System</td>\n",
       "      <td>Link,Zelda,Hyrule,Triforce, RPG</td>\n",
       "    </tr>\n",
       "    <tr>\n",
       "      <th>1</th>\n",
       "      <td>Double Dragon</td>\n",
       "      <td>87</td>\n",
       "      <td>Arcade</td>\n",
       "      <td>3.7</td>\n",
       "      <td>Billy,Jimmy,PuÃ±ete,, Beat-'em up</td>\n",
       "    </tr>\n",
       "    <tr>\n",
       "      <th>2</th>\n",
       "      <td>The Legend of Zelda</td>\n",
       "      <td>88</td>\n",
       "      <td>NES</td>\n",
       "      <td>4.3</td>\n",
       "      <td>Link,Zelda,Hyrule,Triforce, RPG</td>\n",
       "    </tr>\n",
       "    <tr>\n",
       "      <th>3</th>\n",
       "      <td>Halo 5: Guardians</td>\n",
       "      <td>15</td>\n",
       "      <td>Xbox One</td>\n",
       "      <td>4</td>\n",
       "      <td>Master Chief,Cortana,Covenant,, FPS</td>\n",
       "    </tr>\n",
       "    <tr>\n",
       "      <th>4</th>\n",
       "      <td>Curse of Ra</td>\n",
       "      <td>82</td>\n",
       "      <td>Commodore PET</td>\n",
       "      <td>3</td>\n",
       "      <td>adventure,Temple,Apshai,, RPG</td>\n",
       "    </tr>\n",
       "    <tr>\n",
       "      <th>5</th>\n",
       "      <td>Battlefield 1</td>\n",
       "      <td>16</td>\n",
       "      <td>Xbox One</td>\n",
       "      <td>4.8</td>\n",
       "      <td>WWI,,,, FPS</td>\n",
       "    </tr>\n",
       "  </tbody>\n",
       "</table>\n",
       "</div>"
      ],
      "text/plain": [
       "                nombre year        consola calificacion  \\\n",
       "0  The Legend of Zelda   86        Famicom  Disk System   \n",
       "1        Double Dragon   87         Arcade          3.7   \n",
       "2  The Legend of Zelda   88            NES          4.3   \n",
       "3    Halo 5: Guardians   15       Xbox One            4   \n",
       "4          Curse of Ra   82  Commodore PET            3   \n",
       "5        Battlefield 1   16       Xbox One          4.8   \n",
       "\n",
       "                                  tags  \n",
       "0      Link,Zelda,Hyrule,Triforce, RPG  \n",
       "1    Billy,Jimmy,PuÃ±ete,, Beat-'em up  \n",
       "2      Link,Zelda,Hyrule,Triforce, RPG  \n",
       "3  Master Chief,Cortana,Covenant,, FPS  \n",
       "4        adventure,Temple,Apshai,, RPG  \n",
       "5                          WWI,,,, FPS  "
      ]
     },
     "execution_count": 45,
     "metadata": {},
     "output_type": "execute_result"
    }
   ],
   "source": [
    "df_videogames2"
   ]
  },
  {
   "attachments": {},
   "cell_type": "markdown",
   "metadata": {},
   "source": [
    "**Note que un juego aparecerá listado en el archivo una vez por cada consola\n",
    "en la que fue lanzado.\n",
    "La categoría del juego se especifica siempre en el primer Tag. Por ejemplo,\n",
    "Double Dragon pertenece a la categoría Beat-‘em up.**"
   ]
  },
  {
   "attachments": {},
   "cell_type": "markdown",
   "metadata": {},
   "source": [
    "#### Desarrolle lo siguiente:\n",
    "**1.- La función juegosConsolas(nomArchivo, categoria, decada) que recibe el nombre del archivo con la información de los videojuegos, una categoría y número de cuatro dígitos representando una década de años. La función retorna una tupla con 2 elementos. El primer elemento es la lista con los valores únicos de todos los juegos de esa década para esa categoría. El segundo elemento es la lista con valores únicos de todas las consolas que tienen juegos para esa década y categoría.**\n",
    "\n",
    "*Por ejemplo, para llamar a juegosConsolas('videojuegos.csv','RPG',1980)*\n",
    "\n",
    "*retorna: (['The legend of Zelda', 'Phantasy Star', ...], ['NES', 'Famicon Disk System', ...])*"
   ]
  },
  {
   "cell_type": "code",
   "execution_count": null,
   "metadata": {},
   "outputs": [],
   "source": [
    "def juegosConsolas(nomArchivo, categoria, decada):\n",
    "    return \n",
    "juegosConsolas(\"videojuegos.csv\",\"RPG\",1980)"
   ]
  }
 ],
 "metadata": {
  "kernelspec": {
   "display_name": "Python 3",
   "language": "python",
   "name": "python3"
  },
  "language_info": {
   "codemirror_mode": {
    "name": "ipython",
    "version": 3
   },
   "file_extension": ".py",
   "mimetype": "text/x-python",
   "name": "python",
   "nbconvert_exporter": "python",
   "pygments_lexer": "ipython3",
   "version": "3.9.7"
  },
  "orig_nbformat": 4
 },
 "nbformat": 4,
 "nbformat_minor": 2
}
